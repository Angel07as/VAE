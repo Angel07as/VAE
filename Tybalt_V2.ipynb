{
 "cells": [
  {
   "cell_type": "markdown",
   "metadata": {},
   "source": [
    "Aunque el lenguaje de este notebook pueda parecer coloquial, su objetivo no es otro que hacer una aproximación de lo que el autoencoder hace para entenderlo mejor.En esta versión del autoencoder, explico como veo el funcionamiento de esta red neuronal e intento desglosar todo lo que incluye la versión oficial que nos pasó Carlos. En definitiva el autoencoder está constituido por un encoder más un decoder como ya sabiamos. Nosotros prestamos atención al espacio que tenemos entre ambos, creado un vector lantente para posteriormente volver a reproducir la salida mediante el autoencoder. Se generan dos vectores que hace de media y otro de desviación típica. Ambos se usan para producir un nuevo vector asegurandonos que su distribución cumple con una distribución Gaussiana. La generación se hace a partir de un vector random que generamos cumpliendo una distribución normal N(0,1). Las funciones de pérdida son: una típica normal que calcula las diferencias entre output e input y otra de pérdida (Kullback-Leibler (KL)) que lo que hace es regularizar los pesos para asegurarnos que se cumple la distribución gaussiana, se intenta minimizar éstas perdidas indudablemente. \n",
    "\n",
    "#### Datos\n",
    "Tenemos características genómicas de mil tumores tomadas de 33 tipos diferentes de cáncer.\n",
    "- **5000 Variables(features)->genes expresados-protein coding.**\n",
    "- **10459 Observaciones -> gene expression para 10459 tumores (Escogidos entre los más irregulares y variables a través de la MAD).**\n",
    "\n",
    "#### Entrenamiento\n",
    "- Optimizador -> adam\n",
    "- Encoding->rectified linear units and batch normalization.\n",
    "- Decoding->sigmoid activation.\n"
   ]
  },
  {
   "cell_type": "markdown",
   "metadata": {},
   "source": [
    "### Importaciones"
   ]
  },
  {
   "cell_type": "markdown",
   "metadata": {},
   "source": [
    "Como importaciones tenemos las herramientas que necesitamos para crear las redes neuronales y llevar a cabo la experimentación."
   ]
  },
  {
   "cell_type": "code",
   "execution_count": 26,
   "metadata": {},
   "outputs": [],
   "source": [
    "import os\n",
    "import numpy as np\n",
    "import matplotlib.pyplot as plt\n",
    "from scipy.stats import norm\n",
    "import tensorflow as tf\n",
    "\n",
    "from keras import backend as K\n",
    "from keras.layers import (Input, InputLayer, Dense, Lambda, Layer, Add, Multiply)\n",
    "from keras.models import Model, Sequential\n",
    "import keras\n",
    "\n",
    "import pandas as pd\n",
    "from matplotlib.ticker import FormatStrFormatter\n",
    "from keras.utils.vis_utils import model_to_dot, plot_model\n",
    "from keras.layers.normalization import BatchNormalization\n",
    "from IPython.display import SVG"
   ]
  },
  {
   "cell_type": "markdown",
   "metadata": {},
   "source": [
    "### Versiones"
   ]
  },
  {
   "cell_type": "code",
   "execution_count": 3,
   "metadata": {},
   "outputs": [
    {
     "name": "stdout",
     "output_type": "stream",
     "text": [
      "2.2.4\n"
     ]
    },
    {
     "data": {
      "text/plain": [
       "'1.13.0-rc2'"
      ]
     },
     "execution_count": 3,
     "metadata": {},
     "output_type": "execute_result"
    }
   ],
   "source": [
    "print(keras.__version__)\n",
    "tf.__version__"
   ]
  },
  {
   "cell_type": "markdown",
   "metadata": {},
   "source": [
    "### Cargamos los datos"
   ]
  },
  {
   "cell_type": "markdown",
   "metadata": {},
   "source": [
    "Como hemos comentado tenemos observaciones con los genes mayormente expresados(5000) de 10459 tumores."
   ]
  },
  {
   "cell_type": "code",
   "execution_count": 7,
   "metadata": {},
   "outputs": [],
   "source": [
    "#rnaseq_file = os.path.join('data', 'pancan_scaled_zeroone_rnaseq.tsv')\n",
    "rnaseq_df = pd.read_csv('pancan_scaled_zeroone_rnaseq.tsv.gz',sep='\\t', index_col=0)"
   ]
  },
  {
   "cell_type": "code",
   "execution_count": 6,
   "metadata": {},
   "outputs": [
    {
     "name": "stdout",
     "output_type": "stream",
     "text": [
      "(10459, 5000)\n"
     ]
    },
    {
     "data": {
      "text/html": [
       "<div>\n",
       "<style scoped>\n",
       "    .dataframe tbody tr th:only-of-type {\n",
       "        vertical-align: middle;\n",
       "    }\n",
       "\n",
       "    .dataframe tbody tr th {\n",
       "        vertical-align: top;\n",
       "    }\n",
       "\n",
       "    .dataframe thead th {\n",
       "        text-align: right;\n",
       "    }\n",
       "</style>\n",
       "<table border=\"1\" class=\"dataframe\">\n",
       "  <thead>\n",
       "    <tr style=\"text-align: right;\">\n",
       "      <th></th>\n",
       "      <th>RPS4Y1</th>\n",
       "      <th>XIST</th>\n",
       "      <th>KRT5</th>\n",
       "      <th>AGR2</th>\n",
       "      <th>CEACAM5</th>\n",
       "      <th>KRT6A</th>\n",
       "      <th>KRT14</th>\n",
       "      <th>CEACAM6</th>\n",
       "      <th>DDX3Y</th>\n",
       "      <th>KDM5D</th>\n",
       "      <th>...</th>\n",
       "      <th>FAM129A</th>\n",
       "      <th>C8orf48</th>\n",
       "      <th>CDK5R1</th>\n",
       "      <th>FAM81A</th>\n",
       "      <th>C13orf18</th>\n",
       "      <th>GDPD3</th>\n",
       "      <th>SMAGP</th>\n",
       "      <th>C2orf85</th>\n",
       "      <th>POU5F1B</th>\n",
       "      <th>CHST2</th>\n",
       "    </tr>\n",
       "  </thead>\n",
       "  <tbody>\n",
       "    <tr>\n",
       "      <th>TCGA-02-0047-01</th>\n",
       "      <td>0.678296</td>\n",
       "      <td>0.289910</td>\n",
       "      <td>0.034230</td>\n",
       "      <td>0.0</td>\n",
       "      <td>0.000000</td>\n",
       "      <td>0.084731</td>\n",
       "      <td>0.031863</td>\n",
       "      <td>0.037709</td>\n",
       "      <td>0.746797</td>\n",
       "      <td>0.687833</td>\n",
       "      <td>...</td>\n",
       "      <td>0.440610</td>\n",
       "      <td>0.428782</td>\n",
       "      <td>0.732819</td>\n",
       "      <td>0.634340</td>\n",
       "      <td>0.580662</td>\n",
       "      <td>0.294313</td>\n",
       "      <td>0.458134</td>\n",
       "      <td>0.478219</td>\n",
       "      <td>0.168263</td>\n",
       "      <td>0.638497</td>\n",
       "    </tr>\n",
       "    <tr>\n",
       "      <th>TCGA-02-0055-01</th>\n",
       "      <td>0.200633</td>\n",
       "      <td>0.654917</td>\n",
       "      <td>0.181993</td>\n",
       "      <td>0.0</td>\n",
       "      <td>0.000000</td>\n",
       "      <td>0.100606</td>\n",
       "      <td>0.050011</td>\n",
       "      <td>0.092586</td>\n",
       "      <td>0.103725</td>\n",
       "      <td>0.140642</td>\n",
       "      <td>...</td>\n",
       "      <td>0.620658</td>\n",
       "      <td>0.363207</td>\n",
       "      <td>0.592269</td>\n",
       "      <td>0.602755</td>\n",
       "      <td>0.610192</td>\n",
       "      <td>0.374569</td>\n",
       "      <td>0.722420</td>\n",
       "      <td>0.271356</td>\n",
       "      <td>0.160465</td>\n",
       "      <td>0.602560</td>\n",
       "    </tr>\n",
       "    <tr>\n",
       "      <th>TCGA-02-2483-01</th>\n",
       "      <td>0.785980</td>\n",
       "      <td>0.140842</td>\n",
       "      <td>0.081082</td>\n",
       "      <td>0.0</td>\n",
       "      <td>0.000000</td>\n",
       "      <td>0.000000</td>\n",
       "      <td>0.000000</td>\n",
       "      <td>0.000000</td>\n",
       "      <td>0.730648</td>\n",
       "      <td>0.657189</td>\n",
       "      <td>...</td>\n",
       "      <td>0.437658</td>\n",
       "      <td>0.471489</td>\n",
       "      <td>0.868774</td>\n",
       "      <td>0.471141</td>\n",
       "      <td>0.487212</td>\n",
       "      <td>0.385521</td>\n",
       "      <td>0.466642</td>\n",
       "      <td>0.784059</td>\n",
       "      <td>0.160797</td>\n",
       "      <td>0.557074</td>\n",
       "    </tr>\n",
       "    <tr>\n",
       "      <th>TCGA-02-2485-01</th>\n",
       "      <td>0.720258</td>\n",
       "      <td>0.122554</td>\n",
       "      <td>0.180042</td>\n",
       "      <td>0.0</td>\n",
       "      <td>0.000000</td>\n",
       "      <td>0.000000</td>\n",
       "      <td>0.000000</td>\n",
       "      <td>0.000000</td>\n",
       "      <td>0.720306</td>\n",
       "      <td>0.719855</td>\n",
       "      <td>...</td>\n",
       "      <td>0.553306</td>\n",
       "      <td>0.373344</td>\n",
       "      <td>0.818608</td>\n",
       "      <td>0.691962</td>\n",
       "      <td>0.635023</td>\n",
       "      <td>0.430647</td>\n",
       "      <td>0.453690</td>\n",
       "      <td>0.364494</td>\n",
       "      <td>0.161363</td>\n",
       "      <td>0.607895</td>\n",
       "    </tr>\n",
       "    <tr>\n",
       "      <th>TCGA-02-2486-01</th>\n",
       "      <td>0.767127</td>\n",
       "      <td>0.210393</td>\n",
       "      <td>0.034017</td>\n",
       "      <td>0.0</td>\n",
       "      <td>0.061161</td>\n",
       "      <td>0.000000</td>\n",
       "      <td>0.053021</td>\n",
       "      <td>0.000000</td>\n",
       "      <td>0.739546</td>\n",
       "      <td>0.665684</td>\n",
       "      <td>...</td>\n",
       "      <td>0.601268</td>\n",
       "      <td>0.379943</td>\n",
       "      <td>0.506839</td>\n",
       "      <td>0.684320</td>\n",
       "      <td>0.607821</td>\n",
       "      <td>0.320113</td>\n",
       "      <td>0.476190</td>\n",
       "      <td>0.122722</td>\n",
       "      <td>0.389544</td>\n",
       "      <td>0.698548</td>\n",
       "    </tr>\n",
       "  </tbody>\n",
       "</table>\n",
       "<p>5 rows × 5000 columns</p>\n",
       "</div>"
      ],
      "text/plain": [
       "                   RPS4Y1      XIST      KRT5  AGR2   CEACAM5     KRT6A  \\\n",
       "TCGA-02-0047-01  0.678296  0.289910  0.034230   0.0  0.000000  0.084731   \n",
       "TCGA-02-0055-01  0.200633  0.654917  0.181993   0.0  0.000000  0.100606   \n",
       "TCGA-02-2483-01  0.785980  0.140842  0.081082   0.0  0.000000  0.000000   \n",
       "TCGA-02-2485-01  0.720258  0.122554  0.180042   0.0  0.000000  0.000000   \n",
       "TCGA-02-2486-01  0.767127  0.210393  0.034017   0.0  0.061161  0.000000   \n",
       "\n",
       "                    KRT14   CEACAM6     DDX3Y     KDM5D    ...      FAM129A  \\\n",
       "TCGA-02-0047-01  0.031863  0.037709  0.746797  0.687833    ...     0.440610   \n",
       "TCGA-02-0055-01  0.050011  0.092586  0.103725  0.140642    ...     0.620658   \n",
       "TCGA-02-2483-01  0.000000  0.000000  0.730648  0.657189    ...     0.437658   \n",
       "TCGA-02-2485-01  0.000000  0.000000  0.720306  0.719855    ...     0.553306   \n",
       "TCGA-02-2486-01  0.053021  0.000000  0.739546  0.665684    ...     0.601268   \n",
       "\n",
       "                  C8orf48    CDK5R1    FAM81A  C13orf18     GDPD3     SMAGP  \\\n",
       "TCGA-02-0047-01  0.428782  0.732819  0.634340  0.580662  0.294313  0.458134   \n",
       "TCGA-02-0055-01  0.363207  0.592269  0.602755  0.610192  0.374569  0.722420   \n",
       "TCGA-02-2483-01  0.471489  0.868774  0.471141  0.487212  0.385521  0.466642   \n",
       "TCGA-02-2485-01  0.373344  0.818608  0.691962  0.635023  0.430647  0.453690   \n",
       "TCGA-02-2486-01  0.379943  0.506839  0.684320  0.607821  0.320113  0.476190   \n",
       "\n",
       "                  C2orf85   POU5F1B     CHST2  \n",
       "TCGA-02-0047-01  0.478219  0.168263  0.638497  \n",
       "TCGA-02-0055-01  0.271356  0.160465  0.602560  \n",
       "TCGA-02-2483-01  0.784059  0.160797  0.557074  \n",
       "TCGA-02-2485-01  0.364494  0.161363  0.607895  \n",
       "TCGA-02-2486-01  0.122722  0.389544  0.698548  \n",
       "\n",
       "[5 rows x 5000 columns]"
      ]
     },
     "execution_count": 6,
     "metadata": {},
     "output_type": "execute_result"
    }
   ],
   "source": [
    "print(rnaseq_df.shape)\n",
    "rnaseq_df.head(5)"
   ]
  },
  {
   "cell_type": "markdown",
   "metadata": {},
   "source": [
    "Separamos en train y en test"
   ]
  },
  {
   "cell_type": "code",
   "execution_count": 8,
   "metadata": {},
   "outputs": [],
   "source": [
    "test_set_percent = 0.15\n",
    "rnaseq_test_df = rnaseq_df.sample(frac=test_set_percent)\n",
    "rnaseq_train_df = rnaseq_df.drop(rnaseq_test_df.index)"
   ]
  },
  {
   "cell_type": "code",
   "execution_count": 10,
   "metadata": {},
   "outputs": [
    {
     "name": "stdout",
     "output_type": "stream",
     "text": [
      "['RPS4Y1', 'XIST', 'KRT5', 'AGR2', 'CEACAM5', 'KRT6A', 'KRT14', 'CEACAM6', 'DDX3Y', 'KDM5D', 'SLC34A2', 'TMPRSS4', 'KRT6B', 'GPX2', 'SERPINB5', 'HMGCS2', 'PIGR', 'KRT16', 'KRT17', 'UGT1A6', 'FOXA1', 'FXYD3', 'HNF1B', 'KRT19', 'RAB25', 'DSG3', 'USP9Y', 'EIF1AY', 'LCN2', 'KRT15', 'PRAME', 'KRT13', 'CALML3', 'KLK11', 'AZGP1', 'GRHL2', 'KRT7', 'AKR1B10', 'DSC3', 'PTPRZ1', 'CXCL17', 'LRP2', 'UTY', 'AGR3', 'USH1C', 'HNF4A', 'GJB1', 'SPDEF', 'LOC642587', 'S100P', 'TNS4', 'SFTPB', 'GSTA1', 'MUC5B', 'KIF1A', 'KCNJ16', 'TFF1', 'MSLN', 'SLC44A4', 'TRIM29', 'PI3', 'GSTM1', 'TSPAN8', 'SOX2', 'S100A14', 'COL17A1', 'PKP1', 'ANXA8', 'TACSTD2', 'KRT6C', 'KLK10', 'CLDN3', 'SPINK1', 'PPP1R1B', 'ALDH3B2', 'CTSE', 'HGD', 'LY6D', 'CA9', 'PLA2G2A', 'HPN', 'OLFM4', 'CDHR5', 'SCEL', 'MUC13', 'ZFY', 'FAM83A', 'GDA', 'EHF', 'WDR72', 'CLCA2', 'SFN', 'ITGB6', 'CYorf15A', 'KRT23', 'SLC6A14', 'KLK6', 'VIL1', 'ESRP1', 'CLDN2', 'TMPRSS2', 'PCK1', 'SPRR1B', 'HOXB13', 'HOXC10', 'FGFBP1', 'DDC', 'FGG', 'UGT1A9', 'PKP3', 'MUC16', 'TMC5', 'PITX1', 'C9orf152', 'PLP1', 'SERPINB3', 'C4BPA', 'COL11A1', 'SDR16C5', 'KLK7', 'C20orf114', 'UGT2B7', 'CST1', 'GGT6', 'SLC5A1', 'A2ML1', 'C19orf33', 'CBLC', 'MMP1', 'FGA', 'IYD', 'FOXA2', 'C19orf21', 'DES', 'SFTPA2', 'ADH1B', 'TFF3', 'PDZK1IP1', 'MUC15', 'DMBT1', 'C10orf81', 'MMP7', 'AP1M2', 'ANXA8L2', 'WFDC2', 'GPR110', 'PRSS8', 'FOXE1', 'FOLR1', 'SYT13', 'LGALS4', 'GJB6', 'TP63', 'POF1B', 'TOX3', 'CYorf15B', 'TTTY15', 'DUOX2', 'TNNT1', 'SLPI', 'AQP4', 'COMP', 'SERPINA3', 'ABP1', 'PRR15L', 'PRAP1', 'CP', 'IVL', 'MMP12', 'PVRL4', 'GPR87', 'NEFL', 'CHGA', 'PCSK9', 'VTCN1', 'CDH16', 'MUC4', 'MMP13', 'LTF', 'HP', 'BCAS1', 'SPRR3', 'PGC', 'CACNG4', 'SAA1', 'CLDN10', 'EPCAM', 'EPN3', 'CFTR', 'B3GNT3', 'CLDN8', 'PRSS22', 'CYP4B1', 'RHCG', 'MMP3', 'CTNND2', 'LAD1', 'PROM1', 'EEF1A2', 'GABRP', 'CALML5', 'C1orf116', 'S100A7', 'OGDHL', 'PROM2', 'TSPAN1', 'DEFB1', 'TF', 'C10orf99', 'HMGA2', 'PCSK2', 'SPRR1A', 'ZG16B', 'FGB', 'LAMC2', 'UPK1B', 'PLA2G4F', 'SCNN1A', 'ZNF750', 'CLDN4', 'ADH1C', 'PPP2R2C', 'GJB3', 'TSIX', 'MYBPC1', 'KIAA1324', 'SFRP2', 'ATP10B', 'FAM83E', 'KLK8', 'SERPINA5', 'KRT4', 'SOX10', 'ALDH1L1', 'SALL1', 'TJP3', 'BBOX1', 'CAPN13', 'GSTT1', 'PSCA', 'S100A2', 'IRX2', 'KRT8', 'C20orf56', 'FUT6', 'ALDOB', 'UGT2A3', 'LRRC15', 'COL10A1', 'HABP2', 'FAM83B', 'SLC4A4', 'BMP7', 'GLYATL1', 'SLC39A5', 'ADAM6', 'C19orf77', 'ELF3', 'VSIG2', 'CAPN8', 'PRSS3', 'CHGB', 'PCP4', 'SERPINA6', 'AQP5', 'CYP2C18', 'KLHDC7A', 'CHST9', 'LMO3', 'GCNT3', 'REG1A', 'TCN1', 'SCNN1G', 'EPS8L3', 'EMX2OS', 'ORM1', 'WNT7B', 'FUT3', 'MSMB', 'ST6GALNAC1', 'C7', 'KIF12', 'HKDC1', 'CPLX2', 'FAM3B', 'NKX2-1', 'GATA4', 'CCL21', 'KLK5', 'NLRP2', 'ANKS4B', 'FABP7', 'BEX1', 'ERBB4', 'RBP4', 'ATP13A4', 'C16orf89', 'FAM3D', 'CNTN1', 'BARX2', 'MLPH', 'EMX2', 'SPRR2A', 'XDH', 'NLGN4Y', 'AMN', 'C2orf54', 'CES1', 'SAA2', 'C20orf151', 'HSD17B2', 'IGJ', 'SLITRK6', 'GPRC5A', 'FOXJ1', 'SOX21', 'CNTNAP2', 'MMP10', 'GP2', 'ALB', 'CCDC64B', 'ERN2', 'PTPRT', 'TRIM15', 'DNER', 'CRABP2', 'BNC1', 'B4GALNT4', 'NTRK2', 'FAM83F', 'DPP6', 'KCNJ15', 'ELF5', 'CYP24A1', 'EVPL', 'ACADL', 'PPAN-P2RY11', 'PCSK1N', 'TFAP2C', 'ZIC1', 'CXCL14', 'TCF21', 'SLC6A15', 'TM4SF5', 'MAL2', 'DUOXA1', 'DUOXA2', 'MASP1', 'RNF128', 'ZIC2', 'ABCA12', 'GRIK3', 'C2orf72', 'LIPH', 'TMEM40', 'GLDC', 'OVOL2', 'CWH43', 'MAGEA6', 'HOXC13', 'GABRB3', 'SPRR2D', 'PPP1R1A', 'SPINK5', 'FABP1', 'GREM1', 'SERPINB2', 'PRKY', 'SCNN1B', 'CYP4F3', 'CDHR2', 'C4orf7', 'CCL20', 'AGT', 'LGI3', 'LGALS7', 'SULT1C2', 'CDH3', 'DAPL1', 'FXYD2', 'S100A1', 'BHMT', 'MAL', 'CLRN3', 'PHYHIPL', 'TM4SF4', 'SERPINB4', 'LYPD6B', 'HHLA2', 'ATP2B2', 'SMOC1', 'CAPN6', 'FAT2', 'CRABP1', 'ALDH3A1', 'IHH', 'CXCL13', 'TFAP2A', 'PAH', 'AKR1C2', 'SLC3A1', 'NR1H4', 'SLCO4C1', 'BMPR1B', 'GFAP', 'FREM2', 'EDN3', 'HOXB9', 'AADAC', 'SBSN', 'SHISA9', 'UGT8', 'FERMT1', 'MAPK4', 'PDZK1', 'C14orf105', 'GPR115', 'SPOCK3', 'CHRDL1', 'NMU', 'NAPSA', 'MFAP5', 'CRTAC1', 'FOXQ1', 'GPM6A', 'GSTA2', 'EPHA7', 'CRYM', 'FOXA3', 'SYT8', 'SLC15A1', 'CYP3A5', 'CEACAM7', 'MUC1', 'RIMS4', 'S100A8', 'ATP1A2', 'MYEOV', 'NKAIN4', 'RORC', 'LPAR3', 'LGR5', 'IGF2BP1', 'LGALS7B', 'CCL15', 'SFTA3', 'CNTFR', 'SERPINB13', 'LMX1B', 'DCDC2', 'GAL3ST1', 'BCAN', 'POU3F3', 'ORM2', 'UCA1', 'SFTPA1', 'TTR', 'C6orf223', 'PRR15', 'INA', 'DPT', 'POSTN', 'MAGEA3', 'LYPD3', 'PCDH10', 'HOXA9', 'CXCL1', 'ARSE', 'PPP1R14C', 'FBN3', 'IRX4', 'RHOV', 'PAX9', 'CTNNA2', 'AMBP', 'SULT2B1', 'TMEM45B', 'CCL18', 'PON3', 'CCL19', 'S100A9', 'ZBED2', 'VSNL1', 'ADCY2', 'VGLL1', 'SCGB1D2', 'TCEAL2', 'SLCO1A2', 'FABP4', 'PRSS21', 'IGSF9', 'PRLR', 'PTPRH', 'SLC38A3', 'GJB5', 'CDH2', 'CST6', 'SCRG1', 'SEMA3E', 'CHIT1', 'DLK1', 'FUT9', 'PART1', 'GABBR2', 'ATP2C2', 'HNF4G', 'IL20RA', 'PKHD1', 'ABCC8', 'AIM1L', 'EREG', 'CLCA4', 'SFTA2', 'SLC9A2', 'LONRF2', 'SFRP1', 'CDH17', 'SLC6A11', 'SFTPC', 'GRIA2', 'KRT80', 'C6', 'CYP2B7P1', 'CLDN1', 'CXCL5', 'HBA1', 'CA12', 'MAPT', 'SCG3', 'OVOL1', 'ACE2', 'C19orf46', 'TRPV6', 'L1CAM', 'ADH6', 'ACSM2A', 'C2orf40', 'B3GAT1', 'CAMK2B', 'PNCK', 'KNDC1', 'HOXA13', 'TMPRSS3', 'BNIPL', 'CKMT1B', 'WNK4', 'NPY', 'AREG', 'LPPR1', 'NCCRP1', 'MT3', 'GRB7', 'CKMT1A', 'MGC29506', 'SLC6A13', 'TMPRSS13', 'CA4', 'DACT2', 'KLK3', 'LIX1', 'CHRM1', 'PITX2', 'HOXC11', 'OGN', 'CLDN7', 'PADI3', 'C3orf57', 'UGT1A10', 'GJB4', 'GALNT5', 'ASTN1', 'ELFN2', 'PAX2', 'GABRA3', 'GFRA1', 'FABP6', 'ANXA13', 'C1orf210', 'HOXB8', 'MUC2', 'SST', 'C12orf36', 'LOC339535', 'ODZ1', 'CHL1', 'GNG4', 'ACTG2', 'CYP4F11', 'BCHE', 'SOSTDC1', 'SERPINA1', 'APOB', 'RPS28', 'AKR1C1', 'GRHL3', 'RASAL1', 'CXCL6', 'WNT7A', 'C4BPB', 'KCNJ3', 'TMEM125', 'DPYS', 'HS6ST2', 'HOXD13', 'MARCO', 'ODZ2', 'GJB2', 'TMC4', 'AQP3', 'LBP', 'GPD1', 'STAC2', 'DHRS2', 'DMKN', 'METTL7B', 'NCAM1', 'CRYAB', 'MYB', 'PI16', 'TFAP2B', 'SLC26A9', 'CRISP3', 'MS4A8B', 'HOXA10', 'APOD', 'SCGB2A1', 'C1orf64', 'CPA3', 'APOH', 'FNDC1', 'DIRAS2', 'HOXD11', 'D4S234E', 'BHMT2', 'CDHR1', 'SORCS1', 'PEBP4', 'MUC6', 'NLGN1', 'TRPM8', 'PAX8', 'UGT2B15', 'C1orf106', 'WIF1', 'ABCA13', 'TRIM31', 'DPYSL5', 'DLL3', 'GAL3ST3', 'STMN2', 'GPRIN2', 'C5orf38', 'CADM3', 'PIP', 'CADPS', 'CDO1', 'ZIC5', 'ATP6V0A4', 'CLIC6', 'EGFL6', 'RASSF6', 'KLK4', 'MUC21', 'SCGN', 'GBP6', 'APOA1', 'SLC5A8', 'COL2A1', 'OLIG1', 'GBA3', 'HOXA11', 'RXRG', 'TUBB2B', 'KRT18', 'ACMSD', 'KCNH2', 'LRRN1', 'NRXN1', 'LY6K', 'HS6ST3', 'RGN', 'CDX2', 'SLC17A4', 'CUX2', 'TBX5', 'FAIM2', 'IGSF1', 'GRIK5', 'STK32A', 'HHATL', 'ENPP3', 'COL4A6', 'AGXT2L1', 'TFPI2', 'MB', 'ALOX15B', 'SERPINA4', 'CILP', 'GPR158', 'NTS', 'DKK1', 'SPP1', 'UBD', 'CYP4F12', 'SLC1A2', 'CPNE4', 'TG', 'CACNA1B', 'SSTR1', 'SLC30A2', 'WNK2', 'PTPRN', 'H19', 'ACSM2B', 'KLK13', 'VTN', 'KCNK3', 'GYLTL1B', 'SLC6A20', 'GATA3', 'WT1', 'NKAIN1', 'NEFM', 'CPB1', 'SCGB3A1', 'C1orf172', 'REG4', 'DPP10', 'TMEFF2', 'AKR7A3', 'DPP4', 'SH3GL2', 'FMN2', 'MACC1', 'AR', 'MYH11', 'GALNT14', 'COL7A1', 'SNAP91', 'PKLR', 'DUSP9', 'ACTC1', 'SLC27A6', 'PCDP1', 'CLDN18', 'PEG10', 'WBSCR17', 'LUZP2', 'SLCO1B3', 'MAT1A', 'IRX1', 'SLC28A3', 'NR0B2', 'PMP2', 'GPR98', 'MLXIPL', 'IRX6', 'IL22RA1', 'C11orf9', 'HES2', 'CLGN', 'HAND2', 'KRT20', 'CR2', 'TMEM195', 'IGSF11', 'PLEKHG4B', 'LRRC31', 'SYT9', 'DUOX1', 'PRUNE2', 'ATCAY', 'VSTM2L', 'UGT1A1', 'VGF', 'CHI3L1', 'SPRR2E', 'C8orf47', 'DQX1', 'GOLT1A', 'SOX11', 'C12orf27', 'SHD', 'THBS4', 'TMEM92', 'VWA2', 'A1CF', 'FCRL5', 'CLIC3', 'COL4A3', 'BMP3', 'LSAMP', 'PRIMA1', 'RIMS2', 'HOXC9', 'SLC44A5', 'SULT4A1', 'GSDMC', 'CALB2', 'CDH1', 'ACPP', 'LRRC26', 'TMEM171', 'TMEM132C', 'THRSP', 'DIO1', 'MSI1', 'NRK', 'LOC84740', 'IGF2BP3', 'TAGLN3', 'MST1R', 'CAPN9', 'MYOM3', 'NAT8L', 'S100B', 'CHP2', 'FMO1', 'KLRG2', 'LRG1', 'TMSB4Y', 'CITED1', 'CHI3L2', 'DBC1', 'LASS1', 'C1orf186', 'TMEM139', 'F5', 'LAMB3', 'DSP', 'C2CD4A', 'GLYAT', 'ARL14', 'DSG1', 'ABCA8', 'DSCAML1', 'PNMA2', 'AOX1', 'TRHDE', 'TDRD5', 'EYA1', 'ABO', 'WNT2', 'ZBTB16', 'IGF2BP2', 'STK33', 'CA8', 'MYO7B', 'KIF5C', 'GRIA4', 'RASEF', 'TMEM59L', 'MME', 'PIK3C2G', 'ZNF385B', 'MAG', 'LUM', 'ENTPD3', 'MS4A1', 'TMEM30B', 'MKRN3', 'KLF5', 'EN1', 'TTYH1', 'TPSB2', 'GC', 'FAM5C', 'SERPINB7', 'SERPINA11', 'GDF1', 'MAOB', 'ESPN', 'NPY1R', 'SLC16A12', 'PNMAL1', 'FGFR4', 'LRRTM1', 'INSM1', 'MIA2', 'ACY3', 'HPGD', 'SLITRK2', 'SH3RF2', 'SFRP4', 'GAD1', 'C4orf31', 'ADAM23', 'CD24', 'RNF186', 'GDF15', 'AGTR1', 'ESR1', 'SLC22A3', 'ATP1A3', 'CD79A', 'ETV4', 'PCDHA11', 'UNC80', 'MAGEA4', 'NWD1', 'SPAG17', 'PADI1', 'BARX1', 'CPA4', 'KLK2', 'NCAM2', 'HOXA11AS', 'ILDR1', 'TMEM184A', 'SCGB1A1', 'NAT8', 'GAP43', 'DPEP1', 'HOXC6', 'GALNT13', 'CPS1', 'RELN', 'ADCY8', 'CYP2S1', 'CYP2B6', 'HOXC8', 'KIF5A', 'ELOVL2', 'EYA2', 'KIAA0408', 'LOC100130933', 'SCN7A', 'SLC13A2', 'RANBP3L', 'FOXD1', 'GALNT9', 'TBX1', 'TPSAB1', 'MIA', 'LHFPL4', 'NELL1', 'UCHL1', 'LRP1B', 'COL1A1', 'WISP2', 'NRCAM', 'PPARGC1A', 'CNKSR1', 'TGM3', 'SMPDL3B', 'C12orf56', 'SLC2A2', 'DIRAS1', 'CD177', 'SOX8', 'SGK2', 'SNAP25', 'C15orf48', 'CREB3L3', 'C1QL1', 'C11orf41', 'EDN2', 'SYT1', 'HAPLN1', 'MUCL1', 'GAL', 'IL1F5', 'ARHGEF4', 'ADCY5', 'ONECUT2', 'TMEM130', 'KLK1', 'SLC7A4', 'NTNG1', 'STYK1', 'IDO1', 'CXCL9', 'LAMA1', 'CNNM1', 'ASCL1', 'ITIH2', 'FAM107A', 'CCL14-CCL15', 'GPR81', 'NIPAL4', 'LASS3', 'TMEM63C', 'GDPD2', 'LOC389493', 'CCNA1', 'SHH', 'ASPG', 'TBC1D3G', 'ACSM5', 'FST', 'STRA6', 'ATP6V1B1', 'ABCC6', 'FA2H', 'CSTA', 'KLK12', 'FAM5B', 'ACSM3', 'FGL1', 'TYRP1', 'KRTCAP3', 'RIC3', 'GPR109A', 'PLAC2', 'AFF3', 'UPK3B', 'DSG2', 'ROS1', 'PLA2G2D', 'TMPRSS6', 'CHRDL2', 'FAM83C', 'RPRM', 'EMX1', 'ADH7', 'ATRNL1', 'NOVA1', 'COL22A1', 'LPPR3', 'PTK6', 'KCNQ2', 'KCNG1', 'TRIM55', 'PRSS16', 'EPHA10', 'CADM2', 'PHACTR3', 'MAPK15', 'PENK', 'AK5', 'DMGDH', 'SLITRK5', 'LOC440173', 'NRG3', 'SCARA5', 'ISL1', 'PTN', 'PLEKHG6', 'SCUBE2', 'TINAG', 'TMPRSS11D', 'MUM1L1', 'MMP11', 'CDH22', 'SLC13A5', 'NPTX1', 'GREB1', 'SHISA2', 'PCP4L1', 'MT1G', 'VWDE', 'NDP', 'ANXA3', 'DLGAP1', 'LHFPL3', 'SYT12', 'MYO3A', 'CNTN3', 'AP3B2', 'CREB3L1', 'ADAMDEC1', 'NTRK3', 'SCG2', 'MFSD6L', 'FLJ16779', 'HPD', 'MAP7D2', 'PI15', 'SLIT1', 'ACTN2', 'CSDC2', 'HOXD10', 'POPDC3', 'KIAA2022', 'AMY1A', 'KCNK2', 'ARHGAP36', 'IQCA1', 'VIPR2', 'LGALS2', 'FMO2', 'PHF21B', 'RIMBP2', 'RASSF10', 'PRG4', 'LOC554202', 'ST6GAL2', 'SIX1', 'PLXNB3', 'HOXA7', 'SLC6A17', 'NEU4', 'LOC440905', 'CRB3', 'CRLF1', 'TFCP2L1', 'IL8', 'RAB27B', 'SLC28A1', 'DLX3', 'PTGER3', 'SLC5A12', 'IRF6', 'FAM181B', 'IL1RN', 'FAM189A1', 'SCN2B', 'ANXA10', 'DHDPSL', 'NEFH', 'MMP9', 'EGF', 'IRX5', 'EPPK1', 'LOC389332', 'ZYG11A', 'VSTM2A', 'STEAP4', 'FTCD', 'STXBP5L', 'CYP2C9', 'IGFBP1', 'MNX1', 'SLC27A2', 'PTGDS', 'GALNT3', 'PCDHA12', 'ADIPOQ', 'MYBL2', 'LAMA3', 'PRODH', 'PCDHA10', 'DMRT2', 'DCX', 'RAMP1', 'GPC3', 'C1orf168', 'SEZ6L', 'DNAH11', 'VAT1L', 'PCDH20', 'SCGB2A2', 'LOC286002', 'ARHGEF38', 'BAALC', 'SLC6A19', 'KCND2', 'CAPNS2', 'LOC643763', 'SPON1', 'BAIAP2L2', 'ENTPD8', 'PALM3', 'SYN2', 'SLC47A1', 'DPYSL4', 'LOC96610', 'PTHLH', 'MEGF10', 'NTF4', 'ABCC2', 'SYTL5', 'CYP4F22', 'PEG3', 'PGR', 'PDX1', 'CFB', 'GRIA1', 'IGF2', 'ZNF488', 'HR', 'PLCXD3', 'PHGR1', 'SLC16A9', 'C8orf85', 'NPR3', 'CCL11', 'NELL2', 'NOTUM', 'TNNC1', 'MIOX', 'PKNOX2', 'MLC1', 'C1orf130', 'BPIL1', 'SIX2', 'KLHL14', 'TRIM58', 'KRT1', 'SERPIND1', 'LOC145837', 'MFAP2', 'KIAA1199', 'SLC38A4', 'COL3A1', 'ABCC3', 'CSMD1', 'ESRRG', 'ANPEP', 'HEPACAM2', 'CACNA2D1', 'PLA2G3', 'PLA2G10', 'FAM135B', 'RGS20', 'HIF3A', 'SUSD4', 'SCN2A', 'MYT1', 'XAGE1D', 'ROBO2', 'CALB1', 'TNNT3', 'KRT75', 'C11orf92', 'NXPH4', 'FAM189A2', 'C4A', 'TMEM100', 'POU2AF1', 'CYP2W1', 'NOL4', 'DIO2', 'DLX1', 'SH3GL3', 'EPHA1', 'FOXN1', 'C14orf73', 'SYT14', 'LRRN4', 'PTH2R', 'C1orf61', 'CYP4A11', 'UNC5A', 'GRIN2A', 'CLU', 'POU2F3', 'DACH1', 'ANKRD43', 'IL1A', 'SNORD116-4', 'APLP1', 'VEPH1', 'WSCD2', 'SYT7', 'EDAR', 'KIAA0125', 'NME5', 'XG', 'LIPC', 'PRSS12', 'KCNQ5', 'TMEM35', 'BAAT', 'CECR2', 'PLA2G12B', 'C10orf108', 'IGFL1', 'MT1H', 'CHMP4C', 'TRIM9', 'GRIA3', 'LHX2', 'OTX1', 'IGFN1', 'KCNN4', 'FXYD1', 'FUT2', 'BIK', 'LGR6', 'BRSK2', 'SPOCK1', 'RIMS1', 'TCERG1L', 'CDH4', 'LOC645323', 'CELF3', 'MEG3', 'CDH19', 'UGT3A1', 'SFTPD', 'IP6K3', 'RET', 'PTPRD', 'CD1A', 'NALCN', 'PPAPDC1A', 'IGDCC3', 'C6orf132', 'CSF3', 'PPP1R14D', 'HHIP', 'C1orf88', 'ACSS3', 'EN2', 'EFHD1', 'SLC14A1', 'ALPK2', 'AQP9', 'TRPA1', 'COL8A1', 'NECAB2', 'ADD2', 'RAB17', 'PCSK1', 'EPHX3', 'C5orf23', 'DNASE1L3', 'TGM1', 'PDPN', 'RNF212', 'PTPN20B', 'PTGS2', 'GABRB2', 'PCOLCE2', 'PLAC8', 'SLC19A3', 'IGFL2', 'ALDH1A1', 'ELAVL2', 'SOX15', 'LPHN3', 'OSR2', 'EMID2', 'KNG1', 'DNAJC22', 'SPINT1', 'GIPC2', 'NUDT11', 'OMD', 'SP5', 'DPF1', 'KIAA1244', 'RPS6KA6', 'GRB14', 'GREM2', 'RUNDC3A', 'CDKN2A', 'KCNJ10', 'EPS8L1', 'FRMD5', 'CLSTN2', 'SLC23A1', 'UNC5D', 'AKR1C3', 'SYTL1', 'LOC84856', 'EYA4', 'APOC2', 'LY6G6C', 'LEMD1', 'HPCAL4', 'C8orf46', 'ARHGDIG', 'ADAM12', 'STXBP6', 'SLC17A3', 'CYP4F2', 'SFRP5', 'FOSB', 'SLC6A12', 'SULT1E1', 'GFRA3', 'PLEKHB1', 'TSHR', 'ANKS1B', 'RGL3', 'COL9A1', 'TRIM10', 'DLX6', 'ANO4', 'STX19', 'POU3F2', 'BCL2L14', 'WDR17', 'HEPACAM', 'SLC9A3', 'GRIK2', 'WNT10A', 'CALN1', 'TTC22', 'LYPD6', 'SLC38A5', 'SYT4', 'TESC', 'PCDH19', 'TNNI3', 'DEGS2', 'IRX3', 'FOXG1', 'YBX2', 'NPTX2', 'KBTBD12', 'FOXI1', 'C3', 'DGCR5', 'MSX2', 'VNN1', 'KCNK15', 'CTSL2', 'C20orf103', 'GLT25D2', 'PCDHAC2', 'ATP1B2', 'ADAMTS16', 'C6orf141', 'ENHO', 'TUBBP5', 'CHST8', 'PDZRN4', 'PAEP', 'FSD1', 'DCLK1', 'NPNT', 'HOXB6', 'FAT3', 'GALNTL1', 'LOC254559', 'KLF15', 'F7', 'ABCC11', 'GLYATL2', 'KANK4', 'ABCC6P1', 'ENPP5', 'CNN1', 'BIRC7', 'BAI1', 'KCNS1', 'PCDHA4', 'ANO5', 'HMP19', 'C3orf15', 'FAP', 'FLNC', 'SHOX2', 'CXCL10', 'CKMT2', 'HAP1', 'TNNT2', 'TFF2', 'PDIA2', 'S100A7A', 'HRASLS', 'NRG1', 'EDIL3', 'DMRTA1', 'C21orf62', 'ST6GALNAC5', 'ARX', 'ANO9', 'SGPP2', 'FCGBP', 'CCL13', 'HOXB5', 'DUSP26', 'SCG5', 'ALDH1A2', 'CRB2', 'COCH', 'FGFR3', 'TPRXL', 'HPX', 'KRTDAP', 'ACSM1', 'AQP7', 'CST2', 'TLX1', 'SYT5', 'RGMA', 'RNF182', 'GPX3', 'MPPED2', 'B3GALT5', 'CDSN', 'TDGF1', 'FLJ45983', 'ITIH5L', 'CASKIN1', 'CCL14', 'C1QL4', 'GREB1L', 'FIBCD1', 'ARHGAP8', 'B4GALNT3', 'CDKL2', 'CXCL11', 'LOC255167', 'CSAG3', 'RIPK4', 'LRRC19', 'FAM69C', 'OCA2', 'RNF183', 'DNAH5', 'MRAP2', 'COL23A1', 'CTHRC1', 'COL6A3', 'FSTL4', 'PROX1', 'LOC100271831', 'ALOX12P2', 'C5orf49', 'SLITRK4', 'GPM6B', 'ARPP21', 'DNALI1', 'NPAS3', 'ALOX15', 'RYR1', 'MAGEA2', 'TNNI1', 'IL1R2', 'AGXT2', 'PCYT1B', 'HAS3', 'BSPRY', 'JAKMIP2', 'ITGA8', 'CPEB1', 'TBX18', 'ITGBL1', 'LOC283392', 'PLCH1', 'KCNH8', 'SEC14L4', 'CXCL3', 'DDX25', 'SHISA3', 'GPR109B', 'MYH14', 'TDO2', 'KCNK10', 'PCDH9', 'BCMO1', 'ASPA', 'HOTAIR', 'CYP2J2', 'FER1L4', 'RRAD', 'AIM2', 'INHBA', 'ICAM5', 'CTTNBP2', 'PTGIS', 'NKX2-2', 'CHST6', 'FBN2', 'HORMAD1', 'SEZ6', 'COL9A3', 'CDK5R2', 'SELE', 'LRAT', 'CTSG', 'FAM155B', 'BCL2L15', 'PLA1A', 'KLHDC8A', 'SLC22A11', 'MGAT5B', 'PDE8B', 'FCAMR', 'PDZD3', 'PRDM16', 'CD19', 'PRRX2', 'CCDC160', 'F2RL2', 'ODZ3', 'HNF1A', 'MTTP', 'OLFM1', 'PLIN4', 'ITLN1', 'FAM101A', 'SDR42E1', 'GRM4', 'HSD17B6', 'PRSS1', 'psiTPTE22', 'C6orf222', 'AGXT', 'APCDD1L', 'CD164L2', 'CNR1', 'SEPT3', 'GPR37', 'ELAVL3', 'TMEM151A', 'HAVCR1', 'C1orf173', 'LRRC4C', 'GRP', 'MAGED4', 'ASAM', 'C1orf95', 'TMEM90B', 'ST14', 'MOGAT3', 'TNFAIP6', 'BMP5', 'ANKRD56', 'CLUL1', 'RSPO4', 'RBP5', 'COBL', 'PKP2', 'PRKAA2', 'NEBL', 'RND2', 'HOXB7', 'SAA4', 'HLF', 'SCGB3A2', 'HRASLS5', 'CELF5', 'TMEM108', 'CEACAM1', 'PPAP2C', 'GLB1L3', 'HPR', 'CES3', 'SORCS3', 'FCRLA', 'PROC', 'NAP1L2', 'FZD10', 'FLRT3', 'CA10', 'TNFRSF11B', 'ZNF536', 'SLC8A2', 'TREM1', 'DNAJC12', 'MGST1', 'MYOCD', 'LRRN2', 'PNMA3', 'GATA5', 'CHRNA4', 'MCOLN3', 'MET', 'MYCN', 'AKR1B15', 'MUC12', 'BAI3', 'PNMA6A', 'LOC723809', 'XPNPEP2', 'LIPG', 'ST8SIA2', 'IL20RB', 'PCDH7', 'GLB1L2', 'CYS1', 'NEURL', 'FGF9', 'DMRTC1B', 'MYRIP', 'SCIN', 'CDH10', 'UPK3A', 'SLC35F3', 'TIMP4', 'GABRE', 'GPA33', 'ZBTB7C', 'IL6', 'FREM1', 'SLC7A2', 'ECEL1', 'NGEF', 'FOXP2', 'CXCL2', 'PPP4R4', 'DPCR1', 'MAB21L2', 'DLX5', 'ZCCHC12', 'ATP12A', 'MAP2', 'CILP2', 'KCND3', 'REN', 'MGP', 'AHNAK2', 'SCTR', 'ERP27', 'DOCK3', 'DLK2', 'ARMC3', 'PCDHGB5', 'SEMA3D', 'TRIM54', 'B4GALNT2', 'MAGED4B', 'CDCA7', 'COL12A1', 'PTCHD1', 'SOX6', 'TMEM189-UBE2V1', 'SOX2OT', 'NDRG4', 'PCDHA1', 'LCN12', 'OPCML', 'HSPB7', 'NPW', 'KSR2', 'C6orf142', 'NNMT', 'SPAG6', 'TUBB4', 'RERG', 'DCN', 'PDK4', 'LYPD1', 'ANK2', 'TFR2', 'IL7R', 'CNTN6', 'USH1G', 'PON1', 'EFS', 'MYH7', 'HSPB6', 'UBE2C', 'NPC1L1', 'CHDH', 'SULT1C4', 'CYP4X1', 'NMNAT2', 'FBXL16', 'TMEM163', 'NBLA00301', 'SLC6A1', 'FRAS1', 'KCNF1', 'TMEM82', 'CYP17A1', 'CYP11A1', 'LYZ', 'GRIN1', 'DLGAP5', 'C12orf53', 'FAM176A', 'FAM181A', 'BANK1', 'SLC26A7', 'IGSF10', 'SMTNL2', 'SCN9A', 'FBLL1', 'ARC', 'C4orf19', 'NCAN', 'PCDHA6', 'FOXL2', 'NRXN2', 'EXTL1', 'SNCB', 'SLITRK3', 'CES4', 'HS3ST4', 'C5orf46', 'KLC3', 'PAK7', 'SCAND3', 'IL12RB2', 'TNFRSF17', 'SLC26A3', 'SLC39A2', 'FOLH1', 'MS4A2', 'MEOX2', 'RGS6', 'HBB', 'SDC1', 'DNAH2', 'CNKSR2', 'MALL', 'ITIH3', 'BICC1', 'SLC22A2', 'RASGEF1C', 'STK32B', 'LRRK2', 'PPP2R2B', 'FAM131C', 'LAMP3', 'EPB41L4B', 'KL', 'KCNIP1', 'NCRNA00185', 'SEMA3C', 'SPSB4', 'PTPRN2', 'WSCD1', 'STEAP1', 'POU5F1', 'CLCNKB', 'EVPLL', 'TMEM145', 'ST6GALNAC2', 'CLDN16', 'APOA2', 'DOC2A', 'DDIT4L', 'CACNA1I', 'MAPK10', 'SERPINF2', 'KCNB1', 'FOXD3', 'UGT2B4', 'ASPDH', 'FER1L6', 'MYO1A', 'RAB3B', 'JSRP1', 'KREMEN2', 'CIDEC', 'QRFPR', 'CD70', 'TBX4', 'C13orf36', 'TARP', 'EDNRB', 'PTCHD2', 'COL1A2', 'TAT', 'ASPN', 'DNAH9', 'MUC20', 'MAGEA12', 'SHANK2', 'SLIT2', 'MAOA', 'ANKRD22', 'GLRB', 'ALG1L', 'FAM150B', 'RTN4RL1', 'PKHD1L1', 'CACNA2D2', 'VIT', 'PLEKHN1', 'LRRC2', 'SPEG', 'PLIN5', 'TMEM132D', 'ID4', 'FAM133A', 'ST8SIA3', 'FMO3', 'ADAMTS15', 'GABRG2', 'DMRTA2', 'IL13RA2', 'RNASE7', 'HEPN1', 'DTNA', 'SH2D3A', 'RERGL', 'C10orf82', 'ADAMTS12', 'SDK2', 'FIBIN', 'NXPH1', 'ENAM', 'ZFHX4', 'JPH4', 'BEND4', 'ADORA1', 'CBLN1', 'KCNA6', 'HSPB8', 'ZMYND10', 'CGN', 'GDF10', 'ALDH1A3', 'WDR66', 'APC2', 'NEGR1', 'CYP21A2', 'RARRES1', 'VAV3', 'SELP', 'PLCH2', 'DARC', 'BEST3', 'TPO', 'LOC728606', 'PCDH8', 'HCN2', 'ABI3BP', 'ANGPTL1', 'LPPR5', 'RASGRF1', 'ITGB8', 'NIPAL1', 'ABCB1', 'CD36', 'C6orf176', 'SCN4A', 'NTM', 'MEGF11', 'SLC4A8', 'PLXNA4', 'COL6A6', 'ENTPD2', 'CA2', 'LOC283174', 'IBSP', 'NR1I2', 'CYP27C1', 'RCOR2', 'IRF4', 'GPR64', 'CDCP1', 'RYR2', 'RSPO2', 'F10', 'GNAO1', 'LRRN3', 'TEKT2', 'BCL11A', 'WFDC5', 'PIPOX', 'ODAM', 'PTH1R', 'EPHA5', 'MAPK8IP2', 'MKX', 'OPRK1', 'MUC17', 'JPH3', 'MS4A15', 'GPR39', 'OLR1', 'NUDT10', 'NCRNA00086', 'MMP16', 'MT1M', 'UNC93A', 'ANO1', 'PLN', 'PLIN1', 'C10orf116', 'PACRG', 'TPSD1', 'GPR123', 'EPYC', 'STAC', 'CPE', 'ADH1A', 'C10orf90', 'PPL', 'SLC15A2', 'MDFI', 'SALL3', 'CPZ', 'CHD5', 'PDGFRL', 'HTRA3', 'GPR133', 'ZIC4', 'KCNK5', 'AURKB', 'PLCB4', 'SCN3A', 'FAM167A', 'C6orf174', 'IL1RL1', 'RGS11', 'CD38', 'LRRTM4', 'ITGB4', 'ATOH8', 'CDC42BPG', 'FSTL5', 'CACNA1D', 'APOC1', 'MFAP4', 'ACSL6', 'PDE11A', 'ADCYAP1R1', 'FAM178B', 'BAI2', 'MYO3B', 'TEX15', 'AFF2', 'IGLON5', 'C15orf59', 'OLIG2', 'DDX43', 'GJA3', 'TDRD9', 'RGS7BP', 'TTC39A', 'GATM', 'EFCAB1', 'PTGES', 'ZFR2', 'CASQ2', 'FOSL1', 'A2BP1', 'C6orf168', 'CNDP1', 'FLG', 'HYDIN', 'PADI2', 'MOGAT2', 'PLG', 'MGC45800', 'RBM24', 'PKIA', 'SLC30A10', 'UBE2QL1', 'G6PC', 'CGREF1', 'FAM46B', 'COL28A1', 'ANKRD1', 'CEL', 'DLG2', 'DMRT3', 'ALDH8A1', 'PPP1R9A', 'SGCA', 'RAB38', 'CYP26A1', 'SPIB', 'ALPP', 'C12orf39', 'CNTN2', 'SLC26A4', 'GTSF1', 'CDX1', 'COL5A1', 'VGLL3', 'CHRM3', 'NGFR', 'PRODH2', 'DNAH3', 'TROAP', 'GRID1', 'ROR2', 'RGS22', 'ZMAT4', 'P2RY2', 'VIPR1', 'WNT11', 'ZNF208', 'DHRS9', 'TCL1A', 'PCDHA13', 'CST4', 'SCN1A', 'GATA6', 'RSPO1', 'NKAIN2', 'SCUBE3', 'PNMT', 'COL4A4', 'OR51E2', 'GRIK4', 'WISP3', 'CACNA1G', 'TBX3', 'ATP6V0D2', 'ACOX2', 'MEOX1', 'F11', 'PREX2', 'FAM81B', 'CUBN', 'NEK2', 'CECR7', 'PIP5K1B', 'GALNTL2', 'SLC7A14', 'DSC2', 'SLC6A2', 'MYOC', 'PHYHD1', 'DOK5', 'TWIST1', 'MXRA5', 'F3', 'CXCR2P1', 'FABP5', 'TTLL6', 'SNURF', 'PHYHIP', 'MGAM', 'WNT3A', 'GPT', 'CYP2C8', 'FGF1', 'COLEC11', 'LRRIQ1', 'RHBDL3', 'B3GNT6', 'CBLN2', 'PPM1E', 'SPOCD1', 'PDE1C', 'UCN2', 'RASD1', 'CMTM5', 'PRRT4', 'SH2D5', 'LEFTY2', 'NTN1', 'C6orf105', 'HOPX', 'UNC13A', 'OXGR1', 'GBP5', 'PLEK2', 'STK31', 'PGLYRP4', 'FBP1', 'MCHR1', 'KCNH3', 'C11orf52', 'DOK7', 'CDC20', 'UBXN10', 'ADRB1', 'VSIG1', 'ASPM', 'BEX2', 'SCN3B', 'BTBD11', 'MAGEA9B', 'CDH6', 'C9orf125', 'APOE', 'C1orf161', 'C10orf107', 'ZDHHC15', 'CD300LG', 'PCDHB5', 'DNAJB13', 'CELF4', 'PRRX1', 'GGT3P', 'HRNBP3', 'HEPHL1', 'REEP1', 'KIAA1644', 'SLC6A3', 'FLJ42875', 'AMPH', 'PSD2', 'SLC35F1', 'BMP2', 'MARVELD3', 'PLS1', 'PRR11', 'S100A12', 'HTR3A', 'GALNT6', 'PRSS50', 'PTGFR', 'ZNF667', 'SLC7A3', 'KY', 'REEP2', 'SPESP1', 'GZMK', 'PPP1R3C', 'UPB1', 'KCNC2', 'PDZD4', 'PCDHA3', 'KRT78', 'PVALB', 'NLRP7', 'KRT81', 'ARSI', 'CHRNB2', 'CBLN4', 'GOLGA7B', 'NRXN3', 'ADAM33', 'CHST4', 'SORCS2', 'BIRC5', 'EMILIN3', 'CAMK2A', 'PRPH', 'SCUBE1', 'C1orf114', 'ENPP1', 'RSPO3', 'CHODL', 'CCDC8', 'F2', 'DMBX1', 'MPZL2', 'CYP8B1', 'TMEM61', 'SNCG', 'TNFSF12-TNFSF13', 'STC2', 'PDGFRA', 'ERBB3', 'RGS7', 'SLC1A1', 'CENPA', 'FADS6', 'E2F8', 'HSD11B1', 'FN1', 'ARNT2', 'GZMB', 'CNFN', 'PGM5', 'ZNF676', 'NLGN4X', 'LOC153328', 'AJAP1', 'SAMD11', 'GPR143', 'SMAD9', 'HAO2', 'SV2B', 'LEPREL1', 'KBTBD11', 'ITPKA', 'PNOC', 'FMO5', 'SLAMF7', 'CORO2B', 'CLDN11', 'DPY19L2', 'CEND1', 'MGAT4C', 'COL4A5', 'SLC1A6', 'CPB2', 'SLC4A11', 'MAST1', 'IGSF21', 'LOC100124692', 'FHL1', 'ABCA4', 'IGFBP2', 'PHLDA2', 'SRPX2', 'GYG2', 'ZNF114', 'TGFA', 'TMSB15A', 'CCK', 'C2orf89', 'CHAD', 'CACNA1E', 'CLEC18B', 'LPL', 'LIN7A', 'DRD2', 'SGSM1', 'CLDN9', 'HAS2', 'ANGPTL7', 'ARHGEF16', 'FAM57B', 'KIF14', 'PERP', 'VWA5B2', 'MCTP2', 'SLC9A4', 'SLC7A9', 'GRHL1', 'MGAT3', 'HOXC4', 'LRRC7', 'HLA-DQB2', 'CSAG1', 'LOXL4', 'ASXL3', 'ANGPTL4', 'CAMKV', 'MAGEA1', 'CEP55', 'ABCC6P2', 'CBS', 'MOXD1', 'GPR172B', 'ISLR', 'SLC47A2', 'CLDN6', 'F12', 'PRND', 'BLK', 'NPM2', 'EPR1', 'KIF18B', 'GCOM1', 'MT1A', 'SLC24A3', 'DUSP15', 'MELK', 'SLIT3', 'UGT1A8', 'ABCA6', 'PCSK6', 'TMEM132B', 'CPNE7', 'VCAN', 'KCNH6', 'HCN4', 'PDLIM4', 'KCNN2', 'LRP4', 'SIX4', 'OSR1', 'CPAMD8', 'C3orf55', 'ACAN', 'MPPED1', 'FAM84A', 'IL1F9', 'ZDHHC8P1', 'PARM1', 'TMEM213', 'ESYT3', 'SVOPL', 'LOC654433', 'LOC154822', 'XK', 'FOXF2', 'TRIM63', 'FAM110C', 'MAMDC2', 'RNF165', 'FRMD3', 'HRG', 'GHR', 'DSCR6', 'B4GALNT1', 'NOS2', 'QPRT', 'RARRES2', 'SGCD', 'ADAM22', 'CYP2A6', 'PRELP', 'ADAMTSL3', 'C8orf4', 'JPH2', 'COLEC12', 'ANO3', 'SORBS2', 'TMEM176A', 'KCP', 'TM4SF19', 'LOC150622', 'RSPH1', 'HAL', 'SLC5A9', 'MMP17', 'ESM1', 'LRRN4CL', 'CPXM1', 'PNPLA3', 'DDN', 'RMST', 'KLHL4', 'SYCP2', 'GPR37L1', 'DEPDC1', 'LEFTY1', 'TNFSF11', 'APOC3', 'COX6B2', 'PRTG', 'KCNJ4', 'ECHDC3', 'KLHDC7B', 'CNTN4', 'KIAA0319', 'FCER1A', 'CHRNA1', 'TPRG1', 'CFI', 'LOC100127888', 'PAX3', 'CD207', 'KYNU', 'SLC17A1', 'CSPG5', 'TP73', 'NSUN7', 'SLC25A18', 'CNGB1', 'VNN3', 'SKAP1', 'NRG2', 'RTN1', 'CYP3A7', 'FBLN1', 'C20orf54', 'DYNC1I1', 'CTXN1', 'SLC7A11', 'ZNF334', 'ZFP57', 'TBX15', 'SPINT2', 'INMT', 'CCDC108', 'MDGA2', 'ADRA1B', 'MRO', 'IGFALS', 'SEMA5B', 'HMGCLL1', 'EGFR', 'KIRREL2', 'MYEF2', 'TSPAN7', 'LCN10', 'CGNL1', 'IFI27', 'VAX2', 'HRASLS2', 'WNT4', 'C17orf93', 'SERTAD4', 'DGKB', 'CCL22', 'MAP6', 'CRISPLD1', 'SULT2A1', 'TP53AIP1', 'HBA2', 'ARMC4', 'PRRG2', 'FAM184B', 'HOXA5', 'ADAMTS8', 'ABAT', 'LY6H', 'SLC16A4', 'SULF1', 'PCBP3', 'ARNTL2', 'HOXA3', 'TNC', 'CPA6', 'CLSPN', 'GABRQ', 'INPP5J', 'GPR1', 'HOXC5', 'PP14571', 'RBP1', 'EXO1', 'TRPM3', 'FAM70A', 'TMEM132E', 'GRAMD2', 'KIT', 'PSAT1', 'KIAA1211', 'E2F7', 'TTBK1', 'COL21A1', 'AHSG', 'FAM155A', 'ALK', 'SLC38A11', 'ASS1', 'GPR128', 'CASQ1', 'PRKCG', 'SAMD5', 'CCNO', 'CYP1B1', 'HOMER2', 'C8orf79', 'FCRL3', 'IQSEC3', 'PRKG2', 'PRR18', 'TAC1', 'CNTD2', 'COL14A1', 'CPN2', 'C19orf59', 'LYPD2', 'ARHGAP6', 'MFI2', 'MMEL1', 'PYGM', 'ANGPTL3', 'EPHB1', 'P2RX6', 'NOS1', 'PGLYRP2', 'CPXM2', 'GFRA2', 'NKX2-3', 'UPK1A', 'GRM5', 'SYT3', 'EFR3B', 'FAM19A5', 'DCAF12L1', 'CLIC5', 'PLA2G2F', 'RNF43', 'IGSF9B', 'PRR5-ARHGAP8', 'CDH26', 'ADCY1', 'UNC5CL', 'SRMS', 'SNX31', 'CYP2E1', 'SLAIN1', 'GPR126', 'CDC45', 'HOXB2', 'ANK1', 'ULBP2', 'EFCAB4A', 'ASPHD1', 'CCBE1', 'C6orf15', 'POLQ', 'LOC146336', 'SOX9', 'TNFRSF18', 'CR1', 'NDUFA4L2', 'RIMKLA', 'AQP6', 'GPIHBP1', 'CYP4Z1', 'HMCN1', 'CYP39A1', 'SIGLEC8', 'EPHB3', 'LMO1', 'HPDL', 'RHBG', 'C8orf80', 'MICALCL', 'RAET1L', 'GGTLC1', 'GRIN2D', 'CKB', 'ALX1', 'DAO', 'SEMA3A', 'C3orf52', 'KIF20A', 'NUF2', 'DCHS2', 'KCNT2', 'LINGO1', 'ITGA11', 'SLC2A5', 'CLEC2L', 'PLK1', 'FGF14', 'KMO', 'TTK', 'HTR1D', 'THBS2', 'PANX2', 'RASSF9', 'WISP1', 'CLDN19', 'NKX2-5', 'LRRC4B', 'LGSN', 'ASCL2', 'CMYA5', 'ITGB3', 'PAX5', 'PCLO', 'PPYR1', 'CX3CR1', 'CCDC68', 'F2RL1', 'GDAP1L1', 'IGFBPL1', 'ODZ4', 'ZNF695', 'GLIS1', 'ZNF365', 'TOP2A', 'TGM5', 'ADCYAP1', 'AMH', 'SYBU', 'GGTLC2', 'TMEM178', 'MST1P9', 'HSH2D', 'LTK', 'ISL2', 'ZNF229', 'SRPX', 'COL11A2', 'SERPINE2', 'SRD5A2', 'SLC13A3', 'EPHB6', 'APBA2', 'SYT6', 'ZSCAN1', 'IKZF3', 'CDCA2', 'ASB5', 'BEX5', 'LRRC55', 'RRM2', 'FBXO2', 'ROPN1B', 'SLCO4A1', 'SP8', 'C2CD4B', 'EGLN3', 'TMEM150B', 'LOC440925', 'GPNMB', 'NKX2-8', 'DLX2', 'CLCNKA', 'PID1', 'PGLYRP3', 'LRFN5', 'MFSD2A', 'NOG', 'MPP7', 'PCDHAC1', 'HYAL1', 'C3orf72', 'KAL1', 'PAQR5', 'EFNB3', 'CELSR1', 'ADH4', 'P2RY12', 'HOXD9', 'GCGR', 'IL11', 'RDH16', 'LOC100131726', 'WBSCR26', 'SPEF1', 'BDKRB1', 'SALL4', 'GPR160', 'CSMD3', 'FMN1', 'C13orf33', 'PTPRR', 'SCD5', 'EPHA3', 'MCM10', 'MEP1A', 'SHANK1', 'SLC24A5', 'FAM20A', 'WIT1', 'ACHE', 'CDC25C', 'HLA-DQA2', 'GNMT', 'THSD7B', 'SIM2', 'GLOD5', 'TIMD4', 'UNC5C', 'MOCOS', 'ST8SIA6', 'CHST13', 'ADAMTS19', 'BAMBI', 'FGF11', 'KCNJ11', 'NEB', 'ANLN', 'ABCA3', 'KCNJ13', 'SLC5A10', 'CKAP2L', 'VWCE', 'GGT1', 'CNIH2', 'C17orf28', 'NRSN1', 'MMP28', 'SEZ6L2', 'FGF12', 'STMN4', 'GABRA2', 'DUSP4', 'ATP2B3', 'GUCY2C', 'CABP1', 'NPTXR', 'NAP1L3', 'HJURP', 'FCN1', 'NPY6R', 'CD22', 'PDE1A', 'OSBPL6', 'CNGA1', 'KIF2C', 'OCLN', 'GSTM5', 'FLJ40330', 'PPFIA4', 'BMPER', 'CRIP1', 'PCDHGB1', 'NETO1', 'WDR86', 'TH', 'KCNC1', 'DSCAM', 'PCDHGB7', 'FAM150A', 'MECOM', 'SRPK3', 'ELN', 'ISM1', 'IQGAP3', 'AMDHD1', 'CD1E', 'C8orf84', 'FMOD', 'STC1', 'KLKB1', 'NR2E1', 'SLC30A8', 'ZDHHC22', 'C21orf88', 'NOX4', 'CYP1A1', 'TMEM105', 'SMOC2', 'HAMP', 'SGOL1', 'SHROOM3', 'FGFR2', 'FCRL2', 'CD3D', 'C21orf34', 'CPN1', 'ELOVL4', 'PODNL1', 'APOBEC3A', 'FAM160A1', 'IL1RL2', 'HECW1', 'COL5A2', 'LDHC', 'CASC1', 'HDC', 'ERMN', 'DAPP1', 'GJB7', 'ELMOD1', 'CRCT1', 'FOXF1', 'CLEC10A', 'PCDH15', 'PLA2G5', 'TUB', 'SPTBN4', 'RORB', 'FAM83D', 'HS3ST2', 'TMEM158', 'JAKMIP3', 'CAPSL', 'TC2N', 'SBK1', 'MKI67', 'DNAH7', 'HAPLN4', 'FLT3', 'GLT1D1', 'MATN3', 'NBEA', 'SLC8A3', 'MYL3', 'CACNA2D3', 'SOHLH2', 'KIF4A', 'KCNK9', 'MMRN1', 'TERT', 'SV2A', 'PODN', 'CD1C', 'TWIST2', 'C2orf65', 'HOXD4', 'C11orf53', 'NR0B1', 'KCNIP3', 'IGF1', 'TPX2', 'CORO6', 'ALOX12B', 'FRMPD1', 'JAKMIP1', 'ADRA2A', 'BUB1', 'HOXB3', 'ATP13A5', 'RNF157', 'KIRREL3', 'STEAP2', 'FGF13', 'C14orf132', 'COL9A2', 'ALPPL2', 'PAPL', 'EFHC2', 'SDPR', 'PPP1R1C', 'EFNA5', 'CA3', 'HSD11B2', 'IGFBP6', 'TMPRSS11A', 'RNF150', 'CCL28', 'KCNMB2', 'SLC4A3', 'TRPV4', 'GPC5', 'TNN', 'EFEMP1', 'MYBPC2', 'TM7SF4', 'ENKUR', 'FAM196B', 'SAMD12', 'CNGA3', 'FAM153A', 'SHISA6', 'NEIL3', 'CCNB2', 'NKX6-1', 'RBM11', 'AIF1L', 'PDE3A', 'C11orf93', 'SLC7A5', 'SPON2', 'THPO', 'BAIAP3', 'SDK1', 'PLEKHA6', 'GAS1', 'CRHR1', 'POU3F1', 'LOC100126784', 'C6orf138', 'EFNA2', 'SYPL2', 'ZNF883', 'CD3G', 'CATSPERB', 'RTBDN', 'C9orf122', 'RHOD', 'FAM38B', 'FBXO17', 'PPARG', 'ITIH5', 'HOXD1', 'DDR2', 'SMC1B', 'CNTNAP4', 'PLD5', 'KCNMA1', 'DIO3', 'DUSP27', 'KCNN1', 'EPHX4', 'NKD1', 'CFHR1', 'ANKRD35', 'ZNF486', 'PBK', 'NKD2', 'HUNK', 'TFPI', 'IGDCC4', 'LOC100130238', 'PAK6', 'SERPINE1', 'FETUB', 'DIRAS3', 'SLC6A4', 'KCNH1', 'RHBDL2', 'G0S2', 'CYP3A4', 'PAX1', 'KIAA1045', 'ADAMTS2', 'LOC201651', 'KCTD14', 'RALYL', 'PTX3', 'SOX5', 'GSTO2', 'NACAD', 'ITIH4', 'SDCBP2', 'MPV17L', 'MPP2', 'ISX', 'LDOC1', 'PAK3', 'LAMC3', 'ACCN4', 'HOXD3', 'SIRPG', 'PKMYT1', 'HCG4', 'HPSE2', 'MYO16', 'KPNA7', 'LIFR', 'TMEM215', 'UGT2B11', 'ADRA2C', 'HTR2C', 'FOXM1', 'DOC2B', 'SYNPO2', 'SOX1', 'KCNG3', 'MAGEC2', 'OIT3', 'SLC17A9', 'CRHBP', 'CPNE6', 'P2RY1', 'AKR1C4', 'ROR1', 'TSPAN12', 'C2orf62', 'MAGEL2', 'TNFSF9', 'NFASC', 'IL2RA', 'PLA2G4E', 'THBS1', 'GALNT12', 'GUCY1B2', 'FGF19', 'ZNF280B', 'LOC613037', 'ABCB5', 'RHOF', 'XKRX', 'OSTBETA', 'XIRP1', 'SYNGR3', 'PDE4C', 'RAB39B', 'TSPYL5', 'TMEM27', 'PACSIN1', 'SLC29A4', 'CSAG2', 'C8orf34', 'BTC', 'TCAM1P', 'TLL1', 'SELENBP1', 'CASC5', 'CCDC135', 'PDE6B', 'ESPL1', 'RNF180', 'NCAPH', 'LOC441869', 'C2', 'SHC4', 'GPR27', 'ART4', 'ENPP6', 'CDH18', 'FCN3', 'B3GALT2', 'SFTA1P', 'SNX32', 'ADARB2', 'HOXD8', 'BRSK1', 'PAPPA', 'CENPF', 'GRM8', 'LOC441666', 'CENPI', 'SNCA', 'CACNA1H', 'FAM184A', 'LOC643008', 'LRCH2', 'THSD7A', 'PPFIA2', 'CRP', 'RPH3A', 'GDF5', 'ANXA9', 'TM6SF2', 'AGMAT', 'GNLY', 'TSPAN10', 'VDR', 'CHRNA2', 'EBF2', 'ANKRD29', 'PLXNC1', 'PODXL2', 'CXADR', 'PCDHGA10', 'LMOD1', 'GFPT2', 'UGT1A7', 'PSORS1C2', 'TNFRSF9', 'TNIP3', 'UGT2B10', 'SLC22A17', 'CLDN14', 'STAP1', 'DRP2', 'CORO2A', 'KIAA1755', 'REEP6', 'TMEM84', 'SPRR2F', 'EPHA6', 'SHC3', 'ZBP1', 'CDH8', 'TMEM37', 'PKD1L2', 'LRRC4', 'LAX1', 'GDF6', 'SLC1A3', 'PCDHGC5', 'SULT1B1', 'ICOS', 'VANGL2', 'TMEM176B', 'KIF15', 'SRRM4', 'LOC399959', 'LOC284578', 'PRSS35', 'CSMD2', 'SIGLEC12', 'KCNK1', 'MYO18B', 'PRKCQ', 'CHRNB4', 'KIF23', 'ARSF', 'GRAMD1B', 'DGKI', 'TTLL7', 'CRB1', 'DGCR9', 'SYCE1', 'ST8SIA1', 'SUCNR1', 'SERINC2', 'SPTBN2', 'PLA2G4D', 'IL33', 'RDH12', 'PKDCC', 'LOC100130872', 'TRIM17', 'RPS27', 'PSD', 'LOC285629', 'C7orf51', 'FAM198A', 'BTBD16', 'PLAC1', 'FAM132A', 'LOX', 'FNDC5', 'GPRC5B', 'NNAT', 'GATSL2', 'FGFBP2', 'IL32', 'LOC647309', 'SLC16A11', 'GSC', 'SOD3', 'TTPA', 'NKX3-2', 'CD8B', 'IL2RG', 'COL29A1', 'S1PR5', 'FAM110B', 'IGFBP5', 'WDR49', 'ACCN2', 'SLC22A7', 'ELMO3', 'GABRG3', 'CHRNA3', 'C1QTNF7', 'FCGR3B', 'ZNF683', 'HAS1', 'TUBAL3', 'LRRTM2', 'TNFSF15', 'HOXB4', 'FAM149A', 'PDE9A', 'PLD4', 'PCDHA2', 'NKX3-1', 'PGA3', 'KLHL32', 'DGKG', 'FAM64A', 'ACCN1', 'SKA1', 'PDZRN3', 'EBF3', 'NAV3', 'CCDC136', 'LYVE1', 'ADAMTS18', 'GABRA5', 'RGS4', 'SLC5A5', 'KLHL13', 'LTB', 'CD2', 'LOC220594', 'CDH11', 'LIF', 'LY9', 'SSPO', 'KCNA1', 'FAM13C', 'FAM190A', 'POU4F1', 'C14orf64', 'SH2D1A', 'PCDHA5', 'GPC2', 'LOC134466', 'ICAM4', 'CLEC5A', 'SPOCK2', 'IL1B', 'ACTL8', 'UMODL1', 'SIDT1', 'SCN4B', 'NPR1', 'TRAT1', 'RAET1E', 'CA14', 'MORN5', 'MT1E', 'C21orf15', 'CTSW', 'GSG1L', 'DKFZp434J0226', 'PLAC9', 'SLFN13', 'BAIAP2L1', 'ZNF560', 'SLAMF6', 'FHL5', 'HS3ST6', 'ADM2', 'TUBB3', 'HOXA4', 'REG3A', 'LDB3', 'KRT31', 'SNCAIP', 'ALOXE3', 'LOC100131551', 'CCDC74B', 'SVOP', 'LOC338651', 'PTPN5', 'F13A1', 'UGT3A2', 'TCEAL7', 'SERPINF1', 'RFPL1S', 'CCKBR', 'C17orf55', 'ADRA1A', 'PGBD5', 'C6orf155', 'TIGIT', 'BTNL8', 'GPR17', 'GPC6', 'SLC1A7', 'MAGEA11', 'RNF39', 'RLTPR', 'CXorf57', 'NTSR1', 'NLGN3', 'CAMK2N2', 'GLTPD2', 'TMEM200C', 'GULP1', 'SLC18A2', 'TCEAL5', 'CCDC85A', 'ATP8A2', 'PLAU', 'SGEF', 'CD3E', 'SLCO5A1', 'ZNF826', 'ESPNL', 'TACR1', 'RNF112', 'OLFM2', 'DAAM2', 'FLRT2', 'KLK14', 'TOX', 'UPK2', 'CTSK', 'SKA3', 'GLDN', 'CCNI2', 'RASL11B', 'FLRT1', 'SUSD2', 'FCER2', 'PCDHGC4', 'ZNHIT2', 'KCNV1', 'LOC284276', 'TRIM7', 'INHBB', 'TNR', 'B3GNT7', 'LYNX1', 'SP6', 'CNTNAP3', 'DLX6AS', 'SRRM3', 'SPATA18', 'TNNI2', 'ALDOC', 'SLC17A7', 'CCDC151', 'P2RY10', 'PCDHGB2', 'ETV1', 'DNAI1', 'CREG2', 'ITGA2', 'SLC45A2', 'CCL8', 'FIGF', 'SIM1', 'MAB21L1', 'UGT1A3', 'GZMA', 'SYNPR', 'FAM83G', 'IL24', 'CHST1', 'SLC6A10P', 'ASGR2', 'PRMT8', 'ERAP2', 'MTL5', 'BNC2', 'MEIS3', 'GABRD', 'ZBTB8B', 'ANKRD45', 'SLC7A10', 'HGFAC', 'CDS1', 'ITIH1', 'PCDH11X', 'LGI1', 'CACNA1A', 'C21orf125', 'SEMA6D', 'COL25A1', 'C10orf93', 'CCDC80', 'PAPPA2', 'APOF', 'MED12L', 'TRIL', 'FAM180A', 'GLI2', 'CD27', 'C1orf194', 'LY75', 'MAEL', 'DYDC2', 'IL17D', 'CASP14', 'FFAR2', 'KCTD8', 'AOC3', 'THSD4', 'KIAA1409', 'ESCO2', 'AFP', 'ZSCAN23', 'WNK3', 'SCARA3', 'ZMAT1', 'COL15A1', 'BEND5', 'EOMES', 'ANKRD2', 'TKTL1', 'RAI2', 'TSPAN2', 'LOC400043', 'SYP', 'SPARCL1', 'KLB', 'MARVELD2', 'NRN1', 'LAMA2', 'LMTK3', 'ADAMTSL5', 'BUB1B', 'EGOT', 'TNNC2', 'LOC286467', 'ISM2', 'FAM151A', 'PCDHGB4', 'NECAB1', 'LRRTM3', 'MYOZ1', 'BTNL9', 'C6orf97', 'CARTPT', 'NFE2', 'OR7E91P', 'CDH20', 'SORBS1', 'AGPAT9', 'KCNQ3', 'ADAMTS14', 'NXNL2', 'TNFRSF19', 'SYN1', 'PTPRQ', 'RAB19', 'PYHIN1', 'CXCR5', 'EDA2R', 'SIT1', 'FAM171A2', 'RND1', 'SHC2', 'NOX1', 'ADM', 'CCR7', 'HS3ST5', 'GTSE1', 'CDC42EP5', 'SH3TC2', 'ACTA1', 'C19orf51', 'SYNM', 'TCL6', 'ADORA2B', 'PRKG1', 'DPY19L2P4', 'JPH1', 'ZNF257', 'VCAM1', 'LRRC50', 'ZNF626', 'GJA1', 'KLHL35', 'LOC284749', 'RP1', 'TCEA3', 'C16orf74', 'CARD14', 'ASTN2', 'C15orf42', 'CDA', 'FZD9', 'TSPAN11', 'RUNX1T1', 'RADIL', 'TMEM200A', 'RAPGEFL1', 'LOC162632', 'CYP4Z2P', 'CCR4', 'P2RX7', 'LGALS9B', 'HOXA6', 'NCAPG', 'SLC4A10', 'NFATC2', 'ARTN', 'FGF2', 'PIWIL1', 'C7orf52', 'SVEP1', 'HIST3H2A', 'FLJ45445', 'CAMK2N1', 'RASGEF1A', 'LOC90246', 'SRCIN1', 'CTLA4', 'RAD54L', 'KISS1R', 'CD109', 'LRRC8E', 'LEP', 'SMPD3', 'CALCA', 'AKAP6', 'CD96', 'C4orf39', 'RGS9', 'GSTT2', 'KCNJ12', 'LGALS12', 'TRPV3', 'BDKRB2', 'WNT5A', 'GNG7', 'ZNF98', 'C11orf70', 'C8B', 'CENPE', 'CLEC3B', 'MFAP3L', 'CLEC18A', 'GPR173', 'DCT', 'BATF', 'HHIPL2', 'ZNF711', 'KLRB1', 'P2RX1', 'CCL17', 'ITK', 'CACNG7', 'CLEC12A', 'DKK2', 'RAB26', 'RFX4', 'MSC', 'TRIM36', 'QPCT', 'CXCR3', 'REC8', 'LIN28B', 'TMEM200B', 'ASB2', 'RAET1G', 'COL13A1', 'CCR2', 'IGSF5', 'OR51E1', 'NXPH3', 'ACBD7', 'SILV', 'SUSD5', 'NEURL3', 'SLC10A4', 'HCN1', 'SEMA3B', 'B3GNT4', 'SLC12A1', 'FRMD1', 'SLITRK1', 'IQGAP2', 'P4HA3', 'ILDR2', 'MYOT', 'PLAG1', 'CD5L', 'FAM131B', 'EFCAB4B', 'ATP8A1', 'SLURP1', 'GLIS3', 'C9orf169', 'TSLP', 'CACNB4', 'MYO5B', 'NKG7', 'BHLHE41', 'AIM1', 'SDS', 'FAM134B', 'VWA3B', 'LILRA4', 'CDR1', 'CKM', 'VNN2', 'MARCH4', 'FAM47E', 'NAT2', 'CACNG6', 'SALL2', 'ASRGL1', 'OASL', 'FPR2', 'ANKRD34B', 'ALPL', 'PRDM8', 'COL8A2', 'CADM1', 'RPL9', 'CHRD', 'HLA-DRB6', 'DRD1', 'KIRREL', 'PTGER2', 'ANXA1', 'UBASH3A', 'GCNT1', 'FAM183A', 'AMTN', 'AVPR1A', 'LRFN2', 'PCDHGA12', 'GNA15', 'C1orf175', 'ZNF385D', 'HSPB3', 'PKIB', 'LHX9', 'TPD52L1', 'ID1', 'ZNF727', 'C1orf110', 'C11orf87', 'GCKR', 'SEMA6A', 'SLAMF1', 'RPL39L', 'IL21R', 'ORC1L', 'FAAH2', 'APLN', 'CYP4F8', 'ATP6V1G2', 'FGF18', 'SPRR2G', 'KLRC2', 'CETP', 'KCTD16', 'HRCT1', 'TNFSF10', 'THNSL2', 'PHEX', 'CD8A', 'PSAPL1', 'HMMR', 'MFSD4', 'C9orf140', 'HEPH', 'HGF', 'CD5', 'DPYSL3', 'FAM163A', 'C2CD4C', 'LPPR4', 'ASGR1', 'FAM43B', 'DNAJC6', 'LIMCH1', 'SNORD116-28', 'KRT86', 'MRC1', 'CARD11', 'ATP8B1', 'SLC22A12', 'INHBE', 'C2orf70', 'SLC2A4', 'USP2', 'FBLN2', 'NAPSB', 'CPLX3', 'GADD45G', 'C1S', 'UHRF1', 'ABCB4', 'C9orf84', 'BCL11B', 'DOK6', 'PCDHB2', 'RAP1GAP', 'PLBD1', 'ITGA3', 'HOOK1', 'DKFZp686O24166', 'SLN', 'FAM196A', 'APCS', 'PTPRO', 'APOBEC3B', 'GPR35', 'CDCA8', 'E2F2', 'KIFC1', 'GZMH', 'GPC4', 'PDE3B', 'BDNF', 'FIGN', 'EPHB2', 'HLA-DQA1', 'PLLP', 'EPHA2', 'NTF3', 'FEZ1', 'ZNF703', 'MYBPH', 'COL27A1', 'MAP1B', 'SLC30A3', 'MRGPRF', 'CRIP3', 'CLEC18C', 'ADAM28', 'LRRC10B', 'KCNE4', 'BCAM', 'PCDHGA2', 'TMEM45A', 'GXYLT2', 'NRTN', 'TREH', 'DPY19L2P2', 'OMG', 'ZNF135', 'MYOM1', 'L1TD1', 'HSD17B13', 'TUBA3D', 'GATA2', 'NR2F1', 'TRAM1L1', 'OTC', 'ZNF578', 'FAM123A', 'PLEKHH1', 'LOC284233', 'ABLIM3', 'TINAGL1', 'FAM83H', 'INHA', 'C1orf170', 'MGC42105', 'ENPEP', 'BCL2L10', 'GSDMA', 'TNFRSF13B', 'KIAA1543', 'IL17RB', 'PDCD1', 'C3orf70', 'LHX1', 'ENOX1', 'HS3ST3A1', 'CYP2D6', 'LOC100144604', 'SERPINC1', 'PLA2R1', 'PAR5', 'GRPR', 'SNAI2', 'IL17RD', 'PLEKHG7', 'TMEM232', 'ACVR1C', 'CCNA2', 'ABCG2', 'TMEM154', 'MAP9', 'CYTL1', 'LOC647946', 'LINGO4', 'DLX4', 'PVRL3', 'CARNS1', 'MIAT', 'LOC728392', 'FAM123C', 'HLA-G', 'RDH5', 'CCDC19', 'CYSLTR2', 'BCAT1', 'MAPK13', 'ZFPM2', 'PAQR9', 'ERCC6L', 'C20orf26', 'MTUS2', 'ACSBG1', 'FNDC4', 'CALY', 'FRK', 'FEZF1', 'KLK9', 'NUP62CL', 'C2orf39', 'TSHZ2', 'CLEC4E', 'APCDD1', 'HOXA1', 'WNT9A', 'APLNR', 'PDLIM3', 'RNASE4', 'PTPN22', 'SLC24A2', 'ANGPT1', 'SERPINA10', 'MGC87042', 'ARG1', 'ADRB2', 'FABP3', 'C10orf79', 'TMEM119', 'FXYD6', 'DEPDC1B', 'SCN5A', 'CDH15', 'RGS5', 'FCRL1', 'FCHO1', 'KCNA3', 'SLC45A3', 'NOSTRIN', 'TTC36', 'FADS2', 'TUSC3', 'GAL3ST2', 'ANKFN1', 'ADHFE1', 'ETV7', 'IL6ST', 'LGI4', 'GAS2L3', 'NR3C2', 'CCL5', 'C9orf71', 'CREB5', 'SNTN', 'THEMIS', 'TPPP', 'GRIK1', 'CCDC144B', 'MLANA', 'CCDC78', 'ACSL5', 'SCML4', 'COL19A1', 'DHDH', 'KIAA1804', 'PRSS33', 'PRKCB', 'ALS2CL', 'ARSJ', 'ZNF702P', 'LCK', 'SYNC', 'ZNF471', 'TRDN', 'GPRC5C', 'FCGR2B', 'ABCA9', 'TRO', 'PITPNM3', 'TLE6', 'RASL10B', 'CHRNA7', 'SARDH', 'WFDC1', 'EMB', 'OR2W3', 'PABPC1L2B', 'KCNT1', 'CGB7', 'CDKN3', 'SRL', 'ARHGAP20', 'SYCE1L', 'AQP2', 'SPC24', 'CD7', 'PCDHB11', 'LOC100192378', 'NTN4', 'DNASE2B', 'FAM25A', 'WASF3', 'LDHD', 'ANKRD30B', 'FOXL1', 'ANKRD30A', 'C19orf26', 'EMR1', 'BCL2A1', 'GPAT2', 'DYNLRB2', 'C6orf27', 'GPR88', 'MEX3A', 'SGIP1', 'DGAT2', 'LOC339674', 'SIGLEC14', 'C8orf31', 'C7orf58', 'CH25H', 'MMP2', 'SFRS13B', 'PLUNC', 'L3MBTL4', 'KIF6', 'CELSR3', 'COL24A1', 'BEND6', 'GLS2', 'TFEC', 'AMIGO2', 'ULBP1', 'TMEM52', 'PCDHB6', 'SPHKAP', 'ACOXL', 'NRG4', 'MAGEC1', 'TNXB', 'CASR', 'TRPM6', 'FGF7', 'CHRNA5', 'GPR12', 'ST18', 'ST8SIA5', 'EDN1', 'TUSC5', 'DEPDC7', 'SIX3', 'FBXO27', 'NCRNA00093', 'DPY19L2P1', 'LILRA3', 'ITGA9', 'SIGLEC6', 'SERPINB11', 'RBP7', 'ABCC9', 'C8G', 'ZNF835', 'PTPN13', 'BRIP1', 'CBX2', 'CAPS', 'DLEC1', 'SPTLC3', 'MN1', 'XKR9', 'ALPI', 'TGFB2', 'LOC441204', 'LOC284837', 'HLA-DRB5', 'KIF19', 'ARHGEF35', 'ART3', 'AKAP12', 'MYH15', 'PDE10A', 'NBPF4', 'ANG', 'UST', 'GSDMB', 'SPC25', 'CD52', 'GPR114', 'FRMPD2', 'DDO', 'RLBP1', 'NAP1L6', 'FHOD3', 'SLC2A1', 'TDRD1', 'C12orf59', 'DCLK2', 'CRMP1', 'RHOH', 'HK3', 'RASGRP1', 'LILRB5', 'ARL4D', 'C6orf165', 'MT1X', 'C4orf48', 'LRRC3B', 'AQP1', 'PYGO1', 'CFH', 'FAM174B', 'MT1L', 'BEND7', 'ZAP70', 'HLA-DOB', 'HES6', 'IGFBP3', 'TUBA4B', 'SPINK4', 'PLA2G4A', 'ERC2', 'KIF26B', 'CCNJL', 'GLI1', 'PAMR1', 'BIRC3', 'DLGAP3', 'LINGO2', 'TDRD10', 'CXCR6', 'SULT1A2', 'MESP1', 'MDH1B', 'GSG2', 'C22orf45', 'NCKAP5', 'SLC22A18AS', 'HIST1H2BH', 'CPT1C', 'STON1-GTF2A1L', 'HSPB2', 'C3orf67', 'CACNG1', 'HFM1', 'DLGAP2', 'DCAF12L2', 'NCRNA00092', 'ACP5', 'FEV', 'TLR8', 'KIAA1324L', 'EFHA2', 'IGF2AS', 'LSR', 'RASD2', 'MYOM2', 'MOBP', 'STAR', 'C1QTNF4', 'SLC16A7', 'LAG3', 'AATK', 'IL22RA2', 'C11orf86', 'GRIN2C', 'CYP2C19', 'BHLHA15', 'COL20A1', 'DACH2', 'DNAH6', 'IFI44L', 'KIAA0748', 'PCDHA7', 'SPERT', 'CYP26B1', 'RTDR1', 'VWA3A', 'NRIP3', 'CIDEA', 'NQO1', 'LIMS3', 'ADAMTSL1', 'PRAC', 'SLCO1C1', 'CD84', 'GLI3', 'PYCR1', 'CDC6', 'ZNF521', 'CSF2', 'TMED7-TICAM2', 'BEGAIN', 'CYP46A1', 'GPR19', 'IQUB', 'CD209', 'IFNG', 'GAS2', 'SIGLEC15', 'WDR63', 'TRIP13', 'ELOVL7', 'LOC728264', 'SLAMF9', 'SHISA7', 'DERL3', 'PAQR6', 'SH2D2A', 'SEMA5A', 'KCNE1', 'CACNB2', 'ZNF556', 'HIST1H2BG', 'ATG9B', 'MPZL3', 'PCDHGA9', 'TMEM169', 'C4orf49', 'SYT2', 'CCND2', 'ECM1', 'CTAG1B', 'LOC400696', 'CSPG4', 'DAB1', 'LGALS9C', 'SI', 'RAB3C', 'OIP5', 'CAPN14', 'C2orf88', 'C5orf20', 'SUSD3', 'MYT1L', 'LRRC17', 'TAGLN', 'GNA14', 'SSTR2', 'MARK1', 'B3GNT8', 'PIF1', 'THRB', 'ZNF492', 'SEMA4G', 'AMZ1', 'SYT17', 'ABCD2', 'ZNF204P', 'LTBP2', 'EGR3', 'SOBP', 'HPCA', 'WDR62', 'TM4SF1', 'SLC22A6', 'GPER', 'TMCC2', 'LRRC66', 'RICH2', 'GRIP1', 'XCL1', 'NDC80', 'CDH23', 'NR4A3', 'ZNF677', 'DPF3', 'FOS', 'PLAC4', 'PSORS1C1', 'C14orf34', 'PPBP', 'CTAGE9', 'IPW', 'ZNF831', 'KIAA1210', 'SSC5D', 'PSG4', 'PLAT', 'VSIG4', 'GPR162', 'AMPD1', 'HLA-DQB1', 'ARHGAP28', 'FAM54A', 'CST7', 'SLC26A10', 'COL5A3', 'NUDT16P1', 'SELL', 'MST1', 'ZBBX', 'ITGA2B', 'PRKD1', 'HRNR', 'CD79B', 'CXCR1', 'CDCA5', 'IL31RA', 'ZNF418', 'C14orf50', 'TRNP1', 'TREM2', 'ATAD3C', 'ZNF541', 'FCGR1A', 'PABPC5', 'SCD', 'ITPR3', 'WNT6', 'HAPLN2', 'CCDC144A', 'KCNQ1', 'ACOT11', 'DSEL', 'PXDNL', 'CFHR3', 'PALM', 'GAS2L2', 'SGCG', 'EPHA4', 'OSMR', 'CD163', 'SMYD1', 'ITLN2', 'WNT5B', 'GMPR', 'FLJ23867', 'NEK10', 'PCDHB16', 'LOC388588', 'PLEKHH2', 'C7orf57', 'ULBP3', 'ROPN1', 'BTBD17', 'PARD3B', 'CDK1', 'CD40LG', 'KIAA0101', 'TMIE', 'USP44', 'HAAO', 'DUSP5P', 'HEY1', 'ABCG8', 'AQP7P1', 'ALDH1L2', 'LONRF3', 'NOV', 'WNT2B', 'APBB1IP', 'GPR68', 'MYO1G', 'TXLNB', 'GAMT', 'BMX', 'MLLT11', 'DBH', 'CAMK1G', 'IFNE', 'TNIK', 'SLC10A6', 'FOXC2', 'NOS1AP', 'RUNX3', 'EVC2', 'F2RL3', 'PCDH17', 'SPNS3', 'TNF', 'TAC3', 'DDAH1', 'TLR10', 'HRH2', 'A1BG', 'CABYR', 'KLF8', 'MOG', 'POU6F2', 'CXCR2', 'FOXN4', 'CITED4', 'GCNT2', 'GAS7', 'PDZD2', 'RPPH1', 'NAALADL2', 'PAX7', 'RBPMS2', 'COL16A1', 'MT1F', 'C10orf114', 'FAM72D', 'C13orf30', 'EGR4', 'C8orf73', 'AK7', 'PHACTR1', 'RHPN2', 'TMEM47', 'KIF26A', 'SCXB', 'PDE2A', 'STOX1', 'SLCO1B1', 'SEC14L5', 'CRNN', 'PCP2', 'BMP4', 'CTAG2', 'DISP2', 'PPP1R14A', 'DSC1', 'GAPT', 'HSD17B14', 'ADAMTS4', 'SYN3', 'C20orf85', 'CCDC60', 'PTGER1', 'HIST1H2AE', 'KLHDC9', 'IL2RB', 'MFSD2B', 'C18orf34', 'GCK', 'UNC13C', 'FOLH1B', 'SLC7A8', 'FAM171B', 'FASLG', 'KLHL30', 'CD163L1', 'PHLDB2', 'SYCP2L', 'CCRL1', 'PIRT', 'AEBP1', 'ITM2A', 'ADAM11', 'TMED6', 'TMTC1', 'GPRASP1', 'RAB6B', 'C9orf66', 'TGFBI', 'DNAJC5B', 'PDGFD', 'C12orf75', 'NDST3', 'PLA2G7', 'TBC1D10C', 'ABCA17P', 'CXCL12', 'DENND2A', 'C1QL2', 'C9orf24', 'CLVS1', 'CCL3L1', 'HSD17B3', 'EPHA8', 'LRRC36', 'FAM40B', 'CYP1A2', 'MACROD2', 'BEAN', 'GABRR1', 'MAP1A', 'ISLR2', 'SCN8A', 'PTTG1', 'BHLHE22', 'KLRC3', 'AKR1E2', 'PCDHB8', 'INE2', 'SLC12A5', 'FBN1', 'HAGHL', 'TRH', 'LLGL2', 'SSTR5', 'FGF17', 'GABRG1', 'TPBG', 'CORIN', 'KIAA1257', 'NCRNA00173', 'TMEM229A', 'SLC43A1', 'ACAP1', 'HSPA12A', 'RBM47', 'CDHR3', 'UPK3BL', 'CYP27A1', 'NTNG2', 'COX7A1', 'PMAIP1', 'LOC400759', 'LOC121838', 'COL6A2', 'TMEM156', 'DTL', 'GPR174', 'ATP2A3', 'GPR171', 'B3GNT5', 'TMEM150C', 'NOX5', 'KCNA5', 'FRZB', 'SLC25A27', 'TEPP', 'PCDHGB6', 'ABHD12B', 'MYCL1', 'KCNK17', 'WIPF3', 'DHCR24', 'TRPS1', 'BVES', 'PLEKHG4', 'ENDOU', 'MEI1', 'SLC23A3', 'FAM66D', 'TREML2', 'PTPRC', 'INPP4B', 'KCNB2', 'ITGAL', 'EPS8L2', 'NLRP6', 'CX3CL1', 'PARP15', 'FRRS1', 'CFD', 'KIAA0754', 'CLEC3A', 'CLIP3', 'DACT3', 'PPAPDC3', 'C5orf4', 'CD69', 'RAD51', 'RBM20', 'CCDC65', 'TMEM26', 'KCNN3', 'WDFY4', 'MYO5C', 'CD48', 'LCE3D', 'FAM72A', 'SYNPO2L', 'BOC', 'KISS1', 'RUFY4', 'HSPA4L', 'FBXO15', 'ENPP2', 'KCNS3', 'TGM2', 'PAR-SN', 'S100A3', 'FHL2', 'CLEC9A', 'MST4', 'CAMP', 'RANBP17', 'SOX17', 'PHGDH', 'CELSR2', 'ELAVL4', 'ROPN1L', 'WBSCR27', 'KCNQ4', 'CPLX1', 'CXXC4', 'NR5A2', 'FAM95B1', 'TLL2', 'SLC6A8', 'PBX1', 'ZNF423', 'PDZK1P1', 'PRKAR2B', 'LRMP', 'FAM90A1', 'AS3MT', 'EFHB', 'ZNF610', 'CRTAM', 'GPLD1', 'C1orf115', 'NCF1C', 'CAPN5', 'SEL1L3', 'RYR3', 'PCDHGA4', 'SLC17A2', 'C8orf42', 'HOXA2', 'KIF18A', 'GNAZ', 'SLC12A8', 'NGB', 'TM4SF20', 'CCL25', 'NR4A1', 'ZNF415', 'HRC', 'SERP2', 'NPHS1', 'LOC145820', 'LRRC16B', 'MAP1LC3C', 'SDC2', 'VIP', 'ACCN3', 'FAM65C', 'STON2', 'SPAG4', 'PRF1', 'ST6GALNAC3', 'CCDC150', 'C9orf171', 'SYTL2', 'BASP1', 'PCDHGA3', 'C13orf38', 'GJA5', 'JAM2', 'C21orf29', 'SLC5A11', 'HSPA2', 'MND1', 'C6orf186', 'MSTN', 'APOL4', 'TP53TG3B', 'DAZ1', 'LOXL1', 'FBXL21', 'PTPN7', 'ANK3', 'ADAM8', 'PPEF1', 'MYL9', 'XKR4', 'GLT8D2', 'DIAPH3', 'MXRA8', 'SECTM1', 'ARHGAP11B', 'C1orf190', 'NGF', 'CCDC154', 'TK1', 'CYR61', 'ELOVL3', 'SEC14L2', 'PEX5L', 'CTAGE4', 'TYMP', 'CCL2', 'FXYD7', 'CCL26', 'SLCO2A1', 'CAV1', 'KHDRBS2', 'LRRC48', 'SIGLEC1', 'MX2', 'KLRK1', 'CDKN2BAS', 'AOAH', 'EML6', 'OSTalpha', 'CDKL5', 'PURG', 'PCDHGA7', 'ENO2', 'NRAP', 'MDK', 'CAV2', 'C19orf45', 'TMEM233', 'GSTM2', 'CDKN2B', 'FPR1', 'FAT4', 'PIK3CG', 'DZIP1', 'CLCN4', 'CCL7', 'LOC644172', 'RLN2', 'CD1B', 'TSTD1', 'CSF3R', 'PCSK5', 'FSCN1', 'PABPC4L', 'CHIA', 'RBMS3', 'TSPAN5', 'LILRB4', 'KITLG', 'CECR6', 'LRP8', 'NPY5R', 'CABP4', 'C16orf54', 'LIMS3-LOC440895', 'TPPP3', 'RTN4RL2', 'TIFAB', 'OXTR', 'PCDHB9', 'TEKT1', 'STX1B', 'S100A6', 'EMID1', 'SYT11', 'SH3BGRL2', 'ZNF804A', 'PARK2', 'LDLR', 'ZNF454', 'TPSG1', 'ETNK2', 'KCNA2', 'PGF', 'EPDR1', 'RUNDC3B', 'ZNF662', 'ART5', 'BST2', 'KCNK12', 'TNNI3K', 'PLAUR', 'NEK5', 'BSN', 'KCNE3', 'PNMAL2', 'LOC100190938', 'GRM3', 'CAPN3', 'HCG22', 'RASGRP2', 'INSC', 'MCF2', 'BZRAP1', 'EPHX2', 'PTAFR', 'DNM1', 'TTC18', 'KCTD4', 'CCL24', 'FAM72B', 'CD6', 'C11orf82', 'MST1P2', 'FAM111B', 'TRY6', 'C14orf180', 'IL17RE', 'SLA2', 'KAAG1', 'MATN2', 'GNAL', 'C9orf167', 'ARHGEF37', 'SLC35D3', 'KCNJ5', 'LIME1', 'PRRT2', 'SH2D4A', 'PCA3', 'AXIN2', 'AGER', 'ASF1B', 'CMBL', 'RXFP1', 'SMPX', 'C2orf82', 'FAM177B', 'MMP8', 'LILRA5', 'GPR77', 'KIAA1239', 'TMPRSS5', 'AKR7L', 'NPFFR2', 'SLC16A5', 'SHCBP1', 'PCDHB3', 'KLRD1', 'MYL4', 'SLC18A3', 'TRIM46', 'ADAMTS20', 'FAM46C', 'HTR7', 'INS-IGF2', 'AFAP1L2', 'CYB5R2', 'SPATA17', 'P2RX2', 'LOC285733', 'TNFSF13B', 'ZNF469', 'SPHK1', 'LGI2', 'BTLA', 'LILRA6', 'FBLN7', 'NAT8B', 'TUBA3E', 'FCGR3A', 'ADAMTS3', 'AMICA1', 'CSRNP3', 'NLRP11', 'USP43', 'MAGEB2', 'KIAA0802', 'ATP1B1', 'KRT9', 'LPA', 'MCOLN2', 'HTR2B', 'SGMS2', 'TMEM151B', 'CCNE1', 'HFE2', 'ZNF215', 'RIBC2', 'C3orf14', 'LOC100188947', 'PIWIL2', 'PLCL1', 'FXYD4', 'NT5E', 'CD80', 'SPINK2', 'CENPV', 'TNFRSF12A', 'RGS13', 'RSPH9', 'CCDC141', 'FAM171A1', 'PLCE1', 'FAM179A', 'NDN', 'SLC2A10', 'CDCA3', 'ADAMTS5', 'MSR1', 'RAPGEF4', 'EMILIN1', 'HEY2', 'KIF21B', 'C10orf140', 'LZTS1', 'HMX1', 'TBC1D3C', 'ACTL6B', 'PMEPA1', 'PNPLA7', 'SLC16A6', 'PDE5A', 'STAG3', 'GBX2', 'HTRA4', 'SYNGR1', 'CD247', 'PRRG4', 'OXER1', 'PCDHA8', 'ADAM32', 'GRAP2', 'MESP2', 'CNTNAP5', 'SAMD3', 'CACNA1C', 'FILIP1', 'C10orf67', 'CCL4L2', 'FPR3', 'ARHGEF5', 'TRPC6', 'RGNEF', 'ITGAD', 'HRK', 'TLR7', 'CASZ1', 'STAB2', 'PHKG1', 'FOLR3', 'C1QTNF3', 'TMEM56', 'KHDC1L', 'STMN3', 'GLP1R', 'HTR2A', 'C12orf34', 'FLJ42709', 'EPSTI1', 'IL18', 'CCDC89', 'EDARADD', 'CHST5', 'MYO15B', 'STOX2', 'OR2A7', 'ZNF737', 'GUCY1A3', 'DCC', 'GPR97', 'GCNT4', 'MAPK8IP1', 'RNF175', 'POMC', 'PROS1', 'TMOD1', 'ADAMTSL4', 'CHRFAM7A', 'CXorf49B', 'VWC2', 'AURKA', 'OR2A4', 'EXPH5', 'C16orf45', 'GFI1', 'ACTA2', 'KLHL38', 'C1orf135', 'SLC24A4', 'HERC2P4', 'ZNF853', 'RDM1', 'FOLR2', 'AIFM3', 'HES5', 'ZNF154', 'C18orf16', 'SPRR2C', 'ZSWIM5', 'C4orf47', 'NOXO1', 'CAMK4', 'DMD', 'LANCL3', 'S100A5', 'NES', 'PRG2', 'WWC1', 'PTPLA', 'DUSP13', 'CENPW', 'GZMM', 'NUPR1', 'RAB11FIP1', 'LRIG1', 'LECT1', 'OSM', 'ZIK1', 'LPAR5', 'SCRT1', 'BCL2', 'AGBL4', 'LRTM2', 'EGR2', 'TSPAN13', 'TPTE2P1', 'SPN', 'RPLP0P2', 'PLA2G16', 'SLC14A2', 'CDC20B', 'ARHGEF19', 'ZNF860', 'C1orf230', 'VPREB3', 'NETO2', 'ALOX5', 'LRRC43', 'CCDC67', 'LRRC24', 'DTX1', 'SHE', 'C10orf72', 'KAZALD1', 'SLC4A1', 'FAM65B', 'GPR116', 'S100A4', 'WNT10B', 'C1orf133', 'CRYGN', 'HPGDS', 'RNASE2', 'CES8', 'CADM4', 'KCNMB1', 'CCR8', 'FRMD6', 'AGAP11', 'FOXP3', 'HAPLN3', 'MYLK', 'TYR', 'NHSL2', 'NOD2', 'TRPM5', 'AG2', 'CLDN5', 'KCNMB4', 'STAP2', 'C1orf150', 'IL4I1', 'SSX1', 'BGN', 'FAR2', 'CDT1', 'TNFSF14', 'RCAN2', 'SPEF2', 'FHAD1', 'SATB2', 'RPTN', 'AVPR2', 'SLC16A3', 'ST3GAL5', 'HIST1H3D', 'GGT8P', 'CPNE5', 'PTGS1', 'B3GALT1', 'C9orf98', 'LYG1', 'ABCC4', 'UPP2', 'DUSP1', 'GPX8', 'C1R', 'TNFRSF6B', 'RGAG4', 'ALPK3', 'BTNL3', 'RMRP', 'ISG15', 'NXPH2', 'C12orf68', 'LDLRAD3', 'AACSL', 'AMY2B', 'CMAH', 'MAP3K15', 'APOL1', 'TUBB2A', 'FLJ22536', 'PTPRCAP', 'IL20', 'P2RY8', 'SLC45A1', 'ABLIM2', 'RGS1', 'C5orf27', 'CCDC74A', 'PRSS27', 'TMEM132A', 'ATP10A', 'PDCD1LG2', 'CDH7', 'GPR120', 'RGS17', 'CNIH3', 'KEL', 'LOC100133545', 'CENPK', 'GVIN1', 'SLC2A12', 'KIF11', 'GPR83', 'ZNF280A', 'THBD', 'ME1', 'PCDHB4', 'RAB36', 'LOC100128239', 'EDA', 'AMOT', 'C7orf10', 'HS3ST1', 'HLA-DOA', 'EMCN', 'GPRIN3', 'PRDM6', 'LOC388387', 'CCL23', 'PRICKLE1', 'CBFA2T3', 'CTGF', 'DKK3', 'ECM2', 'HMGA1', 'SLAMF8', 'LDLRAD1', 'SIGLEC11', 'FCGR2C', 'ORC6L', 'WFDC12', 'BRCA2', 'TNFRSF10C', 'SNTB1', 'C10orf95', 'NUSAP1', 'NCF1', 'TSPAN18', 'CCR5', 'C1QB', 'CA11', 'FAM26F', 'SLC5A7', 'GSTM3', 'MYH6', 'ITGA7', 'ZPLD1', 'MCF2L2', 'CD274', 'FAM92B', 'CAND2', 'PVRL1', 'SERINC5', 'SPACA4', 'LINGO3', 'WDR69', 'EDNRA', 'EBF4', 'IFI6', 'GCET2', 'VASH2', 'A4GALT', 'EFCAB6', 'ABCG5', 'METTL7A', 'FAM129A', 'C8orf48', 'CDK5R1', 'FAM81A', 'C13orf18', 'GDPD3', 'SMAGP', 'C2orf85', 'POU5F1B', 'CHST2']\n"
     ]
    }
   ],
   "source": [
    "gene_expression=rnaseq_df.columns.tolist()\n",
    "print(gene_expression)"
   ]
  },
  {
   "cell_type": "markdown",
   "metadata": {},
   "source": [
    "### Variables e hiperparámetros"
   ]
  },
  {
   "cell_type": "code",
   "execution_count": 11,
   "metadata": {},
   "outputs": [
    {
     "name": "stdout",
     "output_type": "stream",
     "text": [
      "WARNING:tensorflow:From C:\\Users\\angel\\Anaconda3\\lib\\site-packages\\tensorflow\\python\\framework\\op_def_library.py:263: colocate_with (from tensorflow.python.framework.ops) is deprecated and will be removed in a future version.\n",
      "Instructions for updating:\n",
      "Colocations handled automatically by placer.\n"
     ]
    }
   ],
   "source": [
    "original_dim=rnaseq_df.shape[1]\n",
    "latent_dim = 100\n",
    "\n",
    "batch_size=50\n",
    "epochs = 50\n",
    "learning_rate=0.0005\n",
    "\n",
    "beta = K.variable(0)\n",
    "kappa = 1\n",
    "epsilon_std = 1.0"
   ]
  },
  {
   "cell_type": "markdown",
   "metadata": {},
   "source": [
    "### Encoder"
   ]
  },
  {
   "cell_type": "markdown",
   "metadata": {},
   "source": [
    "Incluyendo **batch_normalization** han encontrado que se entrena más rápido y además con una activación de caraterísticas más heterogenea, batch_normalization añade una regulación de características escalando la activación a media=0 y varianza=1.Es como un método para normalizar los inputs de cada capa. "
   ]
  },
  {
   "cell_type": "code",
   "execution_count": 16,
   "metadata": {},
   "outputs": [],
   "source": [
    "##Creamos la capa de entrada\n",
    "inputs = Input(shape=(original_dim,),name='encoder_input')\n",
    "##Creamos capa intermedia\n",
    "x_encoder = Dense(latent_dim, activation='relu',kernel_initializer='glorot_uniform')(inputs)\n",
    "##Creamos dos capas de salida,media y log_desviacion(se usa en lugar de la estándar)\n",
    "z_mean_encoded = BatchNormalization()(x_encoder)\n",
    "log_desviacion = BatchNormalization()(x_encoder)"
   ]
  },
  {
   "cell_type": "markdown",
   "metadata": {},
   "source": [
    "### Decoder"
   ]
  },
  {
   "cell_type": "code",
   "execution_count": 17,
   "metadata": {},
   "outputs": [],
   "source": [
    "##Creamos capa de entrada del decodificador\n",
    "latent_vector = Input(shape=(latent_dim,), name='latent_vector')\n",
    "outputs = Dense(original_dim,kernel_initializer='glorot_uniform',activation='sigmoid')(latent_vector)"
   ]
  },
  {
   "cell_type": "markdown",
   "metadata": {},
   "source": [
    "### Latent vector"
   ]
  },
  {
   "cell_type": "code",
   "execution_count": 20,
   "metadata": {},
   "outputs": [],
   "source": [
    "def sampler(args):\n",
    "    z_mean, z_log = args\n",
    "    batch = K.shape(z_mean)[0]\n",
    "    dim = K.int_shape(z_mean)[1]\n",
    "    # mean and log of variance of Q(z|X)\n",
    "    # we sample from the standard normal a matrix of batch_size * latent_size (taking into account minibatches)\n",
    "    epsilon = K.random_normal(shape=(batch,dim))# by default, random_normal has mean=0 and std=1.0\n",
    "    # sampling from Z~N(μ, σ^2) is the same as sampling from μ + σX, X~N(0,1)\n",
    "    return z_mean + K.exp(0.5 * z_log) * epsilon\n",
    "  \n",
    "z = Lambda(sampler)([z_mean_encoded, log_desviacion])"
   ]
  },
  {
   "cell_type": "markdown",
   "metadata": {},
   "source": [
    "### Compilación de modelos-VAE"
   ]
  },
  {
   "cell_type": "code",
   "execution_count": 22,
   "metadata": {},
   "outputs": [
    {
     "name": "stdout",
     "output_type": "stream",
     "text": [
      "Model: \"encoder\"\n",
      "__________________________________________________________________________________________________\n",
      "Layer (type)                    Output Shape         Param #     Connected to                     \n",
      "==================================================================================================\n",
      "encoder_input (InputLayer)      (None, 5000)         0                                            \n",
      "__________________________________________________________________________________________________\n",
      "dense_4 (Dense)                 (None, 100)          500100      encoder_input[0][0]              \n",
      "__________________________________________________________________________________________________\n",
      "batch_normalization_4 (BatchNor (None, 100)          400         dense_4[0][0]                    \n",
      "__________________________________________________________________________________________________\n",
      "batch_normalization_5 (BatchNor (None, 100)          400         dense_4[0][0]                    \n",
      "__________________________________________________________________________________________________\n",
      "lambda_3 (Lambda)               (None, 100)          0           batch_normalization_4[0][0]      \n",
      "                                                                 batch_normalization_5[0][0]      \n",
      "==================================================================================================\n",
      "Total params: 500,900\n",
      "Trainable params: 500,500\n",
      "Non-trainable params: 400\n",
      "__________________________________________________________________________________________________\n",
      "Model: \"decoder\"\n",
      "_________________________________________________________________\n",
      "Layer (type)                 Output Shape              Param #   \n",
      "=================================================================\n",
      "latent_vector (InputLayer)   (None, 100)               0         \n",
      "_________________________________________________________________\n",
      "dense_5 (Dense)              (None, 5000)              505000    \n",
      "=================================================================\n",
      "Total params: 505,000\n",
      "Trainable params: 505,000\n",
      "Non-trainable params: 0\n",
      "_________________________________________________________________\n"
     ]
    }
   ],
   "source": [
    "##Instanciamos el encoder\n",
    "encoder = Model(inputs,[z_mean_encoded, log_desviacion,z],name='encoder')\n",
    "encoder.summary()\n",
    "##Instanciamos el decoder\n",
    "decoder = Model(latent_vector,outputs,name='decoder')\n",
    "decoder.summary()"
   ]
  },
  {
   "cell_type": "markdown",
   "metadata": {},
   "source": [
    "En este ejemplo no incluimos:\n",
    "\n",
    "El **CustomVariationalLayer()** incluye la función de pérdida VAE (reconstruction + (beta * KL)), que es lo que impulsará a nuestro modelo a aprender una representación interpretable del espacio de expresión génica.\n",
    "\n",
    "El VAE compilado con un optimizador Adam y una función de pérdida personalizada incorporada. El parámetro loss_weights garantiza que la versión beta se actualice en cada devolución de llamada de final de época"
   ]
  },
  {
   "cell_type": "code",
   "execution_count": 39,
   "metadata": {},
   "outputs": [
    {
     "name": "stdout",
     "output_type": "stream",
     "text": [
      "Model: \"vae\"\n",
      "_________________________________________________________________\n",
      "Layer (type)                 Output Shape              Param #   \n",
      "=================================================================\n",
      "encoder_input (InputLayer)   (None, 5000)              0         \n",
      "_________________________________________________________________\n",
      "encoder (Model)              [(None, 100), (None, 100) 500900    \n",
      "_________________________________________________________________\n",
      "decoder (Model)              (None, 5000)              505000    \n",
      "=================================================================\n",
      "Total params: 1,005,900\n",
      "Trainable params: 1,005,500\n",
      "Non-trainable params: 400\n",
      "_________________________________________________________________\n"
     ]
    }
   ],
   "source": [
    "##Creamos el modelo final\n",
    "outputs_final= decoder(encoder(inputs)[2])\n",
    "vae = Model(inputs,outputs_final,name='vae')\n",
    "vae.compile(optimizer='adam', loss=vae_loss, loss_weights=[beta])\n",
    "vae.summary()"
   ]
  },
  {
   "cell_type": "markdown",
   "metadata": {},
   "source": [
    "### VAE loss"
   ]
  },
  {
   "cell_type": "code",
   "execution_count": 40,
   "metadata": {},
   "outputs": [],
   "source": [
    "def vae_loss(inputs, outputs):\n",
    "    reconstruction_loss = K.sum(K.square(outputs-inputs))\n",
    "    kl_loss = - 0.5 * K.mean(1 + log_desviacion - K.square(z_mean_encoded) - K.exp(log_desviacion), axis=-1)\n",
    "    total_loss = K.mean(reconstruction_loss + kl_loss)    \n",
    "    return total_loss"
   ]
  },
  {
   "cell_type": "markdown",
   "metadata": {},
   "source": [
    "### Entrenamiento"
   ]
  },
  {
   "cell_type": "code",
   "execution_count": 41,
   "metadata": {},
   "outputs": [
    {
     "name": "stdout",
     "output_type": "stream",
     "text": [
      "WARNING:tensorflow:From C:\\Users\\angel\\Anaconda3\\lib\\site-packages\\tensorflow\\python\\ops\\math_ops.py:3066: to_int32 (from tensorflow.python.ops.math_ops) is deprecated and will be removed in a future version.\n",
      "Instructions for updating:\n",
      "Use tf.cast instead.\n",
      "Train on 8890 samples, validate on 1569 samples\n",
      "Epoch 1/50\n",
      "8890/8890 [==============================] - 12s 1ms/step - loss: 0.0000e+00 - val_loss: 0.0000e+00\n",
      "Epoch 2/50\n",
      "8890/8890 [==============================] - 9s 1ms/step - loss: 0.0000e+00 - val_loss: 0.0000e+00\n",
      "Epoch 3/50\n",
      "8890/8890 [==============================] - 9s 1ms/step - loss: 0.0000e+00 - val_loss: 0.0000e+00\n",
      "Epoch 4/50\n",
      "8890/8890 [==============================] - 9s 1ms/step - loss: 0.0000e+00 - val_loss: 0.0000e+00\n",
      "Epoch 5/50\n",
      "8890/8890 [==============================] - 9s 1ms/step - loss: 0.0000e+00 - val_loss: 0.0000e+00\n",
      "Epoch 6/50\n",
      "8890/8890 [==============================] - 9s 1ms/step - loss: 0.0000e+00 - val_loss: 0.0000e+00\n",
      "Epoch 7/50\n",
      "8890/8890 [==============================] - 9s 1ms/step - loss: 0.0000e+00 - val_loss: 0.0000e+00\n",
      "Epoch 8/50\n",
      "8890/8890 [==============================] - 9s 1ms/step - loss: 0.0000e+00 - val_loss: 0.0000e+00\n",
      "Epoch 9/50\n",
      "8890/8890 [==============================] - 9s 1ms/step - loss: 0.0000e+00 - val_loss: 0.0000e+00\n",
      "Epoch 10/50\n",
      "8890/8890 [==============================] - 9s 1ms/step - loss: 0.0000e+00 - val_loss: 0.0000e+00\n",
      "Epoch 11/50\n",
      "8890/8890 [==============================] - 9s 1ms/step - loss: 0.0000e+00 - val_loss: 0.0000e+00\n",
      "Epoch 12/50\n",
      "8890/8890 [==============================] - 9s 1ms/step - loss: 0.0000e+00 - val_loss: 0.0000e+00\n",
      "Epoch 13/50\n",
      "8890/8890 [==============================] - 9s 1ms/step - loss: 0.0000e+00 - val_loss: 0.0000e+00\n",
      "Epoch 14/50\n",
      "8890/8890 [==============================] - 9s 1ms/step - loss: 0.0000e+00 - val_loss: 0.0000e+00\n",
      "Epoch 15/50\n",
      "8890/8890 [==============================] - 9s 1ms/step - loss: 0.0000e+00 - val_loss: 0.0000e+00\n",
      "Epoch 16/50\n",
      "8890/8890 [==============================] - 9s 1ms/step - loss: 0.0000e+00 - val_loss: 0.0000e+00\n",
      "Epoch 17/50\n",
      "8890/8890 [==============================] - 9s 1ms/step - loss: 0.0000e+00 - val_loss: 0.0000e+00\n",
      "Epoch 18/50\n",
      "8890/8890 [==============================] - 9s 1ms/step - loss: 0.0000e+00 - val_loss: 0.0000e+00\n",
      "Epoch 19/50\n",
      "8890/8890 [==============================] - 9s 1ms/step - loss: 0.0000e+00 - val_loss: 0.0000e+00\n",
      "Epoch 20/50\n",
      "8890/8890 [==============================] - 9s 1ms/step - loss: 0.0000e+00 - val_loss: 0.0000e+00\n",
      "Epoch 21/50\n",
      "8890/8890 [==============================] - 9s 1ms/step - loss: 0.0000e+00 - val_loss: 0.0000e+00\n",
      "Epoch 22/50\n",
      "8890/8890 [==============================] - 9s 1ms/step - loss: 0.0000e+00 - val_loss: 0.0000e+00\n",
      "Epoch 23/50\n",
      "8890/8890 [==============================] - 9s 1ms/step - loss: 0.0000e+00 - val_loss: 0.0000e+00\n",
      "Epoch 24/50\n",
      "8890/8890 [==============================] - 9s 1ms/step - loss: 0.0000e+00 - val_loss: 0.0000e+00\n",
      "Epoch 25/50\n",
      "8890/8890 [==============================] - 9s 1ms/step - loss: 0.0000e+00 - val_loss: 0.0000e+00\n",
      "Epoch 26/50\n",
      "8890/8890 [==============================] - 9s 1ms/step - loss: 0.0000e+00 - val_loss: 0.0000e+00\n",
      "Epoch 27/50\n",
      "8890/8890 [==============================] - 9s 1ms/step - loss: 0.0000e+00 - val_loss: 0.0000e+00\n",
      "Epoch 28/50\n",
      "8890/8890 [==============================] - 9s 1ms/step - loss: 0.0000e+00 - val_loss: 0.0000e+00\n",
      "Epoch 29/50\n",
      "8890/8890 [==============================] - 9s 1ms/step - loss: 0.0000e+00 - val_loss: 0.0000e+00\n",
      "Epoch 30/50\n",
      "8890/8890 [==============================] - 9s 1ms/step - loss: 0.0000e+00 - val_loss: 0.0000e+00\n",
      "Epoch 31/50\n",
      "8890/8890 [==============================] - 9s 1ms/step - loss: 0.0000e+00 - val_loss: 0.0000e+00\n",
      "Epoch 32/50\n",
      "8890/8890 [==============================] - 9s 1ms/step - loss: 0.0000e+00 - val_loss: 0.0000e+00\n",
      "Epoch 33/50\n",
      "8890/8890 [==============================] - 9s 1ms/step - loss: 0.0000e+00 - val_loss: 0.0000e+00\n",
      "Epoch 34/50\n",
      "8890/8890 [==============================] - 9s 1ms/step - loss: 0.0000e+00 - val_loss: 0.0000e+00\n",
      "Epoch 35/50\n",
      "8890/8890 [==============================] - 9s 1ms/step - loss: 0.0000e+00 - val_loss: 0.0000e+00\n",
      "Epoch 36/50\n",
      "8890/8890 [==============================] - 9s 1ms/step - loss: 0.0000e+00 - val_loss: 0.0000e+00\n",
      "Epoch 37/50\n",
      "8890/8890 [==============================] - 9s 1ms/step - loss: 0.0000e+00 - val_loss: 0.0000e+00\n",
      "Epoch 38/50\n",
      "8890/8890 [==============================] - 9s 1ms/step - loss: 0.0000e+00 - val_loss: 0.0000e+00\n",
      "Epoch 39/50\n",
      "8890/8890 [==============================] - 9s 1ms/step - loss: 0.0000e+00 - val_loss: 0.0000e+00\n",
      "Epoch 40/50\n",
      "8890/8890 [==============================] - 9s 1ms/step - loss: 0.0000e+00 - val_loss: 0.0000e+00\n",
      "Epoch 41/50\n",
      "8890/8890 [==============================] - 9s 1ms/step - loss: 0.0000e+00 - val_loss: 0.0000e+00\n",
      "Epoch 42/50\n",
      "8890/8890 [==============================] - 9s 1ms/step - loss: 0.0000e+00 - val_loss: 0.0000e+00\n",
      "Epoch 43/50\n",
      "8890/8890 [==============================] - 9s 1ms/step - loss: 0.0000e+00 - val_loss: 0.0000e+00\n",
      "Epoch 44/50\n",
      "8890/8890 [==============================] - 9s 1ms/step - loss: 0.0000e+00 - val_loss: 0.0000e+00\n",
      "Epoch 45/50\n",
      "8890/8890 [==============================] - 9s 1ms/step - loss: 0.0000e+00 - val_loss: 0.0000e+00\n",
      "Epoch 46/50\n",
      "8890/8890 [==============================] - 9s 1ms/step - loss: 0.0000e+00 - val_loss: 0.0000e+00\n",
      "Epoch 47/50\n",
      "8890/8890 [==============================] - 9s 1ms/step - loss: 0.0000e+00 - val_loss: 0.0000e+00\n",
      "Epoch 48/50\n",
      "8890/8890 [==============================] - 9s 1ms/step - loss: 0.0000e+00 - val_loss: 0.0000e+00\n",
      "Epoch 49/50\n",
      "8890/8890 [==============================] - 9s 1ms/step - loss: 0.0000e+00 - val_loss: 0.0000e+00\n",
      "Epoch 50/50\n",
      "8890/8890 [==============================] - 9s 1ms/step - loss: 0.0000e+00 - val_loss: 0.0000e+00\n"
     ]
    },
    {
     "data": {
      "text/plain": [
       "<keras.callbacks.History at 0x2479e6b84e0>"
      ]
     },
     "execution_count": 41,
     "metadata": {},
     "output_type": "execute_result"
    }
   ],
   "source": [
    "vae.fit(rnaseq_train_df,\n",
    "        rnaseq_train_df,\n",
    "        shuffle=True,\n",
    "        epochs=epochs,\n",
    "        batch_size=batch_size,\n",
    "        validation_data=(rnaseq_test_df,rnaseq_test_df))\n"
   ]
  },
  {
   "cell_type": "markdown",
   "metadata": {},
   "source": [
    "### Reconstrucción"
   ]
  },
  {
   "cell_type": "code",
   "execution_count": 57,
   "metadata": {},
   "outputs": [
    {
     "data": {
      "text/html": [
       "<div>\n",
       "<style scoped>\n",
       "    .dataframe tbody tr th:only-of-type {\n",
       "        vertical-align: middle;\n",
       "    }\n",
       "\n",
       "    .dataframe tbody tr th {\n",
       "        vertical-align: top;\n",
       "    }\n",
       "\n",
       "    .dataframe thead th {\n",
       "        text-align: right;\n",
       "    }\n",
       "</style>\n",
       "<table border=\"1\" class=\"dataframe\">\n",
       "  <thead>\n",
       "    <tr style=\"text-align: right;\">\n",
       "      <th></th>\n",
       "      <th>RPS4Y1</th>\n",
       "      <th>XIST</th>\n",
       "      <th>KRT5</th>\n",
       "      <th>AGR2</th>\n",
       "      <th>CEACAM5</th>\n",
       "      <th>KRT6A</th>\n",
       "      <th>KRT14</th>\n",
       "      <th>CEACAM6</th>\n",
       "      <th>DDX3Y</th>\n",
       "      <th>KDM5D</th>\n",
       "      <th>...</th>\n",
       "      <th>FAM129A</th>\n",
       "      <th>C8orf48</th>\n",
       "      <th>CDK5R1</th>\n",
       "      <th>FAM81A</th>\n",
       "      <th>C13orf18</th>\n",
       "      <th>GDPD3</th>\n",
       "      <th>SMAGP</th>\n",
       "      <th>C2orf85</th>\n",
       "      <th>POU5F1B</th>\n",
       "      <th>CHST2</th>\n",
       "    </tr>\n",
       "  </thead>\n",
       "  <tbody>\n",
       "    <tr>\n",
       "      <th>TCGA-02-0047-01</th>\n",
       "      <td>0.494333</td>\n",
       "      <td>0.415199</td>\n",
       "      <td>0.517435</td>\n",
       "      <td>0.505923</td>\n",
       "      <td>0.415287</td>\n",
       "      <td>0.554540</td>\n",
       "      <td>0.464486</td>\n",
       "      <td>0.502964</td>\n",
       "      <td>0.603659</td>\n",
       "      <td>0.558587</td>\n",
       "      <td>...</td>\n",
       "      <td>0.487442</td>\n",
       "      <td>0.551457</td>\n",
       "      <td>0.527629</td>\n",
       "      <td>0.475395</td>\n",
       "      <td>0.601340</td>\n",
       "      <td>0.531287</td>\n",
       "      <td>0.474413</td>\n",
       "      <td>0.471939</td>\n",
       "      <td>0.473112</td>\n",
       "      <td>0.549920</td>\n",
       "    </tr>\n",
       "    <tr>\n",
       "      <th>TCGA-02-0055-01</th>\n",
       "      <td>0.473873</td>\n",
       "      <td>0.447998</td>\n",
       "      <td>0.535658</td>\n",
       "      <td>0.589215</td>\n",
       "      <td>0.441431</td>\n",
       "      <td>0.504417</td>\n",
       "      <td>0.531021</td>\n",
       "      <td>0.537004</td>\n",
       "      <td>0.545304</td>\n",
       "      <td>0.563314</td>\n",
       "      <td>...</td>\n",
       "      <td>0.513838</td>\n",
       "      <td>0.503204</td>\n",
       "      <td>0.479907</td>\n",
       "      <td>0.500441</td>\n",
       "      <td>0.505613</td>\n",
       "      <td>0.521935</td>\n",
       "      <td>0.488860</td>\n",
       "      <td>0.532566</td>\n",
       "      <td>0.502805</td>\n",
       "      <td>0.530295</td>\n",
       "    </tr>\n",
       "  </tbody>\n",
       "</table>\n",
       "<p>2 rows × 5000 columns</p>\n",
       "</div>"
      ],
      "text/plain": [
       "                   RPS4Y1      XIST      KRT5      AGR2   CEACAM5     KRT6A  \\\n",
       "TCGA-02-0047-01  0.494333  0.415199  0.517435  0.505923  0.415287  0.554540   \n",
       "TCGA-02-0055-01  0.473873  0.447998  0.535658  0.589215  0.441431  0.504417   \n",
       "\n",
       "                    KRT14   CEACAM6     DDX3Y     KDM5D    ...      FAM129A  \\\n",
       "TCGA-02-0047-01  0.464486  0.502964  0.603659  0.558587    ...     0.487442   \n",
       "TCGA-02-0055-01  0.531021  0.537004  0.545304  0.563314    ...     0.513838   \n",
       "\n",
       "                  C8orf48    CDK5R1    FAM81A  C13orf18     GDPD3     SMAGP  \\\n",
       "TCGA-02-0047-01  0.551457  0.527629  0.475395  0.601340  0.531287  0.474413   \n",
       "TCGA-02-0055-01  0.503204  0.479907  0.500441  0.505613  0.521935  0.488860   \n",
       "\n",
       "                  C2orf85   POU5F1B     CHST2  \n",
       "TCGA-02-0047-01  0.471939  0.473112  0.549920  \n",
       "TCGA-02-0055-01  0.532566  0.502805  0.530295  \n",
       "\n",
       "[2 rows x 5000 columns]"
      ]
     },
     "execution_count": 57,
     "metadata": {},
     "output_type": "execute_result"
    }
   ],
   "source": [
    "# How well does the model reconstruct the input RNAseq data\n",
    "encoder = Model(inputs, z_mean_encoded)\n",
    "encoded_rnaseq_df = encoder.predict_on_batch(rnaseq_df)\n",
    "input_rnaseq_reconstruct = decoder.predict(np.array(encoded_rnaseq_df))\n",
    "input_rnaseq_reconstruct = pd.DataFrame(input_rnaseq_reconstruct, index=rnaseq_df.index,\n",
    "                                        columns=rnaseq_df.columns)\n",
    "input_rnaseq_reconstruct.head(2)"
   ]
  },
  {
   "cell_type": "code",
   "execution_count": null,
   "metadata": {},
   "outputs": [],
   "source": []
  }
 ],
 "metadata": {
  "kernelspec": {
   "display_name": "Python 3",
   "language": "python",
   "name": "python3"
  },
  "language_info": {
   "codemirror_mode": {
    "name": "ipython",
    "version": 3
   },
   "file_extension": ".py",
   "mimetype": "text/x-python",
   "name": "python",
   "nbconvert_exporter": "python",
   "pygments_lexer": "ipython3",
   "version": "3.7.1"
  }
 },
 "nbformat": 4,
 "nbformat_minor": 2
}
