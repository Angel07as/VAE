{
 "cells": [
  {
   "cell_type": "markdown",
   "metadata": {},
   "source": [
    "## Autoencoder VAE Versión 2.\n",
    "\n",
    "Al comprimir el espacio de expresión génica en un espacio de dimensión inferior, el VAE, idealmente, aprendería principios biológicos, como las activaciones de la vía del cáncer, que ayudan a explicar cómo los tumores son similares y diferentes. El VAE también es un modelo generativo con un espacio latente que se puede interpolar para observar transiciones entre estados de cáncer.\n",
    "\n",
    "Esta versión incluye numerosas variaciones si lo comparamos con el autoencoder que realicé para la obtención de valores manuscritos. \n",
    "Utiliza en el encoder:\n",
    "- **batch_normalization:** han encontrado que se entrena más rápido y además con una activación de caraterísticas más heterogenea, batch_normalization añade una regulación de características escalando la activación a media=0 y varianza=1.Es como un método para normalizar los inputs de cada capa.\n",
    "- **glorot uniform:** todos los pesos comienza inicializados a través de glorot uniform, de esta manera se pretende mantener la varianza similar a lo largo de todas las capas.\n",
    "Funciones de pérdida:\n",
    "- **Beta:** se incluye un parámetro beta que controla la contribución de la KL divergence en la VAE loss total conforme avanzan las epochs. Tras un estudio se demostró que kappa tiene un muy pequeña influencia en el entrenamiento, por tanto se usa k=1(kappa).\n",
    "- **WarmUpCallBack:** una función para ver como como afecta las funciones de pérdida a la reconstrucción.\n",
    "- **TQDM:** es una librería para estudiar el progreso de las barras durante el entrenamiento.\n",
    "\n",
    "#### Datos\n",
    "Tenemos características genómicas de mil tumores tomadas de 33 tipos diferentes de cáncer.\n",
    "- **5000 Variables(features)->genes expresados-protein coding.**\n",
    "- **10459 Observaciones -> gene expression para 10459 tumores (Escogidos entre los más irregulares y variables a través de la MAD).**\n",
    "\n",
    "#### Entrenamiento\n",
    "- Optimizador -> adam\n",
    "- Encoding->rectified linear units and batch normalization.\n",
    "- Decoding->sigmoid activation.\n"
   ]
  },
  {
   "cell_type": "markdown",
   "metadata": {},
   "source": [
    "### Importaciones"
   ]
  },
  {
   "cell_type": "markdown",
   "metadata": {},
   "source": [
    "Como importaciones tenemos las herramientas que necesitamos para crear las redes neuronales y llevar a cabo la experimentación."
   ]
  },
  {
   "cell_type": "code",
   "execution_count": 1,
   "metadata": {},
   "outputs": [
    {
     "name": "stderr",
     "output_type": "stream",
     "text": [
      "Using TensorFlow backend.\n"
     ]
    }
   ],
   "source": [
    "import os\n",
    "import numpy as np\n",
    "import matplotlib.pyplot as plt\n",
    "from scipy.stats import norm\n",
    "import tensorflow as tf\n",
    "\n",
    "from keras import backend as K\n",
    "from keras.layers import (Input, InputLayer, Dense, Lambda, Layer, Add, Multiply)\n",
    "from keras.models import Model, Sequential\n",
    "from keras.utils import plot_model\n",
    "from keras.callbacks import Callback\n",
    "from keras import metrics,optimizers\n",
    "import seaborn as sns\n",
    "import keras\n",
    "\n",
    "import pandas as pd\n",
    "from matplotlib.ticker import FormatStrFormatter\n",
    "from keras.utils.vis_utils import model_to_dot, plot_model\n",
    "from keras.layers.normalization import BatchNormalization\n",
    "from keras_tqdm import TQDMNotebookCallback\n",
    "from IPython.display import SVG"
   ]
  },
  {
   "cell_type": "markdown",
   "metadata": {},
   "source": [
    "### Versiones"
   ]
  },
  {
   "cell_type": "code",
   "execution_count": 2,
   "metadata": {},
   "outputs": [
    {
     "name": "stdout",
     "output_type": "stream",
     "text": [
      "2.2.4\n"
     ]
    },
    {
     "data": {
      "text/plain": [
       "'1.13.0-rc2'"
      ]
     },
     "execution_count": 2,
     "metadata": {},
     "output_type": "execute_result"
    }
   ],
   "source": [
    "print(keras.__version__)\n",
    "tf.__version__"
   ]
  },
  {
   "cell_type": "markdown",
   "metadata": {},
   "source": [
    "### Cargamos los datos"
   ]
  },
  {
   "cell_type": "markdown",
   "metadata": {},
   "source": [
    "Como hemos comentado tenemos observaciones con los genes mayormente expresados(5000) de 10459 tumores."
   ]
  },
  {
   "cell_type": "code",
   "execution_count": 3,
   "metadata": {},
   "outputs": [],
   "source": [
    "#rnaseq_file = os.path.join('data', 'pancan_scaled_zeroone_rnaseq.tsv')\n",
    "rnaseq_df = pd.read_csv('pancan_scaled_zeroone_rnaseq.tsv.gz',sep='\\t', index_col=0)"
   ]
  },
  {
   "cell_type": "code",
   "execution_count": 4,
   "metadata": {},
   "outputs": [
    {
     "name": "stdout",
     "output_type": "stream",
     "text": [
      "(10459, 5000)\n"
     ]
    },
    {
     "data": {
      "text/html": [
       "<div>\n",
       "<style scoped>\n",
       "    .dataframe tbody tr th:only-of-type {\n",
       "        vertical-align: middle;\n",
       "    }\n",
       "\n",
       "    .dataframe tbody tr th {\n",
       "        vertical-align: top;\n",
       "    }\n",
       "\n",
       "    .dataframe thead th {\n",
       "        text-align: right;\n",
       "    }\n",
       "</style>\n",
       "<table border=\"1\" class=\"dataframe\">\n",
       "  <thead>\n",
       "    <tr style=\"text-align: right;\">\n",
       "      <th></th>\n",
       "      <th>RPS4Y1</th>\n",
       "      <th>XIST</th>\n",
       "      <th>KRT5</th>\n",
       "      <th>AGR2</th>\n",
       "      <th>CEACAM5</th>\n",
       "      <th>KRT6A</th>\n",
       "      <th>KRT14</th>\n",
       "      <th>CEACAM6</th>\n",
       "      <th>DDX3Y</th>\n",
       "      <th>KDM5D</th>\n",
       "      <th>...</th>\n",
       "      <th>FAM129A</th>\n",
       "      <th>C8orf48</th>\n",
       "      <th>CDK5R1</th>\n",
       "      <th>FAM81A</th>\n",
       "      <th>C13orf18</th>\n",
       "      <th>GDPD3</th>\n",
       "      <th>SMAGP</th>\n",
       "      <th>C2orf85</th>\n",
       "      <th>POU5F1B</th>\n",
       "      <th>CHST2</th>\n",
       "    </tr>\n",
       "  </thead>\n",
       "  <tbody>\n",
       "    <tr>\n",
       "      <th>TCGA-02-0047-01</th>\n",
       "      <td>0.678296</td>\n",
       "      <td>0.289910</td>\n",
       "      <td>0.034230</td>\n",
       "      <td>0.0</td>\n",
       "      <td>0.000000</td>\n",
       "      <td>0.084731</td>\n",
       "      <td>0.031863</td>\n",
       "      <td>0.037709</td>\n",
       "      <td>0.746797</td>\n",
       "      <td>0.687833</td>\n",
       "      <td>...</td>\n",
       "      <td>0.440610</td>\n",
       "      <td>0.428782</td>\n",
       "      <td>0.732819</td>\n",
       "      <td>0.634340</td>\n",
       "      <td>0.580662</td>\n",
       "      <td>0.294313</td>\n",
       "      <td>0.458134</td>\n",
       "      <td>0.478219</td>\n",
       "      <td>0.168263</td>\n",
       "      <td>0.638497</td>\n",
       "    </tr>\n",
       "    <tr>\n",
       "      <th>TCGA-02-0055-01</th>\n",
       "      <td>0.200633</td>\n",
       "      <td>0.654917</td>\n",
       "      <td>0.181993</td>\n",
       "      <td>0.0</td>\n",
       "      <td>0.000000</td>\n",
       "      <td>0.100606</td>\n",
       "      <td>0.050011</td>\n",
       "      <td>0.092586</td>\n",
       "      <td>0.103725</td>\n",
       "      <td>0.140642</td>\n",
       "      <td>...</td>\n",
       "      <td>0.620658</td>\n",
       "      <td>0.363207</td>\n",
       "      <td>0.592269</td>\n",
       "      <td>0.602755</td>\n",
       "      <td>0.610192</td>\n",
       "      <td>0.374569</td>\n",
       "      <td>0.722420</td>\n",
       "      <td>0.271356</td>\n",
       "      <td>0.160465</td>\n",
       "      <td>0.602560</td>\n",
       "    </tr>\n",
       "    <tr>\n",
       "      <th>TCGA-02-2483-01</th>\n",
       "      <td>0.785980</td>\n",
       "      <td>0.140842</td>\n",
       "      <td>0.081082</td>\n",
       "      <td>0.0</td>\n",
       "      <td>0.000000</td>\n",
       "      <td>0.000000</td>\n",
       "      <td>0.000000</td>\n",
       "      <td>0.000000</td>\n",
       "      <td>0.730648</td>\n",
       "      <td>0.657189</td>\n",
       "      <td>...</td>\n",
       "      <td>0.437658</td>\n",
       "      <td>0.471489</td>\n",
       "      <td>0.868774</td>\n",
       "      <td>0.471141</td>\n",
       "      <td>0.487212</td>\n",
       "      <td>0.385521</td>\n",
       "      <td>0.466642</td>\n",
       "      <td>0.784059</td>\n",
       "      <td>0.160797</td>\n",
       "      <td>0.557074</td>\n",
       "    </tr>\n",
       "    <tr>\n",
       "      <th>TCGA-02-2485-01</th>\n",
       "      <td>0.720258</td>\n",
       "      <td>0.122554</td>\n",
       "      <td>0.180042</td>\n",
       "      <td>0.0</td>\n",
       "      <td>0.000000</td>\n",
       "      <td>0.000000</td>\n",
       "      <td>0.000000</td>\n",
       "      <td>0.000000</td>\n",
       "      <td>0.720306</td>\n",
       "      <td>0.719855</td>\n",
       "      <td>...</td>\n",
       "      <td>0.553306</td>\n",
       "      <td>0.373344</td>\n",
       "      <td>0.818608</td>\n",
       "      <td>0.691962</td>\n",
       "      <td>0.635023</td>\n",
       "      <td>0.430647</td>\n",
       "      <td>0.453690</td>\n",
       "      <td>0.364494</td>\n",
       "      <td>0.161363</td>\n",
       "      <td>0.607895</td>\n",
       "    </tr>\n",
       "    <tr>\n",
       "      <th>TCGA-02-2486-01</th>\n",
       "      <td>0.767127</td>\n",
       "      <td>0.210393</td>\n",
       "      <td>0.034017</td>\n",
       "      <td>0.0</td>\n",
       "      <td>0.061161</td>\n",
       "      <td>0.000000</td>\n",
       "      <td>0.053021</td>\n",
       "      <td>0.000000</td>\n",
       "      <td>0.739546</td>\n",
       "      <td>0.665684</td>\n",
       "      <td>...</td>\n",
       "      <td>0.601268</td>\n",
       "      <td>0.379943</td>\n",
       "      <td>0.506839</td>\n",
       "      <td>0.684320</td>\n",
       "      <td>0.607821</td>\n",
       "      <td>0.320113</td>\n",
       "      <td>0.476190</td>\n",
       "      <td>0.122722</td>\n",
       "      <td>0.389544</td>\n",
       "      <td>0.698548</td>\n",
       "    </tr>\n",
       "  </tbody>\n",
       "</table>\n",
       "<p>5 rows × 5000 columns</p>\n",
       "</div>"
      ],
      "text/plain": [
       "                   RPS4Y1      XIST      KRT5  AGR2   CEACAM5     KRT6A  \\\n",
       "TCGA-02-0047-01  0.678296  0.289910  0.034230   0.0  0.000000  0.084731   \n",
       "TCGA-02-0055-01  0.200633  0.654917  0.181993   0.0  0.000000  0.100606   \n",
       "TCGA-02-2483-01  0.785980  0.140842  0.081082   0.0  0.000000  0.000000   \n",
       "TCGA-02-2485-01  0.720258  0.122554  0.180042   0.0  0.000000  0.000000   \n",
       "TCGA-02-2486-01  0.767127  0.210393  0.034017   0.0  0.061161  0.000000   \n",
       "\n",
       "                    KRT14   CEACAM6     DDX3Y     KDM5D    ...      FAM129A  \\\n",
       "TCGA-02-0047-01  0.031863  0.037709  0.746797  0.687833    ...     0.440610   \n",
       "TCGA-02-0055-01  0.050011  0.092586  0.103725  0.140642    ...     0.620658   \n",
       "TCGA-02-2483-01  0.000000  0.000000  0.730648  0.657189    ...     0.437658   \n",
       "TCGA-02-2485-01  0.000000  0.000000  0.720306  0.719855    ...     0.553306   \n",
       "TCGA-02-2486-01  0.053021  0.000000  0.739546  0.665684    ...     0.601268   \n",
       "\n",
       "                  C8orf48    CDK5R1    FAM81A  C13orf18     GDPD3     SMAGP  \\\n",
       "TCGA-02-0047-01  0.428782  0.732819  0.634340  0.580662  0.294313  0.458134   \n",
       "TCGA-02-0055-01  0.363207  0.592269  0.602755  0.610192  0.374569  0.722420   \n",
       "TCGA-02-2483-01  0.471489  0.868774  0.471141  0.487212  0.385521  0.466642   \n",
       "TCGA-02-2485-01  0.373344  0.818608  0.691962  0.635023  0.430647  0.453690   \n",
       "TCGA-02-2486-01  0.379943  0.506839  0.684320  0.607821  0.320113  0.476190   \n",
       "\n",
       "                  C2orf85   POU5F1B     CHST2  \n",
       "TCGA-02-0047-01  0.478219  0.168263  0.638497  \n",
       "TCGA-02-0055-01  0.271356  0.160465  0.602560  \n",
       "TCGA-02-2483-01  0.784059  0.160797  0.557074  \n",
       "TCGA-02-2485-01  0.364494  0.161363  0.607895  \n",
       "TCGA-02-2486-01  0.122722  0.389544  0.698548  \n",
       "\n",
       "[5 rows x 5000 columns]"
      ]
     },
     "execution_count": 4,
     "metadata": {},
     "output_type": "execute_result"
    }
   ],
   "source": [
    "print(rnaseq_df.shape)\n",
    "rnaseq_df.head(5)"
   ]
  },
  {
   "cell_type": "markdown",
   "metadata": {},
   "source": [
    "Separamos en train y en test"
   ]
  },
  {
   "cell_type": "code",
   "execution_count": 5,
   "metadata": {},
   "outputs": [],
   "source": [
    "test_set_percent = 0.10\n",
    "rnaseq_test_df = rnaseq_df.sample(frac=test_set_percent)\n",
    "rnaseq_train_df = rnaseq_df.drop(rnaseq_test_df.index)"
   ]
  },
  {
   "cell_type": "code",
   "execution_count": 6,
   "metadata": {},
   "outputs": [
    {
     "name": "stdout",
     "output_type": "stream",
     "text": [
      "['RPS4Y1', 'XIST', 'KRT5', 'AGR2', 'CEACAM5', 'KRT6A', 'KRT14', 'CEACAM6', 'DDX3Y', 'KDM5D', 'SLC34A2', 'TMPRSS4', 'KRT6B', 'GPX2', 'SERPINB5', 'HMGCS2', 'PIGR', 'KRT16', 'KRT17', 'UGT1A6', 'FOXA1', 'FXYD3', 'HNF1B', 'KRT19', 'RAB25', 'DSG3', 'USP9Y', 'EIF1AY', 'LCN2', 'KRT15', 'PRAME', 'KRT13', 'CALML3', 'KLK11', 'AZGP1', 'GRHL2', 'KRT7', 'AKR1B10', 'DSC3', 'PTPRZ1', 'CXCL17', 'LRP2', 'UTY', 'AGR3', 'USH1C', 'HNF4A', 'GJB1', 'SPDEF', 'LOC642587', 'S100P', 'TNS4', 'SFTPB', 'GSTA1', 'MUC5B', 'KIF1A', 'KCNJ16', 'TFF1', 'MSLN', 'SLC44A4', 'TRIM29', 'PI3', 'GSTM1', 'TSPAN8', 'SOX2', 'S100A14', 'COL17A1', 'PKP1', 'ANXA8', 'TACSTD2', 'KRT6C', 'KLK10', 'CLDN3', 'SPINK1', 'PPP1R1B', 'ALDH3B2', 'CTSE', 'HGD', 'LY6D', 'CA9', 'PLA2G2A', 'HPN', 'OLFM4', 'CDHR5', 'SCEL', 'MUC13', 'ZFY', 'FAM83A', 'GDA', 'EHF', 'WDR72', 'CLCA2', 'SFN', 'ITGB6', 'CYorf15A', 'KRT23', 'SLC6A14', 'KLK6', 'VIL1', 'ESRP1', 'CLDN2', 'TMPRSS2', 'PCK1', 'SPRR1B', 'HOXB13', 'HOXC10', 'FGFBP1', 'DDC', 'FGG', 'UGT1A9', 'PKP3', 'MUC16', 'TMC5', 'PITX1', 'C9orf152', 'PLP1', 'SERPINB3', 'C4BPA', 'COL11A1', 'SDR16C5', 'KLK7', 'C20orf114', 'UGT2B7', 'CST1', 'GGT6', 'SLC5A1', 'A2ML1', 'C19orf33', 'CBLC', 'MMP1', 'FGA', 'IYD', 'FOXA2', 'C19orf21', 'DES', 'SFTPA2', 'ADH1B', 'TFF3', 'PDZK1IP1', 'MUC15', 'DMBT1', 'C10orf81', 'MMP7', 'AP1M2', 'ANXA8L2', 'WFDC2', 'GPR110', 'PRSS8', 'FOXE1', 'FOLR1', 'SYT13', 'LGALS4', 'GJB6', 'TP63', 'POF1B', 'TOX3', 'CYorf15B', 'TTTY15', 'DUOX2', 'TNNT1', 'SLPI', 'AQP4', 'COMP', 'SERPINA3', 'ABP1', 'PRR15L', 'PRAP1', 'CP', 'IVL', 'MMP12', 'PVRL4', 'GPR87', 'NEFL', 'CHGA', 'PCSK9', 'VTCN1', 'CDH16', 'MUC4', 'MMP13', 'LTF', 'HP', 'BCAS1', 'SPRR3', 'PGC', 'CACNG4', 'SAA1', 'CLDN10', 'EPCAM', 'EPN3', 'CFTR', 'B3GNT3', 'CLDN8', 'PRSS22', 'CYP4B1', 'RHCG', 'MMP3', 'CTNND2', 'LAD1', 'PROM1', 'EEF1A2', 'GABRP', 'CALML5', 'C1orf116', 'S100A7', 'OGDHL', 'PROM2', 'TSPAN1', 'DEFB1', 'TF', 'C10orf99', 'HMGA2', 'PCSK2', 'SPRR1A', 'ZG16B', 'FGB', 'LAMC2', 'UPK1B', 'PLA2G4F', 'SCNN1A', 'ZNF750', 'CLDN4', 'ADH1C', 'PPP2R2C', 'GJB3', 'TSIX', 'MYBPC1', 'KIAA1324', 'SFRP2', 'ATP10B', 'FAM83E', 'KLK8', 'SERPINA5', 'KRT4', 'SOX10', 'ALDH1L1', 'SALL1', 'TJP3', 'BBOX1', 'CAPN13', 'GSTT1', 'PSCA', 'S100A2', 'IRX2', 'KRT8', 'C20orf56', 'FUT6', 'ALDOB', 'UGT2A3', 'LRRC15', 'COL10A1', 'HABP2', 'FAM83B', 'SLC4A4', 'BMP7', 'GLYATL1', 'SLC39A5', 'ADAM6', 'C19orf77', 'ELF3', 'VSIG2', 'CAPN8', 'PRSS3', 'CHGB', 'PCP4', 'SERPINA6', 'AQP5', 'CYP2C18', 'KLHDC7A', 'CHST9', 'LMO3', 'GCNT3', 'REG1A', 'TCN1', 'SCNN1G', 'EPS8L3', 'EMX2OS', 'ORM1', 'WNT7B', 'FUT3', 'MSMB', 'ST6GALNAC1', 'C7', 'KIF12', 'HKDC1', 'CPLX2', 'FAM3B', 'NKX2-1', 'GATA4', 'CCL21', 'KLK5', 'NLRP2', 'ANKS4B', 'FABP7', 'BEX1', 'ERBB4', 'RBP4', 'ATP13A4', 'C16orf89', 'FAM3D', 'CNTN1', 'BARX2', 'MLPH', 'EMX2', 'SPRR2A', 'XDH', 'NLGN4Y', 'AMN', 'C2orf54', 'CES1', 'SAA2', 'C20orf151', 'HSD17B2', 'IGJ', 'SLITRK6', 'GPRC5A', 'FOXJ1', 'SOX21', 'CNTNAP2', 'MMP10', 'GP2', 'ALB', 'CCDC64B', 'ERN2', 'PTPRT', 'TRIM15', 'DNER', 'CRABP2', 'BNC1', 'B4GALNT4', 'NTRK2', 'FAM83F', 'DPP6', 'KCNJ15', 'ELF5', 'CYP24A1', 'EVPL', 'ACADL', 'PPAN-P2RY11', 'PCSK1N', 'TFAP2C', 'ZIC1', 'CXCL14', 'TCF21', 'SLC6A15', 'TM4SF5', 'MAL2', 'DUOXA1', 'DUOXA2', 'MASP1', 'RNF128', 'ZIC2', 'ABCA12', 'GRIK3', 'C2orf72', 'LIPH', 'TMEM40', 'GLDC', 'OVOL2', 'CWH43', 'MAGEA6', 'HOXC13', 'GABRB3', 'SPRR2D', 'PPP1R1A', 'SPINK5', 'FABP1', 'GREM1', 'SERPINB2', 'PRKY', 'SCNN1B', 'CYP4F3', 'CDHR2', 'C4orf7', 'CCL20', 'AGT', 'LGI3', 'LGALS7', 'SULT1C2', 'CDH3', 'DAPL1', 'FXYD2', 'S100A1', 'BHMT', 'MAL', 'CLRN3', 'PHYHIPL', 'TM4SF4', 'SERPINB4', 'LYPD6B', 'HHLA2', 'ATP2B2', 'SMOC1', 'CAPN6', 'FAT2', 'CRABP1', 'ALDH3A1', 'IHH', 'CXCL13', 'TFAP2A', 'PAH', 'AKR1C2', 'SLC3A1', 'NR1H4', 'SLCO4C1', 'BMPR1B', 'GFAP', 'FREM2', 'EDN3', 'HOXB9', 'AADAC', 'SBSN', 'SHISA9', 'UGT8', 'FERMT1', 'MAPK4', 'PDZK1', 'C14orf105', 'GPR115', 'SPOCK3', 'CHRDL1', 'NMU', 'NAPSA', 'MFAP5', 'CRTAC1', 'FOXQ1', 'GPM6A', 'GSTA2', 'EPHA7', 'CRYM', 'FOXA3', 'SYT8', 'SLC15A1', 'CYP3A5', 'CEACAM7', 'MUC1', 'RIMS4', 'S100A8', 'ATP1A2', 'MYEOV', 'NKAIN4', 'RORC', 'LPAR3', 'LGR5', 'IGF2BP1', 'LGALS7B', 'CCL15', 'SFTA3', 'CNTFR', 'SERPINB13', 'LMX1B', 'DCDC2', 'GAL3ST1', 'BCAN', 'POU3F3', 'ORM2', 'UCA1', 'SFTPA1', 'TTR', 'C6orf223', 'PRR15', 'INA', 'DPT', 'POSTN', 'MAGEA3', 'LYPD3', 'PCDH10', 'HOXA9', 'CXCL1', 'ARSE', 'PPP1R14C', 'FBN3', 'IRX4', 'RHOV', 'PAX9', 'CTNNA2', 'AMBP', 'SULT2B1', 'TMEM45B', 'CCL18', 'PON3', 'CCL19', 'S100A9', 'ZBED2', 'VSNL1', 'ADCY2', 'VGLL1', 'SCGB1D2', 'TCEAL2', 'SLCO1A2', 'FABP4', 'PRSS21', 'IGSF9', 'PRLR', 'PTPRH', 'SLC38A3', 'GJB5', 'CDH2', 'CST6', 'SCRG1', 'SEMA3E', 'CHIT1', 'DLK1', 'FUT9', 'PART1', 'GABBR2', 'ATP2C2', 'HNF4G', 'IL20RA', 'PKHD1', 'ABCC8', 'AIM1L', 'EREG', 'CLCA4', 'SFTA2', 'SLC9A2', 'LONRF2', 'SFRP1', 'CDH17', 'SLC6A11', 'SFTPC', 'GRIA2', 'KRT80', 'C6', 'CYP2B7P1', 'CLDN1', 'CXCL5', 'HBA1', 'CA12', 'MAPT', 'SCG3', 'OVOL1', 'ACE2', 'C19orf46', 'TRPV6', 'L1CAM', 'ADH6', 'ACSM2A', 'C2orf40', 'B3GAT1', 'CAMK2B', 'PNCK', 'KNDC1', 'HOXA13', 'TMPRSS3', 'BNIPL', 'CKMT1B', 'WNK4', 'NPY', 'AREG', 'LPPR1', 'NCCRP1', 'MT3', 'GRB7', 'CKMT1A', 'MGC29506', 'SLC6A13', 'TMPRSS13', 'CA4', 'DACT2', 'KLK3', 'LIX1', 'CHRM1', 'PITX2', 'HOXC11', 'OGN', 'CLDN7', 'PADI3', 'C3orf57', 'UGT1A10', 'GJB4', 'GALNT5', 'ASTN1', 'ELFN2', 'PAX2', 'GABRA3', 'GFRA1', 'FABP6', 'ANXA13', 'C1orf210', 'HOXB8', 'MUC2', 'SST', 'C12orf36', 'LOC339535', 'ODZ1', 'CHL1', 'GNG4', 'ACTG2', 'CYP4F11', 'BCHE', 'SOSTDC1', 'SERPINA1', 'APOB', 'RPS28', 'AKR1C1', 'GRHL3', 'RASAL1', 'CXCL6', 'WNT7A', 'C4BPB', 'KCNJ3', 'TMEM125', 'DPYS', 'HS6ST2', 'HOXD13', 'MARCO', 'ODZ2', 'GJB2', 'TMC4', 'AQP3', 'LBP', 'GPD1', 'STAC2', 'DHRS2', 'DMKN', 'METTL7B', 'NCAM1', 'CRYAB', 'MYB', 'PI16', 'TFAP2B', 'SLC26A9', 'CRISP3', 'MS4A8B', 'HOXA10', 'APOD', 'SCGB2A1', 'C1orf64', 'CPA3', 'APOH', 'FNDC1', 'DIRAS2', 'HOXD11', 'D4S234E', 'BHMT2', 'CDHR1', 'SORCS1', 'PEBP4', 'MUC6', 'NLGN1', 'TRPM8', 'PAX8', 'UGT2B15', 'C1orf106', 'WIF1', 'ABCA13', 'TRIM31', 'DPYSL5', 'DLL3', 'GAL3ST3', 'STMN2', 'GPRIN2', 'C5orf38', 'CADM3', 'PIP', 'CADPS', 'CDO1', 'ZIC5', 'ATP6V0A4', 'CLIC6', 'EGFL6', 'RASSF6', 'KLK4', 'MUC21', 'SCGN', 'GBP6', 'APOA1', 'SLC5A8', 'COL2A1', 'OLIG1', 'GBA3', 'HOXA11', 'RXRG', 'TUBB2B', 'KRT18', 'ACMSD', 'KCNH2', 'LRRN1', 'NRXN1', 'LY6K', 'HS6ST3', 'RGN', 'CDX2', 'SLC17A4', 'CUX2', 'TBX5', 'FAIM2', 'IGSF1', 'GRIK5', 'STK32A', 'HHATL', 'ENPP3', 'COL4A6', 'AGXT2L1', 'TFPI2', 'MB', 'ALOX15B', 'SERPINA4', 'CILP', 'GPR158', 'NTS', 'DKK1', 'SPP1', 'UBD', 'CYP4F12', 'SLC1A2', 'CPNE4', 'TG', 'CACNA1B', 'SSTR1', 'SLC30A2', 'WNK2', 'PTPRN', 'H19', 'ACSM2B', 'KLK13', 'VTN', 'KCNK3', 'GYLTL1B', 'SLC6A20', 'GATA3', 'WT1', 'NKAIN1', 'NEFM', 'CPB1', 'SCGB3A1', 'C1orf172', 'REG4', 'DPP10', 'TMEFF2', 'AKR7A3', 'DPP4', 'SH3GL2', 'FMN2', 'MACC1', 'AR', 'MYH11', 'GALNT14', 'COL7A1', 'SNAP91', 'PKLR', 'DUSP9', 'ACTC1', 'SLC27A6', 'PCDP1', 'CLDN18', 'PEG10', 'WBSCR17', 'LUZP2', 'SLCO1B3', 'MAT1A', 'IRX1', 'SLC28A3', 'NR0B2', 'PMP2', 'GPR98', 'MLXIPL', 'IRX6', 'IL22RA1', 'C11orf9', 'HES2', 'CLGN', 'HAND2', 'KRT20', 'CR2', 'TMEM195', 'IGSF11', 'PLEKHG4B', 'LRRC31', 'SYT9', 'DUOX1', 'PRUNE2', 'ATCAY', 'VSTM2L', 'UGT1A1', 'VGF', 'CHI3L1', 'SPRR2E', 'C8orf47', 'DQX1', 'GOLT1A', 'SOX11', 'C12orf27', 'SHD', 'THBS4', 'TMEM92', 'VWA2', 'A1CF', 'FCRL5', 'CLIC3', 'COL4A3', 'BMP3', 'LSAMP', 'PRIMA1', 'RIMS2', 'HOXC9', 'SLC44A5', 'SULT4A1', 'GSDMC', 'CALB2', 'CDH1', 'ACPP', 'LRRC26', 'TMEM171', 'TMEM132C', 'THRSP', 'DIO1', 'MSI1', 'NRK', 'LOC84740', 'IGF2BP3', 'TAGLN3', 'MST1R', 'CAPN9', 'MYOM3', 'NAT8L', 'S100B', 'CHP2', 'FMO1', 'KLRG2', 'LRG1', 'TMSB4Y', 'CITED1', 'CHI3L2', 'DBC1', 'LASS1', 'C1orf186', 'TMEM139', 'F5', 'LAMB3', 'DSP', 'C2CD4A', 'GLYAT', 'ARL14', 'DSG1', 'ABCA8', 'DSCAML1', 'PNMA2', 'AOX1', 'TRHDE', 'TDRD5', 'EYA1', 'ABO', 'WNT2', 'ZBTB16', 'IGF2BP2', 'STK33', 'CA8', 'MYO7B', 'KIF5C', 'GRIA4', 'RASEF', 'TMEM59L', 'MME', 'PIK3C2G', 'ZNF385B', 'MAG', 'LUM', 'ENTPD3', 'MS4A1', 'TMEM30B', 'MKRN3', 'KLF5', 'EN1', 'TTYH1', 'TPSB2', 'GC', 'FAM5C', 'SERPINB7', 'SERPINA11', 'GDF1', 'MAOB', 'ESPN', 'NPY1R', 'SLC16A12', 'PNMAL1', 'FGFR4', 'LRRTM1', 'INSM1', 'MIA2', 'ACY3', 'HPGD', 'SLITRK2', 'SH3RF2', 'SFRP4', 'GAD1', 'C4orf31', 'ADAM23', 'CD24', 'RNF186', 'GDF15', 'AGTR1', 'ESR1', 'SLC22A3', 'ATP1A3', 'CD79A', 'ETV4', 'PCDHA11', 'UNC80', 'MAGEA4', 'NWD1', 'SPAG17', 'PADI1', 'BARX1', 'CPA4', 'KLK2', 'NCAM2', 'HOXA11AS', 'ILDR1', 'TMEM184A', 'SCGB1A1', 'NAT8', 'GAP43', 'DPEP1', 'HOXC6', 'GALNT13', 'CPS1', 'RELN', 'ADCY8', 'CYP2S1', 'CYP2B6', 'HOXC8', 'KIF5A', 'ELOVL2', 'EYA2', 'KIAA0408', 'LOC100130933', 'SCN7A', 'SLC13A2', 'RANBP3L', 'FOXD1', 'GALNT9', 'TBX1', 'TPSAB1', 'MIA', 'LHFPL4', 'NELL1', 'UCHL1', 'LRP1B', 'COL1A1', 'WISP2', 'NRCAM', 'PPARGC1A', 'CNKSR1', 'TGM3', 'SMPDL3B', 'C12orf56', 'SLC2A2', 'DIRAS1', 'CD177', 'SOX8', 'SGK2', 'SNAP25', 'C15orf48', 'CREB3L3', 'C1QL1', 'C11orf41', 'EDN2', 'SYT1', 'HAPLN1', 'MUCL1', 'GAL', 'IL1F5', 'ARHGEF4', 'ADCY5', 'ONECUT2', 'TMEM130', 'KLK1', 'SLC7A4', 'NTNG1', 'STYK1', 'IDO1', 'CXCL9', 'LAMA1', 'CNNM1', 'ASCL1', 'ITIH2', 'FAM107A', 'CCL14-CCL15', 'GPR81', 'NIPAL4', 'LASS3', 'TMEM63C', 'GDPD2', 'LOC389493', 'CCNA1', 'SHH', 'ASPG', 'TBC1D3G', 'ACSM5', 'FST', 'STRA6', 'ATP6V1B1', 'ABCC6', 'FA2H', 'CSTA', 'KLK12', 'FAM5B', 'ACSM3', 'FGL1', 'TYRP1', 'KRTCAP3', 'RIC3', 'GPR109A', 'PLAC2', 'AFF3', 'UPK3B', 'DSG2', 'ROS1', 'PLA2G2D', 'TMPRSS6', 'CHRDL2', 'FAM83C', 'RPRM', 'EMX1', 'ADH7', 'ATRNL1', 'NOVA1', 'COL22A1', 'LPPR3', 'PTK6', 'KCNQ2', 'KCNG1', 'TRIM55', 'PRSS16', 'EPHA10', 'CADM2', 'PHACTR3', 'MAPK15', 'PENK', 'AK5', 'DMGDH', 'SLITRK5', 'LOC440173', 'NRG3', 'SCARA5', 'ISL1', 'PTN', 'PLEKHG6', 'SCUBE2', 'TINAG', 'TMPRSS11D', 'MUM1L1', 'MMP11', 'CDH22', 'SLC13A5', 'NPTX1', 'GREB1', 'SHISA2', 'PCP4L1', 'MT1G', 'VWDE', 'NDP', 'ANXA3', 'DLGAP1', 'LHFPL3', 'SYT12', 'MYO3A', 'CNTN3', 'AP3B2', 'CREB3L1', 'ADAMDEC1', 'NTRK3', 'SCG2', 'MFSD6L', 'FLJ16779', 'HPD', 'MAP7D2', 'PI15', 'SLIT1', 'ACTN2', 'CSDC2', 'HOXD10', 'POPDC3', 'KIAA2022', 'AMY1A', 'KCNK2', 'ARHGAP36', 'IQCA1', 'VIPR2', 'LGALS2', 'FMO2', 'PHF21B', 'RIMBP2', 'RASSF10', 'PRG4', 'LOC554202', 'ST6GAL2', 'SIX1', 'PLXNB3', 'HOXA7', 'SLC6A17', 'NEU4', 'LOC440905', 'CRB3', 'CRLF1', 'TFCP2L1', 'IL8', 'RAB27B', 'SLC28A1', 'DLX3', 'PTGER3', 'SLC5A12', 'IRF6', 'FAM181B', 'IL1RN', 'FAM189A1', 'SCN2B', 'ANXA10', 'DHDPSL', 'NEFH', 'MMP9', 'EGF', 'IRX5', 'EPPK1', 'LOC389332', 'ZYG11A', 'VSTM2A', 'STEAP4', 'FTCD', 'STXBP5L', 'CYP2C9', 'IGFBP1', 'MNX1', 'SLC27A2', 'PTGDS', 'GALNT3', 'PCDHA12', 'ADIPOQ', 'MYBL2', 'LAMA3', 'PRODH', 'PCDHA10', 'DMRT2', 'DCX', 'RAMP1', 'GPC3', 'C1orf168', 'SEZ6L', 'DNAH11', 'VAT1L', 'PCDH20', 'SCGB2A2', 'LOC286002', 'ARHGEF38', 'BAALC', 'SLC6A19', 'KCND2', 'CAPNS2', 'LOC643763', 'SPON1', 'BAIAP2L2', 'ENTPD8', 'PALM3', 'SYN2', 'SLC47A1', 'DPYSL4', 'LOC96610', 'PTHLH', 'MEGF10', 'NTF4', 'ABCC2', 'SYTL5', 'CYP4F22', 'PEG3', 'PGR', 'PDX1', 'CFB', 'GRIA1', 'IGF2', 'ZNF488', 'HR', 'PLCXD3', 'PHGR1', 'SLC16A9', 'C8orf85', 'NPR3', 'CCL11', 'NELL2', 'NOTUM', 'TNNC1', 'MIOX', 'PKNOX2', 'MLC1', 'C1orf130', 'BPIL1', 'SIX2', 'KLHL14', 'TRIM58', 'KRT1', 'SERPIND1', 'LOC145837', 'MFAP2', 'KIAA1199', 'SLC38A4', 'COL3A1', 'ABCC3', 'CSMD1', 'ESRRG', 'ANPEP', 'HEPACAM2', 'CACNA2D1', 'PLA2G3', 'PLA2G10', 'FAM135B', 'RGS20', 'HIF3A', 'SUSD4', 'SCN2A', 'MYT1', 'XAGE1D', 'ROBO2', 'CALB1', 'TNNT3', 'KRT75', 'C11orf92', 'NXPH4', 'FAM189A2', 'C4A', 'TMEM100', 'POU2AF1', 'CYP2W1', 'NOL4', 'DIO2', 'DLX1', 'SH3GL3', 'EPHA1', 'FOXN1', 'C14orf73', 'SYT14', 'LRRN4', 'PTH2R', 'C1orf61', 'CYP4A11', 'UNC5A', 'GRIN2A', 'CLU', 'POU2F3', 'DACH1', 'ANKRD43', 'IL1A', 'SNORD116-4', 'APLP1', 'VEPH1', 'WSCD2', 'SYT7', 'EDAR', 'KIAA0125', 'NME5', 'XG', 'LIPC', 'PRSS12', 'KCNQ5', 'TMEM35', 'BAAT', 'CECR2', 'PLA2G12B', 'C10orf108', 'IGFL1', 'MT1H', 'CHMP4C', 'TRIM9', 'GRIA3', 'LHX2', 'OTX1', 'IGFN1', 'KCNN4', 'FXYD1', 'FUT2', 'BIK', 'LGR6', 'BRSK2', 'SPOCK1', 'RIMS1', 'TCERG1L', 'CDH4', 'LOC645323', 'CELF3', 'MEG3', 'CDH19', 'UGT3A1', 'SFTPD', 'IP6K3', 'RET', 'PTPRD', 'CD1A', 'NALCN', 'PPAPDC1A', 'IGDCC3', 'C6orf132', 'CSF3', 'PPP1R14D', 'HHIP', 'C1orf88', 'ACSS3', 'EN2', 'EFHD1', 'SLC14A1', 'ALPK2', 'AQP9', 'TRPA1', 'COL8A1', 'NECAB2', 'ADD2', 'RAB17', 'PCSK1', 'EPHX3', 'C5orf23', 'DNASE1L3', 'TGM1', 'PDPN', 'RNF212', 'PTPN20B', 'PTGS2', 'GABRB2', 'PCOLCE2', 'PLAC8', 'SLC19A3', 'IGFL2', 'ALDH1A1', 'ELAVL2', 'SOX15', 'LPHN3', 'OSR2', 'EMID2', 'KNG1', 'DNAJC22', 'SPINT1', 'GIPC2', 'NUDT11', 'OMD', 'SP5', 'DPF1', 'KIAA1244', 'RPS6KA6', 'GRB14', 'GREM2', 'RUNDC3A', 'CDKN2A', 'KCNJ10', 'EPS8L1', 'FRMD5', 'CLSTN2', 'SLC23A1', 'UNC5D', 'AKR1C3', 'SYTL1', 'LOC84856', 'EYA4', 'APOC2', 'LY6G6C', 'LEMD1', 'HPCAL4', 'C8orf46', 'ARHGDIG', 'ADAM12', 'STXBP6', 'SLC17A3', 'CYP4F2', 'SFRP5', 'FOSB', 'SLC6A12', 'SULT1E1', 'GFRA3', 'PLEKHB1', 'TSHR', 'ANKS1B', 'RGL3', 'COL9A1', 'TRIM10', 'DLX6', 'ANO4', 'STX19', 'POU3F2', 'BCL2L14', 'WDR17', 'HEPACAM', 'SLC9A3', 'GRIK2', 'WNT10A', 'CALN1', 'TTC22', 'LYPD6', 'SLC38A5', 'SYT4', 'TESC', 'PCDH19', 'TNNI3', 'DEGS2', 'IRX3', 'FOXG1', 'YBX2', 'NPTX2', 'KBTBD12', 'FOXI1', 'C3', 'DGCR5', 'MSX2', 'VNN1', 'KCNK15', 'CTSL2', 'C20orf103', 'GLT25D2', 'PCDHAC2', 'ATP1B2', 'ADAMTS16', 'C6orf141', 'ENHO', 'TUBBP5', 'CHST8', 'PDZRN4', 'PAEP', 'FSD1', 'DCLK1', 'NPNT', 'HOXB6', 'FAT3', 'GALNTL1', 'LOC254559', 'KLF15', 'F7', 'ABCC11', 'GLYATL2', 'KANK4', 'ABCC6P1', 'ENPP5', 'CNN1', 'BIRC7', 'BAI1', 'KCNS1', 'PCDHA4', 'ANO5', 'HMP19', 'C3orf15', 'FAP', 'FLNC', 'SHOX2', 'CXCL10', 'CKMT2', 'HAP1', 'TNNT2', 'TFF2', 'PDIA2', 'S100A7A', 'HRASLS', 'NRG1', 'EDIL3', 'DMRTA1', 'C21orf62', 'ST6GALNAC5', 'ARX', 'ANO9', 'SGPP2', 'FCGBP', 'CCL13', 'HOXB5', 'DUSP26', 'SCG5', 'ALDH1A2', 'CRB2', 'COCH', 'FGFR3', 'TPRXL', 'HPX', 'KRTDAP', 'ACSM1', 'AQP7', 'CST2', 'TLX1', 'SYT5', 'RGMA', 'RNF182', 'GPX3', 'MPPED2', 'B3GALT5', 'CDSN', 'TDGF1', 'FLJ45983', 'ITIH5L', 'CASKIN1', 'CCL14', 'C1QL4', 'GREB1L', 'FIBCD1', 'ARHGAP8', 'B4GALNT3', 'CDKL2', 'CXCL11', 'LOC255167', 'CSAG3', 'RIPK4', 'LRRC19', 'FAM69C', 'OCA2', 'RNF183', 'DNAH5', 'MRAP2', 'COL23A1', 'CTHRC1', 'COL6A3', 'FSTL4', 'PROX1', 'LOC100271831', 'ALOX12P2', 'C5orf49', 'SLITRK4', 'GPM6B', 'ARPP21', 'DNALI1', 'NPAS3', 'ALOX15', 'RYR1', 'MAGEA2', 'TNNI1', 'IL1R2', 'AGXT2', 'PCYT1B', 'HAS3', 'BSPRY', 'JAKMIP2', 'ITGA8', 'CPEB1', 'TBX18', 'ITGBL1', 'LOC283392', 'PLCH1', 'KCNH8', 'SEC14L4', 'CXCL3', 'DDX25', 'SHISA3', 'GPR109B', 'MYH14', 'TDO2', 'KCNK10', 'PCDH9', 'BCMO1', 'ASPA', 'HOTAIR', 'CYP2J2', 'FER1L4', 'RRAD', 'AIM2', 'INHBA', 'ICAM5', 'CTTNBP2', 'PTGIS', 'NKX2-2', 'CHST6', 'FBN2', 'HORMAD1', 'SEZ6', 'COL9A3', 'CDK5R2', 'SELE', 'LRAT', 'CTSG', 'FAM155B', 'BCL2L15', 'PLA1A', 'KLHDC8A', 'SLC22A11', 'MGAT5B', 'PDE8B', 'FCAMR', 'PDZD3', 'PRDM16', 'CD19', 'PRRX2', 'CCDC160', 'F2RL2', 'ODZ3', 'HNF1A', 'MTTP', 'OLFM1', 'PLIN4', 'ITLN1', 'FAM101A', 'SDR42E1', 'GRM4', 'HSD17B6', 'PRSS1', 'psiTPTE22', 'C6orf222', 'AGXT', 'APCDD1L', 'CD164L2', 'CNR1', 'SEPT3', 'GPR37', 'ELAVL3', 'TMEM151A', 'HAVCR1', 'C1orf173', 'LRRC4C', 'GRP', 'MAGED4', 'ASAM', 'C1orf95', 'TMEM90B', 'ST14', 'MOGAT3', 'TNFAIP6', 'BMP5', 'ANKRD56', 'CLUL1', 'RSPO4', 'RBP5', 'COBL', 'PKP2', 'PRKAA2', 'NEBL', 'RND2', 'HOXB7', 'SAA4', 'HLF', 'SCGB3A2', 'HRASLS5', 'CELF5', 'TMEM108', 'CEACAM1', 'PPAP2C', 'GLB1L3', 'HPR', 'CES3', 'SORCS3', 'FCRLA', 'PROC', 'NAP1L2', 'FZD10', 'FLRT3', 'CA10', 'TNFRSF11B', 'ZNF536', 'SLC8A2', 'TREM1', 'DNAJC12', 'MGST1', 'MYOCD', 'LRRN2', 'PNMA3', 'GATA5', 'CHRNA4', 'MCOLN3', 'MET', 'MYCN', 'AKR1B15', 'MUC12', 'BAI3', 'PNMA6A', 'LOC723809', 'XPNPEP2', 'LIPG', 'ST8SIA2', 'IL20RB', 'PCDH7', 'GLB1L2', 'CYS1', 'NEURL', 'FGF9', 'DMRTC1B', 'MYRIP', 'SCIN', 'CDH10', 'UPK3A', 'SLC35F3', 'TIMP4', 'GABRE', 'GPA33', 'ZBTB7C', 'IL6', 'FREM1', 'SLC7A2', 'ECEL1', 'NGEF', 'FOXP2', 'CXCL2', 'PPP4R4', 'DPCR1', 'MAB21L2', 'DLX5', 'ZCCHC12', 'ATP12A', 'MAP2', 'CILP2', 'KCND3', 'REN', 'MGP', 'AHNAK2', 'SCTR', 'ERP27', 'DOCK3', 'DLK2', 'ARMC3', 'PCDHGB5', 'SEMA3D', 'TRIM54', 'B4GALNT2', 'MAGED4B', 'CDCA7', 'COL12A1', 'PTCHD1', 'SOX6', 'TMEM189-UBE2V1', 'SOX2OT', 'NDRG4', 'PCDHA1', 'LCN12', 'OPCML', 'HSPB7', 'NPW', 'KSR2', 'C6orf142', 'NNMT', 'SPAG6', 'TUBB4', 'RERG', 'DCN', 'PDK4', 'LYPD1', 'ANK2', 'TFR2', 'IL7R', 'CNTN6', 'USH1G', 'PON1', 'EFS', 'MYH7', 'HSPB6', 'UBE2C', 'NPC1L1', 'CHDH', 'SULT1C4', 'CYP4X1', 'NMNAT2', 'FBXL16', 'TMEM163', 'NBLA00301', 'SLC6A1', 'FRAS1', 'KCNF1', 'TMEM82', 'CYP17A1', 'CYP11A1', 'LYZ', 'GRIN1', 'DLGAP5', 'C12orf53', 'FAM176A', 'FAM181A', 'BANK1', 'SLC26A7', 'IGSF10', 'SMTNL2', 'SCN9A', 'FBLL1', 'ARC', 'C4orf19', 'NCAN', 'PCDHA6', 'FOXL2', 'NRXN2', 'EXTL1', 'SNCB', 'SLITRK3', 'CES4', 'HS3ST4', 'C5orf46', 'KLC3', 'PAK7', 'SCAND3', 'IL12RB2', 'TNFRSF17', 'SLC26A3', 'SLC39A2', 'FOLH1', 'MS4A2', 'MEOX2', 'RGS6', 'HBB', 'SDC1', 'DNAH2', 'CNKSR2', 'MALL', 'ITIH3', 'BICC1', 'SLC22A2', 'RASGEF1C', 'STK32B', 'LRRK2', 'PPP2R2B', 'FAM131C', 'LAMP3', 'EPB41L4B', 'KL', 'KCNIP1', 'NCRNA00185', 'SEMA3C', 'SPSB4', 'PTPRN2', 'WSCD1', 'STEAP1', 'POU5F1', 'CLCNKB', 'EVPLL', 'TMEM145', 'ST6GALNAC2', 'CLDN16', 'APOA2', 'DOC2A', 'DDIT4L', 'CACNA1I', 'MAPK10', 'SERPINF2', 'KCNB1', 'FOXD3', 'UGT2B4', 'ASPDH', 'FER1L6', 'MYO1A', 'RAB3B', 'JSRP1', 'KREMEN2', 'CIDEC', 'QRFPR', 'CD70', 'TBX4', 'C13orf36', 'TARP', 'EDNRB', 'PTCHD2', 'COL1A2', 'TAT', 'ASPN', 'DNAH9', 'MUC20', 'MAGEA12', 'SHANK2', 'SLIT2', 'MAOA', 'ANKRD22', 'GLRB', 'ALG1L', 'FAM150B', 'RTN4RL1', 'PKHD1L1', 'CACNA2D2', 'VIT', 'PLEKHN1', 'LRRC2', 'SPEG', 'PLIN5', 'TMEM132D', 'ID4', 'FAM133A', 'ST8SIA3', 'FMO3', 'ADAMTS15', 'GABRG2', 'DMRTA2', 'IL13RA2', 'RNASE7', 'HEPN1', 'DTNA', 'SH2D3A', 'RERGL', 'C10orf82', 'ADAMTS12', 'SDK2', 'FIBIN', 'NXPH1', 'ENAM', 'ZFHX4', 'JPH4', 'BEND4', 'ADORA1', 'CBLN1', 'KCNA6', 'HSPB8', 'ZMYND10', 'CGN', 'GDF10', 'ALDH1A3', 'WDR66', 'APC2', 'NEGR1', 'CYP21A2', 'RARRES1', 'VAV3', 'SELP', 'PLCH2', 'DARC', 'BEST3', 'TPO', 'LOC728606', 'PCDH8', 'HCN2', 'ABI3BP', 'ANGPTL1', 'LPPR5', 'RASGRF1', 'ITGB8', 'NIPAL1', 'ABCB1', 'CD36', 'C6orf176', 'SCN4A', 'NTM', 'MEGF11', 'SLC4A8', 'PLXNA4', 'COL6A6', 'ENTPD2', 'CA2', 'LOC283174', 'IBSP', 'NR1I2', 'CYP27C1', 'RCOR2', 'IRF4', 'GPR64', 'CDCP1', 'RYR2', 'RSPO2', 'F10', 'GNAO1', 'LRRN3', 'TEKT2', 'BCL11A', 'WFDC5', 'PIPOX', 'ODAM', 'PTH1R', 'EPHA5', 'MAPK8IP2', 'MKX', 'OPRK1', 'MUC17', 'JPH3', 'MS4A15', 'GPR39', 'OLR1', 'NUDT10', 'NCRNA00086', 'MMP16', 'MT1M', 'UNC93A', 'ANO1', 'PLN', 'PLIN1', 'C10orf116', 'PACRG', 'TPSD1', 'GPR123', 'EPYC', 'STAC', 'CPE', 'ADH1A', 'C10orf90', 'PPL', 'SLC15A2', 'MDFI', 'SALL3', 'CPZ', 'CHD5', 'PDGFRL', 'HTRA3', 'GPR133', 'ZIC4', 'KCNK5', 'AURKB', 'PLCB4', 'SCN3A', 'FAM167A', 'C6orf174', 'IL1RL1', 'RGS11', 'CD38', 'LRRTM4', 'ITGB4', 'ATOH8', 'CDC42BPG', 'FSTL5', 'CACNA1D', 'APOC1', 'MFAP4', 'ACSL6', 'PDE11A', 'ADCYAP1R1', 'FAM178B', 'BAI2', 'MYO3B', 'TEX15', 'AFF2', 'IGLON5', 'C15orf59', 'OLIG2', 'DDX43', 'GJA3', 'TDRD9', 'RGS7BP', 'TTC39A', 'GATM', 'EFCAB1', 'PTGES', 'ZFR2', 'CASQ2', 'FOSL1', 'A2BP1', 'C6orf168', 'CNDP1', 'FLG', 'HYDIN', 'PADI2', 'MOGAT2', 'PLG', 'MGC45800', 'RBM24', 'PKIA', 'SLC30A10', 'UBE2QL1', 'G6PC', 'CGREF1', 'FAM46B', 'COL28A1', 'ANKRD1', 'CEL', 'DLG2', 'DMRT3', 'ALDH8A1', 'PPP1R9A', 'SGCA', 'RAB38', 'CYP26A1', 'SPIB', 'ALPP', 'C12orf39', 'CNTN2', 'SLC26A4', 'GTSF1', 'CDX1', 'COL5A1', 'VGLL3', 'CHRM3', 'NGFR', 'PRODH2', 'DNAH3', 'TROAP', 'GRID1', 'ROR2', 'RGS22', 'ZMAT4', 'P2RY2', 'VIPR1', 'WNT11', 'ZNF208', 'DHRS9', 'TCL1A', 'PCDHA13', 'CST4', 'SCN1A', 'GATA6', 'RSPO1', 'NKAIN2', 'SCUBE3', 'PNMT', 'COL4A4', 'OR51E2', 'GRIK4', 'WISP3', 'CACNA1G', 'TBX3', 'ATP6V0D2', 'ACOX2', 'MEOX1', 'F11', 'PREX2', 'FAM81B', 'CUBN', 'NEK2', 'CECR7', 'PIP5K1B', 'GALNTL2', 'SLC7A14', 'DSC2', 'SLC6A2', 'MYOC', 'PHYHD1', 'DOK5', 'TWIST1', 'MXRA5', 'F3', 'CXCR2P1', 'FABP5', 'TTLL6', 'SNURF', 'PHYHIP', 'MGAM', 'WNT3A', 'GPT', 'CYP2C8', 'FGF1', 'COLEC11', 'LRRIQ1', 'RHBDL3', 'B3GNT6', 'CBLN2', 'PPM1E', 'SPOCD1', 'PDE1C', 'UCN2', 'RASD1', 'CMTM5', 'PRRT4', 'SH2D5', 'LEFTY2', 'NTN1', 'C6orf105', 'HOPX', 'UNC13A', 'OXGR1', 'GBP5', 'PLEK2', 'STK31', 'PGLYRP4', 'FBP1', 'MCHR1', 'KCNH3', 'C11orf52', 'DOK7', 'CDC20', 'UBXN10', 'ADRB1', 'VSIG1', 'ASPM', 'BEX2', 'SCN3B', 'BTBD11', 'MAGEA9B', 'CDH6', 'C9orf125', 'APOE', 'C1orf161', 'C10orf107', 'ZDHHC15', 'CD300LG', 'PCDHB5', 'DNAJB13', 'CELF4', 'PRRX1', 'GGT3P', 'HRNBP3', 'HEPHL1', 'REEP1', 'KIAA1644', 'SLC6A3', 'FLJ42875', 'AMPH', 'PSD2', 'SLC35F1', 'BMP2', 'MARVELD3', 'PLS1', 'PRR11', 'S100A12', 'HTR3A', 'GALNT6', 'PRSS50', 'PTGFR', 'ZNF667', 'SLC7A3', 'KY', 'REEP2', 'SPESP1', 'GZMK', 'PPP1R3C', 'UPB1', 'KCNC2', 'PDZD4', 'PCDHA3', 'KRT78', 'PVALB', 'NLRP7', 'KRT81', 'ARSI', 'CHRNB2', 'CBLN4', 'GOLGA7B', 'NRXN3', 'ADAM33', 'CHST4', 'SORCS2', 'BIRC5', 'EMILIN3', 'CAMK2A', 'PRPH', 'SCUBE1', 'C1orf114', 'ENPP1', 'RSPO3', 'CHODL', 'CCDC8', 'F2', 'DMBX1', 'MPZL2', 'CYP8B1', 'TMEM61', 'SNCG', 'TNFSF12-TNFSF13', 'STC2', 'PDGFRA', 'ERBB3', 'RGS7', 'SLC1A1', 'CENPA', 'FADS6', 'E2F8', 'HSD11B1', 'FN1', 'ARNT2', 'GZMB', 'CNFN', 'PGM5', 'ZNF676', 'NLGN4X', 'LOC153328', 'AJAP1', 'SAMD11', 'GPR143', 'SMAD9', 'HAO2', 'SV2B', 'LEPREL1', 'KBTBD11', 'ITPKA', 'PNOC', 'FMO5', 'SLAMF7', 'CORO2B', 'CLDN11', 'DPY19L2', 'CEND1', 'MGAT4C', 'COL4A5', 'SLC1A6', 'CPB2', 'SLC4A11', 'MAST1', 'IGSF21', 'LOC100124692', 'FHL1', 'ABCA4', 'IGFBP2', 'PHLDA2', 'SRPX2', 'GYG2', 'ZNF114', 'TGFA', 'TMSB15A', 'CCK', 'C2orf89', 'CHAD', 'CACNA1E', 'CLEC18B', 'LPL', 'LIN7A', 'DRD2', 'SGSM1', 'CLDN9', 'HAS2', 'ANGPTL7', 'ARHGEF16', 'FAM57B', 'KIF14', 'PERP', 'VWA5B2', 'MCTP2', 'SLC9A4', 'SLC7A9', 'GRHL1', 'MGAT3', 'HOXC4', 'LRRC7', 'HLA-DQB2', 'CSAG1', 'LOXL4', 'ASXL3', 'ANGPTL4', 'CAMKV', 'MAGEA1', 'CEP55', 'ABCC6P2', 'CBS', 'MOXD1', 'GPR172B', 'ISLR', 'SLC47A2', 'CLDN6', 'F12', 'PRND', 'BLK', 'NPM2', 'EPR1', 'KIF18B', 'GCOM1', 'MT1A', 'SLC24A3', 'DUSP15', 'MELK', 'SLIT3', 'UGT1A8', 'ABCA6', 'PCSK6', 'TMEM132B', 'CPNE7', 'VCAN', 'KCNH6', 'HCN4', 'PDLIM4', 'KCNN2', 'LRP4', 'SIX4', 'OSR1', 'CPAMD8', 'C3orf55', 'ACAN', 'MPPED1', 'FAM84A', 'IL1F9', 'ZDHHC8P1', 'PARM1', 'TMEM213', 'ESYT3', 'SVOPL', 'LOC654433', 'LOC154822', 'XK', 'FOXF2', 'TRIM63', 'FAM110C', 'MAMDC2', 'RNF165', 'FRMD3', 'HRG', 'GHR', 'DSCR6', 'B4GALNT1', 'NOS2', 'QPRT', 'RARRES2', 'SGCD', 'ADAM22', 'CYP2A6', 'PRELP', 'ADAMTSL3', 'C8orf4', 'JPH2', 'COLEC12', 'ANO3', 'SORBS2', 'TMEM176A', 'KCP', 'TM4SF19', 'LOC150622', 'RSPH1', 'HAL', 'SLC5A9', 'MMP17', 'ESM1', 'LRRN4CL', 'CPXM1', 'PNPLA3', 'DDN', 'RMST', 'KLHL4', 'SYCP2', 'GPR37L1', 'DEPDC1', 'LEFTY1', 'TNFSF11', 'APOC3', 'COX6B2', 'PRTG', 'KCNJ4', 'ECHDC3', 'KLHDC7B', 'CNTN4', 'KIAA0319', 'FCER1A', 'CHRNA1', 'TPRG1', 'CFI', 'LOC100127888', 'PAX3', 'CD207', 'KYNU', 'SLC17A1', 'CSPG5', 'TP73', 'NSUN7', 'SLC25A18', 'CNGB1', 'VNN3', 'SKAP1', 'NRG2', 'RTN1', 'CYP3A7', 'FBLN1', 'C20orf54', 'DYNC1I1', 'CTXN1', 'SLC7A11', 'ZNF334', 'ZFP57', 'TBX15', 'SPINT2', 'INMT', 'CCDC108', 'MDGA2', 'ADRA1B', 'MRO', 'IGFALS', 'SEMA5B', 'HMGCLL1', 'EGFR', 'KIRREL2', 'MYEF2', 'TSPAN7', 'LCN10', 'CGNL1', 'IFI27', 'VAX2', 'HRASLS2', 'WNT4', 'C17orf93', 'SERTAD4', 'DGKB', 'CCL22', 'MAP6', 'CRISPLD1', 'SULT2A1', 'TP53AIP1', 'HBA2', 'ARMC4', 'PRRG2', 'FAM184B', 'HOXA5', 'ADAMTS8', 'ABAT', 'LY6H', 'SLC16A4', 'SULF1', 'PCBP3', 'ARNTL2', 'HOXA3', 'TNC', 'CPA6', 'CLSPN', 'GABRQ', 'INPP5J', 'GPR1', 'HOXC5', 'PP14571', 'RBP1', 'EXO1', 'TRPM3', 'FAM70A', 'TMEM132E', 'GRAMD2', 'KIT', 'PSAT1', 'KIAA1211', 'E2F7', 'TTBK1', 'COL21A1', 'AHSG', 'FAM155A', 'ALK', 'SLC38A11', 'ASS1', 'GPR128', 'CASQ1', 'PRKCG', 'SAMD5', 'CCNO', 'CYP1B1', 'HOMER2', 'C8orf79', 'FCRL3', 'IQSEC3', 'PRKG2', 'PRR18', 'TAC1', 'CNTD2', 'COL14A1', 'CPN2', 'C19orf59', 'LYPD2', 'ARHGAP6', 'MFI2', 'MMEL1', 'PYGM', 'ANGPTL3', 'EPHB1', 'P2RX6', 'NOS1', 'PGLYRP2', 'CPXM2', 'GFRA2', 'NKX2-3', 'UPK1A', 'GRM5', 'SYT3', 'EFR3B', 'FAM19A5', 'DCAF12L1', 'CLIC5', 'PLA2G2F', 'RNF43', 'IGSF9B', 'PRR5-ARHGAP8', 'CDH26', 'ADCY1', 'UNC5CL', 'SRMS', 'SNX31', 'CYP2E1', 'SLAIN1', 'GPR126', 'CDC45', 'HOXB2', 'ANK1', 'ULBP2', 'EFCAB4A', 'ASPHD1', 'CCBE1', 'C6orf15', 'POLQ', 'LOC146336', 'SOX9', 'TNFRSF18', 'CR1', 'NDUFA4L2', 'RIMKLA', 'AQP6', 'GPIHBP1', 'CYP4Z1', 'HMCN1', 'CYP39A1', 'SIGLEC8', 'EPHB3', 'LMO1', 'HPDL', 'RHBG', 'C8orf80', 'MICALCL', 'RAET1L', 'GGTLC1', 'GRIN2D', 'CKB', 'ALX1', 'DAO', 'SEMA3A', 'C3orf52', 'KIF20A', 'NUF2', 'DCHS2', 'KCNT2', 'LINGO1', 'ITGA11', 'SLC2A5', 'CLEC2L', 'PLK1', 'FGF14', 'KMO', 'TTK', 'HTR1D', 'THBS2', 'PANX2', 'RASSF9', 'WISP1', 'CLDN19', 'NKX2-5', 'LRRC4B', 'LGSN', 'ASCL2', 'CMYA5', 'ITGB3', 'PAX5', 'PCLO', 'PPYR1', 'CX3CR1', 'CCDC68', 'F2RL1', 'GDAP1L1', 'IGFBPL1', 'ODZ4', 'ZNF695', 'GLIS1', 'ZNF365', 'TOP2A', 'TGM5', 'ADCYAP1', 'AMH', 'SYBU', 'GGTLC2', 'TMEM178', 'MST1P9', 'HSH2D', 'LTK', 'ISL2', 'ZNF229', 'SRPX', 'COL11A2', 'SERPINE2', 'SRD5A2', 'SLC13A3', 'EPHB6', 'APBA2', 'SYT6', 'ZSCAN1', 'IKZF3', 'CDCA2', 'ASB5', 'BEX5', 'LRRC55', 'RRM2', 'FBXO2', 'ROPN1B', 'SLCO4A1', 'SP8', 'C2CD4B', 'EGLN3', 'TMEM150B', 'LOC440925', 'GPNMB', 'NKX2-8', 'DLX2', 'CLCNKA', 'PID1', 'PGLYRP3', 'LRFN5', 'MFSD2A', 'NOG', 'MPP7', 'PCDHAC1', 'HYAL1', 'C3orf72', 'KAL1', 'PAQR5', 'EFNB3', 'CELSR1', 'ADH4', 'P2RY12', 'HOXD9', 'GCGR', 'IL11', 'RDH16', 'LOC100131726', 'WBSCR26', 'SPEF1', 'BDKRB1', 'SALL4', 'GPR160', 'CSMD3', 'FMN1', 'C13orf33', 'PTPRR', 'SCD5', 'EPHA3', 'MCM10', 'MEP1A', 'SHANK1', 'SLC24A5', 'FAM20A', 'WIT1', 'ACHE', 'CDC25C', 'HLA-DQA2', 'GNMT', 'THSD7B', 'SIM2', 'GLOD5', 'TIMD4', 'UNC5C', 'MOCOS', 'ST8SIA6', 'CHST13', 'ADAMTS19', 'BAMBI', 'FGF11', 'KCNJ11', 'NEB', 'ANLN', 'ABCA3', 'KCNJ13', 'SLC5A10', 'CKAP2L', 'VWCE', 'GGT1', 'CNIH2', 'C17orf28', 'NRSN1', 'MMP28', 'SEZ6L2', 'FGF12', 'STMN4', 'GABRA2', 'DUSP4', 'ATP2B3', 'GUCY2C', 'CABP1', 'NPTXR', 'NAP1L3', 'HJURP', 'FCN1', 'NPY6R', 'CD22', 'PDE1A', 'OSBPL6', 'CNGA1', 'KIF2C', 'OCLN', 'GSTM5', 'FLJ40330', 'PPFIA4', 'BMPER', 'CRIP1', 'PCDHGB1', 'NETO1', 'WDR86', 'TH', 'KCNC1', 'DSCAM', 'PCDHGB7', 'FAM150A', 'MECOM', 'SRPK3', 'ELN', 'ISM1', 'IQGAP3', 'AMDHD1', 'CD1E', 'C8orf84', 'FMOD', 'STC1', 'KLKB1', 'NR2E1', 'SLC30A8', 'ZDHHC22', 'C21orf88', 'NOX4', 'CYP1A1', 'TMEM105', 'SMOC2', 'HAMP', 'SGOL1', 'SHROOM3', 'FGFR2', 'FCRL2', 'CD3D', 'C21orf34', 'CPN1', 'ELOVL4', 'PODNL1', 'APOBEC3A', 'FAM160A1', 'IL1RL2', 'HECW1', 'COL5A2', 'LDHC', 'CASC1', 'HDC', 'ERMN', 'DAPP1', 'GJB7', 'ELMOD1', 'CRCT1', 'FOXF1', 'CLEC10A', 'PCDH15', 'PLA2G5', 'TUB', 'SPTBN4', 'RORB', 'FAM83D', 'HS3ST2', 'TMEM158', 'JAKMIP3', 'CAPSL', 'TC2N', 'SBK1', 'MKI67', 'DNAH7', 'HAPLN4', 'FLT3', 'GLT1D1', 'MATN3', 'NBEA', 'SLC8A3', 'MYL3', 'CACNA2D3', 'SOHLH2', 'KIF4A', 'KCNK9', 'MMRN1', 'TERT', 'SV2A', 'PODN', 'CD1C', 'TWIST2', 'C2orf65', 'HOXD4', 'C11orf53', 'NR0B1', 'KCNIP3', 'IGF1', 'TPX2', 'CORO6', 'ALOX12B', 'FRMPD1', 'JAKMIP1', 'ADRA2A', 'BUB1', 'HOXB3', 'ATP13A5', 'RNF157', 'KIRREL3', 'STEAP2', 'FGF13', 'C14orf132', 'COL9A2', 'ALPPL2', 'PAPL', 'EFHC2', 'SDPR', 'PPP1R1C', 'EFNA5', 'CA3', 'HSD11B2', 'IGFBP6', 'TMPRSS11A', 'RNF150', 'CCL28', 'KCNMB2', 'SLC4A3', 'TRPV4', 'GPC5', 'TNN', 'EFEMP1', 'MYBPC2', 'TM7SF4', 'ENKUR', 'FAM196B', 'SAMD12', 'CNGA3', 'FAM153A', 'SHISA6', 'NEIL3', 'CCNB2', 'NKX6-1', 'RBM11', 'AIF1L', 'PDE3A', 'C11orf93', 'SLC7A5', 'SPON2', 'THPO', 'BAIAP3', 'SDK1', 'PLEKHA6', 'GAS1', 'CRHR1', 'POU3F1', 'LOC100126784', 'C6orf138', 'EFNA2', 'SYPL2', 'ZNF883', 'CD3G', 'CATSPERB', 'RTBDN', 'C9orf122', 'RHOD', 'FAM38B', 'FBXO17', 'PPARG', 'ITIH5', 'HOXD1', 'DDR2', 'SMC1B', 'CNTNAP4', 'PLD5', 'KCNMA1', 'DIO3', 'DUSP27', 'KCNN1', 'EPHX4', 'NKD1', 'CFHR1', 'ANKRD35', 'ZNF486', 'PBK', 'NKD2', 'HUNK', 'TFPI', 'IGDCC4', 'LOC100130238', 'PAK6', 'SERPINE1', 'FETUB', 'DIRAS3', 'SLC6A4', 'KCNH1', 'RHBDL2', 'G0S2', 'CYP3A4', 'PAX1', 'KIAA1045', 'ADAMTS2', 'LOC201651', 'KCTD14', 'RALYL', 'PTX3', 'SOX5', 'GSTO2', 'NACAD', 'ITIH4', 'SDCBP2', 'MPV17L', 'MPP2', 'ISX', 'LDOC1', 'PAK3', 'LAMC3', 'ACCN4', 'HOXD3', 'SIRPG', 'PKMYT1', 'HCG4', 'HPSE2', 'MYO16', 'KPNA7', 'LIFR', 'TMEM215', 'UGT2B11', 'ADRA2C', 'HTR2C', 'FOXM1', 'DOC2B', 'SYNPO2', 'SOX1', 'KCNG3', 'MAGEC2', 'OIT3', 'SLC17A9', 'CRHBP', 'CPNE6', 'P2RY1', 'AKR1C4', 'ROR1', 'TSPAN12', 'C2orf62', 'MAGEL2', 'TNFSF9', 'NFASC', 'IL2RA', 'PLA2G4E', 'THBS1', 'GALNT12', 'GUCY1B2', 'FGF19', 'ZNF280B', 'LOC613037', 'ABCB5', 'RHOF', 'XKRX', 'OSTBETA', 'XIRP1', 'SYNGR3', 'PDE4C', 'RAB39B', 'TSPYL5', 'TMEM27', 'PACSIN1', 'SLC29A4', 'CSAG2', 'C8orf34', 'BTC', 'TCAM1P', 'TLL1', 'SELENBP1', 'CASC5', 'CCDC135', 'PDE6B', 'ESPL1', 'RNF180', 'NCAPH', 'LOC441869', 'C2', 'SHC4', 'GPR27', 'ART4', 'ENPP6', 'CDH18', 'FCN3', 'B3GALT2', 'SFTA1P', 'SNX32', 'ADARB2', 'HOXD8', 'BRSK1', 'PAPPA', 'CENPF', 'GRM8', 'LOC441666', 'CENPI', 'SNCA', 'CACNA1H', 'FAM184A', 'LOC643008', 'LRCH2', 'THSD7A', 'PPFIA2', 'CRP', 'RPH3A', 'GDF5', 'ANXA9', 'TM6SF2', 'AGMAT', 'GNLY', 'TSPAN10', 'VDR', 'CHRNA2', 'EBF2', 'ANKRD29', 'PLXNC1', 'PODXL2', 'CXADR', 'PCDHGA10', 'LMOD1', 'GFPT2', 'UGT1A7', 'PSORS1C2', 'TNFRSF9', 'TNIP3', 'UGT2B10', 'SLC22A17', 'CLDN14', 'STAP1', 'DRP2', 'CORO2A', 'KIAA1755', 'REEP6', 'TMEM84', 'SPRR2F', 'EPHA6', 'SHC3', 'ZBP1', 'CDH8', 'TMEM37', 'PKD1L2', 'LRRC4', 'LAX1', 'GDF6', 'SLC1A3', 'PCDHGC5', 'SULT1B1', 'ICOS', 'VANGL2', 'TMEM176B', 'KIF15', 'SRRM4', 'LOC399959', 'LOC284578', 'PRSS35', 'CSMD2', 'SIGLEC12', 'KCNK1', 'MYO18B', 'PRKCQ', 'CHRNB4', 'KIF23', 'ARSF', 'GRAMD1B', 'DGKI', 'TTLL7', 'CRB1', 'DGCR9', 'SYCE1', 'ST8SIA1', 'SUCNR1', 'SERINC2', 'SPTBN2', 'PLA2G4D', 'IL33', 'RDH12', 'PKDCC', 'LOC100130872', 'TRIM17', 'RPS27', 'PSD', 'LOC285629', 'C7orf51', 'FAM198A', 'BTBD16', 'PLAC1', 'FAM132A', 'LOX', 'FNDC5', 'GPRC5B', 'NNAT', 'GATSL2', 'FGFBP2', 'IL32', 'LOC647309', 'SLC16A11', 'GSC', 'SOD3', 'TTPA', 'NKX3-2', 'CD8B', 'IL2RG', 'COL29A1', 'S1PR5', 'FAM110B', 'IGFBP5', 'WDR49', 'ACCN2', 'SLC22A7', 'ELMO3', 'GABRG3', 'CHRNA3', 'C1QTNF7', 'FCGR3B', 'ZNF683', 'HAS1', 'TUBAL3', 'LRRTM2', 'TNFSF15', 'HOXB4', 'FAM149A', 'PDE9A', 'PLD4', 'PCDHA2', 'NKX3-1', 'PGA3', 'KLHL32', 'DGKG', 'FAM64A', 'ACCN1', 'SKA1', 'PDZRN3', 'EBF3', 'NAV3', 'CCDC136', 'LYVE1', 'ADAMTS18', 'GABRA5', 'RGS4', 'SLC5A5', 'KLHL13', 'LTB', 'CD2', 'LOC220594', 'CDH11', 'LIF', 'LY9', 'SSPO', 'KCNA1', 'FAM13C', 'FAM190A', 'POU4F1', 'C14orf64', 'SH2D1A', 'PCDHA5', 'GPC2', 'LOC134466', 'ICAM4', 'CLEC5A', 'SPOCK2', 'IL1B', 'ACTL8', 'UMODL1', 'SIDT1', 'SCN4B', 'NPR1', 'TRAT1', 'RAET1E', 'CA14', 'MORN5', 'MT1E', 'C21orf15', 'CTSW', 'GSG1L', 'DKFZp434J0226', 'PLAC9', 'SLFN13', 'BAIAP2L1', 'ZNF560', 'SLAMF6', 'FHL5', 'HS3ST6', 'ADM2', 'TUBB3', 'HOXA4', 'REG3A', 'LDB3', 'KRT31', 'SNCAIP', 'ALOXE3', 'LOC100131551', 'CCDC74B', 'SVOP', 'LOC338651', 'PTPN5', 'F13A1', 'UGT3A2', 'TCEAL7', 'SERPINF1', 'RFPL1S', 'CCKBR', 'C17orf55', 'ADRA1A', 'PGBD5', 'C6orf155', 'TIGIT', 'BTNL8', 'GPR17', 'GPC6', 'SLC1A7', 'MAGEA11', 'RNF39', 'RLTPR', 'CXorf57', 'NTSR1', 'NLGN3', 'CAMK2N2', 'GLTPD2', 'TMEM200C', 'GULP1', 'SLC18A2', 'TCEAL5', 'CCDC85A', 'ATP8A2', 'PLAU', 'SGEF', 'CD3E', 'SLCO5A1', 'ZNF826', 'ESPNL', 'TACR1', 'RNF112', 'OLFM2', 'DAAM2', 'FLRT2', 'KLK14', 'TOX', 'UPK2', 'CTSK', 'SKA3', 'GLDN', 'CCNI2', 'RASL11B', 'FLRT1', 'SUSD2', 'FCER2', 'PCDHGC4', 'ZNHIT2', 'KCNV1', 'LOC284276', 'TRIM7', 'INHBB', 'TNR', 'B3GNT7', 'LYNX1', 'SP6', 'CNTNAP3', 'DLX6AS', 'SRRM3', 'SPATA18', 'TNNI2', 'ALDOC', 'SLC17A7', 'CCDC151', 'P2RY10', 'PCDHGB2', 'ETV1', 'DNAI1', 'CREG2', 'ITGA2', 'SLC45A2', 'CCL8', 'FIGF', 'SIM1', 'MAB21L1', 'UGT1A3', 'GZMA', 'SYNPR', 'FAM83G', 'IL24', 'CHST1', 'SLC6A10P', 'ASGR2', 'PRMT8', 'ERAP2', 'MTL5', 'BNC2', 'MEIS3', 'GABRD', 'ZBTB8B', 'ANKRD45', 'SLC7A10', 'HGFAC', 'CDS1', 'ITIH1', 'PCDH11X', 'LGI1', 'CACNA1A', 'C21orf125', 'SEMA6D', 'COL25A1', 'C10orf93', 'CCDC80', 'PAPPA2', 'APOF', 'MED12L', 'TRIL', 'FAM180A', 'GLI2', 'CD27', 'C1orf194', 'LY75', 'MAEL', 'DYDC2', 'IL17D', 'CASP14', 'FFAR2', 'KCTD8', 'AOC3', 'THSD4', 'KIAA1409', 'ESCO2', 'AFP', 'ZSCAN23', 'WNK3', 'SCARA3', 'ZMAT1', 'COL15A1', 'BEND5', 'EOMES', 'ANKRD2', 'TKTL1', 'RAI2', 'TSPAN2', 'LOC400043', 'SYP', 'SPARCL1', 'KLB', 'MARVELD2', 'NRN1', 'LAMA2', 'LMTK3', 'ADAMTSL5', 'BUB1B', 'EGOT', 'TNNC2', 'LOC286467', 'ISM2', 'FAM151A', 'PCDHGB4', 'NECAB1', 'LRRTM3', 'MYOZ1', 'BTNL9', 'C6orf97', 'CARTPT', 'NFE2', 'OR7E91P', 'CDH20', 'SORBS1', 'AGPAT9', 'KCNQ3', 'ADAMTS14', 'NXNL2', 'TNFRSF19', 'SYN1', 'PTPRQ', 'RAB19', 'PYHIN1', 'CXCR5', 'EDA2R', 'SIT1', 'FAM171A2', 'RND1', 'SHC2', 'NOX1', 'ADM', 'CCR7', 'HS3ST5', 'GTSE1', 'CDC42EP5', 'SH3TC2', 'ACTA1', 'C19orf51', 'SYNM', 'TCL6', 'ADORA2B', 'PRKG1', 'DPY19L2P4', 'JPH1', 'ZNF257', 'VCAM1', 'LRRC50', 'ZNF626', 'GJA1', 'KLHL35', 'LOC284749', 'RP1', 'TCEA3', 'C16orf74', 'CARD14', 'ASTN2', 'C15orf42', 'CDA', 'FZD9', 'TSPAN11', 'RUNX1T1', 'RADIL', 'TMEM200A', 'RAPGEFL1', 'LOC162632', 'CYP4Z2P', 'CCR4', 'P2RX7', 'LGALS9B', 'HOXA6', 'NCAPG', 'SLC4A10', 'NFATC2', 'ARTN', 'FGF2', 'PIWIL1', 'C7orf52', 'SVEP1', 'HIST3H2A', 'FLJ45445', 'CAMK2N1', 'RASGEF1A', 'LOC90246', 'SRCIN1', 'CTLA4', 'RAD54L', 'KISS1R', 'CD109', 'LRRC8E', 'LEP', 'SMPD3', 'CALCA', 'AKAP6', 'CD96', 'C4orf39', 'RGS9', 'GSTT2', 'KCNJ12', 'LGALS12', 'TRPV3', 'BDKRB2', 'WNT5A', 'GNG7', 'ZNF98', 'C11orf70', 'C8B', 'CENPE', 'CLEC3B', 'MFAP3L', 'CLEC18A', 'GPR173', 'DCT', 'BATF', 'HHIPL2', 'ZNF711', 'KLRB1', 'P2RX1', 'CCL17', 'ITK', 'CACNG7', 'CLEC12A', 'DKK2', 'RAB26', 'RFX4', 'MSC', 'TRIM36', 'QPCT', 'CXCR3', 'REC8', 'LIN28B', 'TMEM200B', 'ASB2', 'RAET1G', 'COL13A1', 'CCR2', 'IGSF5', 'OR51E1', 'NXPH3', 'ACBD7', 'SILV', 'SUSD5', 'NEURL3', 'SLC10A4', 'HCN1', 'SEMA3B', 'B3GNT4', 'SLC12A1', 'FRMD1', 'SLITRK1', 'IQGAP2', 'P4HA3', 'ILDR2', 'MYOT', 'PLAG1', 'CD5L', 'FAM131B', 'EFCAB4B', 'ATP8A1', 'SLURP1', 'GLIS3', 'C9orf169', 'TSLP', 'CACNB4', 'MYO5B', 'NKG7', 'BHLHE41', 'AIM1', 'SDS', 'FAM134B', 'VWA3B', 'LILRA4', 'CDR1', 'CKM', 'VNN2', 'MARCH4', 'FAM47E', 'NAT2', 'CACNG6', 'SALL2', 'ASRGL1', 'OASL', 'FPR2', 'ANKRD34B', 'ALPL', 'PRDM8', 'COL8A2', 'CADM1', 'RPL9', 'CHRD', 'HLA-DRB6', 'DRD1', 'KIRREL', 'PTGER2', 'ANXA1', 'UBASH3A', 'GCNT1', 'FAM183A', 'AMTN', 'AVPR1A', 'LRFN2', 'PCDHGA12', 'GNA15', 'C1orf175', 'ZNF385D', 'HSPB3', 'PKIB', 'LHX9', 'TPD52L1', 'ID1', 'ZNF727', 'C1orf110', 'C11orf87', 'GCKR', 'SEMA6A', 'SLAMF1', 'RPL39L', 'IL21R', 'ORC1L', 'FAAH2', 'APLN', 'CYP4F8', 'ATP6V1G2', 'FGF18', 'SPRR2G', 'KLRC2', 'CETP', 'KCTD16', 'HRCT1', 'TNFSF10', 'THNSL2', 'PHEX', 'CD8A', 'PSAPL1', 'HMMR', 'MFSD4', 'C9orf140', 'HEPH', 'HGF', 'CD5', 'DPYSL3', 'FAM163A', 'C2CD4C', 'LPPR4', 'ASGR1', 'FAM43B', 'DNAJC6', 'LIMCH1', 'SNORD116-28', 'KRT86', 'MRC1', 'CARD11', 'ATP8B1', 'SLC22A12', 'INHBE', 'C2orf70', 'SLC2A4', 'USP2', 'FBLN2', 'NAPSB', 'CPLX3', 'GADD45G', 'C1S', 'UHRF1', 'ABCB4', 'C9orf84', 'BCL11B', 'DOK6', 'PCDHB2', 'RAP1GAP', 'PLBD1', 'ITGA3', 'HOOK1', 'DKFZp686O24166', 'SLN', 'FAM196A', 'APCS', 'PTPRO', 'APOBEC3B', 'GPR35', 'CDCA8', 'E2F2', 'KIFC1', 'GZMH', 'GPC4', 'PDE3B', 'BDNF', 'FIGN', 'EPHB2', 'HLA-DQA1', 'PLLP', 'EPHA2', 'NTF3', 'FEZ1', 'ZNF703', 'MYBPH', 'COL27A1', 'MAP1B', 'SLC30A3', 'MRGPRF', 'CRIP3', 'CLEC18C', 'ADAM28', 'LRRC10B', 'KCNE4', 'BCAM', 'PCDHGA2', 'TMEM45A', 'GXYLT2', 'NRTN', 'TREH', 'DPY19L2P2', 'OMG', 'ZNF135', 'MYOM1', 'L1TD1', 'HSD17B13', 'TUBA3D', 'GATA2', 'NR2F1', 'TRAM1L1', 'OTC', 'ZNF578', 'FAM123A', 'PLEKHH1', 'LOC284233', 'ABLIM3', 'TINAGL1', 'FAM83H', 'INHA', 'C1orf170', 'MGC42105', 'ENPEP', 'BCL2L10', 'GSDMA', 'TNFRSF13B', 'KIAA1543', 'IL17RB', 'PDCD1', 'C3orf70', 'LHX1', 'ENOX1', 'HS3ST3A1', 'CYP2D6', 'LOC100144604', 'SERPINC1', 'PLA2R1', 'PAR5', 'GRPR', 'SNAI2', 'IL17RD', 'PLEKHG7', 'TMEM232', 'ACVR1C', 'CCNA2', 'ABCG2', 'TMEM154', 'MAP9', 'CYTL1', 'LOC647946', 'LINGO4', 'DLX4', 'PVRL3', 'CARNS1', 'MIAT', 'LOC728392', 'FAM123C', 'HLA-G', 'RDH5', 'CCDC19', 'CYSLTR2', 'BCAT1', 'MAPK13', 'ZFPM2', 'PAQR9', 'ERCC6L', 'C20orf26', 'MTUS2', 'ACSBG1', 'FNDC4', 'CALY', 'FRK', 'FEZF1', 'KLK9', 'NUP62CL', 'C2orf39', 'TSHZ2', 'CLEC4E', 'APCDD1', 'HOXA1', 'WNT9A', 'APLNR', 'PDLIM3', 'RNASE4', 'PTPN22', 'SLC24A2', 'ANGPT1', 'SERPINA10', 'MGC87042', 'ARG1', 'ADRB2', 'FABP3', 'C10orf79', 'TMEM119', 'FXYD6', 'DEPDC1B', 'SCN5A', 'CDH15', 'RGS5', 'FCRL1', 'FCHO1', 'KCNA3', 'SLC45A3', 'NOSTRIN', 'TTC36', 'FADS2', 'TUSC3', 'GAL3ST2', 'ANKFN1', 'ADHFE1', 'ETV7', 'IL6ST', 'LGI4', 'GAS2L3', 'NR3C2', 'CCL5', 'C9orf71', 'CREB5', 'SNTN', 'THEMIS', 'TPPP', 'GRIK1', 'CCDC144B', 'MLANA', 'CCDC78', 'ACSL5', 'SCML4', 'COL19A1', 'DHDH', 'KIAA1804', 'PRSS33', 'PRKCB', 'ALS2CL', 'ARSJ', 'ZNF702P', 'LCK', 'SYNC', 'ZNF471', 'TRDN', 'GPRC5C', 'FCGR2B', 'ABCA9', 'TRO', 'PITPNM3', 'TLE6', 'RASL10B', 'CHRNA7', 'SARDH', 'WFDC1', 'EMB', 'OR2W3', 'PABPC1L2B', 'KCNT1', 'CGB7', 'CDKN3', 'SRL', 'ARHGAP20', 'SYCE1L', 'AQP2', 'SPC24', 'CD7', 'PCDHB11', 'LOC100192378', 'NTN4', 'DNASE2B', 'FAM25A', 'WASF3', 'LDHD', 'ANKRD30B', 'FOXL1', 'ANKRD30A', 'C19orf26', 'EMR1', 'BCL2A1', 'GPAT2', 'DYNLRB2', 'C6orf27', 'GPR88', 'MEX3A', 'SGIP1', 'DGAT2', 'LOC339674', 'SIGLEC14', 'C8orf31', 'C7orf58', 'CH25H', 'MMP2', 'SFRS13B', 'PLUNC', 'L3MBTL4', 'KIF6', 'CELSR3', 'COL24A1', 'BEND6', 'GLS2', 'TFEC', 'AMIGO2', 'ULBP1', 'TMEM52', 'PCDHB6', 'SPHKAP', 'ACOXL', 'NRG4', 'MAGEC1', 'TNXB', 'CASR', 'TRPM6', 'FGF7', 'CHRNA5', 'GPR12', 'ST18', 'ST8SIA5', 'EDN1', 'TUSC5', 'DEPDC7', 'SIX3', 'FBXO27', 'NCRNA00093', 'DPY19L2P1', 'LILRA3', 'ITGA9', 'SIGLEC6', 'SERPINB11', 'RBP7', 'ABCC9', 'C8G', 'ZNF835', 'PTPN13', 'BRIP1', 'CBX2', 'CAPS', 'DLEC1', 'SPTLC3', 'MN1', 'XKR9', 'ALPI', 'TGFB2', 'LOC441204', 'LOC284837', 'HLA-DRB5', 'KIF19', 'ARHGEF35', 'ART3', 'AKAP12', 'MYH15', 'PDE10A', 'NBPF4', 'ANG', 'UST', 'GSDMB', 'SPC25', 'CD52', 'GPR114', 'FRMPD2', 'DDO', 'RLBP1', 'NAP1L6', 'FHOD3', 'SLC2A1', 'TDRD1', 'C12orf59', 'DCLK2', 'CRMP1', 'RHOH', 'HK3', 'RASGRP1', 'LILRB5', 'ARL4D', 'C6orf165', 'MT1X', 'C4orf48', 'LRRC3B', 'AQP1', 'PYGO1', 'CFH', 'FAM174B', 'MT1L', 'BEND7', 'ZAP70', 'HLA-DOB', 'HES6', 'IGFBP3', 'TUBA4B', 'SPINK4', 'PLA2G4A', 'ERC2', 'KIF26B', 'CCNJL', 'GLI1', 'PAMR1', 'BIRC3', 'DLGAP3', 'LINGO2', 'TDRD10', 'CXCR6', 'SULT1A2', 'MESP1', 'MDH1B', 'GSG2', 'C22orf45', 'NCKAP5', 'SLC22A18AS', 'HIST1H2BH', 'CPT1C', 'STON1-GTF2A1L', 'HSPB2', 'C3orf67', 'CACNG1', 'HFM1', 'DLGAP2', 'DCAF12L2', 'NCRNA00092', 'ACP5', 'FEV', 'TLR8', 'KIAA1324L', 'EFHA2', 'IGF2AS', 'LSR', 'RASD2', 'MYOM2', 'MOBP', 'STAR', 'C1QTNF4', 'SLC16A7', 'LAG3', 'AATK', 'IL22RA2', 'C11orf86', 'GRIN2C', 'CYP2C19', 'BHLHA15', 'COL20A1', 'DACH2', 'DNAH6', 'IFI44L', 'KIAA0748', 'PCDHA7', 'SPERT', 'CYP26B1', 'RTDR1', 'VWA3A', 'NRIP3', 'CIDEA', 'NQO1', 'LIMS3', 'ADAMTSL1', 'PRAC', 'SLCO1C1', 'CD84', 'GLI3', 'PYCR1', 'CDC6', 'ZNF521', 'CSF2', 'TMED7-TICAM2', 'BEGAIN', 'CYP46A1', 'GPR19', 'IQUB', 'CD209', 'IFNG', 'GAS2', 'SIGLEC15', 'WDR63', 'TRIP13', 'ELOVL7', 'LOC728264', 'SLAMF9', 'SHISA7', 'DERL3', 'PAQR6', 'SH2D2A', 'SEMA5A', 'KCNE1', 'CACNB2', 'ZNF556', 'HIST1H2BG', 'ATG9B', 'MPZL3', 'PCDHGA9', 'TMEM169', 'C4orf49', 'SYT2', 'CCND2', 'ECM1', 'CTAG1B', 'LOC400696', 'CSPG4', 'DAB1', 'LGALS9C', 'SI', 'RAB3C', 'OIP5', 'CAPN14', 'C2orf88', 'C5orf20', 'SUSD3', 'MYT1L', 'LRRC17', 'TAGLN', 'GNA14', 'SSTR2', 'MARK1', 'B3GNT8', 'PIF1', 'THRB', 'ZNF492', 'SEMA4G', 'AMZ1', 'SYT17', 'ABCD2', 'ZNF204P', 'LTBP2', 'EGR3', 'SOBP', 'HPCA', 'WDR62', 'TM4SF1', 'SLC22A6', 'GPER', 'TMCC2', 'LRRC66', 'RICH2', 'GRIP1', 'XCL1', 'NDC80', 'CDH23', 'NR4A3', 'ZNF677', 'DPF3', 'FOS', 'PLAC4', 'PSORS1C1', 'C14orf34', 'PPBP', 'CTAGE9', 'IPW', 'ZNF831', 'KIAA1210', 'SSC5D', 'PSG4', 'PLAT', 'VSIG4', 'GPR162', 'AMPD1', 'HLA-DQB1', 'ARHGAP28', 'FAM54A', 'CST7', 'SLC26A10', 'COL5A3', 'NUDT16P1', 'SELL', 'MST1', 'ZBBX', 'ITGA2B', 'PRKD1', 'HRNR', 'CD79B', 'CXCR1', 'CDCA5', 'IL31RA', 'ZNF418', 'C14orf50', 'TRNP1', 'TREM2', 'ATAD3C', 'ZNF541', 'FCGR1A', 'PABPC5', 'SCD', 'ITPR3', 'WNT6', 'HAPLN2', 'CCDC144A', 'KCNQ1', 'ACOT11', 'DSEL', 'PXDNL', 'CFHR3', 'PALM', 'GAS2L2', 'SGCG', 'EPHA4', 'OSMR', 'CD163', 'SMYD1', 'ITLN2', 'WNT5B', 'GMPR', 'FLJ23867', 'NEK10', 'PCDHB16', 'LOC388588', 'PLEKHH2', 'C7orf57', 'ULBP3', 'ROPN1', 'BTBD17', 'PARD3B', 'CDK1', 'CD40LG', 'KIAA0101', 'TMIE', 'USP44', 'HAAO', 'DUSP5P', 'HEY1', 'ABCG8', 'AQP7P1', 'ALDH1L2', 'LONRF3', 'NOV', 'WNT2B', 'APBB1IP', 'GPR68', 'MYO1G', 'TXLNB', 'GAMT', 'BMX', 'MLLT11', 'DBH', 'CAMK1G', 'IFNE', 'TNIK', 'SLC10A6', 'FOXC2', 'NOS1AP', 'RUNX3', 'EVC2', 'F2RL3', 'PCDH17', 'SPNS3', 'TNF', 'TAC3', 'DDAH1', 'TLR10', 'HRH2', 'A1BG', 'CABYR', 'KLF8', 'MOG', 'POU6F2', 'CXCR2', 'FOXN4', 'CITED4', 'GCNT2', 'GAS7', 'PDZD2', 'RPPH1', 'NAALADL2', 'PAX7', 'RBPMS2', 'COL16A1', 'MT1F', 'C10orf114', 'FAM72D', 'C13orf30', 'EGR4', 'C8orf73', 'AK7', 'PHACTR1', 'RHPN2', 'TMEM47', 'KIF26A', 'SCXB', 'PDE2A', 'STOX1', 'SLCO1B1', 'SEC14L5', 'CRNN', 'PCP2', 'BMP4', 'CTAG2', 'DISP2', 'PPP1R14A', 'DSC1', 'GAPT', 'HSD17B14', 'ADAMTS4', 'SYN3', 'C20orf85', 'CCDC60', 'PTGER1', 'HIST1H2AE', 'KLHDC9', 'IL2RB', 'MFSD2B', 'C18orf34', 'GCK', 'UNC13C', 'FOLH1B', 'SLC7A8', 'FAM171B', 'FASLG', 'KLHL30', 'CD163L1', 'PHLDB2', 'SYCP2L', 'CCRL1', 'PIRT', 'AEBP1', 'ITM2A', 'ADAM11', 'TMED6', 'TMTC1', 'GPRASP1', 'RAB6B', 'C9orf66', 'TGFBI', 'DNAJC5B', 'PDGFD', 'C12orf75', 'NDST3', 'PLA2G7', 'TBC1D10C', 'ABCA17P', 'CXCL12', 'DENND2A', 'C1QL2', 'C9orf24', 'CLVS1', 'CCL3L1', 'HSD17B3', 'EPHA8', 'LRRC36', 'FAM40B', 'CYP1A2', 'MACROD2', 'BEAN', 'GABRR1', 'MAP1A', 'ISLR2', 'SCN8A', 'PTTG1', 'BHLHE22', 'KLRC3', 'AKR1E2', 'PCDHB8', 'INE2', 'SLC12A5', 'FBN1', 'HAGHL', 'TRH', 'LLGL2', 'SSTR5', 'FGF17', 'GABRG1', 'TPBG', 'CORIN', 'KIAA1257', 'NCRNA00173', 'TMEM229A', 'SLC43A1', 'ACAP1', 'HSPA12A', 'RBM47', 'CDHR3', 'UPK3BL', 'CYP27A1', 'NTNG2', 'COX7A1', 'PMAIP1', 'LOC400759', 'LOC121838', 'COL6A2', 'TMEM156', 'DTL', 'GPR174', 'ATP2A3', 'GPR171', 'B3GNT5', 'TMEM150C', 'NOX5', 'KCNA5', 'FRZB', 'SLC25A27', 'TEPP', 'PCDHGB6', 'ABHD12B', 'MYCL1', 'KCNK17', 'WIPF3', 'DHCR24', 'TRPS1', 'BVES', 'PLEKHG4', 'ENDOU', 'MEI1', 'SLC23A3', 'FAM66D', 'TREML2', 'PTPRC', 'INPP4B', 'KCNB2', 'ITGAL', 'EPS8L2', 'NLRP6', 'CX3CL1', 'PARP15', 'FRRS1', 'CFD', 'KIAA0754', 'CLEC3A', 'CLIP3', 'DACT3', 'PPAPDC3', 'C5orf4', 'CD69', 'RAD51', 'RBM20', 'CCDC65', 'TMEM26', 'KCNN3', 'WDFY4', 'MYO5C', 'CD48', 'LCE3D', 'FAM72A', 'SYNPO2L', 'BOC', 'KISS1', 'RUFY4', 'HSPA4L', 'FBXO15', 'ENPP2', 'KCNS3', 'TGM2', 'PAR-SN', 'S100A3', 'FHL2', 'CLEC9A', 'MST4', 'CAMP', 'RANBP17', 'SOX17', 'PHGDH', 'CELSR2', 'ELAVL4', 'ROPN1L', 'WBSCR27', 'KCNQ4', 'CPLX1', 'CXXC4', 'NR5A2', 'FAM95B1', 'TLL2', 'SLC6A8', 'PBX1', 'ZNF423', 'PDZK1P1', 'PRKAR2B', 'LRMP', 'FAM90A1', 'AS3MT', 'EFHB', 'ZNF610', 'CRTAM', 'GPLD1', 'C1orf115', 'NCF1C', 'CAPN5', 'SEL1L3', 'RYR3', 'PCDHGA4', 'SLC17A2', 'C8orf42', 'HOXA2', 'KIF18A', 'GNAZ', 'SLC12A8', 'NGB', 'TM4SF20', 'CCL25', 'NR4A1', 'ZNF415', 'HRC', 'SERP2', 'NPHS1', 'LOC145820', 'LRRC16B', 'MAP1LC3C', 'SDC2', 'VIP', 'ACCN3', 'FAM65C', 'STON2', 'SPAG4', 'PRF1', 'ST6GALNAC3', 'CCDC150', 'C9orf171', 'SYTL2', 'BASP1', 'PCDHGA3', 'C13orf38', 'GJA5', 'JAM2', 'C21orf29', 'SLC5A11', 'HSPA2', 'MND1', 'C6orf186', 'MSTN', 'APOL4', 'TP53TG3B', 'DAZ1', 'LOXL1', 'FBXL21', 'PTPN7', 'ANK3', 'ADAM8', 'PPEF1', 'MYL9', 'XKR4', 'GLT8D2', 'DIAPH3', 'MXRA8', 'SECTM1', 'ARHGAP11B', 'C1orf190', 'NGF', 'CCDC154', 'TK1', 'CYR61', 'ELOVL3', 'SEC14L2', 'PEX5L', 'CTAGE4', 'TYMP', 'CCL2', 'FXYD7', 'CCL26', 'SLCO2A1', 'CAV1', 'KHDRBS2', 'LRRC48', 'SIGLEC1', 'MX2', 'KLRK1', 'CDKN2BAS', 'AOAH', 'EML6', 'OSTalpha', 'CDKL5', 'PURG', 'PCDHGA7', 'ENO2', 'NRAP', 'MDK', 'CAV2', 'C19orf45', 'TMEM233', 'GSTM2', 'CDKN2B', 'FPR1', 'FAT4', 'PIK3CG', 'DZIP1', 'CLCN4', 'CCL7', 'LOC644172', 'RLN2', 'CD1B', 'TSTD1', 'CSF3R', 'PCSK5', 'FSCN1', 'PABPC4L', 'CHIA', 'RBMS3', 'TSPAN5', 'LILRB4', 'KITLG', 'CECR6', 'LRP8', 'NPY5R', 'CABP4', 'C16orf54', 'LIMS3-LOC440895', 'TPPP3', 'RTN4RL2', 'TIFAB', 'OXTR', 'PCDHB9', 'TEKT1', 'STX1B', 'S100A6', 'EMID1', 'SYT11', 'SH3BGRL2', 'ZNF804A', 'PARK2', 'LDLR', 'ZNF454', 'TPSG1', 'ETNK2', 'KCNA2', 'PGF', 'EPDR1', 'RUNDC3B', 'ZNF662', 'ART5', 'BST2', 'KCNK12', 'TNNI3K', 'PLAUR', 'NEK5', 'BSN', 'KCNE3', 'PNMAL2', 'LOC100190938', 'GRM3', 'CAPN3', 'HCG22', 'RASGRP2', 'INSC', 'MCF2', 'BZRAP1', 'EPHX2', 'PTAFR', 'DNM1', 'TTC18', 'KCTD4', 'CCL24', 'FAM72B', 'CD6', 'C11orf82', 'MST1P2', 'FAM111B', 'TRY6', 'C14orf180', 'IL17RE', 'SLA2', 'KAAG1', 'MATN2', 'GNAL', 'C9orf167', 'ARHGEF37', 'SLC35D3', 'KCNJ5', 'LIME1', 'PRRT2', 'SH2D4A', 'PCA3', 'AXIN2', 'AGER', 'ASF1B', 'CMBL', 'RXFP1', 'SMPX', 'C2orf82', 'FAM177B', 'MMP8', 'LILRA5', 'GPR77', 'KIAA1239', 'TMPRSS5', 'AKR7L', 'NPFFR2', 'SLC16A5', 'SHCBP1', 'PCDHB3', 'KLRD1', 'MYL4', 'SLC18A3', 'TRIM46', 'ADAMTS20', 'FAM46C', 'HTR7', 'INS-IGF2', 'AFAP1L2', 'CYB5R2', 'SPATA17', 'P2RX2', 'LOC285733', 'TNFSF13B', 'ZNF469', 'SPHK1', 'LGI2', 'BTLA', 'LILRA6', 'FBLN7', 'NAT8B', 'TUBA3E', 'FCGR3A', 'ADAMTS3', 'AMICA1', 'CSRNP3', 'NLRP11', 'USP43', 'MAGEB2', 'KIAA0802', 'ATP1B1', 'KRT9', 'LPA', 'MCOLN2', 'HTR2B', 'SGMS2', 'TMEM151B', 'CCNE1', 'HFE2', 'ZNF215', 'RIBC2', 'C3orf14', 'LOC100188947', 'PIWIL2', 'PLCL1', 'FXYD4', 'NT5E', 'CD80', 'SPINK2', 'CENPV', 'TNFRSF12A', 'RGS13', 'RSPH9', 'CCDC141', 'FAM171A1', 'PLCE1', 'FAM179A', 'NDN', 'SLC2A10', 'CDCA3', 'ADAMTS5', 'MSR1', 'RAPGEF4', 'EMILIN1', 'HEY2', 'KIF21B', 'C10orf140', 'LZTS1', 'HMX1', 'TBC1D3C', 'ACTL6B', 'PMEPA1', 'PNPLA7', 'SLC16A6', 'PDE5A', 'STAG3', 'GBX2', 'HTRA4', 'SYNGR1', 'CD247', 'PRRG4', 'OXER1', 'PCDHA8', 'ADAM32', 'GRAP2', 'MESP2', 'CNTNAP5', 'SAMD3', 'CACNA1C', 'FILIP1', 'C10orf67', 'CCL4L2', 'FPR3', 'ARHGEF5', 'TRPC6', 'RGNEF', 'ITGAD', 'HRK', 'TLR7', 'CASZ1', 'STAB2', 'PHKG1', 'FOLR3', 'C1QTNF3', 'TMEM56', 'KHDC1L', 'STMN3', 'GLP1R', 'HTR2A', 'C12orf34', 'FLJ42709', 'EPSTI1', 'IL18', 'CCDC89', 'EDARADD', 'CHST5', 'MYO15B', 'STOX2', 'OR2A7', 'ZNF737', 'GUCY1A3', 'DCC', 'GPR97', 'GCNT4', 'MAPK8IP1', 'RNF175', 'POMC', 'PROS1', 'TMOD1', 'ADAMTSL4', 'CHRFAM7A', 'CXorf49B', 'VWC2', 'AURKA', 'OR2A4', 'EXPH5', 'C16orf45', 'GFI1', 'ACTA2', 'KLHL38', 'C1orf135', 'SLC24A4', 'HERC2P4', 'ZNF853', 'RDM1', 'FOLR2', 'AIFM3', 'HES5', 'ZNF154', 'C18orf16', 'SPRR2C', 'ZSWIM5', 'C4orf47', 'NOXO1', 'CAMK4', 'DMD', 'LANCL3', 'S100A5', 'NES', 'PRG2', 'WWC1', 'PTPLA', 'DUSP13', 'CENPW', 'GZMM', 'NUPR1', 'RAB11FIP1', 'LRIG1', 'LECT1', 'OSM', 'ZIK1', 'LPAR5', 'SCRT1', 'BCL2', 'AGBL4', 'LRTM2', 'EGR2', 'TSPAN13', 'TPTE2P1', 'SPN', 'RPLP0P2', 'PLA2G16', 'SLC14A2', 'CDC20B', 'ARHGEF19', 'ZNF860', 'C1orf230', 'VPREB3', 'NETO2', 'ALOX5', 'LRRC43', 'CCDC67', 'LRRC24', 'DTX1', 'SHE', 'C10orf72', 'KAZALD1', 'SLC4A1', 'FAM65B', 'GPR116', 'S100A4', 'WNT10B', 'C1orf133', 'CRYGN', 'HPGDS', 'RNASE2', 'CES8', 'CADM4', 'KCNMB1', 'CCR8', 'FRMD6', 'AGAP11', 'FOXP3', 'HAPLN3', 'MYLK', 'TYR', 'NHSL2', 'NOD2', 'TRPM5', 'AG2', 'CLDN5', 'KCNMB4', 'STAP2', 'C1orf150', 'IL4I1', 'SSX1', 'BGN', 'FAR2', 'CDT1', 'TNFSF14', 'RCAN2', 'SPEF2', 'FHAD1', 'SATB2', 'RPTN', 'AVPR2', 'SLC16A3', 'ST3GAL5', 'HIST1H3D', 'GGT8P', 'CPNE5', 'PTGS1', 'B3GALT1', 'C9orf98', 'LYG1', 'ABCC4', 'UPP2', 'DUSP1', 'GPX8', 'C1R', 'TNFRSF6B', 'RGAG4', 'ALPK3', 'BTNL3', 'RMRP', 'ISG15', 'NXPH2', 'C12orf68', 'LDLRAD3', 'AACSL', 'AMY2B', 'CMAH', 'MAP3K15', 'APOL1', 'TUBB2A', 'FLJ22536', 'PTPRCAP', 'IL20', 'P2RY8', 'SLC45A1', 'ABLIM2', 'RGS1', 'C5orf27', 'CCDC74A', 'PRSS27', 'TMEM132A', 'ATP10A', 'PDCD1LG2', 'CDH7', 'GPR120', 'RGS17', 'CNIH3', 'KEL', 'LOC100133545', 'CENPK', 'GVIN1', 'SLC2A12', 'KIF11', 'GPR83', 'ZNF280A', 'THBD', 'ME1', 'PCDHB4', 'RAB36', 'LOC100128239', 'EDA', 'AMOT', 'C7orf10', 'HS3ST1', 'HLA-DOA', 'EMCN', 'GPRIN3', 'PRDM6', 'LOC388387', 'CCL23', 'PRICKLE1', 'CBFA2T3', 'CTGF', 'DKK3', 'ECM2', 'HMGA1', 'SLAMF8', 'LDLRAD1', 'SIGLEC11', 'FCGR2C', 'ORC6L', 'WFDC12', 'BRCA2', 'TNFRSF10C', 'SNTB1', 'C10orf95', 'NUSAP1', 'NCF1', 'TSPAN18', 'CCR5', 'C1QB', 'CA11', 'FAM26F', 'SLC5A7', 'GSTM3', 'MYH6', 'ITGA7', 'ZPLD1', 'MCF2L2', 'CD274', 'FAM92B', 'CAND2', 'PVRL1', 'SERINC5', 'SPACA4', 'LINGO3', 'WDR69', 'EDNRA', 'EBF4', 'IFI6', 'GCET2', 'VASH2', 'A4GALT', 'EFCAB6', 'ABCG5', 'METTL7A', 'FAM129A', 'C8orf48', 'CDK5R1', 'FAM81A', 'C13orf18', 'GDPD3', 'SMAGP', 'C2orf85', 'POU5F1B', 'CHST2']"
     ]
    },
    {
     "name": "stdout",
     "output_type": "stream",
     "text": [
      "\n"
     ]
    }
   ],
   "source": [
    "gene_expression=rnaseq_df.columns.tolist()\n",
    "print(gene_expression)"
   ]
  },
  {
   "cell_type": "markdown",
   "metadata": {},
   "source": [
    "### Variables e hiperparámetros"
   ]
  },
  {
   "cell_type": "code",
   "execution_count": 7,
   "metadata": {},
   "outputs": [
    {
     "name": "stdout",
     "output_type": "stream",
     "text": [
      "WARNING:tensorflow:From C:\\Users\\angel\\Anaconda3\\lib\\site-packages\\tensorflow\\python\\framework\\op_def_library.py:263: colocate_with (from tensorflow.python.framework.ops) is deprecated and will be removed in a future version.\n",
      "Instructions for updating:\n",
      "Colocations handled automatically by placer.\n"
     ]
    }
   ],
   "source": [
    "original_dim=rnaseq_df.shape[1]\n",
    "latent_dim = 100\n",
    "\n",
    "batch_size=50\n",
    "epochs = 50\n",
    "learning_rate=0.0005\n",
    "\n",
    "beta = K.variable(0)\n",
    "kappa = 1\n",
    "epsilon_std = 1.0"
   ]
  },
  {
   "cell_type": "markdown",
   "metadata": {},
   "source": [
    "### Encoder"
   ]
  },
  {
   "cell_type": "markdown",
   "metadata": {},
   "source": [
    "Incluyendo **batch_normalization** han encontrado que se entrena más rápido y además con una activación de caraterísticas más heterogenea, batch_normalization añade una regulación de características escalando la activación a media=0 y varianza=1.Es como un método para normalizar los inputs de cada capa. "
   ]
  },
  {
   "cell_type": "code",
   "execution_count": 13,
   "metadata": {},
   "outputs": [],
   "source": [
    "##Creamos la capa de entrada\n",
    "inputs = Input(shape=(original_dim,),name='encoder_input')\n",
    "##Creamos capa intermedia\n",
    "x_encoder = Dense(latent_dim, activation='relu',kernel_initializer='glorot_uniform')(inputs)\n",
    "##Creamos dos capas de salida,media y log_desviacion(se usa en lugar de la estándar)\n",
    "z_mean_encoded = BatchNormalization()(x_encoder)\n",
    "log_desviacion = BatchNormalization()(x_encoder)\n"
   ]
  },
  {
   "cell_type": "markdown",
   "metadata": {},
   "source": [
    "### Decoder"
   ]
  },
  {
   "cell_type": "code",
   "execution_count": 14,
   "metadata": {},
   "outputs": [],
   "source": [
    "##Creamos capa de entrada del decodificador\n",
    "latent_vector = Input(shape=(latent_dim,), name='latent_vector')\n",
    "outputs = Dense(original_dim,kernel_initializer='glorot_uniform',activation='sigmoid')(latent_vector)"
   ]
  },
  {
   "cell_type": "markdown",
   "metadata": {},
   "source": [
    "### Sampler y CustomVariationalLayer"
   ]
  },
  {
   "cell_type": "markdown",
   "metadata": {},
   "source": [
    "La función sampler es el generador del vector z y la función CustomVariationalLayer aprende y actúa sobre el entrenamiento. Se encuentra al final del modelo"
   ]
  },
  {
   "cell_type": "code",
   "execution_count": 15,
   "metadata": {},
   "outputs": [],
   "source": [
    "def sampler(args):\n",
    "    z_mean, z_log = args\n",
    "    batch = K.shape(z_mean)[0]\n",
    "    dim = K.int_shape(z_mean)[1]\n",
    "    # mean and log of variance of Q(z|X)\n",
    "    # we sample from the standard normal a matrix of batch_size * latent_size (taking into account minibatches)\n",
    "    epsilon = K.random_normal(shape=(batch,dim))# by default, random_normal has mean=0 and std=1.0\n",
    "    # sampling from Z~N(μ, σ^2) is the same as sampling from μ + σX, X~N(0,1)\n",
    "    return z_mean + K.exp(0.5 * z_log) * epsilon\n",
    "\n",
    "z = Lambda(sampler)([z_mean_encoded, log_desviacion])\n",
    "\n",
    "class CustomVariationalLayer(Layer):\n",
    "    \"\"\"\n",
    "    Define a custom layer that learns and performs the training\n",
    "    This function is borrowed from:\n",
    "    https://github.com/fchollet/keras/blob/master/examples/variational_autoencoder.py\n",
    "    \"\"\"\n",
    "    def __init__(self, **kwargs):\n",
    "        # https://keras.io/layers/writing-your-own-keras-layers/\n",
    "        self.is_placeholder = True\n",
    "        super(CustomVariationalLayer, self).__init__(**kwargs)\n",
    "\n",
    "    def vae_loss(self, x_input, x_decoded):\n",
    "        reconstruction_loss = original_dim * metrics.binary_crossentropy(x_input, x_decoded)\n",
    "        kl_loss = - 0.5 * K.sum(1 + log_desviacion - K.square(z_mean_encoded) - \n",
    "                                K.exp(log_desviacion), axis=-1)\n",
    "        return K.mean(reconstruction_loss + (K.get_value(beta) * kl_loss))\n",
    "\n",
    "    def call(self, inputs):\n",
    "        x = inputs[0]\n",
    "        x_decoded = inputs[1]\n",
    "        loss = self.vae_loss(x, x_decoded)\n",
    "        self.add_loss(loss, inputs=inputs)\n",
    "        # We won't actually use the output.\n",
    "        return x"
   ]
  },
  {
   "cell_type": "markdown",
   "metadata": {},
   "source": [
    "### WarmUpCallBack"
   ]
  },
  {
   "cell_type": "markdown",
   "metadata": {},
   "source": [
    "Callback es un set de funciones que permite estudiar el entrenamiento mientras éste está en curso. Puedes llamar una lista de callback en el método fit. Estos métodos seran llamados en cada etapa del entrenamiento."
   ]
  },
  {
   "cell_type": "code",
   "execution_count": 16,
   "metadata": {},
   "outputs": [],
   "source": [
    "class WarmUpCallback(Callback):\n",
    "    def __init__(self, beta, kappa):\n",
    "        self.beta = beta\n",
    "        self.kappa = kappa\n",
    "    # Behavior on each epoch\n",
    "    def on_epoch_end(self, epoch, logs={}):\n",
    "        if K.get_value(self.beta) <= 1:\n",
    "            K.set_value(self.beta, K.get_value(self.beta) + self.kappa)"
   ]
  },
  {
   "cell_type": "markdown",
   "metadata": {},
   "source": [
    "### Compilación de modelos-VAE"
   ]
  },
  {
   "cell_type": "markdown",
   "metadata": {},
   "source": [
    "El **CustomVariationalLayer()** incluye la función de pérdida VAE (reconstruction + (beta * KL)), que es lo que impulsará a nuestro modelo a aprender una representación interpretable del espacio de expresión génica.\n",
    "\n",
    "El VAE compilado con un optimizador Adam y una función de pérdida personalizada incorporada. El parámetro loss_weights garantiza que la versión beta se actualice en cada devolución de llamada de final de época"
   ]
  },
  {
   "cell_type": "code",
   "execution_count": 17,
   "metadata": {},
   "outputs": [
    {
     "name": "stdout",
     "output_type": "stream",
     "text": [
      "Encoder\n",
      "\n",
      "Model: \"encoder\"\n",
      "__________________________________________________________________________________________________\n",
      "Layer (type)                    Output Shape         Param #     Connected to                     \n",
      "==================================================================================================\n",
      "encoder_input (InputLayer)      (None, 5000)         0                                            \n",
      "__________________________________________________________________________________________________\n",
      "dense_3 (Dense)                 (None, 100)          500100      encoder_input[0][0]              \n",
      "__________________________________________________________________________________________________\n",
      "batch_normalization_3 (BatchNor (None, 100)          400         dense_3[0][0]                    \n",
      "__________________________________________________________________________________________________\n",
      "batch_normalization_4 (BatchNor (None, 100)          400         dense_3[0][0]                    \n",
      "__________________________________________________________________________________________________\n",
      "lambda_1 (Lambda)               (None, 100)          0           batch_normalization_3[0][0]      \n",
      "                                                                 batch_normalization_4[0][0]      \n",
      "==================================================================================================\n",
      "Total params: 500,900\n",
      "Trainable params: 500,500\n",
      "Non-trainable params: 400\n",
      "__________________________________________________________________________________________________\n",
      "Decoder\n",
      "\n",
      "Model: \"decoder\"\n",
      "_________________________________________________________________\n",
      "Layer (type)                 Output Shape              Param #   \n",
      "=================================================================\n",
      "latent_vector (InputLayer)   (None, 100)               0         \n",
      "_________________________________________________________________\n",
      "dense_4 (Dense)              (None, 5000)              505000    \n",
      "=================================================================\n",
      "Total params: 505,000\n",
      "Trainable params: 505,000\n",
      "Non-trainable params: 0\n",
      "_________________________________________________________________\n",
      "VAE\n",
      "\n",
      "Model: \"model_1\"\n",
      "__________________________________________________________________________________________________\n",
      "Layer (type)                    Output Shape         Param #     Connected to                     \n",
      "==================================================================================================\n",
      "encoder_input (InputLayer)      (None, 5000)         0                                            \n",
      "__________________________________________________________________________________________________\n",
      "encoder (Model)                 [(None, 100), (None, 500900      encoder_input[0][0]              \n",
      "__________________________________________________________________________________________________\n",
      "decoder (Model)                 (None, 5000)         505000      encoder[1][2]                    \n",
      "__________________________________________________________________________________________________\n",
      "custom_variational_layer_1 (Cus [(None, 5000), (None 0           encoder_input[0][0]              \n",
      "                                                                 decoder[1][0]                    \n",
      "==================================================================================================\n",
      "Total params: 1,005,900\n",
      "Trainable params: 1,005,500\n",
      "Non-trainable params: 400\n",
      "__________________________________________________________________________________________________\n"
     ]
    }
   ],
   "source": [
    "##Instanciamos el optimizador\n",
    "adam = optimizers.Adam(lr=learning_rate)\n",
    "\n",
    "##Instanciamos el encoder\n",
    "encoder = Model(inputs,[z_mean_encoded,log_desviacion,z],name='encoder')\n",
    "print('Encoder\\n')\n",
    "encoder.summary()\n",
    "##Instanciamos el decoder\n",
    "decoder = Model(latent_vector,outputs,name='decoder')\n",
    "print('Decoder\\n')\n",
    "decoder.summary()\n",
    "\n",
    "outputs_final= decoder(encoder(inputs)[2])\n",
    "\n",
    "##Creamos modelo final con la capa 'CustomVariationalLayer'\n",
    "vae_layer = CustomVariationalLayer()([inputs, outputs_final])\n",
    "vae = Model(inputs,vae_layer)\n",
    "vae.compile(optimizer=adam, loss=None, loss_weights=[beta])\n",
    "print('VAE\\n')\n",
    "vae.summary()"
   ]
  },
  {
   "cell_type": "markdown",
   "metadata": {},
   "source": [
    "### Visualización del modelo"
   ]
  },
  {
   "cell_type": "code",
   "execution_count": 18,
   "metadata": {},
   "outputs": [
    {
     "data": {
      "image/svg+xml": [
       "<svg height=\"352pt\" viewBox=\"0.00 0.00 319.00 264.00\" width=\"425pt\" xmlns=\"http://www.w3.org/2000/svg\" xmlns:xlink=\"http://www.w3.org/1999/xlink\">\n",
       "<g class=\"graph\" id=\"graph0\" transform=\"scale(1.33333 1.33333) rotate(0) translate(4 260)\">\n",
       "<title>G</title>\n",
       "<polygon fill=\"white\" points=\"-4,4 -4,-260 315,-260 315,4 -4,4\" stroke=\"none\"/>\n",
       "<!-- 1525289414048 -->\n",
       "<g class=\"node\" id=\"node1\"><title>1525289414048</title>\n",
       "<polygon fill=\"none\" points=\"73.5,-219.5 73.5,-255.5 237.5,-255.5 237.5,-219.5 73.5,-219.5\" stroke=\"black\"/>\n",
       "<text font-family=\"Times New Roman,serif\" font-size=\"14.00\" text-anchor=\"middle\" x=\"155.5\" y=\"-233.8\">encoder_input: InputLayer</text>\n",
       "</g>\n",
       "<!-- 1525296752960 -->\n",
       "<g class=\"node\" id=\"node2\"><title>1525296752960</title>\n",
       "<polygon fill=\"none\" points=\"63.5,-146.5 63.5,-182.5 167.5,-182.5 167.5,-146.5 63.5,-146.5\" stroke=\"black\"/>\n",
       "<text font-family=\"Times New Roman,serif\" font-size=\"14.00\" text-anchor=\"middle\" x=\"115.5\" y=\"-160.8\">encoder: Model</text>\n",
       "</g>\n",
       "<!-- 1525289414048&#45;&gt;1525296752960 -->\n",
       "<g class=\"edge\" id=\"edge1\"><title>1525289414048-&gt;1525296752960</title>\n",
       "<path d=\"M145.817,-219.313C141.1,-210.941 135.329,-200.697 130.093,-191.403\" fill=\"none\" stroke=\"black\"/>\n",
       "<polygon fill=\"black\" points=\"133.052,-189.523 125.094,-182.529 126.953,-192.959 133.052,-189.523\" stroke=\"black\"/>\n",
       "</g>\n",
       "<!-- 1525298065024 -->\n",
       "<g class=\"node\" id=\"node4\"><title>1525298065024</title>\n",
       "<polygon fill=\"none\" points=\"0,-0.5 0,-36.5 311,-36.5 311,-0.5 0,-0.5\" stroke=\"black\"/>\n",
       "<text font-family=\"Times New Roman,serif\" font-size=\"14.00\" text-anchor=\"middle\" x=\"155.5\" y=\"-14.8\">custom_variational_layer_1: CustomVariationalLayer</text>\n",
       "</g>\n",
       "<!-- 1525289414048&#45;&gt;1525298065024 -->\n",
       "<g class=\"edge\" id=\"edge3\"><title>1525289414048-&gt;1525298065024</title>\n",
       "<path d=\"M164.219,-219.162C168.875,-208.924 174.125,-195.549 176.5,-183 185.59,-134.964 185.59,-121.036 176.5,-73 174.793,-63.9802 171.601,-54.5339 168.211,-46.1324\" fill=\"none\" stroke=\"black\"/>\n",
       "<polygon fill=\"black\" points=\"171.382,-44.6448 164.219,-36.8381 164.95,-47.4076 171.382,-44.6448\" stroke=\"black\"/>\n",
       "</g>\n",
       "<!-- 1525289579408 -->\n",
       "<g class=\"node\" id=\"node3\"><title>1525289579408</title>\n",
       "<polygon fill=\"none\" points=\"63,-73.5 63,-109.5 168,-109.5 168,-73.5 63,-73.5\" stroke=\"black\"/>\n",
       "<text font-family=\"Times New Roman,serif\" font-size=\"14.00\" text-anchor=\"middle\" x=\"115.5\" y=\"-87.8\">decoder: Model</text>\n",
       "</g>\n",
       "<!-- 1525296752960&#45;&gt;1525289579408 -->\n",
       "<g class=\"edge\" id=\"edge2\"><title>1525296752960-&gt;1525289579408</title>\n",
       "<path d=\"M115.5,-146.313C115.5,-138.289 115.5,-128.547 115.5,-119.569\" fill=\"none\" stroke=\"black\"/>\n",
       "<polygon fill=\"black\" points=\"119,-119.529 115.5,-109.529 112,-119.529 119,-119.529\" stroke=\"black\"/>\n",
       "</g>\n",
       "<!-- 1525289579408&#45;&gt;1525298065024 -->\n",
       "<g class=\"edge\" id=\"edge4\"><title>1525289579408-&gt;1525298065024</title>\n",
       "<path d=\"M125.183,-73.3129C129.9,-64.9407 135.671,-54.6971 140.907,-45.4026\" fill=\"none\" stroke=\"black\"/>\n",
       "<polygon fill=\"black\" points=\"144.047,-46.9593 145.906,-36.5288 137.948,-43.5234 144.047,-46.9593\" stroke=\"black\"/>\n",
       "</g>\n",
       "</g>\n",
       "</svg>"
      ],
      "text/plain": [
       "<IPython.core.display.SVG object>"
      ]
     },
     "execution_count": 18,
     "metadata": {},
     "output_type": "execute_result"
    }
   ],
   "source": [
    "# Visualize the connections of the custom VAE model\n",
    "plot_model(vae, to_file='modelo.png')\n",
    "SVG(model_to_dot(encoder).create(prog='dot', format='svg'))\n",
    "SVG(model_to_dot(decoder).create(prog='dot', format='svg'))\n",
    "SVG(model_to_dot(vae).create(prog='dot', format='svg'))"
   ]
  },
  {
   "cell_type": "markdown",
   "metadata": {},
   "source": [
    "### Entrenamiento"
   ]
  },
  {
   "cell_type": "code",
   "execution_count": 19,
   "metadata": {},
   "outputs": [
    {
     "name": "stdout",
     "output_type": "stream",
     "text": [
      "WARNING:tensorflow:From C:\\Users\\angel\\Anaconda3\\lib\\site-packages\\tensorflow\\python\\ops\\math_ops.py:3066: to_int32 (from tensorflow.python.ops.math_ops) is deprecated and will be removed in a future version.\n",
      "Instructions for updating:\n",
      "Use tf.cast instead.\n"
     ]
    },
    {
     "data": {
      "application/vnd.jupyter.widget-view+json": {
       "model_id": "4b7e536515ef454eb3594df80e31ff47",
       "version_major": 2,
       "version_minor": 0
      },
      "text/plain": [
       "HBox(children=(IntProgress(value=0, description='Training', max=50, style=ProgressStyle(description_width='ini…"
      ]
     },
     "metadata": {},
     "output_type": "display_data"
    },
    {
     "data": {
      "application/vnd.jupyter.widget-view+json": {
       "model_id": "126bf5543104432bbc41bdf793cc287f",
       "version_major": 2,
       "version_minor": 0
      },
      "text/plain": [
       "HBox(children=(IntProgress(value=0, description='Epoch 0', max=9413, style=ProgressStyle(description_width='in…"
      ]
     },
     "metadata": {},
     "output_type": "display_data"
    },
    {
     "data": {
      "application/vnd.jupyter.widget-view+json": {
       "model_id": "fcb4e9191a2d406a9d59e2e35533ff48",
       "version_major": 2,
       "version_minor": 0
      },
      "text/plain": [
       "HBox(children=(IntProgress(value=0, description='Epoch 1', max=9413, style=ProgressStyle(description_width='in…"
      ]
     },
     "metadata": {},
     "output_type": "display_data"
    },
    {
     "data": {
      "application/vnd.jupyter.widget-view+json": {
       "model_id": "e338470e950c4b80b9f758efae7441eb",
       "version_major": 2,
       "version_minor": 0
      },
      "text/plain": [
       "HBox(children=(IntProgress(value=0, description='Epoch 2', max=9413, style=ProgressStyle(description_width='in…"
      ]
     },
     "metadata": {},
     "output_type": "display_data"
    },
    {
     "data": {
      "application/vnd.jupyter.widget-view+json": {
       "model_id": "5387c09487854923980bf5607dc5752d",
       "version_major": 2,
       "version_minor": 0
      },
      "text/plain": [
       "HBox(children=(IntProgress(value=0, description='Epoch 3', max=9413, style=ProgressStyle(description_width='in…"
      ]
     },
     "metadata": {},
     "output_type": "display_data"
    },
    {
     "data": {
      "application/vnd.jupyter.widget-view+json": {
       "model_id": "3bd47a4e45994571a4476937605e828b",
       "version_major": 2,
       "version_minor": 0
      },
      "text/plain": [
       "HBox(children=(IntProgress(value=0, description='Epoch 4', max=9413, style=ProgressStyle(description_width='in…"
      ]
     },
     "metadata": {},
     "output_type": "display_data"
    },
    {
     "data": {
      "application/vnd.jupyter.widget-view+json": {
       "model_id": "35394327788f4c9787cc652b4241bb57",
       "version_major": 2,
       "version_minor": 0
      },
      "text/plain": [
       "HBox(children=(IntProgress(value=0, description='Epoch 5', max=9413, style=ProgressStyle(description_width='in…"
      ]
     },
     "metadata": {},
     "output_type": "display_data"
    },
    {
     "data": {
      "application/vnd.jupyter.widget-view+json": {
       "model_id": "44b6e7eff2504affb039dd0f39d4908f",
       "version_major": 2,
       "version_minor": 0
      },
      "text/plain": [
       "HBox(children=(IntProgress(value=0, description='Epoch 6', max=9413, style=ProgressStyle(description_width='in…"
      ]
     },
     "metadata": {},
     "output_type": "display_data"
    },
    {
     "data": {
      "application/vnd.jupyter.widget-view+json": {
       "model_id": "1ab7f70fbf084a2ca8b92037b57a1817",
       "version_major": 2,
       "version_minor": 0
      },
      "text/plain": [
       "HBox(children=(IntProgress(value=0, description='Epoch 7', max=9413, style=ProgressStyle(description_width='in…"
      ]
     },
     "metadata": {},
     "output_type": "display_data"
    },
    {
     "data": {
      "application/vnd.jupyter.widget-view+json": {
       "model_id": "50e265b08ae84c038cd69b15ed8ccd5e",
       "version_major": 2,
       "version_minor": 0
      },
      "text/plain": [
       "HBox(children=(IntProgress(value=0, description='Epoch 8', max=9413, style=ProgressStyle(description_width='in…"
      ]
     },
     "metadata": {},
     "output_type": "display_data"
    },
    {
     "data": {
      "application/vnd.jupyter.widget-view+json": {
       "model_id": "d50aaa20e08640198d872bf01a9a836f",
       "version_major": 2,
       "version_minor": 0
      },
      "text/plain": [
       "HBox(children=(IntProgress(value=0, description='Epoch 9', max=9413, style=ProgressStyle(description_width='in…"
      ]
     },
     "metadata": {},
     "output_type": "display_data"
    },
    {
     "data": {
      "application/vnd.jupyter.widget-view+json": {
       "model_id": "99a29b2d0b9948cb91daeefe4ac8fc3c",
       "version_major": 2,
       "version_minor": 0
      },
      "text/plain": [
       "HBox(children=(IntProgress(value=0, description='Epoch 10', max=9413, style=ProgressStyle(description_width='i…"
      ]
     },
     "metadata": {},
     "output_type": "display_data"
    },
    {
     "data": {
      "application/vnd.jupyter.widget-view+json": {
       "model_id": "152c9e1d3a194e07a3af713945c9e4b5",
       "version_major": 2,
       "version_minor": 0
      },
      "text/plain": [
       "HBox(children=(IntProgress(value=0, description='Epoch 11', max=9413, style=ProgressStyle(description_width='i…"
      ]
     },
     "metadata": {},
     "output_type": "display_data"
    },
    {
     "data": {
      "application/vnd.jupyter.widget-view+json": {
       "model_id": "6fec50887e614551910aa305827277c5",
       "version_major": 2,
       "version_minor": 0
      },
      "text/plain": [
       "HBox(children=(IntProgress(value=0, description='Epoch 12', max=9413, style=ProgressStyle(description_width='i…"
      ]
     },
     "metadata": {},
     "output_type": "display_data"
    },
    {
     "data": {
      "application/vnd.jupyter.widget-view+json": {
       "model_id": "973b5e5112a943c182647ab804403745",
       "version_major": 2,
       "version_minor": 0
      },
      "text/plain": [
       "HBox(children=(IntProgress(value=0, description='Epoch 13', max=9413, style=ProgressStyle(description_width='i…"
      ]
     },
     "metadata": {},
     "output_type": "display_data"
    },
    {
     "data": {
      "application/vnd.jupyter.widget-view+json": {
       "model_id": "247d4aa15c674a20972baa27c1e3837f",
       "version_major": 2,
       "version_minor": 0
      },
      "text/plain": [
       "HBox(children=(IntProgress(value=0, description='Epoch 14', max=9413, style=ProgressStyle(description_width='i…"
      ]
     },
     "metadata": {},
     "output_type": "display_data"
    },
    {
     "data": {
      "application/vnd.jupyter.widget-view+json": {
       "model_id": "d484c6125f934280a3543502e0bb1609",
       "version_major": 2,
       "version_minor": 0
      },
      "text/plain": [
       "HBox(children=(IntProgress(value=0, description='Epoch 15', max=9413, style=ProgressStyle(description_width='i…"
      ]
     },
     "metadata": {},
     "output_type": "display_data"
    },
    {
     "data": {
      "application/vnd.jupyter.widget-view+json": {
       "model_id": "6da1f7f1e75a492bb65d2c9f0380d212",
       "version_major": 2,
       "version_minor": 0
      },
      "text/plain": [
       "HBox(children=(IntProgress(value=0, description='Epoch 16', max=9413, style=ProgressStyle(description_width='i…"
      ]
     },
     "metadata": {},
     "output_type": "display_data"
    },
    {
     "data": {
      "application/vnd.jupyter.widget-view+json": {
       "model_id": "844ec366ffb946b5bd46232428a8bb9a",
       "version_major": 2,
       "version_minor": 0
      },
      "text/plain": [
       "HBox(children=(IntProgress(value=0, description='Epoch 17', max=9413, style=ProgressStyle(description_width='i…"
      ]
     },
     "metadata": {},
     "output_type": "display_data"
    },
    {
     "data": {
      "application/vnd.jupyter.widget-view+json": {
       "model_id": "14c052d529af4e33970adf82b58432b4",
       "version_major": 2,
       "version_minor": 0
      },
      "text/plain": [
       "HBox(children=(IntProgress(value=0, description='Epoch 18', max=9413, style=ProgressStyle(description_width='i…"
      ]
     },
     "metadata": {},
     "output_type": "display_data"
    },
    {
     "data": {
      "application/vnd.jupyter.widget-view+json": {
       "model_id": "af92c27bcadd4699a73f6a4f9b7df86f",
       "version_major": 2,
       "version_minor": 0
      },
      "text/plain": [
       "HBox(children=(IntProgress(value=0, description='Epoch 19', max=9413, style=ProgressStyle(description_width='i…"
      ]
     },
     "metadata": {},
     "output_type": "display_data"
    },
    {
     "data": {
      "application/vnd.jupyter.widget-view+json": {
       "model_id": "3898ced7a0b943dabe176308e88eeda0",
       "version_major": 2,
       "version_minor": 0
      },
      "text/plain": [
       "HBox(children=(IntProgress(value=0, description='Epoch 20', max=9413, style=ProgressStyle(description_width='i…"
      ]
     },
     "metadata": {},
     "output_type": "display_data"
    },
    {
     "data": {
      "application/vnd.jupyter.widget-view+json": {
       "model_id": "d3e5bc187e13433c81027f62f546ffc0",
       "version_major": 2,
       "version_minor": 0
      },
      "text/plain": [
       "HBox(children=(IntProgress(value=0, description='Epoch 21', max=9413, style=ProgressStyle(description_width='i…"
      ]
     },
     "metadata": {},
     "output_type": "display_data"
    },
    {
     "data": {
      "application/vnd.jupyter.widget-view+json": {
       "model_id": "e8b70fd869a3408cbff3b1b8112c5536",
       "version_major": 2,
       "version_minor": 0
      },
      "text/plain": [
       "HBox(children=(IntProgress(value=0, description='Epoch 22', max=9413, style=ProgressStyle(description_width='i…"
      ]
     },
     "metadata": {},
     "output_type": "display_data"
    },
    {
     "data": {
      "application/vnd.jupyter.widget-view+json": {
       "model_id": "5fac230d65d84d2a89f2278ed0bf73fb",
       "version_major": 2,
       "version_minor": 0
      },
      "text/plain": [
       "HBox(children=(IntProgress(value=0, description='Epoch 23', max=9413, style=ProgressStyle(description_width='i…"
      ]
     },
     "metadata": {},
     "output_type": "display_data"
    },
    {
     "data": {
      "application/vnd.jupyter.widget-view+json": {
       "model_id": "34b29aadadcb42d1a042c3485296b80b",
       "version_major": 2,
       "version_minor": 0
      },
      "text/plain": [
       "HBox(children=(IntProgress(value=0, description='Epoch 24', max=9413, style=ProgressStyle(description_width='i…"
      ]
     },
     "metadata": {},
     "output_type": "display_data"
    },
    {
     "data": {
      "application/vnd.jupyter.widget-view+json": {
       "model_id": "e8ac0ea2a18f46f8b5b10eac446e17dc",
       "version_major": 2,
       "version_minor": 0
      },
      "text/plain": [
       "HBox(children=(IntProgress(value=0, description='Epoch 25', max=9413, style=ProgressStyle(description_width='i…"
      ]
     },
     "metadata": {},
     "output_type": "display_data"
    },
    {
     "data": {
      "application/vnd.jupyter.widget-view+json": {
       "model_id": "f0089c2bfc934ceeb61642aa5865f4ce",
       "version_major": 2,
       "version_minor": 0
      },
      "text/plain": [
       "HBox(children=(IntProgress(value=0, description='Epoch 26', max=9413, style=ProgressStyle(description_width='i…"
      ]
     },
     "metadata": {},
     "output_type": "display_data"
    },
    {
     "data": {
      "application/vnd.jupyter.widget-view+json": {
       "model_id": "2313f4c38d86460fb82f0fa0f12948a8",
       "version_major": 2,
       "version_minor": 0
      },
      "text/plain": [
       "HBox(children=(IntProgress(value=0, description='Epoch 27', max=9413, style=ProgressStyle(description_width='i…"
      ]
     },
     "metadata": {},
     "output_type": "display_data"
    },
    {
     "data": {
      "application/vnd.jupyter.widget-view+json": {
       "model_id": "017815672290468fa026bbcf32d6bec4",
       "version_major": 2,
       "version_minor": 0
      },
      "text/plain": [
       "HBox(children=(IntProgress(value=0, description='Epoch 28', max=9413, style=ProgressStyle(description_width='i…"
      ]
     },
     "metadata": {},
     "output_type": "display_data"
    },
    {
     "data": {
      "application/vnd.jupyter.widget-view+json": {
       "model_id": "c01a570bbc534815bd9c09ce48570c83",
       "version_major": 2,
       "version_minor": 0
      },
      "text/plain": [
       "HBox(children=(IntProgress(value=0, description='Epoch 29', max=9413, style=ProgressStyle(description_width='i…"
      ]
     },
     "metadata": {},
     "output_type": "display_data"
    },
    {
     "data": {
      "application/vnd.jupyter.widget-view+json": {
       "model_id": "c3251fedc3b84ad7a1172c2da24655a2",
       "version_major": 2,
       "version_minor": 0
      },
      "text/plain": [
       "HBox(children=(IntProgress(value=0, description='Epoch 30', max=9413, style=ProgressStyle(description_width='i…"
      ]
     },
     "metadata": {},
     "output_type": "display_data"
    },
    {
     "data": {
      "application/vnd.jupyter.widget-view+json": {
       "model_id": "91b21f713695487896259b7f1082c87f",
       "version_major": 2,
       "version_minor": 0
      },
      "text/plain": [
       "HBox(children=(IntProgress(value=0, description='Epoch 31', max=9413, style=ProgressStyle(description_width='i…"
      ]
     },
     "metadata": {},
     "output_type": "display_data"
    },
    {
     "data": {
      "application/vnd.jupyter.widget-view+json": {
       "model_id": "d79f97634ff64528a45a92236167715e",
       "version_major": 2,
       "version_minor": 0
      },
      "text/plain": [
       "HBox(children=(IntProgress(value=0, description='Epoch 32', max=9413, style=ProgressStyle(description_width='i…"
      ]
     },
     "metadata": {},
     "output_type": "display_data"
    },
    {
     "data": {
      "application/vnd.jupyter.widget-view+json": {
       "model_id": "252b90829d0d4cd38ca9796f9ec47de6",
       "version_major": 2,
       "version_minor": 0
      },
      "text/plain": [
       "HBox(children=(IntProgress(value=0, description='Epoch 33', max=9413, style=ProgressStyle(description_width='i…"
      ]
     },
     "metadata": {},
     "output_type": "display_data"
    },
    {
     "data": {
      "application/vnd.jupyter.widget-view+json": {
       "model_id": "78868b728ca0404aa4bd821054fcd4ec",
       "version_major": 2,
       "version_minor": 0
      },
      "text/plain": [
       "HBox(children=(IntProgress(value=0, description='Epoch 34', max=9413, style=ProgressStyle(description_width='i…"
      ]
     },
     "metadata": {},
     "output_type": "display_data"
    },
    {
     "data": {
      "application/vnd.jupyter.widget-view+json": {
       "model_id": "43cd05e54a644d16a127ece5c57e364c",
       "version_major": 2,
       "version_minor": 0
      },
      "text/plain": [
       "HBox(children=(IntProgress(value=0, description='Epoch 35', max=9413, style=ProgressStyle(description_width='i…"
      ]
     },
     "metadata": {},
     "output_type": "display_data"
    },
    {
     "data": {
      "application/vnd.jupyter.widget-view+json": {
       "model_id": "247e94dcc36846aca5f5d420043d14ff",
       "version_major": 2,
       "version_minor": 0
      },
      "text/plain": [
       "HBox(children=(IntProgress(value=0, description='Epoch 36', max=9413, style=ProgressStyle(description_width='i…"
      ]
     },
     "metadata": {},
     "output_type": "display_data"
    },
    {
     "data": {
      "application/vnd.jupyter.widget-view+json": {
       "model_id": "752858717f054be290b629c78eb883d8",
       "version_major": 2,
       "version_minor": 0
      },
      "text/plain": [
       "HBox(children=(IntProgress(value=0, description='Epoch 37', max=9413, style=ProgressStyle(description_width='i…"
      ]
     },
     "metadata": {},
     "output_type": "display_data"
    },
    {
     "data": {
      "application/vnd.jupyter.widget-view+json": {
       "model_id": "00ab577e11ef4b65be9a5def789f97a1",
       "version_major": 2,
       "version_minor": 0
      },
      "text/plain": [
       "HBox(children=(IntProgress(value=0, description='Epoch 38', max=9413, style=ProgressStyle(description_width='i…"
      ]
     },
     "metadata": {},
     "output_type": "display_data"
    },
    {
     "data": {
      "application/vnd.jupyter.widget-view+json": {
       "model_id": "11904ad641ef4f8bb66548d601dcce77",
       "version_major": 2,
       "version_minor": 0
      },
      "text/plain": [
       "HBox(children=(IntProgress(value=0, description='Epoch 39', max=9413, style=ProgressStyle(description_width='i…"
      ]
     },
     "metadata": {},
     "output_type": "display_data"
    },
    {
     "data": {
      "application/vnd.jupyter.widget-view+json": {
       "model_id": "190e1a9c2b1d4996b5b5d6621352671b",
       "version_major": 2,
       "version_minor": 0
      },
      "text/plain": [
       "HBox(children=(IntProgress(value=0, description='Epoch 40', max=9413, style=ProgressStyle(description_width='i…"
      ]
     },
     "metadata": {},
     "output_type": "display_data"
    },
    {
     "data": {
      "application/vnd.jupyter.widget-view+json": {
       "model_id": "d72e65d636554a238b3e3d8af00cbcb9",
       "version_major": 2,
       "version_minor": 0
      },
      "text/plain": [
       "HBox(children=(IntProgress(value=0, description='Epoch 41', max=9413, style=ProgressStyle(description_width='i…"
      ]
     },
     "metadata": {},
     "output_type": "display_data"
    },
    {
     "data": {
      "application/vnd.jupyter.widget-view+json": {
       "model_id": "cc1f9a261f594311bf4d034e0e86b8b9",
       "version_major": 2,
       "version_minor": 0
      },
      "text/plain": [
       "HBox(children=(IntProgress(value=0, description='Epoch 42', max=9413, style=ProgressStyle(description_width='i…"
      ]
     },
     "metadata": {},
     "output_type": "display_data"
    },
    {
     "data": {
      "application/vnd.jupyter.widget-view+json": {
       "model_id": "00f7b9e92a944565a92ac02ae8e8367e",
       "version_major": 2,
       "version_minor": 0
      },
      "text/plain": [
       "HBox(children=(IntProgress(value=0, description='Epoch 43', max=9413, style=ProgressStyle(description_width='i…"
      ]
     },
     "metadata": {},
     "output_type": "display_data"
    },
    {
     "data": {
      "application/vnd.jupyter.widget-view+json": {
       "model_id": "fbc8c7555fc149ef8963d58c68278255",
       "version_major": 2,
       "version_minor": 0
      },
      "text/plain": [
       "HBox(children=(IntProgress(value=0, description='Epoch 44', max=9413, style=ProgressStyle(description_width='i…"
      ]
     },
     "metadata": {},
     "output_type": "display_data"
    },
    {
     "data": {
      "application/vnd.jupyter.widget-view+json": {
       "model_id": "09727c099e34401c83867beef5b6c8d3",
       "version_major": 2,
       "version_minor": 0
      },
      "text/plain": [
       "HBox(children=(IntProgress(value=0, description='Epoch 45', max=9413, style=ProgressStyle(description_width='i…"
      ]
     },
     "metadata": {},
     "output_type": "display_data"
    },
    {
     "data": {
      "application/vnd.jupyter.widget-view+json": {
       "model_id": "a9fa70dc980d424eaf9cc0bf975d9abf",
       "version_major": 2,
       "version_minor": 0
      },
      "text/plain": [
       "HBox(children=(IntProgress(value=0, description='Epoch 46', max=9413, style=ProgressStyle(description_width='i…"
      ]
     },
     "metadata": {},
     "output_type": "display_data"
    },
    {
     "data": {
      "application/vnd.jupyter.widget-view+json": {
       "model_id": "d88640e13e964942858baf6b7a169e86",
       "version_major": 2,
       "version_minor": 0
      },
      "text/plain": [
       "HBox(children=(IntProgress(value=0, description='Epoch 47', max=9413, style=ProgressStyle(description_width='i…"
      ]
     },
     "metadata": {},
     "output_type": "display_data"
    },
    {
     "data": {
      "application/vnd.jupyter.widget-view+json": {
       "model_id": "e0cf11e362284cfd8404ef98de3d0134",
       "version_major": 2,
       "version_minor": 0
      },
      "text/plain": [
       "HBox(children=(IntProgress(value=0, description='Epoch 48', max=9413, style=ProgressStyle(description_width='i…"
      ]
     },
     "metadata": {},
     "output_type": "display_data"
    },
    {
     "data": {
      "application/vnd.jupyter.widget-view+json": {
       "model_id": "42e8092071c6486fa1c419b04054271c",
       "version_major": 2,
       "version_minor": 0
      },
      "text/plain": [
       "HBox(children=(IntProgress(value=0, description='Epoch 49', max=9413, style=ProgressStyle(description_width='i…"
      ]
     },
     "metadata": {},
     "output_type": "display_data"
    },
    {
     "name": "stdout",
     "output_type": "stream",
     "text": [
      "\n",
      "Wall time: 5min 57s\n"
     ]
    }
   ],
   "source": [
    "%%time\n",
    "hist = vae.fit(np.array(rnaseq_train_df),\n",
    "               shuffle=True,\n",
    "               epochs=epochs,\n",
    "               verbose=0,\n",
    "               batch_size=batch_size,\n",
    "               validation_data=(np.array(rnaseq_test_df), None),\n",
    "               callbacks=[WarmUpCallback(beta, kappa),\n",
    "                          TQDMNotebookCallback(leave_inner=True, leave_outer=True)])"
   ]
  },
  {
   "cell_type": "markdown",
   "metadata": {},
   "source": [
    "### Visualización del entrenamiento"
   ]
  },
  {
   "cell_type": "code",
   "execution_count": 20,
   "metadata": {},
   "outputs": [
    {
     "data": {
      "image/png": "[encoded data removed]",
      "text/plain": [
       "<Figure size 432x288 with 1 Axes>"
      ]
     },
     "metadata": {
      "needs_background": "light"
     },
     "output_type": "display_data"
    }
   ],
   "source": [
    "# Visualize training performance\n",
    "history_df = pd.DataFrame(hist.history)\n",
    "hist_plot_file = os.path.join('figures', 'onehidden_vae_training.pdf')\n",
    "ax = history_df.plot()\n",
    "ax.set_xlabel('Epochs')\n",
    "ax.set_ylabel('VAE Loss')\n",
    "fig = ax.get_figure()\n",
    "fig.savefig(hist_plot_file)"
   ]
  },
  {
   "cell_type": "markdown",
   "metadata": {},
   "source": [
    "### Estudio de modelos por separado"
   ]
  },
  {
   "cell_type": "markdown",
   "metadata": {},
   "source": [
    "1.Respecto al encoder\n",
    "- Poder ser utilizado para comprimir otros tumores\n",
    "\n",
    "2.Respecto al decoder\n",
    "- Modelo generativo\n",
    "\n",
    "3.El espacio latente de todos los cánceres\n",
    "- La representación reducida no linear de tumores puede ser usado como características para varias tareas.\n",
    "  - Tareas de aprendizaje supervisado prediciendo inactivación de genes\n",
    "  - Interpolar a través de este espacio para observar como la expresión génica cambia entre dos estados de cancer\n",
    "  \n",
    "4.Los pesos de los nodos para realizar la codificación\n",
    "- Aprender diferencias biológicas según la activación de diferentes tumores."
   ]
  },
  {
   "cell_type": "markdown",
   "metadata": {},
   "source": [
    "### Observación de la activación de nodos"
   ]
  },
  {
   "cell_type": "code",
   "execution_count": 21,
   "metadata": {},
   "outputs": [],
   "source": [
    "encoded_rnaseq_df,_,_ = encoder.predict_on_batch(rnaseq_df)\n",
    "encoded_rnaseq_df = pd.DataFrame(encoded_rnaseq_df, index=rnaseq_df.index) ##Lo pasamos a dataframe para poder tratarlo"
   ]
  },
  {
   "cell_type": "code",
   "execution_count": 22,
   "metadata": {},
   "outputs": [
    {
     "data": {
      "text/html": [
       "<div>\n",
       "<style scoped>\n",
       "    .dataframe tbody tr th:only-of-type {\n",
       "        vertical-align: middle;\n",
       "    }\n",
       "\n",
       "    .dataframe tbody tr th {\n",
       "        vertical-align: top;\n",
       "    }\n",
       "\n",
       "    .dataframe thead th {\n",
       "        text-align: right;\n",
       "    }\n",
       "</style>\n",
       "<table border=\"1\" class=\"dataframe\">\n",
       "  <thead>\n",
       "    <tr style=\"text-align: right;\">\n",
       "      <th></th>\n",
       "      <th>0</th>\n",
       "      <th>1</th>\n",
       "      <th>2</th>\n",
       "      <th>3</th>\n",
       "      <th>4</th>\n",
       "      <th>5</th>\n",
       "      <th>6</th>\n",
       "      <th>7</th>\n",
       "      <th>8</th>\n",
       "      <th>9</th>\n",
       "      <th>...</th>\n",
       "      <th>90</th>\n",
       "      <th>91</th>\n",
       "      <th>92</th>\n",
       "      <th>93</th>\n",
       "      <th>94</th>\n",
       "      <th>95</th>\n",
       "      <th>96</th>\n",
       "      <th>97</th>\n",
       "      <th>98</th>\n",
       "      <th>99</th>\n",
       "    </tr>\n",
       "  </thead>\n",
       "  <tbody>\n",
       "    <tr>\n",
       "      <th>TCGA-02-0047-01</th>\n",
       "      <td>-0.336067</td>\n",
       "      <td>0.555811</td>\n",
       "      <td>1.953702</td>\n",
       "      <td>0.929685</td>\n",
       "      <td>-1.135710</td>\n",
       "      <td>0.249558</td>\n",
       "      <td>0.670676</td>\n",
       "      <td>-0.118588</td>\n",
       "      <td>-0.599655</td>\n",
       "      <td>0.515947</td>\n",
       "      <td>...</td>\n",
       "      <td>0.567913</td>\n",
       "      <td>1.549309</td>\n",
       "      <td>1.964360</td>\n",
       "      <td>-3.373139</td>\n",
       "      <td>-0.620484</td>\n",
       "      <td>-2.902733</td>\n",
       "      <td>0.686855</td>\n",
       "      <td>-0.550445</td>\n",
       "      <td>-0.343851</td>\n",
       "      <td>-2.939903</td>\n",
       "    </tr>\n",
       "    <tr>\n",
       "      <th>TCGA-02-0055-01</th>\n",
       "      <td>0.728738</td>\n",
       "      <td>0.555811</td>\n",
       "      <td>2.505603</td>\n",
       "      <td>0.929685</td>\n",
       "      <td>-1.001585</td>\n",
       "      <td>-1.001737</td>\n",
       "      <td>0.670676</td>\n",
       "      <td>-3.464246</td>\n",
       "      <td>-0.599655</td>\n",
       "      <td>0.922312</td>\n",
       "      <td>...</td>\n",
       "      <td>0.567913</td>\n",
       "      <td>0.143847</td>\n",
       "      <td>2.869018</td>\n",
       "      <td>-0.506462</td>\n",
       "      <td>-0.620484</td>\n",
       "      <td>-1.876728</td>\n",
       "      <td>0.686855</td>\n",
       "      <td>-0.550445</td>\n",
       "      <td>-1.904781</td>\n",
       "      <td>-0.633241</td>\n",
       "    </tr>\n",
       "    <tr>\n",
       "      <th>TCGA-02-2483-01</th>\n",
       "      <td>3.704724</td>\n",
       "      <td>0.555811</td>\n",
       "      <td>0.161867</td>\n",
       "      <td>0.929685</td>\n",
       "      <td>-1.551098</td>\n",
       "      <td>-0.861078</td>\n",
       "      <td>0.670676</td>\n",
       "      <td>-0.808472</td>\n",
       "      <td>-0.599655</td>\n",
       "      <td>0.771897</td>\n",
       "      <td>...</td>\n",
       "      <td>0.567913</td>\n",
       "      <td>2.399701</td>\n",
       "      <td>2.190566</td>\n",
       "      <td>-2.778440</td>\n",
       "      <td>-0.620484</td>\n",
       "      <td>-4.722413</td>\n",
       "      <td>0.686855</td>\n",
       "      <td>-0.550445</td>\n",
       "      <td>1.268186</td>\n",
       "      <td>-3.576672</td>\n",
       "    </tr>\n",
       "    <tr>\n",
       "      <th>TCGA-02-2485-01</th>\n",
       "      <td>0.768384</td>\n",
       "      <td>0.555811</td>\n",
       "      <td>1.412416</td>\n",
       "      <td>0.929685</td>\n",
       "      <td>-1.951576</td>\n",
       "      <td>1.935964</td>\n",
       "      <td>0.670676</td>\n",
       "      <td>-4.351212</td>\n",
       "      <td>-0.599655</td>\n",
       "      <td>2.251441</td>\n",
       "      <td>...</td>\n",
       "      <td>0.567913</td>\n",
       "      <td>2.183632</td>\n",
       "      <td>0.276157</td>\n",
       "      <td>-4.502187</td>\n",
       "      <td>-0.620484</td>\n",
       "      <td>-5.284727</td>\n",
       "      <td>0.686855</td>\n",
       "      <td>-0.550445</td>\n",
       "      <td>2.679301</td>\n",
       "      <td>-4.574331</td>\n",
       "    </tr>\n",
       "    <tr>\n",
       "      <th>TCGA-02-2486-01</th>\n",
       "      <td>-4.081452</td>\n",
       "      <td>0.555811</td>\n",
       "      <td>0.182797</td>\n",
       "      <td>0.929685</td>\n",
       "      <td>-2.292881</td>\n",
       "      <td>2.159659</td>\n",
       "      <td>0.670676</td>\n",
       "      <td>-3.640870</td>\n",
       "      <td>-0.599655</td>\n",
       "      <td>2.108552</td>\n",
       "      <td>...</td>\n",
       "      <td>0.567913</td>\n",
       "      <td>-0.747588</td>\n",
       "      <td>0.383013</td>\n",
       "      <td>-2.977386</td>\n",
       "      <td>-0.620484</td>\n",
       "      <td>-4.422337</td>\n",
       "      <td>0.686855</td>\n",
       "      <td>-0.550445</td>\n",
       "      <td>-1.694814</td>\n",
       "      <td>-4.195897</td>\n",
       "    </tr>\n",
       "    <tr>\n",
       "      <th>TCGA-04-1348-01</th>\n",
       "      <td>-2.806390</td>\n",
       "      <td>0.555811</td>\n",
       "      <td>0.392687</td>\n",
       "      <td>0.929685</td>\n",
       "      <td>2.872338</td>\n",
       "      <td>-4.263181</td>\n",
       "      <td>0.670676</td>\n",
       "      <td>-4.492261</td>\n",
       "      <td>-0.599655</td>\n",
       "      <td>-3.393562</td>\n",
       "      <td>...</td>\n",
       "      <td>0.567913</td>\n",
       "      <td>1.806276</td>\n",
       "      <td>-4.897081</td>\n",
       "      <td>1.740742</td>\n",
       "      <td>-0.620484</td>\n",
       "      <td>-1.659235</td>\n",
       "      <td>0.686855</td>\n",
       "      <td>-0.550445</td>\n",
       "      <td>1.629546</td>\n",
       "      <td>-3.401161</td>\n",
       "    </tr>\n",
       "    <tr>\n",
       "      <th>TCGA-04-1357-01</th>\n",
       "      <td>-2.640349</td>\n",
       "      <td>0.555811</td>\n",
       "      <td>-1.733176</td>\n",
       "      <td>0.929685</td>\n",
       "      <td>2.018257</td>\n",
       "      <td>-4.327930</td>\n",
       "      <td>0.670676</td>\n",
       "      <td>-2.435884</td>\n",
       "      <td>-0.599655</td>\n",
       "      <td>-2.398565</td>\n",
       "      <td>...</td>\n",
       "      <td>0.567913</td>\n",
       "      <td>0.649871</td>\n",
       "      <td>-5.066875</td>\n",
       "      <td>1.255919</td>\n",
       "      <td>-0.620484</td>\n",
       "      <td>-2.214179</td>\n",
       "      <td>0.686855</td>\n",
       "      <td>-0.550445</td>\n",
       "      <td>1.004697</td>\n",
       "      <td>-2.598194</td>\n",
       "    </tr>\n",
       "    <tr>\n",
       "      <th>TCGA-04-1362-01</th>\n",
       "      <td>-2.861125</td>\n",
       "      <td>0.555811</td>\n",
       "      <td>2.858413</td>\n",
       "      <td>0.929685</td>\n",
       "      <td>3.204217</td>\n",
       "      <td>-4.604634</td>\n",
       "      <td>0.670676</td>\n",
       "      <td>-3.165344</td>\n",
       "      <td>-0.599655</td>\n",
       "      <td>-2.534152</td>\n",
       "      <td>...</td>\n",
       "      <td>0.567913</td>\n",
       "      <td>-0.446917</td>\n",
       "      <td>-3.161185</td>\n",
       "      <td>0.708565</td>\n",
       "      <td>-0.620484</td>\n",
       "      <td>-1.028567</td>\n",
       "      <td>0.686855</td>\n",
       "      <td>-0.550445</td>\n",
       "      <td>0.500581</td>\n",
       "      <td>-2.508392</td>\n",
       "    </tr>\n",
       "    <tr>\n",
       "      <th>TCGA-04-1364-01</th>\n",
       "      <td>-1.064167</td>\n",
       "      <td>0.555811</td>\n",
       "      <td>2.408947</td>\n",
       "      <td>0.929685</td>\n",
       "      <td>2.334266</td>\n",
       "      <td>-3.942289</td>\n",
       "      <td>0.670676</td>\n",
       "      <td>-3.926205</td>\n",
       "      <td>-0.599655</td>\n",
       "      <td>-5.035768</td>\n",
       "      <td>...</td>\n",
       "      <td>0.567913</td>\n",
       "      <td>-2.120739</td>\n",
       "      <td>-3.632743</td>\n",
       "      <td>1.296935</td>\n",
       "      <td>-0.620484</td>\n",
       "      <td>0.588918</td>\n",
       "      <td>0.686855</td>\n",
       "      <td>-0.550445</td>\n",
       "      <td>1.020961</td>\n",
       "      <td>-5.817845</td>\n",
       "    </tr>\n",
       "    <tr>\n",
       "      <th>TCGA-04-1365-01</th>\n",
       "      <td>-1.469931</td>\n",
       "      <td>0.555811</td>\n",
       "      <td>-0.461963</td>\n",
       "      <td>0.929685</td>\n",
       "      <td>1.419317</td>\n",
       "      <td>-3.981441</td>\n",
       "      <td>0.670676</td>\n",
       "      <td>-4.062942</td>\n",
       "      <td>-0.599655</td>\n",
       "      <td>-2.558317</td>\n",
       "      <td>...</td>\n",
       "      <td>0.567913</td>\n",
       "      <td>1.296780</td>\n",
       "      <td>-5.546981</td>\n",
       "      <td>2.743781</td>\n",
       "      <td>-0.620484</td>\n",
       "      <td>-2.022752</td>\n",
       "      <td>0.686855</td>\n",
       "      <td>-0.550445</td>\n",
       "      <td>-0.327915</td>\n",
       "      <td>-3.466171</td>\n",
       "    </tr>\n",
       "    <tr>\n",
       "      <th>TCGA-04-1514-01</th>\n",
       "      <td>-1.143221</td>\n",
       "      <td>0.555811</td>\n",
       "      <td>3.156366</td>\n",
       "      <td>0.929685</td>\n",
       "      <td>2.110598</td>\n",
       "      <td>-3.297064</td>\n",
       "      <td>0.670676</td>\n",
       "      <td>-1.129452</td>\n",
       "      <td>-0.599655</td>\n",
       "      <td>-1.342834</td>\n",
       "      <td>...</td>\n",
       "      <td>0.567913</td>\n",
       "      <td>-0.784014</td>\n",
       "      <td>-2.132746</td>\n",
       "      <td>-0.465683</td>\n",
       "      <td>-0.620484</td>\n",
       "      <td>0.787934</td>\n",
       "      <td>0.686855</td>\n",
       "      <td>-0.550445</td>\n",
       "      <td>2.405337</td>\n",
       "      <td>-4.790992</td>\n",
       "    </tr>\n",
       "    <tr>\n",
       "      <th>TCGA-04-1519-01</th>\n",
       "      <td>-2.382394</td>\n",
       "      <td>0.555811</td>\n",
       "      <td>2.667399</td>\n",
       "      <td>0.929685</td>\n",
       "      <td>0.008207</td>\n",
       "      <td>-6.301950</td>\n",
       "      <td>0.670676</td>\n",
       "      <td>-2.223940</td>\n",
       "      <td>-0.599655</td>\n",
       "      <td>-4.123623</td>\n",
       "      <td>...</td>\n",
       "      <td>0.567913</td>\n",
       "      <td>-2.045048</td>\n",
       "      <td>-3.324442</td>\n",
       "      <td>1.738771</td>\n",
       "      <td>-0.620484</td>\n",
       "      <td>-0.301947</td>\n",
       "      <td>0.686855</td>\n",
       "      <td>-0.550445</td>\n",
       "      <td>1.523818</td>\n",
       "      <td>-5.478044</td>\n",
       "    </tr>\n",
       "    <tr>\n",
       "      <th>TCGA-05-4244-01</th>\n",
       "      <td>1.919040</td>\n",
       "      <td>0.555811</td>\n",
       "      <td>-3.505659</td>\n",
       "      <td>0.929685</td>\n",
       "      <td>4.884506</td>\n",
       "      <td>-0.122135</td>\n",
       "      <td>0.670676</td>\n",
       "      <td>-1.271388</td>\n",
       "      <td>-0.599655</td>\n",
       "      <td>-4.683391</td>\n",
       "      <td>...</td>\n",
       "      <td>0.567913</td>\n",
       "      <td>-0.024474</td>\n",
       "      <td>-1.683429</td>\n",
       "      <td>-0.641953</td>\n",
       "      <td>-0.620484</td>\n",
       "      <td>-1.478625</td>\n",
       "      <td>0.686855</td>\n",
       "      <td>-0.550445</td>\n",
       "      <td>-3.163888</td>\n",
       "      <td>1.503348</td>\n",
       "    </tr>\n",
       "    <tr>\n",
       "      <th>TCGA-05-4249-01</th>\n",
       "      <td>1.256297</td>\n",
       "      <td>0.555811</td>\n",
       "      <td>-3.728177</td>\n",
       "      <td>0.929685</td>\n",
       "      <td>5.616282</td>\n",
       "      <td>-0.352617</td>\n",
       "      <td>0.670676</td>\n",
       "      <td>0.065415</td>\n",
       "      <td>-0.599655</td>\n",
       "      <td>-4.403129</td>\n",
       "      <td>...</td>\n",
       "      <td>0.567913</td>\n",
       "      <td>1.034504</td>\n",
       "      <td>-1.441992</td>\n",
       "      <td>-1.659841</td>\n",
       "      <td>-0.620484</td>\n",
       "      <td>-0.997877</td>\n",
       "      <td>0.686855</td>\n",
       "      <td>-0.550445</td>\n",
       "      <td>-2.604698</td>\n",
       "      <td>0.846436</td>\n",
       "    </tr>\n",
       "    <tr>\n",
       "      <th>TCGA-05-4250-01</th>\n",
       "      <td>1.358584</td>\n",
       "      <td>0.555811</td>\n",
       "      <td>-4.252385</td>\n",
       "      <td>0.929685</td>\n",
       "      <td>3.462481</td>\n",
       "      <td>-0.667807</td>\n",
       "      <td>0.670676</td>\n",
       "      <td>-2.175023</td>\n",
       "      <td>-0.599655</td>\n",
       "      <td>-3.419859</td>\n",
       "      <td>...</td>\n",
       "      <td>0.567913</td>\n",
       "      <td>-0.578181</td>\n",
       "      <td>-0.191469</td>\n",
       "      <td>0.896159</td>\n",
       "      <td>-0.620484</td>\n",
       "      <td>-0.776490</td>\n",
       "      <td>0.686855</td>\n",
       "      <td>-0.550445</td>\n",
       "      <td>-5.462027</td>\n",
       "      <td>0.664464</td>\n",
       "    </tr>\n",
       "    <tr>\n",
       "      <th>TCGA-05-4382-01</th>\n",
       "      <td>0.368733</td>\n",
       "      <td>0.555811</td>\n",
       "      <td>-2.174516</td>\n",
       "      <td>0.929685</td>\n",
       "      <td>4.592817</td>\n",
       "      <td>-1.055767</td>\n",
       "      <td>0.670676</td>\n",
       "      <td>0.563366</td>\n",
       "      <td>-0.599655</td>\n",
       "      <td>-2.006754</td>\n",
       "      <td>...</td>\n",
       "      <td>0.567913</td>\n",
       "      <td>-1.638930</td>\n",
       "      <td>-0.236475</td>\n",
       "      <td>-0.833921</td>\n",
       "      <td>-0.620484</td>\n",
       "      <td>-1.315682</td>\n",
       "      <td>0.686855</td>\n",
       "      <td>-0.550445</td>\n",
       "      <td>-1.128386</td>\n",
       "      <td>0.983158</td>\n",
       "    </tr>\n",
       "    <tr>\n",
       "      <th>TCGA-05-4384-01</th>\n",
       "      <td>-1.789783</td>\n",
       "      <td>0.555811</td>\n",
       "      <td>-3.403262</td>\n",
       "      <td>0.929685</td>\n",
       "      <td>3.507257</td>\n",
       "      <td>0.932180</td>\n",
       "      <td>0.670676</td>\n",
       "      <td>-0.180408</td>\n",
       "      <td>-0.599655</td>\n",
       "      <td>-5.093492</td>\n",
       "      <td>...</td>\n",
       "      <td>0.567913</td>\n",
       "      <td>1.867456</td>\n",
       "      <td>-1.830380</td>\n",
       "      <td>-3.389734</td>\n",
       "      <td>-0.620484</td>\n",
       "      <td>0.425177</td>\n",
       "      <td>0.686855</td>\n",
       "      <td>-0.550445</td>\n",
       "      <td>-0.291443</td>\n",
       "      <td>2.200610</td>\n",
       "    </tr>\n",
       "    <tr>\n",
       "      <th>TCGA-05-4389-01</th>\n",
       "      <td>-1.103160</td>\n",
       "      <td>0.555811</td>\n",
       "      <td>-4.190713</td>\n",
       "      <td>0.929685</td>\n",
       "      <td>3.214600</td>\n",
       "      <td>1.192673</td>\n",
       "      <td>0.670676</td>\n",
       "      <td>-1.018157</td>\n",
       "      <td>-0.599655</td>\n",
       "      <td>-3.727735</td>\n",
       "      <td>...</td>\n",
       "      <td>0.567913</td>\n",
       "      <td>1.700676</td>\n",
       "      <td>-1.793295</td>\n",
       "      <td>1.199129</td>\n",
       "      <td>-0.620484</td>\n",
       "      <td>-1.984058</td>\n",
       "      <td>0.686855</td>\n",
       "      <td>-0.550445</td>\n",
       "      <td>-2.152501</td>\n",
       "      <td>2.087623</td>\n",
       "    </tr>\n",
       "    <tr>\n",
       "      <th>TCGA-05-4390-01</th>\n",
       "      <td>3.459865</td>\n",
       "      <td>0.555811</td>\n",
       "      <td>-3.763942</td>\n",
       "      <td>0.929685</td>\n",
       "      <td>4.391313</td>\n",
       "      <td>-0.623399</td>\n",
       "      <td>0.670676</td>\n",
       "      <td>-0.308102</td>\n",
       "      <td>-0.599655</td>\n",
       "      <td>-2.997948</td>\n",
       "      <td>...</td>\n",
       "      <td>0.567913</td>\n",
       "      <td>-1.750585</td>\n",
       "      <td>-0.576036</td>\n",
       "      <td>0.538211</td>\n",
       "      <td>-0.620484</td>\n",
       "      <td>-0.656960</td>\n",
       "      <td>0.686855</td>\n",
       "      <td>-0.550445</td>\n",
       "      <td>-2.852150</td>\n",
       "      <td>1.751296</td>\n",
       "    </tr>\n",
       "    <tr>\n",
       "      <th>TCGA-05-4395-01</th>\n",
       "      <td>0.771068</td>\n",
       "      <td>0.555811</td>\n",
       "      <td>-4.163019</td>\n",
       "      <td>0.929685</td>\n",
       "      <td>2.857025</td>\n",
       "      <td>-1.661280</td>\n",
       "      <td>0.670676</td>\n",
       "      <td>-1.404809</td>\n",
       "      <td>-0.599655</td>\n",
       "      <td>-2.171159</td>\n",
       "      <td>...</td>\n",
       "      <td>0.567913</td>\n",
       "      <td>1.212643</td>\n",
       "      <td>-3.151372</td>\n",
       "      <td>-2.097585</td>\n",
       "      <td>-0.620484</td>\n",
       "      <td>0.189951</td>\n",
       "      <td>0.686855</td>\n",
       "      <td>-0.550445</td>\n",
       "      <td>-5.688197</td>\n",
       "      <td>1.880434</td>\n",
       "    </tr>\n",
       "    <tr>\n",
       "      <th>TCGA-05-4396-01</th>\n",
       "      <td>-0.567434</td>\n",
       "      <td>0.555811</td>\n",
       "      <td>-4.502994</td>\n",
       "      <td>0.929685</td>\n",
       "      <td>4.272479</td>\n",
       "      <td>-0.309960</td>\n",
       "      <td>0.670676</td>\n",
       "      <td>0.719658</td>\n",
       "      <td>-0.599655</td>\n",
       "      <td>-3.331909</td>\n",
       "      <td>...</td>\n",
       "      <td>0.567913</td>\n",
       "      <td>1.915661</td>\n",
       "      <td>-4.185774</td>\n",
       "      <td>-2.773219</td>\n",
       "      <td>-0.620484</td>\n",
       "      <td>0.727542</td>\n",
       "      <td>0.686855</td>\n",
       "      <td>-0.550445</td>\n",
       "      <td>-1.772289</td>\n",
       "      <td>1.604731</td>\n",
       "    </tr>\n",
       "    <tr>\n",
       "      <th>TCGA-05-4397-01</th>\n",
       "      <td>0.261614</td>\n",
       "      <td>0.555811</td>\n",
       "      <td>0.069616</td>\n",
       "      <td>0.929685</td>\n",
       "      <td>4.118124</td>\n",
       "      <td>0.259197</td>\n",
       "      <td>0.670676</td>\n",
       "      <td>-3.061393</td>\n",
       "      <td>-0.599655</td>\n",
       "      <td>-1.917236</td>\n",
       "      <td>...</td>\n",
       "      <td>0.567913</td>\n",
       "      <td>-2.075199</td>\n",
       "      <td>-0.008351</td>\n",
       "      <td>0.118771</td>\n",
       "      <td>-0.620484</td>\n",
       "      <td>-1.423598</td>\n",
       "      <td>0.686855</td>\n",
       "      <td>-0.550445</td>\n",
       "      <td>-1.536069</td>\n",
       "      <td>2.370414</td>\n",
       "    </tr>\n",
       "    <tr>\n",
       "      <th>TCGA-05-4398-01</th>\n",
       "      <td>2.843942</td>\n",
       "      <td>0.555811</td>\n",
       "      <td>-2.918797</td>\n",
       "      <td>0.929685</td>\n",
       "      <td>3.892384</td>\n",
       "      <td>-1.327246</td>\n",
       "      <td>0.670676</td>\n",
       "      <td>-1.128512</td>\n",
       "      <td>-0.599655</td>\n",
       "      <td>-3.094111</td>\n",
       "      <td>...</td>\n",
       "      <td>0.567913</td>\n",
       "      <td>-1.177842</td>\n",
       "      <td>-0.517755</td>\n",
       "      <td>0.094991</td>\n",
       "      <td>-0.620484</td>\n",
       "      <td>0.304655</td>\n",
       "      <td>0.686855</td>\n",
       "      <td>-0.550445</td>\n",
       "      <td>-4.823598</td>\n",
       "      <td>2.048566</td>\n",
       "    </tr>\n",
       "    <tr>\n",
       "      <th>TCGA-05-4402-01</th>\n",
       "      <td>0.509973</td>\n",
       "      <td>0.555811</td>\n",
       "      <td>-3.266580</td>\n",
       "      <td>0.929685</td>\n",
       "      <td>4.244353</td>\n",
       "      <td>-1.086679</td>\n",
       "      <td>0.670676</td>\n",
       "      <td>-1.711602</td>\n",
       "      <td>-0.599655</td>\n",
       "      <td>-3.192107</td>\n",
       "      <td>...</td>\n",
       "      <td>0.567913</td>\n",
       "      <td>0.936259</td>\n",
       "      <td>-1.347834</td>\n",
       "      <td>1.996463</td>\n",
       "      <td>-0.620484</td>\n",
       "      <td>-0.545270</td>\n",
       "      <td>0.686855</td>\n",
       "      <td>-0.550445</td>\n",
       "      <td>-4.397729</td>\n",
       "      <td>0.799706</td>\n",
       "    </tr>\n",
       "    <tr>\n",
       "      <th>TCGA-05-4403-01</th>\n",
       "      <td>-2.501809</td>\n",
       "      <td>0.555811</td>\n",
       "      <td>-3.638217</td>\n",
       "      <td>0.929685</td>\n",
       "      <td>3.901608</td>\n",
       "      <td>0.830582</td>\n",
       "      <td>0.670676</td>\n",
       "      <td>0.690319</td>\n",
       "      <td>-0.599655</td>\n",
       "      <td>-2.410525</td>\n",
       "      <td>...</td>\n",
       "      <td>0.567913</td>\n",
       "      <td>1.949528</td>\n",
       "      <td>1.030195</td>\n",
       "      <td>-0.967446</td>\n",
       "      <td>-0.620484</td>\n",
       "      <td>0.230881</td>\n",
       "      <td>0.686855</td>\n",
       "      <td>-0.550445</td>\n",
       "      <td>-2.360438</td>\n",
       "      <td>1.299922</td>\n",
       "    </tr>\n",
       "    <tr>\n",
       "      <th>TCGA-05-4405-01</th>\n",
       "      <td>2.798047</td>\n",
       "      <td>0.555811</td>\n",
       "      <td>-3.860383</td>\n",
       "      <td>0.929685</td>\n",
       "      <td>5.476255</td>\n",
       "      <td>-0.664765</td>\n",
       "      <td>0.670676</td>\n",
       "      <td>-1.818789</td>\n",
       "      <td>-0.599655</td>\n",
       "      <td>-2.981944</td>\n",
       "      <td>...</td>\n",
       "      <td>0.567913</td>\n",
       "      <td>1.028784</td>\n",
       "      <td>-0.209918</td>\n",
       "      <td>-1.406631</td>\n",
       "      <td>-0.620484</td>\n",
       "      <td>-0.555136</td>\n",
       "      <td>0.686855</td>\n",
       "      <td>-0.550445</td>\n",
       "      <td>-2.759684</td>\n",
       "      <td>2.181715</td>\n",
       "    </tr>\n",
       "    <tr>\n",
       "      <th>TCGA-05-4410-01</th>\n",
       "      <td>0.765890</td>\n",
       "      <td>0.555811</td>\n",
       "      <td>-5.849667</td>\n",
       "      <td>0.929685</td>\n",
       "      <td>4.780499</td>\n",
       "      <td>0.239474</td>\n",
       "      <td>0.670676</td>\n",
       "      <td>-0.772958</td>\n",
       "      <td>-0.599655</td>\n",
       "      <td>-3.858719</td>\n",
       "      <td>...</td>\n",
       "      <td>0.567913</td>\n",
       "      <td>-0.993407</td>\n",
       "      <td>-2.665709</td>\n",
       "      <td>-0.293026</td>\n",
       "      <td>-0.620484</td>\n",
       "      <td>-1.011878</td>\n",
       "      <td>0.686855</td>\n",
       "      <td>-0.550445</td>\n",
       "      <td>-2.887071</td>\n",
       "      <td>0.625560</td>\n",
       "    </tr>\n",
       "    <tr>\n",
       "      <th>TCGA-05-4415-01</th>\n",
       "      <td>-1.115549</td>\n",
       "      <td>0.555811</td>\n",
       "      <td>-2.426642</td>\n",
       "      <td>0.929685</td>\n",
       "      <td>3.506718</td>\n",
       "      <td>-2.148590</td>\n",
       "      <td>0.670676</td>\n",
       "      <td>-2.131093</td>\n",
       "      <td>-0.599655</td>\n",
       "      <td>-1.420514</td>\n",
       "      <td>...</td>\n",
       "      <td>0.567913</td>\n",
       "      <td>0.520221</td>\n",
       "      <td>-2.358208</td>\n",
       "      <td>-3.146664</td>\n",
       "      <td>-0.620484</td>\n",
       "      <td>1.225545</td>\n",
       "      <td>0.686855</td>\n",
       "      <td>-0.550445</td>\n",
       "      <td>-0.735664</td>\n",
       "      <td>0.336284</td>\n",
       "    </tr>\n",
       "    <tr>\n",
       "      <th>TCGA-05-4417-01</th>\n",
       "      <td>1.737871</td>\n",
       "      <td>0.555811</td>\n",
       "      <td>-4.228442</td>\n",
       "      <td>0.929685</td>\n",
       "      <td>3.854662</td>\n",
       "      <td>1.518146</td>\n",
       "      <td>0.670676</td>\n",
       "      <td>0.506330</td>\n",
       "      <td>-0.599655</td>\n",
       "      <td>-3.281254</td>\n",
       "      <td>...</td>\n",
       "      <td>0.567913</td>\n",
       "      <td>0.225829</td>\n",
       "      <td>-1.077497</td>\n",
       "      <td>-0.817652</td>\n",
       "      <td>-0.620484</td>\n",
       "      <td>0.236015</td>\n",
       "      <td>0.686855</td>\n",
       "      <td>-0.550445</td>\n",
       "      <td>-3.498631</td>\n",
       "      <td>2.861073</td>\n",
       "    </tr>\n",
       "    <tr>\n",
       "      <th>TCGA-05-4418-01</th>\n",
       "      <td>-1.158447</td>\n",
       "      <td>0.555811</td>\n",
       "      <td>-4.038074</td>\n",
       "      <td>0.929685</td>\n",
       "      <td>2.686483</td>\n",
       "      <td>-0.929785</td>\n",
       "      <td>0.670676</td>\n",
       "      <td>1.031548</td>\n",
       "      <td>-0.599655</td>\n",
       "      <td>-1.828722</td>\n",
       "      <td>...</td>\n",
       "      <td>0.567913</td>\n",
       "      <td>-0.112224</td>\n",
       "      <td>-1.961184</td>\n",
       "      <td>-1.992688</td>\n",
       "      <td>-0.620484</td>\n",
       "      <td>1.308918</td>\n",
       "      <td>0.686855</td>\n",
       "      <td>-0.550445</td>\n",
       "      <td>-2.997366</td>\n",
       "      <td>1.071283</td>\n",
       "    </tr>\n",
       "    <tr>\n",
       "      <th>...</th>\n",
       "      <td>...</td>\n",
       "      <td>...</td>\n",
       "      <td>...</td>\n",
       "      <td>...</td>\n",
       "      <td>...</td>\n",
       "      <td>...</td>\n",
       "      <td>...</td>\n",
       "      <td>...</td>\n",
       "      <td>...</td>\n",
       "      <td>...</td>\n",
       "      <td>...</td>\n",
       "      <td>...</td>\n",
       "      <td>...</td>\n",
       "      <td>...</td>\n",
       "      <td>...</td>\n",
       "      <td>...</td>\n",
       "      <td>...</td>\n",
       "      <td>...</td>\n",
       "      <td>...</td>\n",
       "      <td>...</td>\n",
       "      <td>...</td>\n",
       "    </tr>\n",
       "    <tr>\n",
       "      <th>TCGA-ZM-AA0D-01</th>\n",
       "      <td>0.033206</td>\n",
       "      <td>0.555811</td>\n",
       "      <td>-2.160172</td>\n",
       "      <td>0.929685</td>\n",
       "      <td>2.068300</td>\n",
       "      <td>-2.038323</td>\n",
       "      <td>0.670676</td>\n",
       "      <td>0.525943</td>\n",
       "      <td>-0.599655</td>\n",
       "      <td>-1.841033</td>\n",
       "      <td>...</td>\n",
       "      <td>0.567913</td>\n",
       "      <td>-1.832553</td>\n",
       "      <td>-2.408665</td>\n",
       "      <td>-4.463807</td>\n",
       "      <td>-0.620484</td>\n",
       "      <td>-0.608759</td>\n",
       "      <td>0.686855</td>\n",
       "      <td>-0.550445</td>\n",
       "      <td>4.565644</td>\n",
       "      <td>-2.929395</td>\n",
       "    </tr>\n",
       "    <tr>\n",
       "      <th>TCGA-ZM-AA0E-01</th>\n",
       "      <td>-0.493701</td>\n",
       "      <td>0.555811</td>\n",
       "      <td>-2.513460</td>\n",
       "      <td>0.929685</td>\n",
       "      <td>2.290313</td>\n",
       "      <td>-3.734313</td>\n",
       "      <td>0.670676</td>\n",
       "      <td>1.423484</td>\n",
       "      <td>-0.599655</td>\n",
       "      <td>-3.357278</td>\n",
       "      <td>...</td>\n",
       "      <td>0.567913</td>\n",
       "      <td>-3.205812</td>\n",
       "      <td>-2.879313</td>\n",
       "      <td>-5.073041</td>\n",
       "      <td>-0.620484</td>\n",
       "      <td>-0.811887</td>\n",
       "      <td>0.686855</td>\n",
       "      <td>-0.550445</td>\n",
       "      <td>4.595484</td>\n",
       "      <td>-4.570705</td>\n",
       "    </tr>\n",
       "    <tr>\n",
       "      <th>TCGA-ZM-AA0F-01</th>\n",
       "      <td>1.086021</td>\n",
       "      <td>0.555811</td>\n",
       "      <td>-2.768766</td>\n",
       "      <td>0.929685</td>\n",
       "      <td>2.093261</td>\n",
       "      <td>-1.798604</td>\n",
       "      <td>0.670676</td>\n",
       "      <td>1.571490</td>\n",
       "      <td>-0.599655</td>\n",
       "      <td>-0.571444</td>\n",
       "      <td>...</td>\n",
       "      <td>0.567913</td>\n",
       "      <td>-2.107793</td>\n",
       "      <td>-0.759169</td>\n",
       "      <td>-2.912301</td>\n",
       "      <td>-0.620484</td>\n",
       "      <td>-0.622653</td>\n",
       "      <td>0.686855</td>\n",
       "      <td>-0.550445</td>\n",
       "      <td>3.812256</td>\n",
       "      <td>-3.513982</td>\n",
       "    </tr>\n",
       "    <tr>\n",
       "      <th>TCGA-ZM-AA0H-01</th>\n",
       "      <td>-0.059173</td>\n",
       "      <td>0.555811</td>\n",
       "      <td>-2.581796</td>\n",
       "      <td>0.929685</td>\n",
       "      <td>2.186213</td>\n",
       "      <td>-3.158237</td>\n",
       "      <td>0.670676</td>\n",
       "      <td>1.438908</td>\n",
       "      <td>-0.599655</td>\n",
       "      <td>-2.448802</td>\n",
       "      <td>...</td>\n",
       "      <td>0.567913</td>\n",
       "      <td>-2.132650</td>\n",
       "      <td>-1.692660</td>\n",
       "      <td>-4.365953</td>\n",
       "      <td>-0.620484</td>\n",
       "      <td>-0.965138</td>\n",
       "      <td>0.686855</td>\n",
       "      <td>-0.550445</td>\n",
       "      <td>4.068141</td>\n",
       "      <td>-3.262815</td>\n",
       "    </tr>\n",
       "    <tr>\n",
       "      <th>TCGA-ZM-AA0N-01</th>\n",
       "      <td>0.997593</td>\n",
       "      <td>0.555811</td>\n",
       "      <td>-1.490667</td>\n",
       "      <td>0.929685</td>\n",
       "      <td>2.152414</td>\n",
       "      <td>-5.561831</td>\n",
       "      <td>0.670676</td>\n",
       "      <td>0.523718</td>\n",
       "      <td>-0.599655</td>\n",
       "      <td>-3.325050</td>\n",
       "      <td>...</td>\n",
       "      <td>0.567913</td>\n",
       "      <td>-1.017272</td>\n",
       "      <td>-2.402974</td>\n",
       "      <td>-5.823618</td>\n",
       "      <td>-0.620484</td>\n",
       "      <td>-0.560654</td>\n",
       "      <td>0.686855</td>\n",
       "      <td>-0.550445</td>\n",
       "      <td>4.902968</td>\n",
       "      <td>-4.034525</td>\n",
       "    </tr>\n",
       "    <tr>\n",
       "      <th>TCGA-ZN-A9VO-01</th>\n",
       "      <td>-5.401848</td>\n",
       "      <td>0.555811</td>\n",
       "      <td>1.808421</td>\n",
       "      <td>0.929685</td>\n",
       "      <td>2.370915</td>\n",
       "      <td>-5.069992</td>\n",
       "      <td>0.670676</td>\n",
       "      <td>1.414653</td>\n",
       "      <td>-0.599655</td>\n",
       "      <td>2.402853</td>\n",
       "      <td>...</td>\n",
       "      <td>0.567913</td>\n",
       "      <td>1.388880</td>\n",
       "      <td>-2.272436</td>\n",
       "      <td>1.995847</td>\n",
       "      <td>-0.620484</td>\n",
       "      <td>1.891715</td>\n",
       "      <td>0.686855</td>\n",
       "      <td>-0.550445</td>\n",
       "      <td>4.899180</td>\n",
       "      <td>1.162451</td>\n",
       "    </tr>\n",
       "    <tr>\n",
       "      <th>TCGA-ZN-A9VP-01</th>\n",
       "      <td>-4.530667</td>\n",
       "      <td>0.555811</td>\n",
       "      <td>1.053333</td>\n",
       "      <td>0.929685</td>\n",
       "      <td>4.558241</td>\n",
       "      <td>-5.296805</td>\n",
       "      <td>0.670676</td>\n",
       "      <td>1.397748</td>\n",
       "      <td>-0.599655</td>\n",
       "      <td>1.658823</td>\n",
       "      <td>...</td>\n",
       "      <td>0.567913</td>\n",
       "      <td>2.236510</td>\n",
       "      <td>-2.292904</td>\n",
       "      <td>1.018148</td>\n",
       "      <td>-0.620484</td>\n",
       "      <td>3.163095</td>\n",
       "      <td>0.686855</td>\n",
       "      <td>-0.550445</td>\n",
       "      <td>4.027265</td>\n",
       "      <td>-1.715545</td>\n",
       "    </tr>\n",
       "    <tr>\n",
       "      <th>TCGA-ZN-A9VQ-01</th>\n",
       "      <td>-2.117113</td>\n",
       "      <td>0.555811</td>\n",
       "      <td>0.988847</td>\n",
       "      <td>0.929685</td>\n",
       "      <td>2.985936</td>\n",
       "      <td>-3.866690</td>\n",
       "      <td>0.670676</td>\n",
       "      <td>2.173604</td>\n",
       "      <td>-0.599655</td>\n",
       "      <td>2.917344</td>\n",
       "      <td>...</td>\n",
       "      <td>0.567913</td>\n",
       "      <td>2.370720</td>\n",
       "      <td>1.668680</td>\n",
       "      <td>-0.005989</td>\n",
       "      <td>-0.620484</td>\n",
       "      <td>1.697584</td>\n",
       "      <td>0.686855</td>\n",
       "      <td>-0.550445</td>\n",
       "      <td>2.571019</td>\n",
       "      <td>-0.048625</td>\n",
       "    </tr>\n",
       "    <tr>\n",
       "      <th>TCGA-ZN-A9VS-01</th>\n",
       "      <td>-4.556803</td>\n",
       "      <td>0.555811</td>\n",
       "      <td>1.312847</td>\n",
       "      <td>0.929685</td>\n",
       "      <td>3.290658</td>\n",
       "      <td>-5.678077</td>\n",
       "      <td>0.670676</td>\n",
       "      <td>2.995351</td>\n",
       "      <td>-0.599655</td>\n",
       "      <td>0.363693</td>\n",
       "      <td>...</td>\n",
       "      <td>0.567913</td>\n",
       "      <td>1.233179</td>\n",
       "      <td>-2.943625</td>\n",
       "      <td>1.722652</td>\n",
       "      <td>-0.620484</td>\n",
       "      <td>2.413151</td>\n",
       "      <td>0.686855</td>\n",
       "      <td>-0.550445</td>\n",
       "      <td>1.704282</td>\n",
       "      <td>0.122929</td>\n",
       "    </tr>\n",
       "    <tr>\n",
       "      <th>TCGA-ZN-A9VU-01</th>\n",
       "      <td>-6.801234</td>\n",
       "      <td>0.555811</td>\n",
       "      <td>0.608366</td>\n",
       "      <td>0.929685</td>\n",
       "      <td>3.635819</td>\n",
       "      <td>-6.026831</td>\n",
       "      <td>0.670676</td>\n",
       "      <td>2.855025</td>\n",
       "      <td>-0.599655</td>\n",
       "      <td>2.333560</td>\n",
       "      <td>...</td>\n",
       "      <td>0.567913</td>\n",
       "      <td>1.373558</td>\n",
       "      <td>-2.496940</td>\n",
       "      <td>2.305883</td>\n",
       "      <td>-0.620484</td>\n",
       "      <td>1.555998</td>\n",
       "      <td>0.686855</td>\n",
       "      <td>-0.550445</td>\n",
       "      <td>3.061442</td>\n",
       "      <td>-0.236923</td>\n",
       "    </tr>\n",
       "    <tr>\n",
       "      <th>TCGA-ZN-A9VV-01</th>\n",
       "      <td>-3.121525</td>\n",
       "      <td>0.555811</td>\n",
       "      <td>1.977060</td>\n",
       "      <td>0.929685</td>\n",
       "      <td>0.847974</td>\n",
       "      <td>-4.459078</td>\n",
       "      <td>0.670676</td>\n",
       "      <td>1.318587</td>\n",
       "      <td>-0.599655</td>\n",
       "      <td>1.799010</td>\n",
       "      <td>...</td>\n",
       "      <td>0.567913</td>\n",
       "      <td>1.978846</td>\n",
       "      <td>0.452768</td>\n",
       "      <td>-0.731107</td>\n",
       "      <td>-0.620484</td>\n",
       "      <td>0.350671</td>\n",
       "      <td>0.686855</td>\n",
       "      <td>-0.550445</td>\n",
       "      <td>4.063334</td>\n",
       "      <td>-2.442768</td>\n",
       "    </tr>\n",
       "    <tr>\n",
       "      <th>TCGA-ZN-A9VW-01</th>\n",
       "      <td>-3.690596</td>\n",
       "      <td>0.555811</td>\n",
       "      <td>1.550216</td>\n",
       "      <td>0.929685</td>\n",
       "      <td>2.381489</td>\n",
       "      <td>-3.898372</td>\n",
       "      <td>0.670676</td>\n",
       "      <td>0.506477</td>\n",
       "      <td>-0.599655</td>\n",
       "      <td>2.808058</td>\n",
       "      <td>...</td>\n",
       "      <td>0.567913</td>\n",
       "      <td>1.026435</td>\n",
       "      <td>-1.665783</td>\n",
       "      <td>0.357406</td>\n",
       "      <td>-0.620484</td>\n",
       "      <td>0.782941</td>\n",
       "      <td>0.686855</td>\n",
       "      <td>-0.550445</td>\n",
       "      <td>2.016583</td>\n",
       "      <td>0.963155</td>\n",
       "    </tr>\n",
       "    <tr>\n",
       "      <th>TCGA-ZP-A9CV-01</th>\n",
       "      <td>0.607463</td>\n",
       "      <td>0.555811</td>\n",
       "      <td>0.278564</td>\n",
       "      <td>0.929685</td>\n",
       "      <td>1.754679</td>\n",
       "      <td>3.179193</td>\n",
       "      <td>0.670676</td>\n",
       "      <td>-2.049231</td>\n",
       "      <td>-0.599655</td>\n",
       "      <td>1.632333</td>\n",
       "      <td>...</td>\n",
       "      <td>0.567913</td>\n",
       "      <td>-2.698947</td>\n",
       "      <td>-4.869120</td>\n",
       "      <td>0.842942</td>\n",
       "      <td>-0.620484</td>\n",
       "      <td>2.235586</td>\n",
       "      <td>0.686855</td>\n",
       "      <td>-0.550445</td>\n",
       "      <td>-4.187745</td>\n",
       "      <td>2.859815</td>\n",
       "    </tr>\n",
       "    <tr>\n",
       "      <th>TCGA-ZP-A9CY-01</th>\n",
       "      <td>-0.870800</td>\n",
       "      <td>0.555811</td>\n",
       "      <td>1.499996</td>\n",
       "      <td>0.929685</td>\n",
       "      <td>2.864358</td>\n",
       "      <td>1.733594</td>\n",
       "      <td>0.670676</td>\n",
       "      <td>-2.902510</td>\n",
       "      <td>-0.599655</td>\n",
       "      <td>2.724221</td>\n",
       "      <td>...</td>\n",
       "      <td>0.567913</td>\n",
       "      <td>-2.847502</td>\n",
       "      <td>-4.254764</td>\n",
       "      <td>1.919781</td>\n",
       "      <td>-0.620484</td>\n",
       "      <td>3.195733</td>\n",
       "      <td>0.686855</td>\n",
       "      <td>-0.550445</td>\n",
       "      <td>-3.793380</td>\n",
       "      <td>2.196330</td>\n",
       "    </tr>\n",
       "    <tr>\n",
       "      <th>TCGA-ZP-A9CZ-01</th>\n",
       "      <td>2.142411</td>\n",
       "      <td>0.555811</td>\n",
       "      <td>0.861046</td>\n",
       "      <td>0.929685</td>\n",
       "      <td>1.514203</td>\n",
       "      <td>3.814747</td>\n",
       "      <td>0.670676</td>\n",
       "      <td>-2.022258</td>\n",
       "      <td>-0.599655</td>\n",
       "      <td>0.742766</td>\n",
       "      <td>...</td>\n",
       "      <td>0.567913</td>\n",
       "      <td>-2.837081</td>\n",
       "      <td>-4.256881</td>\n",
       "      <td>0.462524</td>\n",
       "      <td>-0.620484</td>\n",
       "      <td>1.278083</td>\n",
       "      <td>0.686855</td>\n",
       "      <td>-0.550445</td>\n",
       "      <td>-2.770962</td>\n",
       "      <td>0.544239</td>\n",
       "    </tr>\n",
       "    <tr>\n",
       "      <th>TCGA-ZP-A9D0-01</th>\n",
       "      <td>0.140442</td>\n",
       "      <td>0.555811</td>\n",
       "      <td>3.498830</td>\n",
       "      <td>0.929685</td>\n",
       "      <td>1.685672</td>\n",
       "      <td>1.504233</td>\n",
       "      <td>0.670676</td>\n",
       "      <td>-0.912462</td>\n",
       "      <td>-0.599655</td>\n",
       "      <td>2.534816</td>\n",
       "      <td>...</td>\n",
       "      <td>0.567913</td>\n",
       "      <td>-2.857480</td>\n",
       "      <td>-4.131677</td>\n",
       "      <td>-0.598278</td>\n",
       "      <td>-0.620484</td>\n",
       "      <td>2.974079</td>\n",
       "      <td>0.686855</td>\n",
       "      <td>-0.550445</td>\n",
       "      <td>-4.223122</td>\n",
       "      <td>2.804167</td>\n",
       "    </tr>\n",
       "    <tr>\n",
       "      <th>TCGA-ZP-A9D1-01</th>\n",
       "      <td>0.548666</td>\n",
       "      <td>0.555811</td>\n",
       "      <td>0.808014</td>\n",
       "      <td>0.929685</td>\n",
       "      <td>2.019627</td>\n",
       "      <td>2.865204</td>\n",
       "      <td>0.670676</td>\n",
       "      <td>-0.346343</td>\n",
       "      <td>-0.599655</td>\n",
       "      <td>2.002226</td>\n",
       "      <td>...</td>\n",
       "      <td>0.567913</td>\n",
       "      <td>-3.448690</td>\n",
       "      <td>-3.938642</td>\n",
       "      <td>-0.269260</td>\n",
       "      <td>-0.620484</td>\n",
       "      <td>3.876620</td>\n",
       "      <td>0.686855</td>\n",
       "      <td>-0.550445</td>\n",
       "      <td>-3.386560</td>\n",
       "      <td>2.021034</td>\n",
       "    </tr>\n",
       "    <tr>\n",
       "      <th>TCGA-ZP-A9D2-01</th>\n",
       "      <td>-0.549544</td>\n",
       "      <td>0.555811</td>\n",
       "      <td>3.555569</td>\n",
       "      <td>0.929685</td>\n",
       "      <td>3.282909</td>\n",
       "      <td>0.955883</td>\n",
       "      <td>0.670676</td>\n",
       "      <td>0.136815</td>\n",
       "      <td>-0.599655</td>\n",
       "      <td>0.410380</td>\n",
       "      <td>...</td>\n",
       "      <td>0.567913</td>\n",
       "      <td>-1.563021</td>\n",
       "      <td>-4.414649</td>\n",
       "      <td>-0.083902</td>\n",
       "      <td>-0.620484</td>\n",
       "      <td>2.835783</td>\n",
       "      <td>0.686855</td>\n",
       "      <td>-0.550445</td>\n",
       "      <td>-2.601472</td>\n",
       "      <td>0.668406</td>\n",
       "    </tr>\n",
       "    <tr>\n",
       "      <th>TCGA-ZP-A9D4-01</th>\n",
       "      <td>-0.479131</td>\n",
       "      <td>0.555811</td>\n",
       "      <td>2.477925</td>\n",
       "      <td>0.929685</td>\n",
       "      <td>-0.005255</td>\n",
       "      <td>2.499371</td>\n",
       "      <td>0.670676</td>\n",
       "      <td>-4.539763</td>\n",
       "      <td>-0.599655</td>\n",
       "      <td>0.258727</td>\n",
       "      <td>...</td>\n",
       "      <td>0.567913</td>\n",
       "      <td>-1.992487</td>\n",
       "      <td>-5.324708</td>\n",
       "      <td>2.330446</td>\n",
       "      <td>-0.620484</td>\n",
       "      <td>-0.277018</td>\n",
       "      <td>0.686855</td>\n",
       "      <td>-0.550445</td>\n",
       "      <td>-5.333878</td>\n",
       "      <td>2.254159</td>\n",
       "    </tr>\n",
       "    <tr>\n",
       "      <th>TCGA-ZQ-A9CR-01</th>\n",
       "      <td>0.243831</td>\n",
       "      <td>0.555811</td>\n",
       "      <td>-0.649284</td>\n",
       "      <td>0.929685</td>\n",
       "      <td>1.710173</td>\n",
       "      <td>1.570195</td>\n",
       "      <td>0.670676</td>\n",
       "      <td>-1.200684</td>\n",
       "      <td>-0.599655</td>\n",
       "      <td>-0.841566</td>\n",
       "      <td>...</td>\n",
       "      <td>0.567913</td>\n",
       "      <td>-0.804502</td>\n",
       "      <td>-0.048063</td>\n",
       "      <td>1.063814</td>\n",
       "      <td>-0.620484</td>\n",
       "      <td>1.108144</td>\n",
       "      <td>0.686855</td>\n",
       "      <td>-0.550445</td>\n",
       "      <td>-3.812010</td>\n",
       "      <td>-0.742395</td>\n",
       "    </tr>\n",
       "    <tr>\n",
       "      <th>TCGA-ZR-A9CJ-01</th>\n",
       "      <td>0.877904</td>\n",
       "      <td>0.555811</td>\n",
       "      <td>0.557237</td>\n",
       "      <td>0.929685</td>\n",
       "      <td>1.707442</td>\n",
       "      <td>1.200797</td>\n",
       "      <td>0.670676</td>\n",
       "      <td>0.208283</td>\n",
       "      <td>-0.599655</td>\n",
       "      <td>0.322773</td>\n",
       "      <td>...</td>\n",
       "      <td>0.567913</td>\n",
       "      <td>-2.583110</td>\n",
       "      <td>0.138840</td>\n",
       "      <td>-0.388590</td>\n",
       "      <td>-0.620484</td>\n",
       "      <td>1.017409</td>\n",
       "      <td>0.686855</td>\n",
       "      <td>-0.550445</td>\n",
       "      <td>-4.407344</td>\n",
       "      <td>-1.328595</td>\n",
       "    </tr>\n",
       "    <tr>\n",
       "      <th>TCGA-ZS-A9CD-01</th>\n",
       "      <td>0.733117</td>\n",
       "      <td>0.555811</td>\n",
       "      <td>1.409559</td>\n",
       "      <td>0.929685</td>\n",
       "      <td>0.886777</td>\n",
       "      <td>3.432611</td>\n",
       "      <td>0.670676</td>\n",
       "      <td>-1.548015</td>\n",
       "      <td>-0.599655</td>\n",
       "      <td>0.770970</td>\n",
       "      <td>...</td>\n",
       "      <td>0.567913</td>\n",
       "      <td>-4.146641</td>\n",
       "      <td>-3.783009</td>\n",
       "      <td>0.791867</td>\n",
       "      <td>-0.620484</td>\n",
       "      <td>2.264042</td>\n",
       "      <td>0.686855</td>\n",
       "      <td>-0.550445</td>\n",
       "      <td>-4.408155</td>\n",
       "      <td>2.584131</td>\n",
       "    </tr>\n",
       "    <tr>\n",
       "      <th>TCGA-ZS-A9CE-01</th>\n",
       "      <td>1.668255</td>\n",
       "      <td>0.555811</td>\n",
       "      <td>3.130802</td>\n",
       "      <td>0.929685</td>\n",
       "      <td>1.607988</td>\n",
       "      <td>1.538774</td>\n",
       "      <td>0.670676</td>\n",
       "      <td>-5.962488</td>\n",
       "      <td>-0.599655</td>\n",
       "      <td>1.783386</td>\n",
       "      <td>...</td>\n",
       "      <td>0.567913</td>\n",
       "      <td>-3.553091</td>\n",
       "      <td>-4.351517</td>\n",
       "      <td>2.691575</td>\n",
       "      <td>-0.620484</td>\n",
       "      <td>3.709715</td>\n",
       "      <td>0.686855</td>\n",
       "      <td>-0.550445</td>\n",
       "      <td>-4.455985</td>\n",
       "      <td>-0.004049</td>\n",
       "    </tr>\n",
       "    <tr>\n",
       "      <th>TCGA-ZS-A9CF-01</th>\n",
       "      <td>3.034692</td>\n",
       "      <td>0.555811</td>\n",
       "      <td>1.136355</td>\n",
       "      <td>0.929685</td>\n",
       "      <td>2.573936</td>\n",
       "      <td>3.256447</td>\n",
       "      <td>0.670676</td>\n",
       "      <td>-2.729209</td>\n",
       "      <td>-0.599655</td>\n",
       "      <td>1.382709</td>\n",
       "      <td>...</td>\n",
       "      <td>0.567913</td>\n",
       "      <td>-2.013753</td>\n",
       "      <td>-6.524806</td>\n",
       "      <td>0.811263</td>\n",
       "      <td>-0.620484</td>\n",
       "      <td>2.668975</td>\n",
       "      <td>0.686855</td>\n",
       "      <td>-0.550445</td>\n",
       "      <td>-2.846950</td>\n",
       "      <td>-0.560336</td>\n",
       "    </tr>\n",
       "    <tr>\n",
       "      <th>TCGA-ZS-A9CF-02</th>\n",
       "      <td>2.303125</td>\n",
       "      <td>0.555811</td>\n",
       "      <td>0.614511</td>\n",
       "      <td>0.929685</td>\n",
       "      <td>1.778217</td>\n",
       "      <td>2.594969</td>\n",
       "      <td>0.670676</td>\n",
       "      <td>-2.724110</td>\n",
       "      <td>-0.599655</td>\n",
       "      <td>0.977980</td>\n",
       "      <td>...</td>\n",
       "      <td>0.567913</td>\n",
       "      <td>-3.285467</td>\n",
       "      <td>-6.467506</td>\n",
       "      <td>1.100492</td>\n",
       "      <td>-0.620484</td>\n",
       "      <td>2.043532</td>\n",
       "      <td>0.686855</td>\n",
       "      <td>-0.550445</td>\n",
       "      <td>-2.964849</td>\n",
       "      <td>-0.947742</td>\n",
       "    </tr>\n",
       "    <tr>\n",
       "      <th>TCGA-ZS-A9CG-01</th>\n",
       "      <td>-2.359785</td>\n",
       "      <td>0.555811</td>\n",
       "      <td>2.094040</td>\n",
       "      <td>0.929685</td>\n",
       "      <td>-2.305537</td>\n",
       "      <td>3.492947</td>\n",
       "      <td>0.670676</td>\n",
       "      <td>-4.205408</td>\n",
       "      <td>-0.599655</td>\n",
       "      <td>-0.034805</td>\n",
       "      <td>...</td>\n",
       "      <td>0.567913</td>\n",
       "      <td>-2.309490</td>\n",
       "      <td>-4.551689</td>\n",
       "      <td>1.980461</td>\n",
       "      <td>-0.620484</td>\n",
       "      <td>-0.939960</td>\n",
       "      <td>0.686855</td>\n",
       "      <td>-0.550445</td>\n",
       "      <td>-3.969321</td>\n",
       "      <td>5.502213</td>\n",
       "    </tr>\n",
       "    <tr>\n",
       "      <th>TCGA-ZT-A8OM-01</th>\n",
       "      <td>4.074943</td>\n",
       "      <td>0.555811</td>\n",
       "      <td>-0.295856</td>\n",
       "      <td>0.929685</td>\n",
       "      <td>-0.390681</td>\n",
       "      <td>-0.504315</td>\n",
       "      <td>0.670676</td>\n",
       "      <td>-5.378520</td>\n",
       "      <td>-0.599655</td>\n",
       "      <td>-6.833846</td>\n",
       "      <td>...</td>\n",
       "      <td>0.567913</td>\n",
       "      <td>-2.149328</td>\n",
       "      <td>-3.421820</td>\n",
       "      <td>-2.102950</td>\n",
       "      <td>-0.620484</td>\n",
       "      <td>2.424763</td>\n",
       "      <td>0.686855</td>\n",
       "      <td>-0.550445</td>\n",
       "      <td>1.465026</td>\n",
       "      <td>-4.791184</td>\n",
       "    </tr>\n",
       "    <tr>\n",
       "      <th>TCGA-ZU-A8S4-01</th>\n",
       "      <td>-1.093789</td>\n",
       "      <td>0.555811</td>\n",
       "      <td>2.810397</td>\n",
       "      <td>0.929685</td>\n",
       "      <td>2.308749</td>\n",
       "      <td>-1.371933</td>\n",
       "      <td>0.670676</td>\n",
       "      <td>-1.122411</td>\n",
       "      <td>-0.599655</td>\n",
       "      <td>-0.793885</td>\n",
       "      <td>...</td>\n",
       "      <td>0.567913</td>\n",
       "      <td>0.250698</td>\n",
       "      <td>-2.014287</td>\n",
       "      <td>0.032525</td>\n",
       "      <td>-0.620484</td>\n",
       "      <td>1.286526</td>\n",
       "      <td>0.686855</td>\n",
       "      <td>-0.550445</td>\n",
       "      <td>-2.726141</td>\n",
       "      <td>1.899825</td>\n",
       "    </tr>\n",
       "    <tr>\n",
       "      <th>TCGA-ZU-A8S4-11</th>\n",
       "      <td>-4.059483</td>\n",
       "      <td>0.555811</td>\n",
       "      <td>0.582054</td>\n",
       "      <td>0.929685</td>\n",
       "      <td>3.598895</td>\n",
       "      <td>-0.578478</td>\n",
       "      <td>0.670676</td>\n",
       "      <td>-3.553178</td>\n",
       "      <td>-0.599655</td>\n",
       "      <td>1.502884</td>\n",
       "      <td>...</td>\n",
       "      <td>0.567913</td>\n",
       "      <td>-5.045141</td>\n",
       "      <td>-4.916574</td>\n",
       "      <td>0.980494</td>\n",
       "      <td>-0.620484</td>\n",
       "      <td>1.860199</td>\n",
       "      <td>0.686855</td>\n",
       "      <td>-0.550445</td>\n",
       "      <td>-2.484270</td>\n",
       "      <td>2.684970</td>\n",
       "    </tr>\n",
       "    <tr>\n",
       "      <th>TCGA-ZX-AA5X-01</th>\n",
       "      <td>1.213226</td>\n",
       "      <td>0.555811</td>\n",
       "      <td>-2.381264</td>\n",
       "      <td>0.929685</td>\n",
       "      <td>3.030745</td>\n",
       "      <td>-2.043606</td>\n",
       "      <td>0.670676</td>\n",
       "      <td>-1.024127</td>\n",
       "      <td>-0.599655</td>\n",
       "      <td>1.773777</td>\n",
       "      <td>...</td>\n",
       "      <td>0.567913</td>\n",
       "      <td>-0.587056</td>\n",
       "      <td>-0.023258</td>\n",
       "      <td>-0.696981</td>\n",
       "      <td>-0.620484</td>\n",
       "      <td>-1.319055</td>\n",
       "      <td>0.686855</td>\n",
       "      <td>-0.550445</td>\n",
       "      <td>-2.678052</td>\n",
       "      <td>2.289703</td>\n",
       "    </tr>\n",
       "  </tbody>\n",
       "</table>\n",
       "<p>10459 rows × 100 columns</p>\n",
       "</div>"
      ],
      "text/plain": [
       "                       0         1         2         3         4         5   \\\n",
       "TCGA-02-0047-01 -0.336067  0.555811  1.953702  0.929685 -1.135710  0.249558   \n",
       "TCGA-02-0055-01  0.728738  0.555811  2.505603  0.929685 -1.001585 -1.001737   \n",
       "TCGA-02-2483-01  3.704724  0.555811  0.161867  0.929685 -1.551098 -0.861078   \n",
       "TCGA-02-2485-01  0.768384  0.555811  1.412416  0.929685 -1.951576  1.935964   \n",
       "TCGA-02-2486-01 -4.081452  0.555811  0.182797  0.929685 -2.292881  2.159659   \n",
       "TCGA-04-1348-01 -2.806390  0.555811  0.392687  0.929685  2.872338 -4.263181   \n",
       "TCGA-04-1357-01 -2.640349  0.555811 -1.733176  0.929685  2.018257 -4.327930   \n",
       "TCGA-04-1362-01 -2.861125  0.555811  2.858413  0.929685  3.204217 -4.604634   \n",
       "TCGA-04-1364-01 -1.064167  0.555811  2.408947  0.929685  2.334266 -3.942289   \n",
       "TCGA-04-1365-01 -1.469931  0.555811 -0.461963  0.929685  1.419317 -3.981441   \n",
       "TCGA-04-1514-01 -1.143221  0.555811  3.156366  0.929685  2.110598 -3.297064   \n",
       "TCGA-04-1519-01 -2.382394  0.555811  2.667399  0.929685  0.008207 -6.301950   \n",
       "TCGA-05-4244-01  1.919040  0.555811 -3.505659  0.929685  4.884506 -0.122135   \n",
       "TCGA-05-4249-01  1.256297  0.555811 -3.728177  0.929685  5.616282 -0.352617   \n",
       "TCGA-05-4250-01  1.358584  0.555811 -4.252385  0.929685  3.462481 -0.667807   \n",
       "TCGA-05-4382-01  0.368733  0.555811 -2.174516  0.929685  4.592817 -1.055767   \n",
       "TCGA-05-4384-01 -1.789783  0.555811 -3.403262  0.929685  3.507257  0.932180   \n",
       "TCGA-05-4389-01 -1.103160  0.555811 -4.190713  0.929685  3.214600  1.192673   \n",
       "TCGA-05-4390-01  3.459865  0.555811 -3.763942  0.929685  4.391313 -0.623399   \n",
       "TCGA-05-4395-01  0.771068  0.555811 -4.163019  0.929685  2.857025 -1.661280   \n",
       "TCGA-05-4396-01 -0.567434  0.555811 -4.502994  0.929685  4.272479 -0.309960   \n",
       "TCGA-05-4397-01  0.261614  0.555811  0.069616  0.929685  4.118124  0.259197   \n",
       "TCGA-05-4398-01  2.843942  0.555811 -2.918797  0.929685  3.892384 -1.327246   \n",
       "TCGA-05-4402-01  0.509973  0.555811 -3.266580  0.929685  4.244353 -1.086679   \n",
       "TCGA-05-4403-01 -2.501809  0.555811 -3.638217  0.929685  3.901608  0.830582   \n",
       "TCGA-05-4405-01  2.798047  0.555811 -3.860383  0.929685  5.476255 -0.664765   \n",
       "TCGA-05-4410-01  0.765890  0.555811 -5.849667  0.929685  4.780499  0.239474   \n",
       "TCGA-05-4415-01 -1.115549  0.555811 -2.426642  0.929685  3.506718 -2.148590   \n",
       "TCGA-05-4417-01  1.737871  0.555811 -4.228442  0.929685  3.854662  1.518146   \n",
       "TCGA-05-4418-01 -1.158447  0.555811 -4.038074  0.929685  2.686483 -0.929785   \n",
       "...                   ...       ...       ...       ...       ...       ...   \n",
       "TCGA-ZM-AA0D-01  0.033206  0.555811 -2.160172  0.929685  2.068300 -2.038323   \n",
       "TCGA-ZM-AA0E-01 -0.493701  0.555811 -2.513460  0.929685  2.290313 -3.734313   \n",
       "TCGA-ZM-AA0F-01  1.086021  0.555811 -2.768766  0.929685  2.093261 -1.798604   \n",
       "TCGA-ZM-AA0H-01 -0.059173  0.555811 -2.581796  0.929685  2.186213 -3.158237   \n",
       "TCGA-ZM-AA0N-01  0.997593  0.555811 -1.490667  0.929685  2.152414 -5.561831   \n",
       "TCGA-ZN-A9VO-01 -5.401848  0.555811  1.808421  0.929685  2.370915 -5.069992   \n",
       "TCGA-ZN-A9VP-01 -4.530667  0.555811  1.053333  0.929685  4.558241 -5.296805   \n",
       "TCGA-ZN-A9VQ-01 -2.117113  0.555811  0.988847  0.929685  2.985936 -3.866690   \n",
       "TCGA-ZN-A9VS-01 -4.556803  0.555811  1.312847  0.929685  3.290658 -5.678077   \n",
       "TCGA-ZN-A9VU-01 -6.801234  0.555811  0.608366  0.929685  3.635819 -6.026831   \n",
       "TCGA-ZN-A9VV-01 -3.121525  0.555811  1.977060  0.929685  0.847974 -4.459078   \n",
       "TCGA-ZN-A9VW-01 -3.690596  0.555811  1.550216  0.929685  2.381489 -3.898372   \n",
       "TCGA-ZP-A9CV-01  0.607463  0.555811  0.278564  0.929685  1.754679  3.179193   \n",
       "TCGA-ZP-A9CY-01 -0.870800  0.555811  1.499996  0.929685  2.864358  1.733594   \n",
       "TCGA-ZP-A9CZ-01  2.142411  0.555811  0.861046  0.929685  1.514203  3.814747   \n",
       "TCGA-ZP-A9D0-01  0.140442  0.555811  3.498830  0.929685  1.685672  1.504233   \n",
       "TCGA-ZP-A9D1-01  0.548666  0.555811  0.808014  0.929685  2.019627  2.865204   \n",
       "TCGA-ZP-A9D2-01 -0.549544  0.555811  3.555569  0.929685  3.282909  0.955883   \n",
       "TCGA-ZP-A9D4-01 -0.479131  0.555811  2.477925  0.929685 -0.005255  2.499371   \n",
       "TCGA-ZQ-A9CR-01  0.243831  0.555811 -0.649284  0.929685  1.710173  1.570195   \n",
       "TCGA-ZR-A9CJ-01  0.877904  0.555811  0.557237  0.929685  1.707442  1.200797   \n",
       "TCGA-ZS-A9CD-01  0.733117  0.555811  1.409559  0.929685  0.886777  3.432611   \n",
       "TCGA-ZS-A9CE-01  1.668255  0.555811  3.130802  0.929685  1.607988  1.538774   \n",
       "TCGA-ZS-A9CF-01  3.034692  0.555811  1.136355  0.929685  2.573936  3.256447   \n",
       "TCGA-ZS-A9CF-02  2.303125  0.555811  0.614511  0.929685  1.778217  2.594969   \n",
       "TCGA-ZS-A9CG-01 -2.359785  0.555811  2.094040  0.929685 -2.305537  3.492947   \n",
       "TCGA-ZT-A8OM-01  4.074943  0.555811 -0.295856  0.929685 -0.390681 -0.504315   \n",
       "TCGA-ZU-A8S4-01 -1.093789  0.555811  2.810397  0.929685  2.308749 -1.371933   \n",
       "TCGA-ZU-A8S4-11 -4.059483  0.555811  0.582054  0.929685  3.598895 -0.578478   \n",
       "TCGA-ZX-AA5X-01  1.213226  0.555811 -2.381264  0.929685  3.030745 -2.043606   \n",
       "\n",
       "                       6         7         8         9     ...           90  \\\n",
       "TCGA-02-0047-01  0.670676 -0.118588 -0.599655  0.515947    ...     0.567913   \n",
       "TCGA-02-0055-01  0.670676 -3.464246 -0.599655  0.922312    ...     0.567913   \n",
       "TCGA-02-2483-01  0.670676 -0.808472 -0.599655  0.771897    ...     0.567913   \n",
       "TCGA-02-2485-01  0.670676 -4.351212 -0.599655  2.251441    ...     0.567913   \n",
       "TCGA-02-2486-01  0.670676 -3.640870 -0.599655  2.108552    ...     0.567913   \n",
       "TCGA-04-1348-01  0.670676 -4.492261 -0.599655 -3.393562    ...     0.567913   \n",
       "TCGA-04-1357-01  0.670676 -2.435884 -0.599655 -2.398565    ...     0.567913   \n",
       "TCGA-04-1362-01  0.670676 -3.165344 -0.599655 -2.534152    ...     0.567913   \n",
       "TCGA-04-1364-01  0.670676 -3.926205 -0.599655 -5.035768    ...     0.567913   \n",
       "TCGA-04-1365-01  0.670676 -4.062942 -0.599655 -2.558317    ...     0.567913   \n",
       "TCGA-04-1514-01  0.670676 -1.129452 -0.599655 -1.342834    ...     0.567913   \n",
       "TCGA-04-1519-01  0.670676 -2.223940 -0.599655 -4.123623    ...     0.567913   \n",
       "TCGA-05-4244-01  0.670676 -1.271388 -0.599655 -4.683391    ...     0.567913   \n",
       "TCGA-05-4249-01  0.670676  0.065415 -0.599655 -4.403129    ...     0.567913   \n",
       "TCGA-05-4250-01  0.670676 -2.175023 -0.599655 -3.419859    ...     0.567913   \n",
       "TCGA-05-4382-01  0.670676  0.563366 -0.599655 -2.006754    ...     0.567913   \n",
       "TCGA-05-4384-01  0.670676 -0.180408 -0.599655 -5.093492    ...     0.567913   \n",
       "TCGA-05-4389-01  0.670676 -1.018157 -0.599655 -3.727735    ...     0.567913   \n",
       "TCGA-05-4390-01  0.670676 -0.308102 -0.599655 -2.997948    ...     0.567913   \n",
       "TCGA-05-4395-01  0.670676 -1.404809 -0.599655 -2.171159    ...     0.567913   \n",
       "TCGA-05-4396-01  0.670676  0.719658 -0.599655 -3.331909    ...     0.567913   \n",
       "TCGA-05-4397-01  0.670676 -3.061393 -0.599655 -1.917236    ...     0.567913   \n",
       "TCGA-05-4398-01  0.670676 -1.128512 -0.599655 -3.094111    ...     0.567913   \n",
       "TCGA-05-4402-01  0.670676 -1.711602 -0.599655 -3.192107    ...     0.567913   \n",
       "TCGA-05-4403-01  0.670676  0.690319 -0.599655 -2.410525    ...     0.567913   \n",
       "TCGA-05-4405-01  0.670676 -1.818789 -0.599655 -2.981944    ...     0.567913   \n",
       "TCGA-05-4410-01  0.670676 -0.772958 -0.599655 -3.858719    ...     0.567913   \n",
       "TCGA-05-4415-01  0.670676 -2.131093 -0.599655 -1.420514    ...     0.567913   \n",
       "TCGA-05-4417-01  0.670676  0.506330 -0.599655 -3.281254    ...     0.567913   \n",
       "TCGA-05-4418-01  0.670676  1.031548 -0.599655 -1.828722    ...     0.567913   \n",
       "...                   ...       ...       ...       ...    ...          ...   \n",
       "TCGA-ZM-AA0D-01  0.670676  0.525943 -0.599655 -1.841033    ...     0.567913   \n",
       "TCGA-ZM-AA0E-01  0.670676  1.423484 -0.599655 -3.357278    ...     0.567913   \n",
       "TCGA-ZM-AA0F-01  0.670676  1.571490 -0.599655 -0.571444    ...     0.567913   \n",
       "TCGA-ZM-AA0H-01  0.670676  1.438908 -0.599655 -2.448802    ...     0.567913   \n",
       "TCGA-ZM-AA0N-01  0.670676  0.523718 -0.599655 -3.325050    ...     0.567913   \n",
       "TCGA-ZN-A9VO-01  0.670676  1.414653 -0.599655  2.402853    ...     0.567913   \n",
       "TCGA-ZN-A9VP-01  0.670676  1.397748 -0.599655  1.658823    ...     0.567913   \n",
       "TCGA-ZN-A9VQ-01  0.670676  2.173604 -0.599655  2.917344    ...     0.567913   \n",
       "TCGA-ZN-A9VS-01  0.670676  2.995351 -0.599655  0.363693    ...     0.567913   \n",
       "TCGA-ZN-A9VU-01  0.670676  2.855025 -0.599655  2.333560    ...     0.567913   \n",
       "TCGA-ZN-A9VV-01  0.670676  1.318587 -0.599655  1.799010    ...     0.567913   \n",
       "TCGA-ZN-A9VW-01  0.670676  0.506477 -0.599655  2.808058    ...     0.567913   \n",
       "TCGA-ZP-A9CV-01  0.670676 -2.049231 -0.599655  1.632333    ...     0.567913   \n",
       "TCGA-ZP-A9CY-01  0.670676 -2.902510 -0.599655  2.724221    ...     0.567913   \n",
       "TCGA-ZP-A9CZ-01  0.670676 -2.022258 -0.599655  0.742766    ...     0.567913   \n",
       "TCGA-ZP-A9D0-01  0.670676 -0.912462 -0.599655  2.534816    ...     0.567913   \n",
       "TCGA-ZP-A9D1-01  0.670676 -0.346343 -0.599655  2.002226    ...     0.567913   \n",
       "TCGA-ZP-A9D2-01  0.670676  0.136815 -0.599655  0.410380    ...     0.567913   \n",
       "TCGA-ZP-A9D4-01  0.670676 -4.539763 -0.599655  0.258727    ...     0.567913   \n",
       "TCGA-ZQ-A9CR-01  0.670676 -1.200684 -0.599655 -0.841566    ...     0.567913   \n",
       "TCGA-ZR-A9CJ-01  0.670676  0.208283 -0.599655  0.322773    ...     0.567913   \n",
       "TCGA-ZS-A9CD-01  0.670676 -1.548015 -0.599655  0.770970    ...     0.567913   \n",
       "TCGA-ZS-A9CE-01  0.670676 -5.962488 -0.599655  1.783386    ...     0.567913   \n",
       "TCGA-ZS-A9CF-01  0.670676 -2.729209 -0.599655  1.382709    ...     0.567913   \n",
       "TCGA-ZS-A9CF-02  0.670676 -2.724110 -0.599655  0.977980    ...     0.567913   \n",
       "TCGA-ZS-A9CG-01  0.670676 -4.205408 -0.599655 -0.034805    ...     0.567913   \n",
       "TCGA-ZT-A8OM-01  0.670676 -5.378520 -0.599655 -6.833846    ...     0.567913   \n",
       "TCGA-ZU-A8S4-01  0.670676 -1.122411 -0.599655 -0.793885    ...     0.567913   \n",
       "TCGA-ZU-A8S4-11  0.670676 -3.553178 -0.599655  1.502884    ...     0.567913   \n",
       "TCGA-ZX-AA5X-01  0.670676 -1.024127 -0.599655  1.773777    ...     0.567913   \n",
       "\n",
       "                       91        92        93        94        95        96  \\\n",
       "TCGA-02-0047-01  1.549309  1.964360 -3.373139 -0.620484 -2.902733  0.686855   \n",
       "TCGA-02-0055-01  0.143847  2.869018 -0.506462 -0.620484 -1.876728  0.686855   \n",
       "TCGA-02-2483-01  2.399701  2.190566 -2.778440 -0.620484 -4.722413  0.686855   \n",
       "TCGA-02-2485-01  2.183632  0.276157 -4.502187 -0.620484 -5.284727  0.686855   \n",
       "TCGA-02-2486-01 -0.747588  0.383013 -2.977386 -0.620484 -4.422337  0.686855   \n",
       "TCGA-04-1348-01  1.806276 -4.897081  1.740742 -0.620484 -1.659235  0.686855   \n",
       "TCGA-04-1357-01  0.649871 -5.066875  1.255919 -0.620484 -2.214179  0.686855   \n",
       "TCGA-04-1362-01 -0.446917 -3.161185  0.708565 -0.620484 -1.028567  0.686855   \n",
       "TCGA-04-1364-01 -2.120739 -3.632743  1.296935 -0.620484  0.588918  0.686855   \n",
       "TCGA-04-1365-01  1.296780 -5.546981  2.743781 -0.620484 -2.022752  0.686855   \n",
       "TCGA-04-1514-01 -0.784014 -2.132746 -0.465683 -0.620484  0.787934  0.686855   \n",
       "TCGA-04-1519-01 -2.045048 -3.324442  1.738771 -0.620484 -0.301947  0.686855   \n",
       "TCGA-05-4244-01 -0.024474 -1.683429 -0.641953 -0.620484 -1.478625  0.686855   \n",
       "TCGA-05-4249-01  1.034504 -1.441992 -1.659841 -0.620484 -0.997877  0.686855   \n",
       "TCGA-05-4250-01 -0.578181 -0.191469  0.896159 -0.620484 -0.776490  0.686855   \n",
       "TCGA-05-4382-01 -1.638930 -0.236475 -0.833921 -0.620484 -1.315682  0.686855   \n",
       "TCGA-05-4384-01  1.867456 -1.830380 -3.389734 -0.620484  0.425177  0.686855   \n",
       "TCGA-05-4389-01  1.700676 -1.793295  1.199129 -0.620484 -1.984058  0.686855   \n",
       "TCGA-05-4390-01 -1.750585 -0.576036  0.538211 -0.620484 -0.656960  0.686855   \n",
       "TCGA-05-4395-01  1.212643 -3.151372 -2.097585 -0.620484  0.189951  0.686855   \n",
       "TCGA-05-4396-01  1.915661 -4.185774 -2.773219 -0.620484  0.727542  0.686855   \n",
       "TCGA-05-4397-01 -2.075199 -0.008351  0.118771 -0.620484 -1.423598  0.686855   \n",
       "TCGA-05-4398-01 -1.177842 -0.517755  0.094991 -0.620484  0.304655  0.686855   \n",
       "TCGA-05-4402-01  0.936259 -1.347834  1.996463 -0.620484 -0.545270  0.686855   \n",
       "TCGA-05-4403-01  1.949528  1.030195 -0.967446 -0.620484  0.230881  0.686855   \n",
       "TCGA-05-4405-01  1.028784 -0.209918 -1.406631 -0.620484 -0.555136  0.686855   \n",
       "TCGA-05-4410-01 -0.993407 -2.665709 -0.293026 -0.620484 -1.011878  0.686855   \n",
       "TCGA-05-4415-01  0.520221 -2.358208 -3.146664 -0.620484  1.225545  0.686855   \n",
       "TCGA-05-4417-01  0.225829 -1.077497 -0.817652 -0.620484  0.236015  0.686855   \n",
       "TCGA-05-4418-01 -0.112224 -1.961184 -1.992688 -0.620484  1.308918  0.686855   \n",
       "...                   ...       ...       ...       ...       ...       ...   \n",
       "TCGA-ZM-AA0D-01 -1.832553 -2.408665 -4.463807 -0.620484 -0.608759  0.686855   \n",
       "TCGA-ZM-AA0E-01 -3.205812 -2.879313 -5.073041 -0.620484 -0.811887  0.686855   \n",
       "TCGA-ZM-AA0F-01 -2.107793 -0.759169 -2.912301 -0.620484 -0.622653  0.686855   \n",
       "TCGA-ZM-AA0H-01 -2.132650 -1.692660 -4.365953 -0.620484 -0.965138  0.686855   \n",
       "TCGA-ZM-AA0N-01 -1.017272 -2.402974 -5.823618 -0.620484 -0.560654  0.686855   \n",
       "TCGA-ZN-A9VO-01  1.388880 -2.272436  1.995847 -0.620484  1.891715  0.686855   \n",
       "TCGA-ZN-A9VP-01  2.236510 -2.292904  1.018148 -0.620484  3.163095  0.686855   \n",
       "TCGA-ZN-A9VQ-01  2.370720  1.668680 -0.005989 -0.620484  1.697584  0.686855   \n",
       "TCGA-ZN-A9VS-01  1.233179 -2.943625  1.722652 -0.620484  2.413151  0.686855   \n",
       "TCGA-ZN-A9VU-01  1.373558 -2.496940  2.305883 -0.620484  1.555998  0.686855   \n",
       "TCGA-ZN-A9VV-01  1.978846  0.452768 -0.731107 -0.620484  0.350671  0.686855   \n",
       "TCGA-ZN-A9VW-01  1.026435 -1.665783  0.357406 -0.620484  0.782941  0.686855   \n",
       "TCGA-ZP-A9CV-01 -2.698947 -4.869120  0.842942 -0.620484  2.235586  0.686855   \n",
       "TCGA-ZP-A9CY-01 -2.847502 -4.254764  1.919781 -0.620484  3.195733  0.686855   \n",
       "TCGA-ZP-A9CZ-01 -2.837081 -4.256881  0.462524 -0.620484  1.278083  0.686855   \n",
       "TCGA-ZP-A9D0-01 -2.857480 -4.131677 -0.598278 -0.620484  2.974079  0.686855   \n",
       "TCGA-ZP-A9D1-01 -3.448690 -3.938642 -0.269260 -0.620484  3.876620  0.686855   \n",
       "TCGA-ZP-A9D2-01 -1.563021 -4.414649 -0.083902 -0.620484  2.835783  0.686855   \n",
       "TCGA-ZP-A9D4-01 -1.992487 -5.324708  2.330446 -0.620484 -0.277018  0.686855   \n",
       "TCGA-ZQ-A9CR-01 -0.804502 -0.048063  1.063814 -0.620484  1.108144  0.686855   \n",
       "TCGA-ZR-A9CJ-01 -2.583110  0.138840 -0.388590 -0.620484  1.017409  0.686855   \n",
       "TCGA-ZS-A9CD-01 -4.146641 -3.783009  0.791867 -0.620484  2.264042  0.686855   \n",
       "TCGA-ZS-A9CE-01 -3.553091 -4.351517  2.691575 -0.620484  3.709715  0.686855   \n",
       "TCGA-ZS-A9CF-01 -2.013753 -6.524806  0.811263 -0.620484  2.668975  0.686855   \n",
       "TCGA-ZS-A9CF-02 -3.285467 -6.467506  1.100492 -0.620484  2.043532  0.686855   \n",
       "TCGA-ZS-A9CG-01 -2.309490 -4.551689  1.980461 -0.620484 -0.939960  0.686855   \n",
       "TCGA-ZT-A8OM-01 -2.149328 -3.421820 -2.102950 -0.620484  2.424763  0.686855   \n",
       "TCGA-ZU-A8S4-01  0.250698 -2.014287  0.032525 -0.620484  1.286526  0.686855   \n",
       "TCGA-ZU-A8S4-11 -5.045141 -4.916574  0.980494 -0.620484  1.860199  0.686855   \n",
       "TCGA-ZX-AA5X-01 -0.587056 -0.023258 -0.696981 -0.620484 -1.319055  0.686855   \n",
       "\n",
       "                       97        98        99  \n",
       "TCGA-02-0047-01 -0.550445 -0.343851 -2.939903  \n",
       "TCGA-02-0055-01 -0.550445 -1.904781 -0.633241  \n",
       "TCGA-02-2483-01 -0.550445  1.268186 -3.576672  \n",
       "TCGA-02-2485-01 -0.550445  2.679301 -4.574331  \n",
       "TCGA-02-2486-01 -0.550445 -1.694814 -4.195897  \n",
       "TCGA-04-1348-01 -0.550445  1.629546 -3.401161  \n",
       "TCGA-04-1357-01 -0.550445  1.004697 -2.598194  \n",
       "TCGA-04-1362-01 -0.550445  0.500581 -2.508392  \n",
       "TCGA-04-1364-01 -0.550445  1.020961 -5.817845  \n",
       "TCGA-04-1365-01 -0.550445 -0.327915 -3.466171  \n",
       "TCGA-04-1514-01 -0.550445  2.405337 -4.790992  \n",
       "TCGA-04-1519-01 -0.550445  1.523818 -5.478044  \n",
       "TCGA-05-4244-01 -0.550445 -3.163888  1.503348  \n",
       "TCGA-05-4249-01 -0.550445 -2.604698  0.846436  \n",
       "TCGA-05-4250-01 -0.550445 -5.462027  0.664464  \n",
       "TCGA-05-4382-01 -0.550445 -1.128386  0.983158  \n",
       "TCGA-05-4384-01 -0.550445 -0.291443  2.200610  \n",
       "TCGA-05-4389-01 -0.550445 -2.152501  2.087623  \n",
       "TCGA-05-4390-01 -0.550445 -2.852150  1.751296  \n",
       "TCGA-05-4395-01 -0.550445 -5.688197  1.880434  \n",
       "TCGA-05-4396-01 -0.550445 -1.772289  1.604731  \n",
       "TCGA-05-4397-01 -0.550445 -1.536069  2.370414  \n",
       "TCGA-05-4398-01 -0.550445 -4.823598  2.048566  \n",
       "TCGA-05-4402-01 -0.550445 -4.397729  0.799706  \n",
       "TCGA-05-4403-01 -0.550445 -2.360438  1.299922  \n",
       "TCGA-05-4405-01 -0.550445 -2.759684  2.181715  \n",
       "TCGA-05-4410-01 -0.550445 -2.887071  0.625560  \n",
       "TCGA-05-4415-01 -0.550445 -0.735664  0.336284  \n",
       "TCGA-05-4417-01 -0.550445 -3.498631  2.861073  \n",
       "TCGA-05-4418-01 -0.550445 -2.997366  1.071283  \n",
       "...                   ...       ...       ...  \n",
       "TCGA-ZM-AA0D-01 -0.550445  4.565644 -2.929395  \n",
       "TCGA-ZM-AA0E-01 -0.550445  4.595484 -4.570705  \n",
       "TCGA-ZM-AA0F-01 -0.550445  3.812256 -3.513982  \n",
       "TCGA-ZM-AA0H-01 -0.550445  4.068141 -3.262815  \n",
       "TCGA-ZM-AA0N-01 -0.550445  4.902968 -4.034525  \n",
       "TCGA-ZN-A9VO-01 -0.550445  4.899180  1.162451  \n",
       "TCGA-ZN-A9VP-01 -0.550445  4.027265 -1.715545  \n",
       "TCGA-ZN-A9VQ-01 -0.550445  2.571019 -0.048625  \n",
       "TCGA-ZN-A9VS-01 -0.550445  1.704282  0.122929  \n",
       "TCGA-ZN-A9VU-01 -0.550445  3.061442 -0.236923  \n",
       "TCGA-ZN-A9VV-01 -0.550445  4.063334 -2.442768  \n",
       "TCGA-ZN-A9VW-01 -0.550445  2.016583  0.963155  \n",
       "TCGA-ZP-A9CV-01 -0.550445 -4.187745  2.859815  \n",
       "TCGA-ZP-A9CY-01 -0.550445 -3.793380  2.196330  \n",
       "TCGA-ZP-A9CZ-01 -0.550445 -2.770962  0.544239  \n",
       "TCGA-ZP-A9D0-01 -0.550445 -4.223122  2.804167  \n",
       "TCGA-ZP-A9D1-01 -0.550445 -3.386560  2.021034  \n",
       "TCGA-ZP-A9D2-01 -0.550445 -2.601472  0.668406  \n",
       "TCGA-ZP-A9D4-01 -0.550445 -5.333878  2.254159  \n",
       "TCGA-ZQ-A9CR-01 -0.550445 -3.812010 -0.742395  \n",
       "TCGA-ZR-A9CJ-01 -0.550445 -4.407344 -1.328595  \n",
       "TCGA-ZS-A9CD-01 -0.550445 -4.408155  2.584131  \n",
       "TCGA-ZS-A9CE-01 -0.550445 -4.455985 -0.004049  \n",
       "TCGA-ZS-A9CF-01 -0.550445 -2.846950 -0.560336  \n",
       "TCGA-ZS-A9CF-02 -0.550445 -2.964849 -0.947742  \n",
       "TCGA-ZS-A9CG-01 -0.550445 -3.969321  5.502213  \n",
       "TCGA-ZT-A8OM-01 -0.550445  1.465026 -4.791184  \n",
       "TCGA-ZU-A8S4-01 -0.550445 -2.726141  1.899825  \n",
       "TCGA-ZU-A8S4-11 -0.550445 -2.484270  2.684970  \n",
       "TCGA-ZX-AA5X-01 -0.550445 -2.678052  2.289703  \n",
       "\n",
       "[10459 rows x 100 columns]"
      ]
     },
     "execution_count": 22,
     "metadata": {},
     "output_type": "execute_result"
    }
   ],
   "source": [
    "encoded_rnaseq_df"
   ]
  },
  {
   "cell_type": "code",
   "execution_count": 23,
   "metadata": {},
   "outputs": [
    {
     "name": "stdout",
     "output_type": "stream",
     "text": [
      "60    11919.955078\n",
      "16    11749.503906\n",
      "4     11238.206055\n",
      "86    10461.926758\n",
      "25    10334.509766\n",
      "24    10045.286133\n",
      "73     9892.706055\n",
      "3      9723.600586\n",
      "84     9012.281250\n",
      "32     8846.456055\n",
      "dtype: float32\n"
     ]
    },
    {
     "data": {
      "text/plain": [
       "59    -9208.142578\n",
       "9     -9629.912109\n",
       "93    -9651.612305\n",
       "48    -9656.369141\n",
       "51    -9719.245117\n",
       "76    -9780.234375\n",
       "5     -9924.810547\n",
       "42   -10027.567383\n",
       "57   -10738.271484\n",
       "17   -12525.823242\n",
       "dtype: float32"
      ]
     },
     "execution_count": 23,
     "metadata": {},
     "output_type": "execute_result"
    }
   ],
   "source": [
    "# What are the most and least activated nodes\n",
    "sum_node_activity = encoded_rnaseq_df.sum(axis=0).sort_values(ascending=False)\n",
    "\n",
    "# Top 10 most active nodes\n",
    "print(sum_node_activity.head(10))\n",
    "\n",
    "# Bottom 10 least active nodes\n",
    "sum_node_activity.tail(10)"
   ]
  },
  {
   "cell_type": "code",
   "execution_count": 24,
   "metadata": {},
   "outputs": [
    {
     "data": {
      "image/png": "[encoded data removed]",
      "text/plain": [
       "<Figure size 432x288 with 1 Axes>"
      ]
     },
     "metadata": {
      "needs_background": "light"
     },
     "output_type": "display_data"
    }
   ],
   "source": [
    "# Histogram of node activity for all 100 latent features\n",
    "sum_node_activity.hist()\n",
    "plt.xlabel('Activation Sum')\n",
    "plt.ylabel('Count');"
   ]
  },
  {
   "cell_type": "code",
   "execution_count": 25,
   "metadata": {},
   "outputs": [
    {
     "data": {
      "image/png": "[encoded data removed]",
      "text/plain": [
       "<Figure size 432x432 with 1 Axes>"
      ]
     },
     "metadata": {
      "needs_background": "light"
     },
     "output_type": "display_data"
    }
   ],
   "source": [
    "# Example of node activation distribution for the first two latent features\n",
    "plt.figure(figsize=(6, 6))\n",
    "plt.scatter(encoded_rnaseq_df.iloc[:, 1], encoded_rnaseq_df.iloc[:, 2])\n",
    "plt.xlabel('Latent Feature 1')\n",
    "plt.xlabel('Latent Feature 2');"
   ]
  },
  {
   "cell_type": "code",
   "execution_count": 26,
   "metadata": {},
   "outputs": [
    {
     "data": {
      "text/html": [
       "<div>\n",
       "<style scoped>\n",
       "    .dataframe tbody tr th:only-of-type {\n",
       "        vertical-align: middle;\n",
       "    }\n",
       "\n",
       "    .dataframe tbody tr th {\n",
       "        vertical-align: top;\n",
       "    }\n",
       "\n",
       "    .dataframe thead th {\n",
       "        text-align: right;\n",
       "    }\n",
       "</style>\n",
       "<table border=\"1\" class=\"dataframe\">\n",
       "  <thead>\n",
       "    <tr style=\"text-align: right;\">\n",
       "      <th></th>\n",
       "      <th>RPS4Y1</th>\n",
       "      <th>XIST</th>\n",
       "      <th>KRT5</th>\n",
       "      <th>AGR2</th>\n",
       "      <th>CEACAM5</th>\n",
       "      <th>KRT6A</th>\n",
       "      <th>KRT14</th>\n",
       "      <th>CEACAM6</th>\n",
       "      <th>DDX3Y</th>\n",
       "      <th>KDM5D</th>\n",
       "      <th>...</th>\n",
       "      <th>FAM129A</th>\n",
       "      <th>C8orf48</th>\n",
       "      <th>CDK5R1</th>\n",
       "      <th>FAM81A</th>\n",
       "      <th>C13orf18</th>\n",
       "      <th>GDPD3</th>\n",
       "      <th>SMAGP</th>\n",
       "      <th>C2orf85</th>\n",
       "      <th>POU5F1B</th>\n",
       "      <th>CHST2</th>\n",
       "    </tr>\n",
       "  </thead>\n",
       "  <tbody>\n",
       "    <tr>\n",
       "      <th>TCGA-02-0047-01</th>\n",
       "      <td>0.572089</td>\n",
       "      <td>0.202363</td>\n",
       "      <td>0.148540</td>\n",
       "      <td>0.040039</td>\n",
       "      <td>0.030216</td>\n",
       "      <td>0.033612</td>\n",
       "      <td>0.040422</td>\n",
       "      <td>0.047599</td>\n",
       "      <td>0.585036</td>\n",
       "      <td>0.514873</td>\n",
       "      <td>...</td>\n",
       "      <td>0.486988</td>\n",
       "      <td>0.554811</td>\n",
       "      <td>0.729725</td>\n",
       "      <td>0.662486</td>\n",
       "      <td>0.611463</td>\n",
       "      <td>0.317422</td>\n",
       "      <td>0.430940</td>\n",
       "      <td>0.369327</td>\n",
       "      <td>0.197232</td>\n",
       "      <td>0.643124</td>\n",
       "    </tr>\n",
       "    <tr>\n",
       "      <th>TCGA-02-0055-01</th>\n",
       "      <td>0.048809</td>\n",
       "      <td>0.689493</td>\n",
       "      <td>0.145694</td>\n",
       "      <td>0.091494</td>\n",
       "      <td>0.033196</td>\n",
       "      <td>0.046267</td>\n",
       "      <td>0.064295</td>\n",
       "      <td>0.063947</td>\n",
       "      <td>0.033817</td>\n",
       "      <td>0.020200</td>\n",
       "      <td>...</td>\n",
       "      <td>0.606045</td>\n",
       "      <td>0.565843</td>\n",
       "      <td>0.579276</td>\n",
       "      <td>0.587349</td>\n",
       "      <td>0.650628</td>\n",
       "      <td>0.335786</td>\n",
       "      <td>0.540015</td>\n",
       "      <td>0.126274</td>\n",
       "      <td>0.151532</td>\n",
       "      <td>0.619082</td>\n",
       "    </tr>\n",
       "  </tbody>\n",
       "</table>\n",
       "<p>2 rows × 5000 columns</p>\n",
       "</div>"
      ],
      "text/plain": [
       "                   RPS4Y1      XIST      KRT5      AGR2   CEACAM5     KRT6A  \\\n",
       "TCGA-02-0047-01  0.572089  0.202363  0.148540  0.040039  0.030216  0.033612   \n",
       "TCGA-02-0055-01  0.048809  0.689493  0.145694  0.091494  0.033196  0.046267   \n",
       "\n",
       "                    KRT14   CEACAM6     DDX3Y     KDM5D    ...      FAM129A  \\\n",
       "TCGA-02-0047-01  0.040422  0.047599  0.585036  0.514873    ...     0.486988   \n",
       "TCGA-02-0055-01  0.064295  0.063947  0.033817  0.020200    ...     0.606045   \n",
       "\n",
       "                  C8orf48    CDK5R1    FAM81A  C13orf18     GDPD3     SMAGP  \\\n",
       "TCGA-02-0047-01  0.554811  0.729725  0.662486  0.611463  0.317422  0.430940   \n",
       "TCGA-02-0055-01  0.565843  0.579276  0.587349  0.650628  0.335786  0.540015   \n",
       "\n",
       "                  C2orf85   POU5F1B     CHST2  \n",
       "TCGA-02-0047-01  0.369327  0.197232  0.643124  \n",
       "TCGA-02-0055-01  0.126274  0.151532  0.619082  \n",
       "\n",
       "[2 rows x 5000 columns]"
      ]
     },
     "execution_count": 26,
     "metadata": {},
     "output_type": "execute_result"
    }
   ],
   "source": [
    "# How well does the model reconstruct the input RNAseq data\n",
    "encoder = Model(inputs, z_mean_encoded)\n",
    "encoded_rnaseq_df = encoder.predict_on_batch(rnaseq_df)\n",
    "input_rnaseq_reconstruct = decoder.predict(np.array(encoded_rnaseq_df))\n",
    "input_rnaseq_reconstruct = pd.DataFrame(input_rnaseq_reconstruct, index=rnaseq_df.index,\n",
    "                                        columns=rnaseq_df.columns)\n",
    "input_rnaseq_reconstruct.head(2)"
   ]
  },
  {
   "cell_type": "code",
   "execution_count": 27,
   "metadata": {},
   "outputs": [
    {
     "data": {
      "text/html": [
       "<div>\n",
       "<style scoped>\n",
       "    .dataframe tbody tr th:only-of-type {\n",
       "        vertical-align: middle;\n",
       "    }\n",
       "\n",
       "    .dataframe tbody tr th {\n",
       "        vertical-align: top;\n",
       "    }\n",
       "\n",
       "    .dataframe thead th {\n",
       "        text-align: right;\n",
       "    }\n",
       "</style>\n",
       "<table border=\"1\" class=\"dataframe\">\n",
       "  <thead>\n",
       "    <tr style=\"text-align: right;\">\n",
       "      <th></th>\n",
       "      <th>gene mean</th>\n",
       "      <th>gene abs(sum)</th>\n",
       "    </tr>\n",
       "  </thead>\n",
       "  <tbody>\n",
       "    <tr>\n",
       "      <th>PPAN-P2RY11</th>\n",
       "      <td>0.002868</td>\n",
       "      <td>0.230183</td>\n",
       "    </tr>\n",
       "    <tr>\n",
       "      <th>GSTM1</th>\n",
       "      <td>-0.007998</td>\n",
       "      <td>0.217162</td>\n",
       "    </tr>\n",
       "    <tr>\n",
       "      <th>GSTT1</th>\n",
       "      <td>-0.010272</td>\n",
       "      <td>0.213122</td>\n",
       "    </tr>\n",
       "    <tr>\n",
       "      <th>TBC1D3G</th>\n",
       "      <td>0.002812</td>\n",
       "      <td>0.191478</td>\n",
       "    </tr>\n",
       "    <tr>\n",
       "      <th>RPS28</th>\n",
       "      <td>0.012329</td>\n",
       "      <td>0.176475</td>\n",
       "    </tr>\n",
       "  </tbody>\n",
       "</table>\n",
       "</div>"
      ],
      "text/plain": [
       "             gene mean  gene abs(sum)\n",
       "PPAN-P2RY11   0.002868       0.230183\n",
       "GSTM1        -0.007998       0.217162\n",
       "GSTT1        -0.010272       0.213122\n",
       "TBC1D3G       0.002812       0.191478\n",
       "RPS28         0.012329       0.176475"
      ]
     },
     "execution_count": 27,
     "metadata": {},
     "output_type": "execute_result"
    }
   ],
   "source": [
    "reconstruction_fidelity = rnaseq_df - input_rnaseq_reconstruct\n",
    "\n",
    "gene_mean = reconstruction_fidelity.mean(axis=0)\n",
    "gene_abssum = reconstruction_fidelity.abs().sum(axis=0).divide(rnaseq_df.shape[0])\n",
    "gene_summary = pd.DataFrame([gene_mean, gene_abssum], index=['gene mean', 'gene abs(sum)']).T\n",
    "gene_summary.sort_values(by='gene abs(sum)', ascending=False).head()"
   ]
  },
  {
   "cell_type": "code",
   "execution_count": 28,
   "metadata": {},
   "outputs": [
    {
     "name": "stderr",
     "output_type": "stream",
     "text": [
      "C:\\Users\\angel\\Anaconda3\\lib\\site-packages\\scipy\\stats\\stats.py:1713: FutureWarning: Using a non-tuple sequence for multidimensional indexing is deprecated; use `arr[tuple(seq)]` instead of `arr[seq]`. In the future this will be interpreted as an array index, `arr[np.array(seq)]`, which will result either in an error or a different result.\n",
      "  return np.add.reduce(sorted[indexer] * weights, axis=axis) / sumval\n"
     ]
    },
    {
     "data": {
      "image/png": "[encoded data removed]",
      "text/plain": [
       "<Figure size 432x432 with 3 Axes>"
      ]
     },
     "metadata": {
      "needs_background": "light"
     },
     "output_type": "display_data"
    }
   ],
   "source": [
    "# Mean of gene reconstruction vs. absolute reconstructed difference per sample\n",
    "g = sns.jointplot('gene mean', 'gene abs(sum)', data=gene_summary, stat_func=None);"
   ]
  }
 ],
 "metadata": {
  "kernelspec": {
   "display_name": "Python 3",
   "language": "python",
   "name": "python3"
  },
  "language_info": {
   "codemirror_mode": {
    "name": "ipython",
    "version": 3
   },
   "file_extension": ".py",
   "mimetype": "text/x-python",
   "name": "python",
   "nbconvert_exporter": "python",
   "pygments_lexer": "ipython3",
   "version": "3.7.1"
  }
 },
 "nbformat": 4,
 "nbformat_minor": 2
}
