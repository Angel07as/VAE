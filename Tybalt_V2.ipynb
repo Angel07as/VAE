{
 "cells": [
  {
   "cell_type": "markdown",
   "metadata": {},
   "source": [
    "## Autoencoder VAE Versión 2.\n",
    "\n",
    "Al comprimir el espacio de expresión génica en un espacio de dimensión inferior, el VAE, idealmente, aprendería principios biológicos, como las activaciones de la vía del cáncer, que ayudan a explicar cómo los tumores son similares y diferentes. El VAE también es un modelo generativo con un espacio latente que se puede interpolar para observar transiciones entre estados de cáncer.\n",
    "\n",
    "Esta versión incluye numerosas variaciones si lo comparamos con el autoencoder que realicé para la obtención de valores manuscritos. \n",
    "Utiliza en el encoder:\n",
    "- **batch_normalization:** han encontrado que se entrena más rápido y además con una activación de caraterísticas más heterogenea, batch_normalization añade una regulación de características escalando la activación a media=0 y varianza=1.Es como un método para normalizar los inputs de cada capa.\n",
    "- **glorot uniform:** todos los pesos comienza inicializados a través de glorot uniform, de esta manera se pretende mantener la varianza similar a lo largo de todas las capas.\n",
    "Funciones de pérdida:\n",
    "- **Beta:** se incluye un parámetro beta que controla la contribución de la KL divergence en la VAE loss total conforme avanzan las epochs. Tras un estudio se demostró que kappa tiene un muy pequeña influencia en el entrenamiento, por tanto se usa k=1(kappa).\n",
    "- **WarmUpCallBack:** una función para ver como como afecta las funciones de pérdida a la reconstrucción.\n",
    "- **TQDM:** es una librería para estudiar el progreso de las barras durante el entrenamiento.\n",
    "\n",
    "#### Datos\n",
    "Tenemos características genómicas de mil tumores tomadas de 33 tipos diferentes de cáncer.\n",
    "- **5000 Variables(features)->genes expresados-protein coding.**\n",
    "- **10459 Observaciones -> gene expression para 10459 tumores (Escogidos entre los más irregulares y variables a través de la MAD).**\n",
    "\n",
    "#### Entrenamiento\n",
    "- Optimizador -> adam\n",
    "- Encoding->rectified linear units and batch normalization.\n",
    "- Decoding->sigmoid activation.\n"
   ]
  },
  {
   "cell_type": "markdown",
   "metadata": {},
   "source": [
    "### Importaciones"
   ]
  },
  {
   "cell_type": "markdown",
   "metadata": {},
   "source": [
    "Como importaciones tenemos las herramientas que necesitamos para crear las redes neuronales y llevar a cabo la experimentación."
   ]
  },
  {
   "cell_type": "code",
   "execution_count": 9,
   "metadata": {},
   "outputs": [],
   "source": [
    "import os\n",
    "import numpy as np\n",
    "import matplotlib.pyplot as plt\n",
    "from scipy.stats import norm\n",
    "import tensorflow as tf\n",
    "\n",
    "from keras import backend as K\n",
    "from keras.layers import (Input, InputLayer, Dense, Lambda, Layer, Add, Multiply, Activation)\n",
    "from keras.models import Model, Sequential\n",
    "from keras.utils import plot_model\n",
    "from keras.callbacks import Callback\n",
    "from keras import metrics,optimizers\n",
    "import seaborn as sns\n",
    "import keras\n",
    "\n",
    "import pandas as pd\n",
    "from matplotlib.ticker import FormatStrFormatter\n",
    "from keras.utils.vis_utils import model_to_dot, plot_model\n",
    "from keras.layers.normalization import BatchNormalization\n",
    "from keras_tqdm import TQDMNotebookCallback\n",
    "from IPython.display import SVG"
   ]
  },
  {
   "cell_type": "markdown",
   "metadata": {},
   "source": [
    "### Versiones"
   ]
  },
  {
   "cell_type": "code",
   "execution_count": 2,
   "metadata": {},
   "outputs": [
    {
     "name": "stdout",
     "output_type": "stream",
     "text": [
      "2.2.4\n"
     ]
    },
    {
     "data": {
      "text/plain": [
       "'1.13.0-rc2'"
      ]
     },
     "execution_count": 2,
     "metadata": {},
     "output_type": "execute_result"
    }
   ],
   "source": [
    "print(keras.__version__)\n",
    "tf.__version__"
   ]
  },
  {
   "cell_type": "markdown",
   "metadata": {},
   "source": [
    "### Cargamos los datos"
   ]
  },
  {
   "cell_type": "markdown",
   "metadata": {},
   "source": [
    "Como hemos comentado tenemos observaciones con los genes mayormente expresados(5000) de 10459 tumores."
   ]
  },
  {
   "cell_type": "code",
   "execution_count": 3,
   "metadata": {},
   "outputs": [],
   "source": [
    "#rnaseq_file = os.path.join('data', 'pancan_scaled_zeroone_rnaseq.tsv')\n",
    "rnaseq_df = pd.read_csv('pancan_scaled_zeroone_rnaseq.tsv.gz',sep='\\t', index_col=0)"
   ]
  },
  {
   "cell_type": "code",
   "execution_count": 4,
   "metadata": {},
   "outputs": [
    {
     "name": "stdout",
     "output_type": "stream",
     "text": [
      "(10459, 5000)\n"
     ]
    },
    {
     "data": {
      "text/html": [
       "<div>\n",
       "<style scoped>\n",
       "    .dataframe tbody tr th:only-of-type {\n",
       "        vertical-align: middle;\n",
       "    }\n",
       "\n",
       "    .dataframe tbody tr th {\n",
       "        vertical-align: top;\n",
       "    }\n",
       "\n",
       "    .dataframe thead th {\n",
       "        text-align: right;\n",
       "    }\n",
       "</style>\n",
       "<table border=\"1\" class=\"dataframe\">\n",
       "  <thead>\n",
       "    <tr style=\"text-align: right;\">\n",
       "      <th></th>\n",
       "      <th>RPS4Y1</th>\n",
       "      <th>XIST</th>\n",
       "      <th>KRT5</th>\n",
       "      <th>AGR2</th>\n",
       "      <th>CEACAM5</th>\n",
       "      <th>KRT6A</th>\n",
       "      <th>KRT14</th>\n",
       "      <th>CEACAM6</th>\n",
       "      <th>DDX3Y</th>\n",
       "      <th>KDM5D</th>\n",
       "      <th>...</th>\n",
       "      <th>FAM129A</th>\n",
       "      <th>C8orf48</th>\n",
       "      <th>CDK5R1</th>\n",
       "      <th>FAM81A</th>\n",
       "      <th>C13orf18</th>\n",
       "      <th>GDPD3</th>\n",
       "      <th>SMAGP</th>\n",
       "      <th>C2orf85</th>\n",
       "      <th>POU5F1B</th>\n",
       "      <th>CHST2</th>\n",
       "    </tr>\n",
       "  </thead>\n",
       "  <tbody>\n",
       "    <tr>\n",
       "      <th>TCGA-02-0047-01</th>\n",
       "      <td>0.678296</td>\n",
       "      <td>0.289910</td>\n",
       "      <td>0.034230</td>\n",
       "      <td>0.0</td>\n",
       "      <td>0.000000</td>\n",
       "      <td>0.084731</td>\n",
       "      <td>0.031863</td>\n",
       "      <td>0.037709</td>\n",
       "      <td>0.746797</td>\n",
       "      <td>0.687833</td>\n",
       "      <td>...</td>\n",
       "      <td>0.440610</td>\n",
       "      <td>0.428782</td>\n",
       "      <td>0.732819</td>\n",
       "      <td>0.634340</td>\n",
       "      <td>0.580662</td>\n",
       "      <td>0.294313</td>\n",
       "      <td>0.458134</td>\n",
       "      <td>0.478219</td>\n",
       "      <td>0.168263</td>\n",
       "      <td>0.638497</td>\n",
       "    </tr>\n",
       "    <tr>\n",
       "      <th>TCGA-02-0055-01</th>\n",
       "      <td>0.200633</td>\n",
       "      <td>0.654917</td>\n",
       "      <td>0.181993</td>\n",
       "      <td>0.0</td>\n",
       "      <td>0.000000</td>\n",
       "      <td>0.100606</td>\n",
       "      <td>0.050011</td>\n",
       "      <td>0.092586</td>\n",
       "      <td>0.103725</td>\n",
       "      <td>0.140642</td>\n",
       "      <td>...</td>\n",
       "      <td>0.620658</td>\n",
       "      <td>0.363207</td>\n",
       "      <td>0.592269</td>\n",
       "      <td>0.602755</td>\n",
       "      <td>0.610192</td>\n",
       "      <td>0.374569</td>\n",
       "      <td>0.722420</td>\n",
       "      <td>0.271356</td>\n",
       "      <td>0.160465</td>\n",
       "      <td>0.602560</td>\n",
       "    </tr>\n",
       "    <tr>\n",
       "      <th>TCGA-02-2483-01</th>\n",
       "      <td>0.785980</td>\n",
       "      <td>0.140842</td>\n",
       "      <td>0.081082</td>\n",
       "      <td>0.0</td>\n",
       "      <td>0.000000</td>\n",
       "      <td>0.000000</td>\n",
       "      <td>0.000000</td>\n",
       "      <td>0.000000</td>\n",
       "      <td>0.730648</td>\n",
       "      <td>0.657189</td>\n",
       "      <td>...</td>\n",
       "      <td>0.437658</td>\n",
       "      <td>0.471489</td>\n",
       "      <td>0.868774</td>\n",
       "      <td>0.471141</td>\n",
       "      <td>0.487212</td>\n",
       "      <td>0.385521</td>\n",
       "      <td>0.466642</td>\n",
       "      <td>0.784059</td>\n",
       "      <td>0.160797</td>\n",
       "      <td>0.557074</td>\n",
       "    </tr>\n",
       "    <tr>\n",
       "      <th>TCGA-02-2485-01</th>\n",
       "      <td>0.720258</td>\n",
       "      <td>0.122554</td>\n",
       "      <td>0.180042</td>\n",
       "      <td>0.0</td>\n",
       "      <td>0.000000</td>\n",
       "      <td>0.000000</td>\n",
       "      <td>0.000000</td>\n",
       "      <td>0.000000</td>\n",
       "      <td>0.720306</td>\n",
       "      <td>0.719855</td>\n",
       "      <td>...</td>\n",
       "      <td>0.553306</td>\n",
       "      <td>0.373344</td>\n",
       "      <td>0.818608</td>\n",
       "      <td>0.691962</td>\n",
       "      <td>0.635023</td>\n",
       "      <td>0.430647</td>\n",
       "      <td>0.453690</td>\n",
       "      <td>0.364494</td>\n",
       "      <td>0.161363</td>\n",
       "      <td>0.607895</td>\n",
       "    </tr>\n",
       "    <tr>\n",
       "      <th>TCGA-02-2486-01</th>\n",
       "      <td>0.767127</td>\n",
       "      <td>0.210393</td>\n",
       "      <td>0.034017</td>\n",
       "      <td>0.0</td>\n",
       "      <td>0.061161</td>\n",
       "      <td>0.000000</td>\n",
       "      <td>0.053021</td>\n",
       "      <td>0.000000</td>\n",
       "      <td>0.739546</td>\n",
       "      <td>0.665684</td>\n",
       "      <td>...</td>\n",
       "      <td>0.601268</td>\n",
       "      <td>0.379943</td>\n",
       "      <td>0.506839</td>\n",
       "      <td>0.684320</td>\n",
       "      <td>0.607821</td>\n",
       "      <td>0.320113</td>\n",
       "      <td>0.476190</td>\n",
       "      <td>0.122722</td>\n",
       "      <td>0.389544</td>\n",
       "      <td>0.698548</td>\n",
       "    </tr>\n",
       "  </tbody>\n",
       "</table>\n",
       "<p>5 rows × 5000 columns</p>\n",
       "</div>"
      ],
      "text/plain": [
       "                   RPS4Y1      XIST      KRT5  AGR2   CEACAM5     KRT6A  \\\n",
       "TCGA-02-0047-01  0.678296  0.289910  0.034230   0.0  0.000000  0.084731   \n",
       "TCGA-02-0055-01  0.200633  0.654917  0.181993   0.0  0.000000  0.100606   \n",
       "TCGA-02-2483-01  0.785980  0.140842  0.081082   0.0  0.000000  0.000000   \n",
       "TCGA-02-2485-01  0.720258  0.122554  0.180042   0.0  0.000000  0.000000   \n",
       "TCGA-02-2486-01  0.767127  0.210393  0.034017   0.0  0.061161  0.000000   \n",
       "\n",
       "                    KRT14   CEACAM6     DDX3Y     KDM5D    ...      FAM129A  \\\n",
       "TCGA-02-0047-01  0.031863  0.037709  0.746797  0.687833    ...     0.440610   \n",
       "TCGA-02-0055-01  0.050011  0.092586  0.103725  0.140642    ...     0.620658   \n",
       "TCGA-02-2483-01  0.000000  0.000000  0.730648  0.657189    ...     0.437658   \n",
       "TCGA-02-2485-01  0.000000  0.000000  0.720306  0.719855    ...     0.553306   \n",
       "TCGA-02-2486-01  0.053021  0.000000  0.739546  0.665684    ...     0.601268   \n",
       "\n",
       "                  C8orf48    CDK5R1    FAM81A  C13orf18     GDPD3     SMAGP  \\\n",
       "TCGA-02-0047-01  0.428782  0.732819  0.634340  0.580662  0.294313  0.458134   \n",
       "TCGA-02-0055-01  0.363207  0.592269  0.602755  0.610192  0.374569  0.722420   \n",
       "TCGA-02-2483-01  0.471489  0.868774  0.471141  0.487212  0.385521  0.466642   \n",
       "TCGA-02-2485-01  0.373344  0.818608  0.691962  0.635023  0.430647  0.453690   \n",
       "TCGA-02-2486-01  0.379943  0.506839  0.684320  0.607821  0.320113  0.476190   \n",
       "\n",
       "                  C2orf85   POU5F1B     CHST2  \n",
       "TCGA-02-0047-01  0.478219  0.168263  0.638497  \n",
       "TCGA-02-0055-01  0.271356  0.160465  0.602560  \n",
       "TCGA-02-2483-01  0.784059  0.160797  0.557074  \n",
       "TCGA-02-2485-01  0.364494  0.161363  0.607895  \n",
       "TCGA-02-2486-01  0.122722  0.389544  0.698548  \n",
       "\n",
       "[5 rows x 5000 columns]"
      ]
     },
     "execution_count": 4,
     "metadata": {},
     "output_type": "execute_result"
    }
   ],
   "source": [
    "print(rnaseq_df.shape)\n",
    "rnaseq_df.head(5)"
   ]
  },
  {
   "cell_type": "markdown",
   "metadata": {},
   "source": [
    "Separamos en train y en test"
   ]
  },
  {
   "cell_type": "code",
   "execution_count": 5,
   "metadata": {},
   "outputs": [],
   "source": [
    "test_set_percent = 0.1\n",
    "rnaseq_test_df = rnaseq_df.sample(frac=test_set_percent)\n",
    "rnaseq_train_df = rnaseq_df.drop(rnaseq_test_df.index)"
   ]
  },
  {
   "cell_type": "code",
   "execution_count": 6,
   "metadata": {},
   "outputs": [],
   "source": [
    "gene_expression=rnaseq_df.columns.tolist()"
   ]
  },
  {
   "cell_type": "markdown",
   "metadata": {},
   "source": [
    "### Variables e hiperparámetros"
   ]
  },
  {
   "cell_type": "code",
   "execution_count": 7,
   "metadata": {},
   "outputs": [
    {
     "name": "stdout",
     "output_type": "stream",
     "text": [
      "WARNING:tensorflow:From C:\\Users\\angel\\Anaconda3\\lib\\site-packages\\tensorflow\\python\\framework\\op_def_library.py:263: colocate_with (from tensorflow.python.framework.ops) is deprecated and will be removed in a future version.\n",
      "Instructions for updating:\n",
      "Colocations handled automatically by placer.\n"
     ]
    }
   ],
   "source": [
    "original_dim=rnaseq_df.shape[1]\n",
    "latent_dim = 100\n",
    "\n",
    "batch_size=50\n",
    "epochs = 50\n",
    "learning_rate=0.0005\n",
    "\n",
    "beta = K.variable(0)\n",
    "kappa = 1\n",
    "epsilon_std = 1.0"
   ]
  },
  {
   "cell_type": "markdown",
   "metadata": {},
   "source": [
    "### Encoder"
   ]
  },
  {
   "cell_type": "markdown",
   "metadata": {},
   "source": [
    "Incluyendo **batch_normalization** han encontrado que se entrena más rápido y además con una activación de caraterísticas más heterogenea, batch_normalization añade una regulación de características escalando la activación a media=0 y varianza=1.Es como un método para normalizar los inputs de cada capa. "
   ]
  },
  {
   "cell_type": "code",
   "execution_count": 12,
   "metadata": {},
   "outputs": [],
   "source": [
    "##Creamos la capa de entrada\n",
    "inputs = Input(shape=(original_dim,),name='encoder_input')\n",
    "##Creamos capa intermedia\n",
    "x_encoder = Dense(latent_dim,kernel_initializer='glorot_uniform')(inputs)\n",
    "##Creamos dos capas de salida,media y log_desviacion(se usa en lugar de la estándar)\n",
    "z_mean_dense_batchnorm = BatchNormalization()(x_encoder)\n",
    "log_desviacion_dense_batchnorm = BatchNormalization()(x_encoder)\n",
    "z_mean_encoded = Activation('relu')(z_mean_dense_batchnorm)\n",
    "log_desviacion = Activation('relu')(log_desviacion_dense_batchnorm)"
   ]
  },
  {
   "cell_type": "markdown",
   "metadata": {},
   "source": [
    "### Decoder"
   ]
  },
  {
   "cell_type": "code",
   "execution_count": 13,
   "metadata": {},
   "outputs": [],
   "source": [
    "##Creamos capa de entrada del decodificador\n",
    "latent_vector = Input(shape=(latent_dim,), name='latent_vector')\n",
    "outputs = Dense(original_dim,kernel_initializer='glorot_uniform',activation='sigmoid')(latent_vector)"
   ]
  },
  {
   "cell_type": "markdown",
   "metadata": {},
   "source": [
    "### Sampler y CustomVariationalLayer"
   ]
  },
  {
   "cell_type": "markdown",
   "metadata": {},
   "source": [
    "La función sampler es el generador del vector z y la función CustomVariationalLayer aprende y actúa sobre el entrenamiento. Se encuentra al final del modelo"
   ]
  },
  {
   "cell_type": "code",
   "execution_count": 14,
   "metadata": {},
   "outputs": [],
   "source": [
    "def sampler(args):\n",
    "    z_mean, z_log = args\n",
    "    batch = K.shape(z_mean)[0]\n",
    "    dim = K.int_shape(z_mean)[1]\n",
    "    # mean and log of variance of Q(z|X)\n",
    "    # we sample from the standard normal a matrix of batch_size * latent_size (taking into account minibatches)\n",
    "    epsilon = K.random_normal(shape=(batch,dim))# by default, random_normal has mean=0 and std=1.0\n",
    "    # sampling from Z~N(μ, σ^2) is the same as sampling from μ + σX, X~N(0,1)\n",
    "    return z_mean + K.exp(0.5 * z_log) * epsilon\n",
    "\n",
    "z = Lambda(sampler,output_shape=(latent_dim, ))([z_mean_encoded, log_desviacion])\n",
    "\n",
    "class CustomVariationalLayer(Layer):\n",
    "    \"\"\"\n",
    "    Define a custom layer that learns and performs the training\n",
    "    This function is borrowed from:\n",
    "    https://github.com/fchollet/keras/blob/master/examples/variational_autoencoder.py\n",
    "    \"\"\"\n",
    "    def __init__(self, **kwargs):\n",
    "        # https://keras.io/layers/writing-your-own-keras-layers/\n",
    "        self.is_placeholder = True\n",
    "        super(CustomVariationalLayer, self).__init__(**kwargs)\n",
    "\n",
    "    def vae_loss(self, x_input, x_decoded):\n",
    "        reconstruction_loss = original_dim * metrics.binary_crossentropy(x_input, x_decoded)\n",
    "        kl_loss = - 0.5 * K.sum(1 + log_desviacion - K.square(z_mean_encoded) - \n",
    "                                K.exp(log_desviacion), axis=-1)\n",
    "        return K.mean(reconstruction_loss + (K.get_value(beta) * kl_loss))\n",
    "\n",
    "    def call(self, inputs):\n",
    "        x = inputs[0]\n",
    "        x_decoded = inputs[1]\n",
    "        loss = self.vae_loss(x, x_decoded)\n",
    "        self.add_loss(loss, inputs=inputs)\n",
    "        # We won't actually use the output.\n",
    "        return x"
   ]
  },
  {
   "cell_type": "markdown",
   "metadata": {},
   "source": [
    "### WarmUpCallBack"
   ]
  },
  {
   "cell_type": "markdown",
   "metadata": {},
   "source": [
    "Callback es un set de funciones que permite estudiar el entrenamiento mientras éste está en curso. Puedes llamar una lista de callback en el método fit. Estos métodos seran llamados en cada etapa del entrenamiento."
   ]
  },
  {
   "cell_type": "code",
   "execution_count": 15,
   "metadata": {},
   "outputs": [],
   "source": [
    "class WarmUpCallback(Callback):\n",
    "    def __init__(self, beta, kappa):\n",
    "        self.beta = beta\n",
    "        self.kappa = kappa\n",
    "    # Behavior on each epoch\n",
    "    def on_epoch_end(self, epoch, logs={}):\n",
    "        if K.get_value(self.beta) <= 1:\n",
    "            K.set_value(self.beta, K.get_value(self.beta) + self.kappa)"
   ]
  },
  {
   "cell_type": "markdown",
   "metadata": {},
   "source": [
    "### Compilación de modelos-VAE"
   ]
  },
  {
   "cell_type": "markdown",
   "metadata": {},
   "source": [
    "El **CustomVariationalLayer()** incluye la función de pérdida VAE (reconstruction + (beta * KL)), que es lo que impulsará a nuestro modelo a aprender una representación interpretable del espacio de expresión génica.\n",
    "\n",
    "El VAE compilado con un optimizador Adam y una función de pérdida personalizada incorporada. El parámetro loss_weights garantiza que la versión beta se actualice en cada devolución de llamada de final de época"
   ]
  },
  {
   "cell_type": "code",
   "execution_count": 16,
   "metadata": {},
   "outputs": [
    {
     "name": "stdout",
     "output_type": "stream",
     "text": [
      "Encoder\n",
      "\n",
      "Model: \"encoder\"\n",
      "__________________________________________________________________________________________________\n",
      "Layer (type)                    Output Shape         Param #     Connected to                     \n",
      "==================================================================================================\n",
      "encoder_input (InputLayer)      (None, 5000)         0                                            \n",
      "__________________________________________________________________________________________________\n",
      "dense_4 (Dense)                 (None, 100)          500100      encoder_input[0][0]              \n",
      "__________________________________________________________________________________________________\n",
      "batch_normalization_7 (BatchNor (None, 100)          400         dense_4[0][0]                    \n",
      "__________________________________________________________________________________________________\n",
      "batch_normalization_8 (BatchNor (None, 100)          400         dense_4[0][0]                    \n",
      "__________________________________________________________________________________________________\n",
      "activation_4 (Activation)       (None, 100)          0           batch_normalization_7[0][0]      \n",
      "__________________________________________________________________________________________________\n",
      "activation_5 (Activation)       (None, 100)          0           batch_normalization_8[0][0]      \n",
      "__________________________________________________________________________________________________\n",
      "lambda_1 (Lambda)               (None, 100)          0           activation_4[0][0]               \n",
      "                                                                 activation_5[0][0]               \n",
      "==================================================================================================\n",
      "Total params: 500,900\n",
      "Trainable params: 500,500\n",
      "Non-trainable params: 400\n",
      "__________________________________________________________________________________________________\n",
      "Decoder\n",
      "\n",
      "Model: \"decoder\"\n",
      "_________________________________________________________________\n",
      "Layer (type)                 Output Shape              Param #   \n",
      "=================================================================\n",
      "latent_vector (InputLayer)   (None, 100)               0         \n",
      "_________________________________________________________________\n",
      "dense_5 (Dense)              (None, 5000)              505000    \n",
      "=================================================================\n",
      "Total params: 505,000\n",
      "Trainable params: 505,000\n",
      "Non-trainable params: 0\n",
      "_________________________________________________________________\n",
      "VAE\n",
      "\n",
      "Model: \"model_1\"\n",
      "__________________________________________________________________________________________________\n",
      "Layer (type)                    Output Shape         Param #     Connected to                     \n",
      "==================================================================================================\n",
      "encoder_input (InputLayer)      (None, 5000)         0                                            \n",
      "__________________________________________________________________________________________________\n",
      "encoder (Model)                 [(None, 100), (None, 500900      encoder_input[0][0]              \n",
      "__________________________________________________________________________________________________\n",
      "decoder (Model)                 (None, 5000)         505000      encoder[1][2]                    \n",
      "__________________________________________________________________________________________________\n",
      "custom_variational_layer_1 (Cus [(None, 5000), (None 0           encoder_input[0][0]              \n",
      "                                                                 decoder[1][0]                    \n",
      "==================================================================================================\n",
      "Total params: 1,005,900\n",
      "Trainable params: 1,005,500\n",
      "Non-trainable params: 400\n",
      "__________________________________________________________________________________________________\n"
     ]
    }
   ],
   "source": [
    "##Instanciamos el optimizador\n",
    "adam = optimizers.Adam(lr=learning_rate)\n",
    "\n",
    "##Instanciamos el encoder\n",
    "encoder = Model(inputs,[z_mean_encoded,log_desviacion,z],name='encoder')\n",
    "print('Encoder\\n')\n",
    "encoder.summary()\n",
    "##Instanciamos el decoder\n",
    "decoder = Model(latent_vector,outputs,name='decoder')\n",
    "print('Decoder\\n')\n",
    "decoder.summary()\n",
    "\n",
    "outputs_final= decoder(encoder(inputs)[2])\n",
    "\n",
    "##Creamos modelo final con la capa 'CustomVariationalLayer'\n",
    "vae_layer = CustomVariationalLayer()([inputs, outputs_final])\n",
    "vae = Model(inputs,vae_layer)\n",
    "vae.compile(optimizer=adam, loss=None, loss_weights=[beta])\n",
    "print('VAE\\n')\n",
    "vae.summary()"
   ]
  },
  {
   "cell_type": "markdown",
   "metadata": {},
   "source": [
    "### Visualización del modelo"
   ]
  },
  {
   "cell_type": "code",
   "execution_count": 17,
   "metadata": {},
   "outputs": [
    {
     "data": {
      "image/svg+xml": [
       "<svg height=\"352pt\" viewBox=\"0.00 0.00 319.00 264.00\" width=\"425pt\" xmlns=\"http://www.w3.org/2000/svg\" xmlns:xlink=\"http://www.w3.org/1999/xlink\">\n",
       "<g class=\"graph\" id=\"graph0\" transform=\"scale(1.33333 1.33333) rotate(0) translate(4 260)\">\n",
       "<title>G</title>\n",
       "<polygon fill=\"white\" points=\"-4,4 -4,-260 315,-260 315,4 -4,4\" stroke=\"none\"/>\n",
       "<!-- 2533368200720 -->\n",
       "<g class=\"node\" id=\"node1\"><title>2533368200720</title>\n",
       "<polygon fill=\"none\" points=\"73.5,-219.5 73.5,-255.5 237.5,-255.5 237.5,-219.5 73.5,-219.5\" stroke=\"black\"/>\n",
       "<text font-family=\"Times New Roman,serif\" font-size=\"14.00\" text-anchor=\"middle\" x=\"155.5\" y=\"-233.8\">encoder_input: InputLayer</text>\n",
       "</g>\n",
       "<!-- 2533361460448 -->\n",
       "<g class=\"node\" id=\"node2\"><title>2533361460448</title>\n",
       "<polygon fill=\"none\" points=\"63.5,-146.5 63.5,-182.5 167.5,-182.5 167.5,-146.5 63.5,-146.5\" stroke=\"black\"/>\n",
       "<text font-family=\"Times New Roman,serif\" font-size=\"14.00\" text-anchor=\"middle\" x=\"115.5\" y=\"-160.8\">encoder: Model</text>\n",
       "</g>\n",
       "<!-- 2533368200720&#45;&gt;2533361460448 -->\n",
       "<g class=\"edge\" id=\"edge1\"><title>2533368200720-&gt;2533361460448</title>\n",
       "<path d=\"M145.817,-219.313C141.1,-210.941 135.329,-200.697 130.093,-191.403\" fill=\"none\" stroke=\"black\"/>\n",
       "<polygon fill=\"black\" points=\"133.052,-189.523 125.094,-182.529 126.953,-192.959 133.052,-189.523\" stroke=\"black\"/>\n",
       "</g>\n",
       "<!-- 2533708158736 -->\n",
       "<g class=\"node\" id=\"node4\"><title>2533708158736</title>\n",
       "<polygon fill=\"none\" points=\"0,-0.5 0,-36.5 311,-36.5 311,-0.5 0,-0.5\" stroke=\"black\"/>\n",
       "<text font-family=\"Times New Roman,serif\" font-size=\"14.00\" text-anchor=\"middle\" x=\"155.5\" y=\"-14.8\">custom_variational_layer_1: CustomVariationalLayer</text>\n",
       "</g>\n",
       "<!-- 2533368200720&#45;&gt;2533708158736 -->\n",
       "<g class=\"edge\" id=\"edge3\"><title>2533368200720-&gt;2533708158736</title>\n",
       "<path d=\"M164.219,-219.162C168.875,-208.924 174.125,-195.549 176.5,-183 185.59,-134.964 185.59,-121.036 176.5,-73 174.793,-63.9802 171.601,-54.5339 168.211,-46.1324\" fill=\"none\" stroke=\"black\"/>\n",
       "<polygon fill=\"black\" points=\"171.382,-44.6448 164.219,-36.8381 164.95,-47.4076 171.382,-44.6448\" stroke=\"black\"/>\n",
       "</g>\n",
       "<!-- 2533673141752 -->\n",
       "<g class=\"node\" id=\"node3\"><title>2533673141752</title>\n",
       "<polygon fill=\"none\" points=\"63,-73.5 63,-109.5 168,-109.5 168,-73.5 63,-73.5\" stroke=\"black\"/>\n",
       "<text font-family=\"Times New Roman,serif\" font-size=\"14.00\" text-anchor=\"middle\" x=\"115.5\" y=\"-87.8\">decoder: Model</text>\n",
       "</g>\n",
       "<!-- 2533361460448&#45;&gt;2533673141752 -->\n",
       "<g class=\"edge\" id=\"edge2\"><title>2533361460448-&gt;2533673141752</title>\n",
       "<path d=\"M115.5,-146.313C115.5,-138.289 115.5,-128.547 115.5,-119.569\" fill=\"none\" stroke=\"black\"/>\n",
       "<polygon fill=\"black\" points=\"119,-119.529 115.5,-109.529 112,-119.529 119,-119.529\" stroke=\"black\"/>\n",
       "</g>\n",
       "<!-- 2533673141752&#45;&gt;2533708158736 -->\n",
       "<g class=\"edge\" id=\"edge4\"><title>2533673141752-&gt;2533708158736</title>\n",
       "<path d=\"M125.183,-73.3129C129.9,-64.9407 135.671,-54.6971 140.907,-45.4026\" fill=\"none\" stroke=\"black\"/>\n",
       "<polygon fill=\"black\" points=\"144.047,-46.9593 145.906,-36.5288 137.948,-43.5234 144.047,-46.9593\" stroke=\"black\"/>\n",
       "</g>\n",
       "</g>\n",
       "</svg>"
      ],
      "text/plain": [
       "<IPython.core.display.SVG object>"
      ]
     },
     "execution_count": 17,
     "metadata": {},
     "output_type": "execute_result"
    }
   ],
   "source": [
    "# Visualize the connections of the custom VAE model\n",
    "plot_model(vae, to_file='modelo.png')\n",
    "SVG(model_to_dot(encoder).create(prog='dot', format='svg'))\n",
    "SVG(model_to_dot(decoder).create(prog='dot', format='svg'))\n",
    "SVG(model_to_dot(vae).create(prog='dot', format='svg'))"
   ]
  },
  {
   "cell_type": "markdown",
   "metadata": {},
   "source": [
    "### Entrenamiento"
   ]
  },
  {
   "cell_type": "code",
   "execution_count": 18,
   "metadata": {},
   "outputs": [
    {
     "name": "stdout",
     "output_type": "stream",
     "text": [
      "WARNING:tensorflow:From C:\\Users\\angel\\Anaconda3\\lib\\site-packages\\tensorflow\\python\\ops\\math_ops.py:3066: to_int32 (from tensorflow.python.ops.math_ops) is deprecated and will be removed in a future version.\n",
      "Instructions for updating:\n",
      "Use tf.cast instead.\n"
     ]
    },
    {
     "data": {
      "application/vnd.jupyter.widget-view+json": {
       "model_id": "01e44d21b0114c01ad8f454bf1b22c26",
       "version_major": 2,
       "version_minor": 0
      },
      "text/plain": [
       "HBox(children=(IntProgress(value=0, description='Training', max=50, style=ProgressStyle(description_width='ini…"
      ]
     },
     "metadata": {},
     "output_type": "display_data"
    },
    {
     "data": {
      "application/vnd.jupyter.widget-view+json": {
       "model_id": "65a37d3168b54ed9a2e98073539e81c0",
       "version_major": 2,
       "version_minor": 0
      },
      "text/plain": [
       "HBox(children=(IntProgress(value=0, description='Epoch 0', max=9413, style=ProgressStyle(description_width='in…"
      ]
     },
     "metadata": {},
     "output_type": "display_data"
    },
    {
     "data": {
      "application/vnd.jupyter.widget-view+json": {
       "model_id": "dfaae9f8814c47b2beff0e1277e5880f",
       "version_major": 2,
       "version_minor": 0
      },
      "text/plain": [
       "HBox(children=(IntProgress(value=0, description='Epoch 1', max=9413, style=ProgressStyle(description_width='in…"
      ]
     },
     "metadata": {},
     "output_type": "display_data"
    },
    {
     "data": {
      "application/vnd.jupyter.widget-view+json": {
       "model_id": "ce13ebb09baa424a9baef9ac194d22ca",
       "version_major": 2,
       "version_minor": 0
      },
      "text/plain": [
       "HBox(children=(IntProgress(value=0, description='Epoch 2', max=9413, style=ProgressStyle(description_width='in…"
      ]
     },
     "metadata": {},
     "output_type": "display_data"
    },
    {
     "data": {
      "application/vnd.jupyter.widget-view+json": {
       "model_id": "27be86463aec40b3b3752177e09b919e",
       "version_major": 2,
       "version_minor": 0
      },
      "text/plain": [
       "HBox(children=(IntProgress(value=0, description='Epoch 3', max=9413, style=ProgressStyle(description_width='in…"
      ]
     },
     "metadata": {},
     "output_type": "display_data"
    },
    {
     "data": {
      "application/vnd.jupyter.widget-view+json": {
       "model_id": "c726fb68cf9345f49abcdfd5fa182633",
       "version_major": 2,
       "version_minor": 0
      },
      "text/plain": [
       "HBox(children=(IntProgress(value=0, description='Epoch 4', max=9413, style=ProgressStyle(description_width='in…"
      ]
     },
     "metadata": {},
     "output_type": "display_data"
    },
    {
     "data": {
      "application/vnd.jupyter.widget-view+json": {
       "model_id": "9813962847f94441abcfd6758c465a0f",
       "version_major": 2,
       "version_minor": 0
      },
      "text/plain": [
       "HBox(children=(IntProgress(value=0, description='Epoch 5', max=9413, style=ProgressStyle(description_width='in…"
      ]
     },
     "metadata": {},
     "output_type": "display_data"
    },
    {
     "data": {
      "application/vnd.jupyter.widget-view+json": {
       "model_id": "096495152a5248dca0e05734f2a8b590",
       "version_major": 2,
       "version_minor": 0
      },
      "text/plain": [
       "HBox(children=(IntProgress(value=0, description='Epoch 6', max=9413, style=ProgressStyle(description_width='in…"
      ]
     },
     "metadata": {},
     "output_type": "display_data"
    },
    {
     "data": {
      "application/vnd.jupyter.widget-view+json": {
       "model_id": "e5248f0f97924fbe9d5c8c7ad16b7e28",
       "version_major": 2,
       "version_minor": 0
      },
      "text/plain": [
       "HBox(children=(IntProgress(value=0, description='Epoch 7', max=9413, style=ProgressStyle(description_width='in…"
      ]
     },
     "metadata": {},
     "output_type": "display_data"
    },
    {
     "data": {
      "application/vnd.jupyter.widget-view+json": {
       "model_id": "83eccd3ad13a49b8b50271658198f04f",
       "version_major": 2,
       "version_minor": 0
      },
      "text/plain": [
       "HBox(children=(IntProgress(value=0, description='Epoch 8', max=9413, style=ProgressStyle(description_width='in…"
      ]
     },
     "metadata": {},
     "output_type": "display_data"
    },
    {
     "data": {
      "application/vnd.jupyter.widget-view+json": {
       "model_id": "0f0606e2081d4e00ab095cfe318005a8",
       "version_major": 2,
       "version_minor": 0
      },
      "text/plain": [
       "HBox(children=(IntProgress(value=0, description='Epoch 9', max=9413, style=ProgressStyle(description_width='in…"
      ]
     },
     "metadata": {},
     "output_type": "display_data"
    },
    {
     "data": {
      "application/vnd.jupyter.widget-view+json": {
       "model_id": "021e087eb0ef478ab92a95b5ada5c802",
       "version_major": 2,
       "version_minor": 0
      },
      "text/plain": [
       "HBox(children=(IntProgress(value=0, description='Epoch 10', max=9413, style=ProgressStyle(description_width='i…"
      ]
     },
     "metadata": {},
     "output_type": "display_data"
    },
    {
     "data": {
      "application/vnd.jupyter.widget-view+json": {
       "model_id": "11eba6aedf2f47209289c5e00f1b16a8",
       "version_major": 2,
       "version_minor": 0
      },
      "text/plain": [
       "HBox(children=(IntProgress(value=0, description='Epoch 11', max=9413, style=ProgressStyle(description_width='i…"
      ]
     },
     "metadata": {},
     "output_type": "display_data"
    },
    {
     "data": {
      "application/vnd.jupyter.widget-view+json": {
       "model_id": "9c90e62686764b03be51d94f07978197",
       "version_major": 2,
       "version_minor": 0
      },
      "text/plain": [
       "HBox(children=(IntProgress(value=0, description='Epoch 12', max=9413, style=ProgressStyle(description_width='i…"
      ]
     },
     "metadata": {},
     "output_type": "display_data"
    },
    {
     "data": {
      "application/vnd.jupyter.widget-view+json": {
       "model_id": "1322f38cccf64d3981ab1ea4349daa63",
       "version_major": 2,
       "version_minor": 0
      },
      "text/plain": [
       "HBox(children=(IntProgress(value=0, description='Epoch 13', max=9413, style=ProgressStyle(description_width='i…"
      ]
     },
     "metadata": {},
     "output_type": "display_data"
    },
    {
     "data": {
      "application/vnd.jupyter.widget-view+json": {
       "model_id": "cc9234bfca354e5785bb3ec7524fd575",
       "version_major": 2,
       "version_minor": 0
      },
      "text/plain": [
       "HBox(children=(IntProgress(value=0, description='Epoch 14', max=9413, style=ProgressStyle(description_width='i…"
      ]
     },
     "metadata": {},
     "output_type": "display_data"
    },
    {
     "data": {
      "application/vnd.jupyter.widget-view+json": {
       "model_id": "1bb7c20c321c4c499d433804a173c5a3",
       "version_major": 2,
       "version_minor": 0
      },
      "text/plain": [
       "HBox(children=(IntProgress(value=0, description='Epoch 15', max=9413, style=ProgressStyle(description_width='i…"
      ]
     },
     "metadata": {},
     "output_type": "display_data"
    },
    {
     "data": {
      "application/vnd.jupyter.widget-view+json": {
       "model_id": "d785286166a94e7891cfb48733712f3e",
       "version_major": 2,
       "version_minor": 0
      },
      "text/plain": [
       "HBox(children=(IntProgress(value=0, description='Epoch 16', max=9413, style=ProgressStyle(description_width='i…"
      ]
     },
     "metadata": {},
     "output_type": "display_data"
    },
    {
     "data": {
      "application/vnd.jupyter.widget-view+json": {
       "model_id": "7527357683bc4dafafac2dfee83bcfcd",
       "version_major": 2,
       "version_minor": 0
      },
      "text/plain": [
       "HBox(children=(IntProgress(value=0, description='Epoch 17', max=9413, style=ProgressStyle(description_width='i…"
      ]
     },
     "metadata": {},
     "output_type": "display_data"
    },
    {
     "data": {
      "application/vnd.jupyter.widget-view+json": {
       "model_id": "220f3a1638364fecb5b99b6dbee1fb17",
       "version_major": 2,
       "version_minor": 0
      },
      "text/plain": [
       "HBox(children=(IntProgress(value=0, description='Epoch 18', max=9413, style=ProgressStyle(description_width='i…"
      ]
     },
     "metadata": {},
     "output_type": "display_data"
    },
    {
     "data": {
      "application/vnd.jupyter.widget-view+json": {
       "model_id": "eca7ac4ef4d94b80a62ddcfc4fb92e50",
       "version_major": 2,
       "version_minor": 0
      },
      "text/plain": [
       "HBox(children=(IntProgress(value=0, description='Epoch 19', max=9413, style=ProgressStyle(description_width='i…"
      ]
     },
     "metadata": {},
     "output_type": "display_data"
    },
    {
     "data": {
      "application/vnd.jupyter.widget-view+json": {
       "model_id": "4b611f0e53c046a588e9725528a52d87",
       "version_major": 2,
       "version_minor": 0
      },
      "text/plain": [
       "HBox(children=(IntProgress(value=0, description='Epoch 20', max=9413, style=ProgressStyle(description_width='i…"
      ]
     },
     "metadata": {},
     "output_type": "display_data"
    },
    {
     "data": {
      "application/vnd.jupyter.widget-view+json": {
       "model_id": "656207768ca5441f84a1a9c9be14f407",
       "version_major": 2,
       "version_minor": 0
      },
      "text/plain": [
       "HBox(children=(IntProgress(value=0, description='Epoch 21', max=9413, style=ProgressStyle(description_width='i…"
      ]
     },
     "metadata": {},
     "output_type": "display_data"
    },
    {
     "data": {
      "application/vnd.jupyter.widget-view+json": {
       "model_id": "d976d405ea0a4496a417fc6bb79f784f",
       "version_major": 2,
       "version_minor": 0
      },
      "text/plain": [
       "HBox(children=(IntProgress(value=0, description='Epoch 22', max=9413, style=ProgressStyle(description_width='i…"
      ]
     },
     "metadata": {},
     "output_type": "display_data"
    },
    {
     "data": {
      "application/vnd.jupyter.widget-view+json": {
       "model_id": "3d62b7477ef546829e17e5b65e4f886f",
       "version_major": 2,
       "version_minor": 0
      },
      "text/plain": [
       "HBox(children=(IntProgress(value=0, description='Epoch 23', max=9413, style=ProgressStyle(description_width='i…"
      ]
     },
     "metadata": {},
     "output_type": "display_data"
    },
    {
     "data": {
      "application/vnd.jupyter.widget-view+json": {
       "model_id": "0691f2dcf13c4061848f1eb85809b33d",
       "version_major": 2,
       "version_minor": 0
      },
      "text/plain": [
       "HBox(children=(IntProgress(value=0, description='Epoch 24', max=9413, style=ProgressStyle(description_width='i…"
      ]
     },
     "metadata": {},
     "output_type": "display_data"
    },
    {
     "data": {
      "application/vnd.jupyter.widget-view+json": {
       "model_id": "5c39ce1c097a44be817abd434810b3e2",
       "version_major": 2,
       "version_minor": 0
      },
      "text/plain": [
       "HBox(children=(IntProgress(value=0, description='Epoch 25', max=9413, style=ProgressStyle(description_width='i…"
      ]
     },
     "metadata": {},
     "output_type": "display_data"
    },
    {
     "data": {
      "application/vnd.jupyter.widget-view+json": {
       "model_id": "cdd7ddbafd6c42b8beda02919f5de33e",
       "version_major": 2,
       "version_minor": 0
      },
      "text/plain": [
       "HBox(children=(IntProgress(value=0, description='Epoch 26', max=9413, style=ProgressStyle(description_width='i…"
      ]
     },
     "metadata": {},
     "output_type": "display_data"
    },
    {
     "data": {
      "application/vnd.jupyter.widget-view+json": {
       "model_id": "caafc735daf74194a4c8f0edbea4662f",
       "version_major": 2,
       "version_minor": 0
      },
      "text/plain": [
       "HBox(children=(IntProgress(value=0, description='Epoch 27', max=9413, style=ProgressStyle(description_width='i…"
      ]
     },
     "metadata": {},
     "output_type": "display_data"
    },
    {
     "data": {
      "application/vnd.jupyter.widget-view+json": {
       "model_id": "509d3adc78c84b728c3a13d6fefc72f2",
       "version_major": 2,
       "version_minor": 0
      },
      "text/plain": [
       "HBox(children=(IntProgress(value=0, description='Epoch 28', max=9413, style=ProgressStyle(description_width='i…"
      ]
     },
     "metadata": {},
     "output_type": "display_data"
    },
    {
     "data": {
      "application/vnd.jupyter.widget-view+json": {
       "model_id": "5fdbd52fdb1d4bee9212f45b454b5e80",
       "version_major": 2,
       "version_minor": 0
      },
      "text/plain": [
       "HBox(children=(IntProgress(value=0, description='Epoch 29', max=9413, style=ProgressStyle(description_width='i…"
      ]
     },
     "metadata": {},
     "output_type": "display_data"
    },
    {
     "data": {
      "application/vnd.jupyter.widget-view+json": {
       "model_id": "228ccc2adb014599a233cca00365fcad",
       "version_major": 2,
       "version_minor": 0
      },
      "text/plain": [
       "HBox(children=(IntProgress(value=0, description='Epoch 30', max=9413, style=ProgressStyle(description_width='i…"
      ]
     },
     "metadata": {},
     "output_type": "display_data"
    },
    {
     "data": {
      "application/vnd.jupyter.widget-view+json": {
       "model_id": "307b5a02af5e436c98a9e66f84cbb8d9",
       "version_major": 2,
       "version_minor": 0
      },
      "text/plain": [
       "HBox(children=(IntProgress(value=0, description='Epoch 31', max=9413, style=ProgressStyle(description_width='i…"
      ]
     },
     "metadata": {},
     "output_type": "display_data"
    },
    {
     "data": {
      "application/vnd.jupyter.widget-view+json": {
       "model_id": "27efdb05d5cc4e7f907b6557ece8980c",
       "version_major": 2,
       "version_minor": 0
      },
      "text/plain": [
       "HBox(children=(IntProgress(value=0, description='Epoch 32', max=9413, style=ProgressStyle(description_width='i…"
      ]
     },
     "metadata": {},
     "output_type": "display_data"
    },
    {
     "data": {
      "application/vnd.jupyter.widget-view+json": {
       "model_id": "3980469287e74589888dcb16e791f130",
       "version_major": 2,
       "version_minor": 0
      },
      "text/plain": [
       "HBox(children=(IntProgress(value=0, description='Epoch 33', max=9413, style=ProgressStyle(description_width='i…"
      ]
     },
     "metadata": {},
     "output_type": "display_data"
    },
    {
     "data": {
      "application/vnd.jupyter.widget-view+json": {
       "model_id": "44b5a3cc290849beaf0dff4a46126f28",
       "version_major": 2,
       "version_minor": 0
      },
      "text/plain": [
       "HBox(children=(IntProgress(value=0, description='Epoch 34', max=9413, style=ProgressStyle(description_width='i…"
      ]
     },
     "metadata": {},
     "output_type": "display_data"
    },
    {
     "data": {
      "application/vnd.jupyter.widget-view+json": {
       "model_id": "d3f45fcbc63646aba8a74dc41215ea80",
       "version_major": 2,
       "version_minor": 0
      },
      "text/plain": [
       "HBox(children=(IntProgress(value=0, description='Epoch 35', max=9413, style=ProgressStyle(description_width='i…"
      ]
     },
     "metadata": {},
     "output_type": "display_data"
    },
    {
     "data": {
      "application/vnd.jupyter.widget-view+json": {
       "model_id": "ed38f0fa25854d9c83c0d67a8b2682d3",
       "version_major": 2,
       "version_minor": 0
      },
      "text/plain": [
       "HBox(children=(IntProgress(value=0, description='Epoch 36', max=9413, style=ProgressStyle(description_width='i…"
      ]
     },
     "metadata": {},
     "output_type": "display_data"
    },
    {
     "data": {
      "application/vnd.jupyter.widget-view+json": {
       "model_id": "a5dec68651aa464ebfb47d1680234366",
       "version_major": 2,
       "version_minor": 0
      },
      "text/plain": [
       "HBox(children=(IntProgress(value=0, description='Epoch 37', max=9413, style=ProgressStyle(description_width='i…"
      ]
     },
     "metadata": {},
     "output_type": "display_data"
    },
    {
     "data": {
      "application/vnd.jupyter.widget-view+json": {
       "model_id": "cf2efec0cca243a8a3483845904f94d5",
       "version_major": 2,
       "version_minor": 0
      },
      "text/plain": [
       "HBox(children=(IntProgress(value=0, description='Epoch 38', max=9413, style=ProgressStyle(description_width='i…"
      ]
     },
     "metadata": {},
     "output_type": "display_data"
    },
    {
     "data": {
      "application/vnd.jupyter.widget-view+json": {
       "model_id": "2eed542e3af04997a18117c0625ae7b6",
       "version_major": 2,
       "version_minor": 0
      },
      "text/plain": [
       "HBox(children=(IntProgress(value=0, description='Epoch 39', max=9413, style=ProgressStyle(description_width='i…"
      ]
     },
     "metadata": {},
     "output_type": "display_data"
    },
    {
     "data": {
      "application/vnd.jupyter.widget-view+json": {
       "model_id": "fc5afbdf4c0648468cdd9d1676499fbb",
       "version_major": 2,
       "version_minor": 0
      },
      "text/plain": [
       "HBox(children=(IntProgress(value=0, description='Epoch 40', max=9413, style=ProgressStyle(description_width='i…"
      ]
     },
     "metadata": {},
     "output_type": "display_data"
    },
    {
     "data": {
      "application/vnd.jupyter.widget-view+json": {
       "model_id": "33879068a59f4b978c99f294b57fe481",
       "version_major": 2,
       "version_minor": 0
      },
      "text/plain": [
       "HBox(children=(IntProgress(value=0, description='Epoch 41', max=9413, style=ProgressStyle(description_width='i…"
      ]
     },
     "metadata": {},
     "output_type": "display_data"
    },
    {
     "data": {
      "application/vnd.jupyter.widget-view+json": {
       "model_id": "8b1c656d4b7947539fd47fa591b368f9",
       "version_major": 2,
       "version_minor": 0
      },
      "text/plain": [
       "HBox(children=(IntProgress(value=0, description='Epoch 42', max=9413, style=ProgressStyle(description_width='i…"
      ]
     },
     "metadata": {},
     "output_type": "display_data"
    },
    {
     "data": {
      "application/vnd.jupyter.widget-view+json": {
       "model_id": "86dcc0076c23496dbd64c04cf22c600a",
       "version_major": 2,
       "version_minor": 0
      },
      "text/plain": [
       "HBox(children=(IntProgress(value=0, description='Epoch 43', max=9413, style=ProgressStyle(description_width='i…"
      ]
     },
     "metadata": {},
     "output_type": "display_data"
    },
    {
     "data": {
      "application/vnd.jupyter.widget-view+json": {
       "model_id": "8a5c04b3e6744147b342c0ea042e1f19",
       "version_major": 2,
       "version_minor": 0
      },
      "text/plain": [
       "HBox(children=(IntProgress(value=0, description='Epoch 44', max=9413, style=ProgressStyle(description_width='i…"
      ]
     },
     "metadata": {},
     "output_type": "display_data"
    },
    {
     "data": {
      "application/vnd.jupyter.widget-view+json": {
       "model_id": "5be4350aceed45228f1c4c32ffa477e2",
       "version_major": 2,
       "version_minor": 0
      },
      "text/plain": [
       "HBox(children=(IntProgress(value=0, description='Epoch 45', max=9413, style=ProgressStyle(description_width='i…"
      ]
     },
     "metadata": {},
     "output_type": "display_data"
    },
    {
     "data": {
      "application/vnd.jupyter.widget-view+json": {
       "model_id": "3ec3c16c27c24eefbce52990af2e03c8",
       "version_major": 2,
       "version_minor": 0
      },
      "text/plain": [
       "HBox(children=(IntProgress(value=0, description='Epoch 46', max=9413, style=ProgressStyle(description_width='i…"
      ]
     },
     "metadata": {},
     "output_type": "display_data"
    },
    {
     "data": {
      "application/vnd.jupyter.widget-view+json": {
       "model_id": "9f0357a0ed89457cbd7ebe46beb7ef30",
       "version_major": 2,
       "version_minor": 0
      },
      "text/plain": [
       "HBox(children=(IntProgress(value=0, description='Epoch 47', max=9413, style=ProgressStyle(description_width='i…"
      ]
     },
     "metadata": {},
     "output_type": "display_data"
    },
    {
     "data": {
      "application/vnd.jupyter.widget-view+json": {
       "model_id": "5797e0caa0844b3f9e21a2182a0eb8b1",
       "version_major": 2,
       "version_minor": 0
      },
      "text/plain": [
       "HBox(children=(IntProgress(value=0, description='Epoch 48', max=9413, style=ProgressStyle(description_width='i…"
      ]
     },
     "metadata": {},
     "output_type": "display_data"
    },
    {
     "data": {
      "application/vnd.jupyter.widget-view+json": {
       "model_id": "3e9c0a36aad64d88bfae2d4936e9cf2e",
       "version_major": 2,
       "version_minor": 0
      },
      "text/plain": [
       "HBox(children=(IntProgress(value=0, description='Epoch 49', max=9413, style=ProgressStyle(description_width='i…"
      ]
     },
     "metadata": {},
     "output_type": "display_data"
    },
    {
     "name": "stdout",
     "output_type": "stream",
     "text": [
      "\n",
      "Wall time: 6min 17s\n"
     ]
    }
   ],
   "source": [
    "%%time\n",
    "hist = vae.fit(np.array(rnaseq_train_df),\n",
    "               shuffle=True,\n",
    "               epochs=epochs,\n",
    "               verbose=0,\n",
    "               batch_size=batch_size,\n",
    "               validation_data=(np.array(rnaseq_test_df), None),\n",
    "               callbacks=[WarmUpCallback(beta, kappa),\n",
    "                          TQDMNotebookCallback(leave_inner=True, leave_outer=True)])"
   ]
  },
  {
   "cell_type": "markdown",
   "metadata": {},
   "source": [
    "### Visualización del entrenamiento"
   ]
  },
  {
   "cell_type": "code",
   "execution_count": 19,
   "metadata": {},
   "outputs": [
    {
     "data": {
      "image/png": "[encoded data removed]",
      "text/plain": [
       "<Figure size 432x288 with 1 Axes>"
      ]
     },
     "metadata": {
      "needs_background": "light"
     },
     "output_type": "display_data"
    }
   ],
   "source": [
    "# Visualize training performance\n",
    "history_df = pd.DataFrame(hist.history)\n",
    "hist_plot_file = os.path.join('figures', 'onehidden_vae_training.pdf')\n",
    "ax = history_df.plot()\n",
    "ax.set_xlabel('Epochs')\n",
    "ax.set_ylabel('VAE Loss')\n",
    "fig = ax.get_figure()\n",
    "fig.savefig(hist_plot_file)"
   ]
  },
  {
   "cell_type": "markdown",
   "metadata": {},
   "source": [
    "### Estudio de modelos por separado"
   ]
  },
  {
   "cell_type": "markdown",
   "metadata": {},
   "source": [
    "1.Respecto al encoder\n",
    "- Poder ser utilizado para comprimir otros tumores\n",
    "\n",
    "2.Respecto al decoder\n",
    "- Modelo generativo\n",
    "\n",
    "3.El espacio latente de todos los cánceres\n",
    "- La representación reducida no linear de tumores puede ser usado como características para varias tareas.\n",
    "  - Tareas de aprendizaje supervisado prediciendo inactivación de genes\n",
    "  - Interpolar a través de este espacio para observar como la expresión génica cambia entre dos estados de cancer\n",
    "  \n",
    "4.Los pesos de los nodos para realizar la codificación\n",
    "- Aprender diferencias biológicas según la activación de diferentes tumores."
   ]
  },
  {
   "cell_type": "markdown",
   "metadata": {},
   "source": [
    "### Observación de la activación de nodos"
   ]
  },
  {
   "cell_type": "code",
   "execution_count": 20,
   "metadata": {},
   "outputs": [],
   "source": [
    "encoded_rnaseq_df,_,_ = encoder.predict_on_batch(rnaseq_df)\n",
    "encoded_rnaseq_df = pd.DataFrame(encoded_rnaseq_df, index=rnaseq_df.index) ##Lo pasamos a dataframe para poder tratarlo"
   ]
  },
  {
   "cell_type": "code",
   "execution_count": 21,
   "metadata": {},
   "outputs": [
    {
     "data": {
      "text/html": [
       "<div>\n",
       "<style scoped>\n",
       "    .dataframe tbody tr th:only-of-type {\n",
       "        vertical-align: middle;\n",
       "    }\n",
       "\n",
       "    .dataframe tbody tr th {\n",
       "        vertical-align: top;\n",
       "    }\n",
       "\n",
       "    .dataframe thead th {\n",
       "        text-align: right;\n",
       "    }\n",
       "</style>\n",
       "<table border=\"1\" class=\"dataframe\">\n",
       "  <thead>\n",
       "    <tr style=\"text-align: right;\">\n",
       "      <th></th>\n",
       "      <th>0</th>\n",
       "      <th>1</th>\n",
       "      <th>2</th>\n",
       "      <th>3</th>\n",
       "      <th>4</th>\n",
       "      <th>5</th>\n",
       "      <th>6</th>\n",
       "      <th>7</th>\n",
       "      <th>8</th>\n",
       "      <th>9</th>\n",
       "      <th>...</th>\n",
       "      <th>90</th>\n",
       "      <th>91</th>\n",
       "      <th>92</th>\n",
       "      <th>93</th>\n",
       "      <th>94</th>\n",
       "      <th>95</th>\n",
       "      <th>96</th>\n",
       "      <th>97</th>\n",
       "      <th>98</th>\n",
       "      <th>99</th>\n",
       "    </tr>\n",
       "  </thead>\n",
       "  <tbody>\n",
       "    <tr>\n",
       "      <th>TCGA-02-0047-01</th>\n",
       "      <td>0.000000</td>\n",
       "      <td>1.816092</td>\n",
       "      <td>4.044361</td>\n",
       "      <td>0.145077</td>\n",
       "      <td>0.000000</td>\n",
       "      <td>6.106706</td>\n",
       "      <td>0.080684</td>\n",
       "      <td>0.000000</td>\n",
       "      <td>0.000000</td>\n",
       "      <td>0.000000</td>\n",
       "      <td>...</td>\n",
       "      <td>0.000000</td>\n",
       "      <td>0.180914</td>\n",
       "      <td>0.000000</td>\n",
       "      <td>0.133210</td>\n",
       "      <td>0.000000</td>\n",
       "      <td>0.000000</td>\n",
       "      <td>0.447283</td>\n",
       "      <td>0.000000</td>\n",
       "      <td>0.669333</td>\n",
       "      <td>0.000000</td>\n",
       "    </tr>\n",
       "    <tr>\n",
       "      <th>TCGA-02-0055-01</th>\n",
       "      <td>0.000000</td>\n",
       "      <td>5.942916</td>\n",
       "      <td>0.364176</td>\n",
       "      <td>0.000000</td>\n",
       "      <td>0.000000</td>\n",
       "      <td>5.537058</td>\n",
       "      <td>0.000000</td>\n",
       "      <td>0.000000</td>\n",
       "      <td>0.000000</td>\n",
       "      <td>0.080813</td>\n",
       "      <td>...</td>\n",
       "      <td>0.000000</td>\n",
       "      <td>0.000000</td>\n",
       "      <td>0.000000</td>\n",
       "      <td>0.000000</td>\n",
       "      <td>0.000000</td>\n",
       "      <td>1.168227</td>\n",
       "      <td>0.921749</td>\n",
       "      <td>0.000000</td>\n",
       "      <td>0.000000</td>\n",
       "      <td>0.334925</td>\n",
       "    </tr>\n",
       "    <tr>\n",
       "      <th>TCGA-02-2483-01</th>\n",
       "      <td>0.000000</td>\n",
       "      <td>0.000000</td>\n",
       "      <td>0.124724</td>\n",
       "      <td>0.000000</td>\n",
       "      <td>0.000000</td>\n",
       "      <td>5.077076</td>\n",
       "      <td>0.000000</td>\n",
       "      <td>0.000000</td>\n",
       "      <td>0.000000</td>\n",
       "      <td>0.585016</td>\n",
       "      <td>...</td>\n",
       "      <td>0.000000</td>\n",
       "      <td>4.789838</td>\n",
       "      <td>0.000000</td>\n",
       "      <td>6.597468</td>\n",
       "      <td>0.000000</td>\n",
       "      <td>0.000000</td>\n",
       "      <td>2.134727</td>\n",
       "      <td>0.000000</td>\n",
       "      <td>0.000000</td>\n",
       "      <td>0.000000</td>\n",
       "    </tr>\n",
       "    <tr>\n",
       "      <th>TCGA-02-2485-01</th>\n",
       "      <td>0.481582</td>\n",
       "      <td>4.552354</td>\n",
       "      <td>3.809557</td>\n",
       "      <td>0.000000</td>\n",
       "      <td>2.508537</td>\n",
       "      <td>6.186780</td>\n",
       "      <td>0.000000</td>\n",
       "      <td>0.000000</td>\n",
       "      <td>0.000000</td>\n",
       "      <td>0.000000</td>\n",
       "      <td>...</td>\n",
       "      <td>0.000000</td>\n",
       "      <td>0.677514</td>\n",
       "      <td>0.255064</td>\n",
       "      <td>0.049965</td>\n",
       "      <td>0.000000</td>\n",
       "      <td>0.000000</td>\n",
       "      <td>0.000000</td>\n",
       "      <td>0.000000</td>\n",
       "      <td>0.150729</td>\n",
       "      <td>0.000000</td>\n",
       "    </tr>\n",
       "    <tr>\n",
       "      <th>TCGA-02-2486-01</th>\n",
       "      <td>2.578734</td>\n",
       "      <td>9.853311</td>\n",
       "      <td>9.354247</td>\n",
       "      <td>1.361312</td>\n",
       "      <td>0.512573</td>\n",
       "      <td>5.838670</td>\n",
       "      <td>1.889889</td>\n",
       "      <td>0.000000</td>\n",
       "      <td>0.000000</td>\n",
       "      <td>0.000000</td>\n",
       "      <td>...</td>\n",
       "      <td>0.432554</td>\n",
       "      <td>1.049209</td>\n",
       "      <td>0.000000</td>\n",
       "      <td>0.000000</td>\n",
       "      <td>0.090571</td>\n",
       "      <td>0.145025</td>\n",
       "      <td>2.207272</td>\n",
       "      <td>0.000000</td>\n",
       "      <td>0.130302</td>\n",
       "      <td>1.018543</td>\n",
       "    </tr>\n",
       "    <tr>\n",
       "      <th>TCGA-04-1348-01</th>\n",
       "      <td>7.672048</td>\n",
       "      <td>0.213313</td>\n",
       "      <td>0.000000</td>\n",
       "      <td>11.299353</td>\n",
       "      <td>4.877659</td>\n",
       "      <td>0.000000</td>\n",
       "      <td>0.600834</td>\n",
       "      <td>1.077997</td>\n",
       "      <td>0.000000</td>\n",
       "      <td>5.561157</td>\n",
       "      <td>...</td>\n",
       "      <td>0.000000</td>\n",
       "      <td>0.000000</td>\n",
       "      <td>2.037721</td>\n",
       "      <td>1.944396</td>\n",
       "      <td>2.811864</td>\n",
       "      <td>2.056705</td>\n",
       "      <td>3.756991</td>\n",
       "      <td>0.000000</td>\n",
       "      <td>2.593285</td>\n",
       "      <td>2.725087</td>\n",
       "    </tr>\n",
       "    <tr>\n",
       "      <th>TCGA-04-1357-01</th>\n",
       "      <td>10.446991</td>\n",
       "      <td>0.000000</td>\n",
       "      <td>3.679590</td>\n",
       "      <td>4.787125</td>\n",
       "      <td>3.953828</td>\n",
       "      <td>0.000000</td>\n",
       "      <td>4.719891</td>\n",
       "      <td>0.342051</td>\n",
       "      <td>0.000000</td>\n",
       "      <td>1.145270</td>\n",
       "      <td>...</td>\n",
       "      <td>0.000000</td>\n",
       "      <td>1.625586</td>\n",
       "      <td>0.945755</td>\n",
       "      <td>1.144910</td>\n",
       "      <td>2.721298</td>\n",
       "      <td>0.000000</td>\n",
       "      <td>2.247263</td>\n",
       "      <td>0.203830</td>\n",
       "      <td>2.196875</td>\n",
       "      <td>5.717946</td>\n",
       "    </tr>\n",
       "    <tr>\n",
       "      <th>TCGA-04-1362-01</th>\n",
       "      <td>6.264437</td>\n",
       "      <td>0.000000</td>\n",
       "      <td>3.266966</td>\n",
       "      <td>9.428288</td>\n",
       "      <td>2.964624</td>\n",
       "      <td>0.000000</td>\n",
       "      <td>8.870564</td>\n",
       "      <td>0.122624</td>\n",
       "      <td>0.000000</td>\n",
       "      <td>8.249760</td>\n",
       "      <td>...</td>\n",
       "      <td>0.000000</td>\n",
       "      <td>0.920643</td>\n",
       "      <td>3.531740</td>\n",
       "      <td>0.228579</td>\n",
       "      <td>0.000000</td>\n",
       "      <td>0.000000</td>\n",
       "      <td>0.000000</td>\n",
       "      <td>0.000000</td>\n",
       "      <td>2.208181</td>\n",
       "      <td>0.000000</td>\n",
       "    </tr>\n",
       "    <tr>\n",
       "      <th>TCGA-04-1364-01</th>\n",
       "      <td>1.309366</td>\n",
       "      <td>0.000000</td>\n",
       "      <td>6.546947</td>\n",
       "      <td>12.901201</td>\n",
       "      <td>5.210964</td>\n",
       "      <td>0.000000</td>\n",
       "      <td>5.118565</td>\n",
       "      <td>0.000000</td>\n",
       "      <td>0.000000</td>\n",
       "      <td>7.487358</td>\n",
       "      <td>...</td>\n",
       "      <td>0.925897</td>\n",
       "      <td>5.928947</td>\n",
       "      <td>0.000000</td>\n",
       "      <td>1.533315</td>\n",
       "      <td>0.628259</td>\n",
       "      <td>0.000000</td>\n",
       "      <td>1.022210</td>\n",
       "      <td>0.000000</td>\n",
       "      <td>1.538149</td>\n",
       "      <td>0.613819</td>\n",
       "    </tr>\n",
       "    <tr>\n",
       "      <th>TCGA-04-1365-01</th>\n",
       "      <td>9.138672</td>\n",
       "      <td>0.000000</td>\n",
       "      <td>4.113050</td>\n",
       "      <td>5.382115</td>\n",
       "      <td>5.607386</td>\n",
       "      <td>0.000000</td>\n",
       "      <td>5.371694</td>\n",
       "      <td>0.000000</td>\n",
       "      <td>0.000000</td>\n",
       "      <td>3.850462</td>\n",
       "      <td>...</td>\n",
       "      <td>0.000000</td>\n",
       "      <td>0.000000</td>\n",
       "      <td>1.325288</td>\n",
       "      <td>0.981080</td>\n",
       "      <td>2.593027</td>\n",
       "      <td>0.000000</td>\n",
       "      <td>2.698748</td>\n",
       "      <td>0.000000</td>\n",
       "      <td>0.572851</td>\n",
       "      <td>1.696230</td>\n",
       "    </tr>\n",
       "    <tr>\n",
       "      <th>TCGA-04-1514-01</th>\n",
       "      <td>0.273073</td>\n",
       "      <td>0.000000</td>\n",
       "      <td>8.168754</td>\n",
       "      <td>5.533468</td>\n",
       "      <td>5.832895</td>\n",
       "      <td>0.437419</td>\n",
       "      <td>0.929800</td>\n",
       "      <td>0.000000</td>\n",
       "      <td>0.090318</td>\n",
       "      <td>1.696213</td>\n",
       "      <td>...</td>\n",
       "      <td>0.749365</td>\n",
       "      <td>4.835080</td>\n",
       "      <td>1.172703</td>\n",
       "      <td>0.273623</td>\n",
       "      <td>0.000000</td>\n",
       "      <td>0.000000</td>\n",
       "      <td>0.000000</td>\n",
       "      <td>0.000000</td>\n",
       "      <td>0.000000</td>\n",
       "      <td>0.398683</td>\n",
       "    </tr>\n",
       "    <tr>\n",
       "      <th>TCGA-04-1519-01</th>\n",
       "      <td>7.053413</td>\n",
       "      <td>2.338977</td>\n",
       "      <td>6.887403</td>\n",
       "      <td>5.076767</td>\n",
       "      <td>7.838017</td>\n",
       "      <td>0.000000</td>\n",
       "      <td>0.000000</td>\n",
       "      <td>0.000000</td>\n",
       "      <td>0.000000</td>\n",
       "      <td>4.117678</td>\n",
       "      <td>...</td>\n",
       "      <td>0.150863</td>\n",
       "      <td>5.357714</td>\n",
       "      <td>2.022433</td>\n",
       "      <td>2.794686</td>\n",
       "      <td>0.000000</td>\n",
       "      <td>0.000000</td>\n",
       "      <td>0.000000</td>\n",
       "      <td>1.340027</td>\n",
       "      <td>0.538663</td>\n",
       "      <td>0.000000</td>\n",
       "    </tr>\n",
       "    <tr>\n",
       "      <th>TCGA-05-4244-01</th>\n",
       "      <td>0.000000</td>\n",
       "      <td>1.706711</td>\n",
       "      <td>5.743073</td>\n",
       "      <td>1.604305</td>\n",
       "      <td>0.000000</td>\n",
       "      <td>0.000000</td>\n",
       "      <td>7.734164</td>\n",
       "      <td>0.000000</td>\n",
       "      <td>0.000000</td>\n",
       "      <td>3.882220</td>\n",
       "      <td>...</td>\n",
       "      <td>0.925559</td>\n",
       "      <td>0.000000</td>\n",
       "      <td>2.861093</td>\n",
       "      <td>0.000000</td>\n",
       "      <td>0.000000</td>\n",
       "      <td>0.000000</td>\n",
       "      <td>1.796548</td>\n",
       "      <td>2.528676</td>\n",
       "      <td>1.418198</td>\n",
       "      <td>0.000000</td>\n",
       "    </tr>\n",
       "    <tr>\n",
       "      <th>TCGA-05-4249-01</th>\n",
       "      <td>0.000000</td>\n",
       "      <td>0.392294</td>\n",
       "      <td>5.223252</td>\n",
       "      <td>0.000000</td>\n",
       "      <td>0.000000</td>\n",
       "      <td>0.000000</td>\n",
       "      <td>6.615575</td>\n",
       "      <td>0.628181</td>\n",
       "      <td>0.404952</td>\n",
       "      <td>1.321260</td>\n",
       "      <td>...</td>\n",
       "      <td>0.000000</td>\n",
       "      <td>0.734857</td>\n",
       "      <td>3.782351</td>\n",
       "      <td>0.507869</td>\n",
       "      <td>1.173701</td>\n",
       "      <td>0.000000</td>\n",
       "      <td>1.453958</td>\n",
       "      <td>0.000000</td>\n",
       "      <td>0.000000</td>\n",
       "      <td>2.743086</td>\n",
       "    </tr>\n",
       "    <tr>\n",
       "      <th>TCGA-05-4250-01</th>\n",
       "      <td>0.000000</td>\n",
       "      <td>4.322825</td>\n",
       "      <td>4.263512</td>\n",
       "      <td>1.828456</td>\n",
       "      <td>0.000000</td>\n",
       "      <td>0.000000</td>\n",
       "      <td>8.594524</td>\n",
       "      <td>0.000000</td>\n",
       "      <td>0.000000</td>\n",
       "      <td>0.706703</td>\n",
       "      <td>...</td>\n",
       "      <td>0.507169</td>\n",
       "      <td>0.000000</td>\n",
       "      <td>3.353574</td>\n",
       "      <td>0.744111</td>\n",
       "      <td>0.149617</td>\n",
       "      <td>2.978336</td>\n",
       "      <td>1.673552</td>\n",
       "      <td>3.106479</td>\n",
       "      <td>1.959057</td>\n",
       "      <td>0.243011</td>\n",
       "    </tr>\n",
       "    <tr>\n",
       "      <th>TCGA-05-4382-01</th>\n",
       "      <td>0.000000</td>\n",
       "      <td>0.000000</td>\n",
       "      <td>2.162116</td>\n",
       "      <td>4.634048</td>\n",
       "      <td>0.000000</td>\n",
       "      <td>0.000000</td>\n",
       "      <td>1.769535</td>\n",
       "      <td>0.000000</td>\n",
       "      <td>0.000000</td>\n",
       "      <td>0.729540</td>\n",
       "      <td>...</td>\n",
       "      <td>0.000000</td>\n",
       "      <td>0.000000</td>\n",
       "      <td>2.164198</td>\n",
       "      <td>0.000000</td>\n",
       "      <td>0.668008</td>\n",
       "      <td>0.000000</td>\n",
       "      <td>3.836648</td>\n",
       "      <td>0.000000</td>\n",
       "      <td>0.000000</td>\n",
       "      <td>2.791367</td>\n",
       "    </tr>\n",
       "    <tr>\n",
       "      <th>TCGA-05-4384-01</th>\n",
       "      <td>0.000000</td>\n",
       "      <td>0.000000</td>\n",
       "      <td>1.920308</td>\n",
       "      <td>0.281007</td>\n",
       "      <td>0.334970</td>\n",
       "      <td>0.000000</td>\n",
       "      <td>2.591397</td>\n",
       "      <td>0.812721</td>\n",
       "      <td>0.000000</td>\n",
       "      <td>1.070778</td>\n",
       "      <td>...</td>\n",
       "      <td>0.000000</td>\n",
       "      <td>0.000000</td>\n",
       "      <td>1.900278</td>\n",
       "      <td>0.000000</td>\n",
       "      <td>0.000000</td>\n",
       "      <td>0.000000</td>\n",
       "      <td>0.504797</td>\n",
       "      <td>4.181495</td>\n",
       "      <td>2.247668</td>\n",
       "      <td>0.000000</td>\n",
       "    </tr>\n",
       "    <tr>\n",
       "      <th>TCGA-05-4389-01</th>\n",
       "      <td>2.534567</td>\n",
       "      <td>1.703959</td>\n",
       "      <td>0.000000</td>\n",
       "      <td>2.948741</td>\n",
       "      <td>4.627898</td>\n",
       "      <td>0.000000</td>\n",
       "      <td>0.430636</td>\n",
       "      <td>0.000000</td>\n",
       "      <td>0.000000</td>\n",
       "      <td>0.098811</td>\n",
       "      <td>...</td>\n",
       "      <td>0.000000</td>\n",
       "      <td>0.000000</td>\n",
       "      <td>0.996904</td>\n",
       "      <td>0.000000</td>\n",
       "      <td>0.000000</td>\n",
       "      <td>0.000000</td>\n",
       "      <td>6.631402</td>\n",
       "      <td>1.320255</td>\n",
       "      <td>5.717349</td>\n",
       "      <td>3.304893</td>\n",
       "    </tr>\n",
       "    <tr>\n",
       "      <th>TCGA-05-4390-01</th>\n",
       "      <td>0.000000</td>\n",
       "      <td>3.639451</td>\n",
       "      <td>0.000000</td>\n",
       "      <td>0.000000</td>\n",
       "      <td>0.000000</td>\n",
       "      <td>0.000000</td>\n",
       "      <td>0.492102</td>\n",
       "      <td>0.000000</td>\n",
       "      <td>0.129561</td>\n",
       "      <td>3.119848</td>\n",
       "      <td>...</td>\n",
       "      <td>1.269739</td>\n",
       "      <td>0.000000</td>\n",
       "      <td>0.648630</td>\n",
       "      <td>0.189714</td>\n",
       "      <td>5.382223</td>\n",
       "      <td>0.000000</td>\n",
       "      <td>5.106164</td>\n",
       "      <td>0.000000</td>\n",
       "      <td>0.000000</td>\n",
       "      <td>1.010985</td>\n",
       "    </tr>\n",
       "    <tr>\n",
       "      <th>TCGA-05-4395-01</th>\n",
       "      <td>0.607373</td>\n",
       "      <td>3.161509</td>\n",
       "      <td>3.356604</td>\n",
       "      <td>0.913359</td>\n",
       "      <td>0.000000</td>\n",
       "      <td>0.000000</td>\n",
       "      <td>10.010399</td>\n",
       "      <td>0.000000</td>\n",
       "      <td>0.000000</td>\n",
       "      <td>0.000000</td>\n",
       "      <td>...</td>\n",
       "      <td>0.000000</td>\n",
       "      <td>3.325366</td>\n",
       "      <td>2.702854</td>\n",
       "      <td>0.576612</td>\n",
       "      <td>0.000000</td>\n",
       "      <td>4.683077</td>\n",
       "      <td>3.817148</td>\n",
       "      <td>6.235162</td>\n",
       "      <td>1.570430</td>\n",
       "      <td>1.196614</td>\n",
       "    </tr>\n",
       "    <tr>\n",
       "      <th>TCGA-05-4396-01</th>\n",
       "      <td>0.000000</td>\n",
       "      <td>0.000000</td>\n",
       "      <td>3.819561</td>\n",
       "      <td>3.100300</td>\n",
       "      <td>0.000000</td>\n",
       "      <td>0.000000</td>\n",
       "      <td>4.229836</td>\n",
       "      <td>0.000000</td>\n",
       "      <td>2.246332</td>\n",
       "      <td>0.000000</td>\n",
       "      <td>...</td>\n",
       "      <td>0.000000</td>\n",
       "      <td>0.000000</td>\n",
       "      <td>3.019975</td>\n",
       "      <td>0.415891</td>\n",
       "      <td>0.000000</td>\n",
       "      <td>0.000000</td>\n",
       "      <td>4.019201</td>\n",
       "      <td>5.014350</td>\n",
       "      <td>1.138113</td>\n",
       "      <td>0.000000</td>\n",
       "    </tr>\n",
       "    <tr>\n",
       "      <th>TCGA-05-4397-01</th>\n",
       "      <td>0.000000</td>\n",
       "      <td>2.484906</td>\n",
       "      <td>0.000000</td>\n",
       "      <td>7.463194</td>\n",
       "      <td>2.068596</td>\n",
       "      <td>0.000000</td>\n",
       "      <td>1.499042</td>\n",
       "      <td>0.000000</td>\n",
       "      <td>0.000000</td>\n",
       "      <td>4.880605</td>\n",
       "      <td>...</td>\n",
       "      <td>3.534695</td>\n",
       "      <td>0.000000</td>\n",
       "      <td>3.254765</td>\n",
       "      <td>0.019984</td>\n",
       "      <td>3.863876</td>\n",
       "      <td>1.834692</td>\n",
       "      <td>7.381658</td>\n",
       "      <td>2.383822</td>\n",
       "      <td>0.000000</td>\n",
       "      <td>1.075710</td>\n",
       "    </tr>\n",
       "    <tr>\n",
       "      <th>TCGA-05-4398-01</th>\n",
       "      <td>0.000000</td>\n",
       "      <td>1.081069</td>\n",
       "      <td>3.512534</td>\n",
       "      <td>5.060085</td>\n",
       "      <td>1.127357</td>\n",
       "      <td>0.000000</td>\n",
       "      <td>6.021435</td>\n",
       "      <td>0.000000</td>\n",
       "      <td>0.000000</td>\n",
       "      <td>4.692455</td>\n",
       "      <td>...</td>\n",
       "      <td>1.556310</td>\n",
       "      <td>0.000000</td>\n",
       "      <td>0.000000</td>\n",
       "      <td>0.000000</td>\n",
       "      <td>0.740322</td>\n",
       "      <td>0.373416</td>\n",
       "      <td>2.338402</td>\n",
       "      <td>2.061171</td>\n",
       "      <td>0.579518</td>\n",
       "      <td>1.972582</td>\n",
       "    </tr>\n",
       "    <tr>\n",
       "      <th>TCGA-05-4402-01</th>\n",
       "      <td>0.359823</td>\n",
       "      <td>1.157294</td>\n",
       "      <td>5.694673</td>\n",
       "      <td>4.045421</td>\n",
       "      <td>2.471284</td>\n",
       "      <td>0.000000</td>\n",
       "      <td>8.411150</td>\n",
       "      <td>0.693562</td>\n",
       "      <td>0.040759</td>\n",
       "      <td>0.000000</td>\n",
       "      <td>...</td>\n",
       "      <td>0.000000</td>\n",
       "      <td>0.290708</td>\n",
       "      <td>2.165190</td>\n",
       "      <td>0.000000</td>\n",
       "      <td>2.077848</td>\n",
       "      <td>0.000000</td>\n",
       "      <td>4.472177</td>\n",
       "      <td>0.000000</td>\n",
       "      <td>0.000000</td>\n",
       "      <td>2.828960</td>\n",
       "    </tr>\n",
       "    <tr>\n",
       "      <th>TCGA-05-4403-01</th>\n",
       "      <td>1.321143</td>\n",
       "      <td>1.988560</td>\n",
       "      <td>4.808543</td>\n",
       "      <td>0.000000</td>\n",
       "      <td>0.170923</td>\n",
       "      <td>0.000000</td>\n",
       "      <td>5.110160</td>\n",
       "      <td>0.000000</td>\n",
       "      <td>6.439358</td>\n",
       "      <td>0.333164</td>\n",
       "      <td>...</td>\n",
       "      <td>1.051903</td>\n",
       "      <td>5.305030</td>\n",
       "      <td>9.763567</td>\n",
       "      <td>0.000000</td>\n",
       "      <td>0.000000</td>\n",
       "      <td>0.000000</td>\n",
       "      <td>0.000000</td>\n",
       "      <td>0.000000</td>\n",
       "      <td>0.000000</td>\n",
       "      <td>1.503792</td>\n",
       "    </tr>\n",
       "    <tr>\n",
       "      <th>TCGA-05-4405-01</th>\n",
       "      <td>0.000000</td>\n",
       "      <td>0.000000</td>\n",
       "      <td>3.071744</td>\n",
       "      <td>0.000000</td>\n",
       "      <td>1.072312</td>\n",
       "      <td>0.000000</td>\n",
       "      <td>6.430949</td>\n",
       "      <td>0.000000</td>\n",
       "      <td>0.000000</td>\n",
       "      <td>2.183869</td>\n",
       "      <td>...</td>\n",
       "      <td>0.000000</td>\n",
       "      <td>2.652796</td>\n",
       "      <td>0.816777</td>\n",
       "      <td>0.000000</td>\n",
       "      <td>0.316719</td>\n",
       "      <td>0.000000</td>\n",
       "      <td>0.000000</td>\n",
       "      <td>1.498061</td>\n",
       "      <td>0.000000</td>\n",
       "      <td>3.836282</td>\n",
       "    </tr>\n",
       "    <tr>\n",
       "      <th>TCGA-05-4410-01</th>\n",
       "      <td>0.077244</td>\n",
       "      <td>3.002791</td>\n",
       "      <td>8.066780</td>\n",
       "      <td>0.623925</td>\n",
       "      <td>0.808758</td>\n",
       "      <td>0.000000</td>\n",
       "      <td>9.042727</td>\n",
       "      <td>0.000000</td>\n",
       "      <td>0.109258</td>\n",
       "      <td>2.205265</td>\n",
       "      <td>...</td>\n",
       "      <td>0.000000</td>\n",
       "      <td>0.548349</td>\n",
       "      <td>2.524303</td>\n",
       "      <td>0.000000</td>\n",
       "      <td>2.193012</td>\n",
       "      <td>0.000000</td>\n",
       "      <td>1.226244</td>\n",
       "      <td>1.672374</td>\n",
       "      <td>0.189293</td>\n",
       "      <td>4.714071</td>\n",
       "    </tr>\n",
       "    <tr>\n",
       "      <th>TCGA-05-4415-01</th>\n",
       "      <td>0.272174</td>\n",
       "      <td>0.785432</td>\n",
       "      <td>0.000000</td>\n",
       "      <td>8.953465</td>\n",
       "      <td>0.000000</td>\n",
       "      <td>1.384913</td>\n",
       "      <td>3.113218</td>\n",
       "      <td>0.000000</td>\n",
       "      <td>0.000000</td>\n",
       "      <td>1.606221</td>\n",
       "      <td>...</td>\n",
       "      <td>0.000000</td>\n",
       "      <td>0.000000</td>\n",
       "      <td>0.468758</td>\n",
       "      <td>0.244852</td>\n",
       "      <td>0.391482</td>\n",
       "      <td>7.201294</td>\n",
       "      <td>4.310125</td>\n",
       "      <td>5.987548</td>\n",
       "      <td>0.000000</td>\n",
       "      <td>0.725149</td>\n",
       "    </tr>\n",
       "    <tr>\n",
       "      <th>TCGA-05-4417-01</th>\n",
       "      <td>0.000000</td>\n",
       "      <td>1.280845</td>\n",
       "      <td>0.703649</td>\n",
       "      <td>0.000000</td>\n",
       "      <td>0.134110</td>\n",
       "      <td>0.000000</td>\n",
       "      <td>2.433467</td>\n",
       "      <td>0.000000</td>\n",
       "      <td>0.230834</td>\n",
       "      <td>1.429629</td>\n",
       "      <td>...</td>\n",
       "      <td>0.196339</td>\n",
       "      <td>1.512889</td>\n",
       "      <td>0.000000</td>\n",
       "      <td>0.000000</td>\n",
       "      <td>1.566500</td>\n",
       "      <td>0.000000</td>\n",
       "      <td>4.959342</td>\n",
       "      <td>1.410953</td>\n",
       "      <td>0.000000</td>\n",
       "      <td>5.660284</td>\n",
       "    </tr>\n",
       "    <tr>\n",
       "      <th>TCGA-05-4418-01</th>\n",
       "      <td>0.222647</td>\n",
       "      <td>0.000000</td>\n",
       "      <td>3.255287</td>\n",
       "      <td>6.883235</td>\n",
       "      <td>0.000000</td>\n",
       "      <td>0.000000</td>\n",
       "      <td>5.317854</td>\n",
       "      <td>0.000000</td>\n",
       "      <td>0.555958</td>\n",
       "      <td>0.000000</td>\n",
       "      <td>...</td>\n",
       "      <td>0.000000</td>\n",
       "      <td>0.875298</td>\n",
       "      <td>0.000000</td>\n",
       "      <td>0.000000</td>\n",
       "      <td>0.000000</td>\n",
       "      <td>4.261874</td>\n",
       "      <td>3.890313</td>\n",
       "      <td>2.788171</td>\n",
       "      <td>2.648460</td>\n",
       "      <td>4.747449</td>\n",
       "    </tr>\n",
       "    <tr>\n",
       "      <th>...</th>\n",
       "      <td>...</td>\n",
       "      <td>...</td>\n",
       "      <td>...</td>\n",
       "      <td>...</td>\n",
       "      <td>...</td>\n",
       "      <td>...</td>\n",
       "      <td>...</td>\n",
       "      <td>...</td>\n",
       "      <td>...</td>\n",
       "      <td>...</td>\n",
       "      <td>...</td>\n",
       "      <td>...</td>\n",
       "      <td>...</td>\n",
       "      <td>...</td>\n",
       "      <td>...</td>\n",
       "      <td>...</td>\n",
       "      <td>...</td>\n",
       "      <td>...</td>\n",
       "      <td>...</td>\n",
       "      <td>...</td>\n",
       "      <td>...</td>\n",
       "    </tr>\n",
       "    <tr>\n",
       "      <th>TCGA-ZM-AA0D-01</th>\n",
       "      <td>0.000000</td>\n",
       "      <td>0.000000</td>\n",
       "      <td>3.317966</td>\n",
       "      <td>7.981904</td>\n",
       "      <td>0.000000</td>\n",
       "      <td>7.656538</td>\n",
       "      <td>0.000000</td>\n",
       "      <td>0.000000</td>\n",
       "      <td>0.000000</td>\n",
       "      <td>7.633091</td>\n",
       "      <td>...</td>\n",
       "      <td>0.000000</td>\n",
       "      <td>1.932410</td>\n",
       "      <td>0.000000</td>\n",
       "      <td>0.000000</td>\n",
       "      <td>0.000000</td>\n",
       "      <td>0.000000</td>\n",
       "      <td>0.000000</td>\n",
       "      <td>0.000000</td>\n",
       "      <td>0.000000</td>\n",
       "      <td>2.268495</td>\n",
       "    </tr>\n",
       "    <tr>\n",
       "      <th>TCGA-ZM-AA0E-01</th>\n",
       "      <td>0.000000</td>\n",
       "      <td>0.366718</td>\n",
       "      <td>3.145881</td>\n",
       "      <td>8.880476</td>\n",
       "      <td>0.092349</td>\n",
       "      <td>7.945900</td>\n",
       "      <td>0.000000</td>\n",
       "      <td>0.288673</td>\n",
       "      <td>0.000000</td>\n",
       "      <td>8.765511</td>\n",
       "      <td>...</td>\n",
       "      <td>0.000000</td>\n",
       "      <td>0.000000</td>\n",
       "      <td>0.000000</td>\n",
       "      <td>0.000000</td>\n",
       "      <td>0.000000</td>\n",
       "      <td>0.000000</td>\n",
       "      <td>0.344247</td>\n",
       "      <td>0.000000</td>\n",
       "      <td>0.000000</td>\n",
       "      <td>2.275422</td>\n",
       "    </tr>\n",
       "    <tr>\n",
       "      <th>TCGA-ZM-AA0F-01</th>\n",
       "      <td>0.000000</td>\n",
       "      <td>1.372739</td>\n",
       "      <td>3.370999</td>\n",
       "      <td>6.224362</td>\n",
       "      <td>1.031669</td>\n",
       "      <td>4.460914</td>\n",
       "      <td>0.000000</td>\n",
       "      <td>0.000000</td>\n",
       "      <td>0.975712</td>\n",
       "      <td>5.929732</td>\n",
       "      <td>...</td>\n",
       "      <td>0.000000</td>\n",
       "      <td>0.000000</td>\n",
       "      <td>2.231604</td>\n",
       "      <td>0.000000</td>\n",
       "      <td>0.000000</td>\n",
       "      <td>0.000000</td>\n",
       "      <td>0.013869</td>\n",
       "      <td>0.000000</td>\n",
       "      <td>2.215278</td>\n",
       "      <td>2.166649</td>\n",
       "    </tr>\n",
       "    <tr>\n",
       "      <th>TCGA-ZM-AA0H-01</th>\n",
       "      <td>0.000000</td>\n",
       "      <td>0.457910</td>\n",
       "      <td>2.161505</td>\n",
       "      <td>9.008099</td>\n",
       "      <td>0.000000</td>\n",
       "      <td>7.369266</td>\n",
       "      <td>0.000000</td>\n",
       "      <td>0.000000</td>\n",
       "      <td>0.000000</td>\n",
       "      <td>8.931051</td>\n",
       "      <td>...</td>\n",
       "      <td>0.000000</td>\n",
       "      <td>1.068180</td>\n",
       "      <td>0.000000</td>\n",
       "      <td>0.000000</td>\n",
       "      <td>0.000000</td>\n",
       "      <td>0.335034</td>\n",
       "      <td>0.266168</td>\n",
       "      <td>0.000000</td>\n",
       "      <td>0.000000</td>\n",
       "      <td>0.908310</td>\n",
       "    </tr>\n",
       "    <tr>\n",
       "      <th>TCGA-ZM-AA0N-01</th>\n",
       "      <td>0.000000</td>\n",
       "      <td>0.000000</td>\n",
       "      <td>0.000000</td>\n",
       "      <td>9.551252</td>\n",
       "      <td>0.000000</td>\n",
       "      <td>6.335448</td>\n",
       "      <td>0.000000</td>\n",
       "      <td>0.000000</td>\n",
       "      <td>0.000000</td>\n",
       "      <td>9.442610</td>\n",
       "      <td>...</td>\n",
       "      <td>0.000000</td>\n",
       "      <td>2.202724</td>\n",
       "      <td>0.000000</td>\n",
       "      <td>2.124557</td>\n",
       "      <td>0.000000</td>\n",
       "      <td>0.797662</td>\n",
       "      <td>0.000000</td>\n",
       "      <td>0.197800</td>\n",
       "      <td>0.000000</td>\n",
       "      <td>3.154910</td>\n",
       "    </tr>\n",
       "    <tr>\n",
       "      <th>TCGA-ZN-A9VO-01</th>\n",
       "      <td>16.692524</td>\n",
       "      <td>1.366387</td>\n",
       "      <td>2.058715</td>\n",
       "      <td>9.937916</td>\n",
       "      <td>0.000000</td>\n",
       "      <td>8.767450</td>\n",
       "      <td>0.000000</td>\n",
       "      <td>0.662488</td>\n",
       "      <td>0.000000</td>\n",
       "      <td>0.000000</td>\n",
       "      <td>...</td>\n",
       "      <td>7.275809</td>\n",
       "      <td>1.991217</td>\n",
       "      <td>1.581310</td>\n",
       "      <td>0.000000</td>\n",
       "      <td>0.000000</td>\n",
       "      <td>0.147992</td>\n",
       "      <td>0.735965</td>\n",
       "      <td>0.000000</td>\n",
       "      <td>0.000000</td>\n",
       "      <td>1.423745</td>\n",
       "    </tr>\n",
       "    <tr>\n",
       "      <th>TCGA-ZN-A9VP-01</th>\n",
       "      <td>11.419653</td>\n",
       "      <td>0.000000</td>\n",
       "      <td>4.231894</td>\n",
       "      <td>14.333473</td>\n",
       "      <td>0.000000</td>\n",
       "      <td>6.992570</td>\n",
       "      <td>0.000000</td>\n",
       "      <td>4.142748</td>\n",
       "      <td>0.000000</td>\n",
       "      <td>0.010107</td>\n",
       "      <td>...</td>\n",
       "      <td>5.937961</td>\n",
       "      <td>0.440504</td>\n",
       "      <td>1.254144</td>\n",
       "      <td>0.000000</td>\n",
       "      <td>0.328650</td>\n",
       "      <td>0.000000</td>\n",
       "      <td>2.369159</td>\n",
       "      <td>0.000000</td>\n",
       "      <td>0.151765</td>\n",
       "      <td>0.163890</td>\n",
       "    </tr>\n",
       "    <tr>\n",
       "      <th>TCGA-ZN-A9VQ-01</th>\n",
       "      <td>7.790944</td>\n",
       "      <td>0.000000</td>\n",
       "      <td>3.594635</td>\n",
       "      <td>4.000398</td>\n",
       "      <td>1.908850</td>\n",
       "      <td>7.287065</td>\n",
       "      <td>0.000000</td>\n",
       "      <td>0.000000</td>\n",
       "      <td>0.000000</td>\n",
       "      <td>0.000000</td>\n",
       "      <td>...</td>\n",
       "      <td>4.646451</td>\n",
       "      <td>5.386678</td>\n",
       "      <td>0.971134</td>\n",
       "      <td>0.000000</td>\n",
       "      <td>0.647148</td>\n",
       "      <td>1.741024</td>\n",
       "      <td>0.000000</td>\n",
       "      <td>0.000000</td>\n",
       "      <td>1.223643</td>\n",
       "      <td>0.193979</td>\n",
       "    </tr>\n",
       "    <tr>\n",
       "      <th>TCGA-ZN-A9VS-01</th>\n",
       "      <td>14.525809</td>\n",
       "      <td>4.326167</td>\n",
       "      <td>1.977855</td>\n",
       "      <td>10.680719</td>\n",
       "      <td>0.000000</td>\n",
       "      <td>8.420114</td>\n",
       "      <td>0.000000</td>\n",
       "      <td>3.122479</td>\n",
       "      <td>0.000000</td>\n",
       "      <td>0.000000</td>\n",
       "      <td>...</td>\n",
       "      <td>6.062137</td>\n",
       "      <td>4.770617</td>\n",
       "      <td>0.000000</td>\n",
       "      <td>0.000000</td>\n",
       "      <td>0.130852</td>\n",
       "      <td>0.000000</td>\n",
       "      <td>5.367262</td>\n",
       "      <td>1.074014</td>\n",
       "      <td>0.000000</td>\n",
       "      <td>0.000000</td>\n",
       "    </tr>\n",
       "    <tr>\n",
       "      <th>TCGA-ZN-A9VU-01</th>\n",
       "      <td>16.511171</td>\n",
       "      <td>2.849835</td>\n",
       "      <td>1.950462</td>\n",
       "      <td>10.987055</td>\n",
       "      <td>0.000000</td>\n",
       "      <td>10.288154</td>\n",
       "      <td>0.000000</td>\n",
       "      <td>3.729275</td>\n",
       "      <td>0.000000</td>\n",
       "      <td>0.000000</td>\n",
       "      <td>...</td>\n",
       "      <td>8.503181</td>\n",
       "      <td>0.000000</td>\n",
       "      <td>0.096061</td>\n",
       "      <td>0.000000</td>\n",
       "      <td>0.658648</td>\n",
       "      <td>0.000000</td>\n",
       "      <td>3.716380</td>\n",
       "      <td>0.521845</td>\n",
       "      <td>0.000000</td>\n",
       "      <td>2.817000</td>\n",
       "    </tr>\n",
       "    <tr>\n",
       "      <th>TCGA-ZN-A9VV-01</th>\n",
       "      <td>8.689014</td>\n",
       "      <td>0.000000</td>\n",
       "      <td>5.169278</td>\n",
       "      <td>4.199549</td>\n",
       "      <td>2.360674</td>\n",
       "      <td>8.572615</td>\n",
       "      <td>0.000000</td>\n",
       "      <td>1.783263</td>\n",
       "      <td>0.000000</td>\n",
       "      <td>0.000000</td>\n",
       "      <td>...</td>\n",
       "      <td>4.004006</td>\n",
       "      <td>9.940024</td>\n",
       "      <td>1.646763</td>\n",
       "      <td>0.000000</td>\n",
       "      <td>0.000000</td>\n",
       "      <td>0.690947</td>\n",
       "      <td>0.000000</td>\n",
       "      <td>0.000000</td>\n",
       "      <td>0.000000</td>\n",
       "      <td>0.000000</td>\n",
       "    </tr>\n",
       "    <tr>\n",
       "      <th>TCGA-ZN-A9VW-01</th>\n",
       "      <td>11.936728</td>\n",
       "      <td>3.598735</td>\n",
       "      <td>2.194932</td>\n",
       "      <td>3.686756</td>\n",
       "      <td>1.127783</td>\n",
       "      <td>7.433409</td>\n",
       "      <td>0.000000</td>\n",
       "      <td>0.000000</td>\n",
       "      <td>0.000000</td>\n",
       "      <td>0.115646</td>\n",
       "      <td>...</td>\n",
       "      <td>8.139503</td>\n",
       "      <td>1.543671</td>\n",
       "      <td>1.802557</td>\n",
       "      <td>1.920618</td>\n",
       "      <td>2.916175</td>\n",
       "      <td>4.246856</td>\n",
       "      <td>0.980272</td>\n",
       "      <td>0.221468</td>\n",
       "      <td>0.231221</td>\n",
       "      <td>0.079357</td>\n",
       "    </tr>\n",
       "    <tr>\n",
       "      <th>TCGA-ZP-A9CV-01</th>\n",
       "      <td>2.966894</td>\n",
       "      <td>6.114217</td>\n",
       "      <td>0.000000</td>\n",
       "      <td>0.165620</td>\n",
       "      <td>8.588746</td>\n",
       "      <td>0.000000</td>\n",
       "      <td>0.073708</td>\n",
       "      <td>2.026131</td>\n",
       "      <td>0.000000</td>\n",
       "      <td>0.484738</td>\n",
       "      <td>...</td>\n",
       "      <td>0.220632</td>\n",
       "      <td>2.336216</td>\n",
       "      <td>0.000000</td>\n",
       "      <td>7.890918</td>\n",
       "      <td>0.000000</td>\n",
       "      <td>0.000000</td>\n",
       "      <td>7.454953</td>\n",
       "      <td>8.702832</td>\n",
       "      <td>0.161938</td>\n",
       "      <td>4.239717</td>\n",
       "    </tr>\n",
       "    <tr>\n",
       "      <th>TCGA-ZP-A9CY-01</th>\n",
       "      <td>0.000000</td>\n",
       "      <td>6.237748</td>\n",
       "      <td>0.000000</td>\n",
       "      <td>2.023814</td>\n",
       "      <td>10.228837</td>\n",
       "      <td>0.267465</td>\n",
       "      <td>0.150059</td>\n",
       "      <td>4.553497</td>\n",
       "      <td>0.000000</td>\n",
       "      <td>0.000000</td>\n",
       "      <td>...</td>\n",
       "      <td>0.000000</td>\n",
       "      <td>1.252545</td>\n",
       "      <td>0.000000</td>\n",
       "      <td>8.289485</td>\n",
       "      <td>0.000000</td>\n",
       "      <td>0.000000</td>\n",
       "      <td>2.966254</td>\n",
       "      <td>8.010650</td>\n",
       "      <td>1.384410</td>\n",
       "      <td>2.941812</td>\n",
       "    </tr>\n",
       "    <tr>\n",
       "      <th>TCGA-ZP-A9CZ-01</th>\n",
       "      <td>1.688306</td>\n",
       "      <td>2.628261</td>\n",
       "      <td>0.069464</td>\n",
       "      <td>0.651556</td>\n",
       "      <td>5.195234</td>\n",
       "      <td>0.000000</td>\n",
       "      <td>0.000000</td>\n",
       "      <td>0.021169</td>\n",
       "      <td>0.000000</td>\n",
       "      <td>2.579160</td>\n",
       "      <td>...</td>\n",
       "      <td>0.000000</td>\n",
       "      <td>0.000000</td>\n",
       "      <td>0.000000</td>\n",
       "      <td>6.828187</td>\n",
       "      <td>0.000000</td>\n",
       "      <td>0.000000</td>\n",
       "      <td>8.194950</td>\n",
       "      <td>6.125482</td>\n",
       "      <td>1.281819</td>\n",
       "      <td>5.743112</td>\n",
       "    </tr>\n",
       "    <tr>\n",
       "      <th>TCGA-ZP-A9D0-01</th>\n",
       "      <td>2.930444</td>\n",
       "      <td>3.210879</td>\n",
       "      <td>0.000000</td>\n",
       "      <td>0.000000</td>\n",
       "      <td>5.238446</td>\n",
       "      <td>0.317142</td>\n",
       "      <td>0.000000</td>\n",
       "      <td>1.379299</td>\n",
       "      <td>0.000000</td>\n",
       "      <td>2.054239</td>\n",
       "      <td>...</td>\n",
       "      <td>1.545915</td>\n",
       "      <td>2.004683</td>\n",
       "      <td>0.000000</td>\n",
       "      <td>9.243670</td>\n",
       "      <td>0.000000</td>\n",
       "      <td>0.000000</td>\n",
       "      <td>2.011661</td>\n",
       "      <td>8.275295</td>\n",
       "      <td>0.000000</td>\n",
       "      <td>1.303995</td>\n",
       "    </tr>\n",
       "    <tr>\n",
       "      <th>TCGA-ZP-A9D1-01</th>\n",
       "      <td>0.094122</td>\n",
       "      <td>1.440397</td>\n",
       "      <td>0.000000</td>\n",
       "      <td>0.922816</td>\n",
       "      <td>8.655321</td>\n",
       "      <td>0.000000</td>\n",
       "      <td>0.000000</td>\n",
       "      <td>0.000000</td>\n",
       "      <td>0.000000</td>\n",
       "      <td>0.000000</td>\n",
       "      <td>...</td>\n",
       "      <td>0.000000</td>\n",
       "      <td>1.906491</td>\n",
       "      <td>0.000000</td>\n",
       "      <td>7.125906</td>\n",
       "      <td>0.000000</td>\n",
       "      <td>0.000000</td>\n",
       "      <td>6.730865</td>\n",
       "      <td>5.709696</td>\n",
       "      <td>1.091168</td>\n",
       "      <td>3.264966</td>\n",
       "    </tr>\n",
       "    <tr>\n",
       "      <th>TCGA-ZP-A9D2-01</th>\n",
       "      <td>0.000000</td>\n",
       "      <td>2.281408</td>\n",
       "      <td>1.768257</td>\n",
       "      <td>5.005745</td>\n",
       "      <td>4.379522</td>\n",
       "      <td>0.000000</td>\n",
       "      <td>0.000000</td>\n",
       "      <td>2.958269</td>\n",
       "      <td>0.000000</td>\n",
       "      <td>0.000000</td>\n",
       "      <td>...</td>\n",
       "      <td>1.098122</td>\n",
       "      <td>0.000000</td>\n",
       "      <td>0.000000</td>\n",
       "      <td>5.981859</td>\n",
       "      <td>0.000000</td>\n",
       "      <td>0.000000</td>\n",
       "      <td>5.881568</td>\n",
       "      <td>2.827515</td>\n",
       "      <td>1.425975</td>\n",
       "      <td>4.449875</td>\n",
       "    </tr>\n",
       "    <tr>\n",
       "      <th>TCGA-ZP-A9D4-01</th>\n",
       "      <td>3.927286</td>\n",
       "      <td>9.141883</td>\n",
       "      <td>0.000000</td>\n",
       "      <td>0.000000</td>\n",
       "      <td>13.609467</td>\n",
       "      <td>0.000000</td>\n",
       "      <td>0.050591</td>\n",
       "      <td>3.586157</td>\n",
       "      <td>0.000000</td>\n",
       "      <td>1.083228</td>\n",
       "      <td>...</td>\n",
       "      <td>1.255027</td>\n",
       "      <td>0.657478</td>\n",
       "      <td>0.000000</td>\n",
       "      <td>7.337987</td>\n",
       "      <td>0.000000</td>\n",
       "      <td>0.971124</td>\n",
       "      <td>8.284821</td>\n",
       "      <td>13.703087</td>\n",
       "      <td>0.000000</td>\n",
       "      <td>0.470024</td>\n",
       "    </tr>\n",
       "    <tr>\n",
       "      <th>TCGA-ZQ-A9CR-01</th>\n",
       "      <td>0.000000</td>\n",
       "      <td>3.502685</td>\n",
       "      <td>1.190242</td>\n",
       "      <td>6.968297</td>\n",
       "      <td>0.082568</td>\n",
       "      <td>0.000000</td>\n",
       "      <td>0.000000</td>\n",
       "      <td>0.000000</td>\n",
       "      <td>4.707370</td>\n",
       "      <td>0.000000</td>\n",
       "      <td>...</td>\n",
       "      <td>2.645981</td>\n",
       "      <td>1.410467</td>\n",
       "      <td>0.264959</td>\n",
       "      <td>0.000000</td>\n",
       "      <td>0.898383</td>\n",
       "      <td>1.780452</td>\n",
       "      <td>4.051572</td>\n",
       "      <td>0.910249</td>\n",
       "      <td>0.000000</td>\n",
       "      <td>4.209230</td>\n",
       "    </tr>\n",
       "    <tr>\n",
       "      <th>TCGA-ZR-A9CJ-01</th>\n",
       "      <td>0.000000</td>\n",
       "      <td>2.931750</td>\n",
       "      <td>8.063838</td>\n",
       "      <td>10.039577</td>\n",
       "      <td>0.000000</td>\n",
       "      <td>0.000000</td>\n",
       "      <td>4.608119</td>\n",
       "      <td>0.491891</td>\n",
       "      <td>3.615077</td>\n",
       "      <td>0.553362</td>\n",
       "      <td>...</td>\n",
       "      <td>2.153117</td>\n",
       "      <td>0.383617</td>\n",
       "      <td>0.000000</td>\n",
       "      <td>0.000000</td>\n",
       "      <td>0.000000</td>\n",
       "      <td>1.917272</td>\n",
       "      <td>0.976537</td>\n",
       "      <td>0.000000</td>\n",
       "      <td>0.138395</td>\n",
       "      <td>1.024740</td>\n",
       "    </tr>\n",
       "    <tr>\n",
       "      <th>TCGA-ZS-A9CD-01</th>\n",
       "      <td>0.000000</td>\n",
       "      <td>7.181177</td>\n",
       "      <td>0.000000</td>\n",
       "      <td>0.454075</td>\n",
       "      <td>9.056917</td>\n",
       "      <td>0.803153</td>\n",
       "      <td>0.151371</td>\n",
       "      <td>1.018139</td>\n",
       "      <td>0.000000</td>\n",
       "      <td>1.182990</td>\n",
       "      <td>...</td>\n",
       "      <td>0.000000</td>\n",
       "      <td>5.284348</td>\n",
       "      <td>0.000000</td>\n",
       "      <td>7.853269</td>\n",
       "      <td>0.000000</td>\n",
       "      <td>0.000000</td>\n",
       "      <td>6.083357</td>\n",
       "      <td>7.808121</td>\n",
       "      <td>0.000000</td>\n",
       "      <td>2.871173</td>\n",
       "    </tr>\n",
       "    <tr>\n",
       "      <th>TCGA-ZS-A9CE-01</th>\n",
       "      <td>0.355224</td>\n",
       "      <td>4.231478</td>\n",
       "      <td>0.000000</td>\n",
       "      <td>3.052962</td>\n",
       "      <td>10.943949</td>\n",
       "      <td>0.000000</td>\n",
       "      <td>0.688216</td>\n",
       "      <td>3.662294</td>\n",
       "      <td>0.000000</td>\n",
       "      <td>0.000000</td>\n",
       "      <td>...</td>\n",
       "      <td>0.953922</td>\n",
       "      <td>3.685321</td>\n",
       "      <td>0.000000</td>\n",
       "      <td>8.126375</td>\n",
       "      <td>0.000000</td>\n",
       "      <td>0.981736</td>\n",
       "      <td>5.306907</td>\n",
       "      <td>8.600266</td>\n",
       "      <td>0.000000</td>\n",
       "      <td>0.000000</td>\n",
       "    </tr>\n",
       "    <tr>\n",
       "      <th>TCGA-ZS-A9CF-01</th>\n",
       "      <td>0.000000</td>\n",
       "      <td>0.000000</td>\n",
       "      <td>0.000000</td>\n",
       "      <td>2.614091</td>\n",
       "      <td>6.960594</td>\n",
       "      <td>0.000000</td>\n",
       "      <td>0.516041</td>\n",
       "      <td>1.621462</td>\n",
       "      <td>0.000000</td>\n",
       "      <td>0.000000</td>\n",
       "      <td>...</td>\n",
       "      <td>0.000000</td>\n",
       "      <td>0.439237</td>\n",
       "      <td>0.347477</td>\n",
       "      <td>7.148749</td>\n",
       "      <td>0.000000</td>\n",
       "      <td>0.000000</td>\n",
       "      <td>7.979801</td>\n",
       "      <td>7.575823</td>\n",
       "      <td>0.000000</td>\n",
       "      <td>0.000000</td>\n",
       "    </tr>\n",
       "    <tr>\n",
       "      <th>TCGA-ZS-A9CF-02</th>\n",
       "      <td>0.000000</td>\n",
       "      <td>0.000000</td>\n",
       "      <td>0.000000</td>\n",
       "      <td>4.214049</td>\n",
       "      <td>7.320630</td>\n",
       "      <td>0.000000</td>\n",
       "      <td>0.118030</td>\n",
       "      <td>1.184905</td>\n",
       "      <td>0.000000</td>\n",
       "      <td>0.000000</td>\n",
       "      <td>...</td>\n",
       "      <td>0.000000</td>\n",
       "      <td>0.000000</td>\n",
       "      <td>0.000000</td>\n",
       "      <td>7.041233</td>\n",
       "      <td>0.481288</td>\n",
       "      <td>0.468444</td>\n",
       "      <td>10.182021</td>\n",
       "      <td>7.029899</td>\n",
       "      <td>0.305888</td>\n",
       "      <td>0.267319</td>\n",
       "    </tr>\n",
       "    <tr>\n",
       "      <th>TCGA-ZS-A9CG-01</th>\n",
       "      <td>2.927251</td>\n",
       "      <td>10.329461</td>\n",
       "      <td>0.074420</td>\n",
       "      <td>0.000000</td>\n",
       "      <td>9.518599</td>\n",
       "      <td>0.000000</td>\n",
       "      <td>0.000000</td>\n",
       "      <td>4.661518</td>\n",
       "      <td>0.000000</td>\n",
       "      <td>0.000000</td>\n",
       "      <td>...</td>\n",
       "      <td>0.000000</td>\n",
       "      <td>3.070833</td>\n",
       "      <td>0.000000</td>\n",
       "      <td>3.571759</td>\n",
       "      <td>0.000000</td>\n",
       "      <td>0.090374</td>\n",
       "      <td>7.005232</td>\n",
       "      <td>12.624408</td>\n",
       "      <td>0.000000</td>\n",
       "      <td>0.986497</td>\n",
       "    </tr>\n",
       "    <tr>\n",
       "      <th>TCGA-ZT-A8OM-01</th>\n",
       "      <td>4.767980</td>\n",
       "      <td>0.000000</td>\n",
       "      <td>11.347239</td>\n",
       "      <td>0.152115</td>\n",
       "      <td>0.317834</td>\n",
       "      <td>0.000000</td>\n",
       "      <td>1.553414</td>\n",
       "      <td>0.093648</td>\n",
       "      <td>0.000000</td>\n",
       "      <td>2.714610</td>\n",
       "      <td>...</td>\n",
       "      <td>0.000000</td>\n",
       "      <td>11.396495</td>\n",
       "      <td>1.216359</td>\n",
       "      <td>0.469819</td>\n",
       "      <td>0.639278</td>\n",
       "      <td>0.000000</td>\n",
       "      <td>0.000000</td>\n",
       "      <td>0.000000</td>\n",
       "      <td>0.099770</td>\n",
       "      <td>0.000000</td>\n",
       "    </tr>\n",
       "    <tr>\n",
       "      <th>TCGA-ZU-A8S4-01</th>\n",
       "      <td>0.863333</td>\n",
       "      <td>4.838243</td>\n",
       "      <td>3.669718</td>\n",
       "      <td>0.431749</td>\n",
       "      <td>0.000000</td>\n",
       "      <td>0.000000</td>\n",
       "      <td>1.310987</td>\n",
       "      <td>1.531269</td>\n",
       "      <td>0.000000</td>\n",
       "      <td>0.000000</td>\n",
       "      <td>...</td>\n",
       "      <td>1.618126</td>\n",
       "      <td>0.000000</td>\n",
       "      <td>4.871345</td>\n",
       "      <td>3.376896</td>\n",
       "      <td>0.871698</td>\n",
       "      <td>1.823785</td>\n",
       "      <td>2.227920</td>\n",
       "      <td>0.000000</td>\n",
       "      <td>2.687222</td>\n",
       "      <td>0.460702</td>\n",
       "    </tr>\n",
       "    <tr>\n",
       "      <th>TCGA-ZU-A8S4-11</th>\n",
       "      <td>0.000000</td>\n",
       "      <td>12.127275</td>\n",
       "      <td>0.000000</td>\n",
       "      <td>0.000000</td>\n",
       "      <td>4.356444</td>\n",
       "      <td>0.000000</td>\n",
       "      <td>0.000000</td>\n",
       "      <td>11.188082</td>\n",
       "      <td>0.000000</td>\n",
       "      <td>0.000000</td>\n",
       "      <td>...</td>\n",
       "      <td>0.000000</td>\n",
       "      <td>0.000000</td>\n",
       "      <td>0.000000</td>\n",
       "      <td>8.865412</td>\n",
       "      <td>0.000000</td>\n",
       "      <td>0.000000</td>\n",
       "      <td>0.000000</td>\n",
       "      <td>10.046116</td>\n",
       "      <td>1.552294</td>\n",
       "      <td>2.655847</td>\n",
       "    </tr>\n",
       "    <tr>\n",
       "      <th>TCGA-ZX-AA5X-01</th>\n",
       "      <td>1.643184</td>\n",
       "      <td>0.000000</td>\n",
       "      <td>2.568113</td>\n",
       "      <td>3.913826</td>\n",
       "      <td>5.392079</td>\n",
       "      <td>0.000000</td>\n",
       "      <td>5.175526</td>\n",
       "      <td>0.269233</td>\n",
       "      <td>3.486740</td>\n",
       "      <td>7.858201</td>\n",
       "      <td>...</td>\n",
       "      <td>1.609080</td>\n",
       "      <td>2.414455</td>\n",
       "      <td>1.576494</td>\n",
       "      <td>1.083160</td>\n",
       "      <td>0.000000</td>\n",
       "      <td>0.000000</td>\n",
       "      <td>0.000000</td>\n",
       "      <td>0.000000</td>\n",
       "      <td>3.011486</td>\n",
       "      <td>6.123897</td>\n",
       "    </tr>\n",
       "  </tbody>\n",
       "</table>\n",
       "<p>10459 rows × 100 columns</p>\n",
       "</div>"
      ],
      "text/plain": [
       "                        0          1          2          3          4   \\\n",
       "TCGA-02-0047-01   0.000000   1.816092   4.044361   0.145077   0.000000   \n",
       "TCGA-02-0055-01   0.000000   5.942916   0.364176   0.000000   0.000000   \n",
       "TCGA-02-2483-01   0.000000   0.000000   0.124724   0.000000   0.000000   \n",
       "TCGA-02-2485-01   0.481582   4.552354   3.809557   0.000000   2.508537   \n",
       "TCGA-02-2486-01   2.578734   9.853311   9.354247   1.361312   0.512573   \n",
       "TCGA-04-1348-01   7.672048   0.213313   0.000000  11.299353   4.877659   \n",
       "TCGA-04-1357-01  10.446991   0.000000   3.679590   4.787125   3.953828   \n",
       "TCGA-04-1362-01   6.264437   0.000000   3.266966   9.428288   2.964624   \n",
       "TCGA-04-1364-01   1.309366   0.000000   6.546947  12.901201   5.210964   \n",
       "TCGA-04-1365-01   9.138672   0.000000   4.113050   5.382115   5.607386   \n",
       "TCGA-04-1514-01   0.273073   0.000000   8.168754   5.533468   5.832895   \n",
       "TCGA-04-1519-01   7.053413   2.338977   6.887403   5.076767   7.838017   \n",
       "TCGA-05-4244-01   0.000000   1.706711   5.743073   1.604305   0.000000   \n",
       "TCGA-05-4249-01   0.000000   0.392294   5.223252   0.000000   0.000000   \n",
       "TCGA-05-4250-01   0.000000   4.322825   4.263512   1.828456   0.000000   \n",
       "TCGA-05-4382-01   0.000000   0.000000   2.162116   4.634048   0.000000   \n",
       "TCGA-05-4384-01   0.000000   0.000000   1.920308   0.281007   0.334970   \n",
       "TCGA-05-4389-01   2.534567   1.703959   0.000000   2.948741   4.627898   \n",
       "TCGA-05-4390-01   0.000000   3.639451   0.000000   0.000000   0.000000   \n",
       "TCGA-05-4395-01   0.607373   3.161509   3.356604   0.913359   0.000000   \n",
       "TCGA-05-4396-01   0.000000   0.000000   3.819561   3.100300   0.000000   \n",
       "TCGA-05-4397-01   0.000000   2.484906   0.000000   7.463194   2.068596   \n",
       "TCGA-05-4398-01   0.000000   1.081069   3.512534   5.060085   1.127357   \n",
       "TCGA-05-4402-01   0.359823   1.157294   5.694673   4.045421   2.471284   \n",
       "TCGA-05-4403-01   1.321143   1.988560   4.808543   0.000000   0.170923   \n",
       "TCGA-05-4405-01   0.000000   0.000000   3.071744   0.000000   1.072312   \n",
       "TCGA-05-4410-01   0.077244   3.002791   8.066780   0.623925   0.808758   \n",
       "TCGA-05-4415-01   0.272174   0.785432   0.000000   8.953465   0.000000   \n",
       "TCGA-05-4417-01   0.000000   1.280845   0.703649   0.000000   0.134110   \n",
       "TCGA-05-4418-01   0.222647   0.000000   3.255287   6.883235   0.000000   \n",
       "...                    ...        ...        ...        ...        ...   \n",
       "TCGA-ZM-AA0D-01   0.000000   0.000000   3.317966   7.981904   0.000000   \n",
       "TCGA-ZM-AA0E-01   0.000000   0.366718   3.145881   8.880476   0.092349   \n",
       "TCGA-ZM-AA0F-01   0.000000   1.372739   3.370999   6.224362   1.031669   \n",
       "TCGA-ZM-AA0H-01   0.000000   0.457910   2.161505   9.008099   0.000000   \n",
       "TCGA-ZM-AA0N-01   0.000000   0.000000   0.000000   9.551252   0.000000   \n",
       "TCGA-ZN-A9VO-01  16.692524   1.366387   2.058715   9.937916   0.000000   \n",
       "TCGA-ZN-A9VP-01  11.419653   0.000000   4.231894  14.333473   0.000000   \n",
       "TCGA-ZN-A9VQ-01   7.790944   0.000000   3.594635   4.000398   1.908850   \n",
       "TCGA-ZN-A9VS-01  14.525809   4.326167   1.977855  10.680719   0.000000   \n",
       "TCGA-ZN-A9VU-01  16.511171   2.849835   1.950462  10.987055   0.000000   \n",
       "TCGA-ZN-A9VV-01   8.689014   0.000000   5.169278   4.199549   2.360674   \n",
       "TCGA-ZN-A9VW-01  11.936728   3.598735   2.194932   3.686756   1.127783   \n",
       "TCGA-ZP-A9CV-01   2.966894   6.114217   0.000000   0.165620   8.588746   \n",
       "TCGA-ZP-A9CY-01   0.000000   6.237748   0.000000   2.023814  10.228837   \n",
       "TCGA-ZP-A9CZ-01   1.688306   2.628261   0.069464   0.651556   5.195234   \n",
       "TCGA-ZP-A9D0-01   2.930444   3.210879   0.000000   0.000000   5.238446   \n",
       "TCGA-ZP-A9D1-01   0.094122   1.440397   0.000000   0.922816   8.655321   \n",
       "TCGA-ZP-A9D2-01   0.000000   2.281408   1.768257   5.005745   4.379522   \n",
       "TCGA-ZP-A9D4-01   3.927286   9.141883   0.000000   0.000000  13.609467   \n",
       "TCGA-ZQ-A9CR-01   0.000000   3.502685   1.190242   6.968297   0.082568   \n",
       "TCGA-ZR-A9CJ-01   0.000000   2.931750   8.063838  10.039577   0.000000   \n",
       "TCGA-ZS-A9CD-01   0.000000   7.181177   0.000000   0.454075   9.056917   \n",
       "TCGA-ZS-A9CE-01   0.355224   4.231478   0.000000   3.052962  10.943949   \n",
       "TCGA-ZS-A9CF-01   0.000000   0.000000   0.000000   2.614091   6.960594   \n",
       "TCGA-ZS-A9CF-02   0.000000   0.000000   0.000000   4.214049   7.320630   \n",
       "TCGA-ZS-A9CG-01   2.927251  10.329461   0.074420   0.000000   9.518599   \n",
       "TCGA-ZT-A8OM-01   4.767980   0.000000  11.347239   0.152115   0.317834   \n",
       "TCGA-ZU-A8S4-01   0.863333   4.838243   3.669718   0.431749   0.000000   \n",
       "TCGA-ZU-A8S4-11   0.000000  12.127275   0.000000   0.000000   4.356444   \n",
       "TCGA-ZX-AA5X-01   1.643184   0.000000   2.568113   3.913826   5.392079   \n",
       "\n",
       "                        5          6          7         8         9   \\\n",
       "TCGA-02-0047-01   6.106706   0.080684   0.000000  0.000000  0.000000   \n",
       "TCGA-02-0055-01   5.537058   0.000000   0.000000  0.000000  0.080813   \n",
       "TCGA-02-2483-01   5.077076   0.000000   0.000000  0.000000  0.585016   \n",
       "TCGA-02-2485-01   6.186780   0.000000   0.000000  0.000000  0.000000   \n",
       "TCGA-02-2486-01   5.838670   1.889889   0.000000  0.000000  0.000000   \n",
       "TCGA-04-1348-01   0.000000   0.600834   1.077997  0.000000  5.561157   \n",
       "TCGA-04-1357-01   0.000000   4.719891   0.342051  0.000000  1.145270   \n",
       "TCGA-04-1362-01   0.000000   8.870564   0.122624  0.000000  8.249760   \n",
       "TCGA-04-1364-01   0.000000   5.118565   0.000000  0.000000  7.487358   \n",
       "TCGA-04-1365-01   0.000000   5.371694   0.000000  0.000000  3.850462   \n",
       "TCGA-04-1514-01   0.437419   0.929800   0.000000  0.090318  1.696213   \n",
       "TCGA-04-1519-01   0.000000   0.000000   0.000000  0.000000  4.117678   \n",
       "TCGA-05-4244-01   0.000000   7.734164   0.000000  0.000000  3.882220   \n",
       "TCGA-05-4249-01   0.000000   6.615575   0.628181  0.404952  1.321260   \n",
       "TCGA-05-4250-01   0.000000   8.594524   0.000000  0.000000  0.706703   \n",
       "TCGA-05-4382-01   0.000000   1.769535   0.000000  0.000000  0.729540   \n",
       "TCGA-05-4384-01   0.000000   2.591397   0.812721  0.000000  1.070778   \n",
       "TCGA-05-4389-01   0.000000   0.430636   0.000000  0.000000  0.098811   \n",
       "TCGA-05-4390-01   0.000000   0.492102   0.000000  0.129561  3.119848   \n",
       "TCGA-05-4395-01   0.000000  10.010399   0.000000  0.000000  0.000000   \n",
       "TCGA-05-4396-01   0.000000   4.229836   0.000000  2.246332  0.000000   \n",
       "TCGA-05-4397-01   0.000000   1.499042   0.000000  0.000000  4.880605   \n",
       "TCGA-05-4398-01   0.000000   6.021435   0.000000  0.000000  4.692455   \n",
       "TCGA-05-4402-01   0.000000   8.411150   0.693562  0.040759  0.000000   \n",
       "TCGA-05-4403-01   0.000000   5.110160   0.000000  6.439358  0.333164   \n",
       "TCGA-05-4405-01   0.000000   6.430949   0.000000  0.000000  2.183869   \n",
       "TCGA-05-4410-01   0.000000   9.042727   0.000000  0.109258  2.205265   \n",
       "TCGA-05-4415-01   1.384913   3.113218   0.000000  0.000000  1.606221   \n",
       "TCGA-05-4417-01   0.000000   2.433467   0.000000  0.230834  1.429629   \n",
       "TCGA-05-4418-01   0.000000   5.317854   0.000000  0.555958  0.000000   \n",
       "...                    ...        ...        ...       ...       ...   \n",
       "TCGA-ZM-AA0D-01   7.656538   0.000000   0.000000  0.000000  7.633091   \n",
       "TCGA-ZM-AA0E-01   7.945900   0.000000   0.288673  0.000000  8.765511   \n",
       "TCGA-ZM-AA0F-01   4.460914   0.000000   0.000000  0.975712  5.929732   \n",
       "TCGA-ZM-AA0H-01   7.369266   0.000000   0.000000  0.000000  8.931051   \n",
       "TCGA-ZM-AA0N-01   6.335448   0.000000   0.000000  0.000000  9.442610   \n",
       "TCGA-ZN-A9VO-01   8.767450   0.000000   0.662488  0.000000  0.000000   \n",
       "TCGA-ZN-A9VP-01   6.992570   0.000000   4.142748  0.000000  0.010107   \n",
       "TCGA-ZN-A9VQ-01   7.287065   0.000000   0.000000  0.000000  0.000000   \n",
       "TCGA-ZN-A9VS-01   8.420114   0.000000   3.122479  0.000000  0.000000   \n",
       "TCGA-ZN-A9VU-01  10.288154   0.000000   3.729275  0.000000  0.000000   \n",
       "TCGA-ZN-A9VV-01   8.572615   0.000000   1.783263  0.000000  0.000000   \n",
       "TCGA-ZN-A9VW-01   7.433409   0.000000   0.000000  0.000000  0.115646   \n",
       "TCGA-ZP-A9CV-01   0.000000   0.073708   2.026131  0.000000  0.484738   \n",
       "TCGA-ZP-A9CY-01   0.267465   0.150059   4.553497  0.000000  0.000000   \n",
       "TCGA-ZP-A9CZ-01   0.000000   0.000000   0.021169  0.000000  2.579160   \n",
       "TCGA-ZP-A9D0-01   0.317142   0.000000   1.379299  0.000000  2.054239   \n",
       "TCGA-ZP-A9D1-01   0.000000   0.000000   0.000000  0.000000  0.000000   \n",
       "TCGA-ZP-A9D2-01   0.000000   0.000000   2.958269  0.000000  0.000000   \n",
       "TCGA-ZP-A9D4-01   0.000000   0.050591   3.586157  0.000000  1.083228   \n",
       "TCGA-ZQ-A9CR-01   0.000000   0.000000   0.000000  4.707370  0.000000   \n",
       "TCGA-ZR-A9CJ-01   0.000000   4.608119   0.491891  3.615077  0.553362   \n",
       "TCGA-ZS-A9CD-01   0.803153   0.151371   1.018139  0.000000  1.182990   \n",
       "TCGA-ZS-A9CE-01   0.000000   0.688216   3.662294  0.000000  0.000000   \n",
       "TCGA-ZS-A9CF-01   0.000000   0.516041   1.621462  0.000000  0.000000   \n",
       "TCGA-ZS-A9CF-02   0.000000   0.118030   1.184905  0.000000  0.000000   \n",
       "TCGA-ZS-A9CG-01   0.000000   0.000000   4.661518  0.000000  0.000000   \n",
       "TCGA-ZT-A8OM-01   0.000000   1.553414   0.093648  0.000000  2.714610   \n",
       "TCGA-ZU-A8S4-01   0.000000   1.310987   1.531269  0.000000  0.000000   \n",
       "TCGA-ZU-A8S4-11   0.000000   0.000000  11.188082  0.000000  0.000000   \n",
       "TCGA-ZX-AA5X-01   0.000000   5.175526   0.269233  3.486740  7.858201   \n",
       "\n",
       "                   ...           90         91        92        93        94  \\\n",
       "TCGA-02-0047-01    ...     0.000000   0.180914  0.000000  0.133210  0.000000   \n",
       "TCGA-02-0055-01    ...     0.000000   0.000000  0.000000  0.000000  0.000000   \n",
       "TCGA-02-2483-01    ...     0.000000   4.789838  0.000000  6.597468  0.000000   \n",
       "TCGA-02-2485-01    ...     0.000000   0.677514  0.255064  0.049965  0.000000   \n",
       "TCGA-02-2486-01    ...     0.432554   1.049209  0.000000  0.000000  0.090571   \n",
       "TCGA-04-1348-01    ...     0.000000   0.000000  2.037721  1.944396  2.811864   \n",
       "TCGA-04-1357-01    ...     0.000000   1.625586  0.945755  1.144910  2.721298   \n",
       "TCGA-04-1362-01    ...     0.000000   0.920643  3.531740  0.228579  0.000000   \n",
       "TCGA-04-1364-01    ...     0.925897   5.928947  0.000000  1.533315  0.628259   \n",
       "TCGA-04-1365-01    ...     0.000000   0.000000  1.325288  0.981080  2.593027   \n",
       "TCGA-04-1514-01    ...     0.749365   4.835080  1.172703  0.273623  0.000000   \n",
       "TCGA-04-1519-01    ...     0.150863   5.357714  2.022433  2.794686  0.000000   \n",
       "TCGA-05-4244-01    ...     0.925559   0.000000  2.861093  0.000000  0.000000   \n",
       "TCGA-05-4249-01    ...     0.000000   0.734857  3.782351  0.507869  1.173701   \n",
       "TCGA-05-4250-01    ...     0.507169   0.000000  3.353574  0.744111  0.149617   \n",
       "TCGA-05-4382-01    ...     0.000000   0.000000  2.164198  0.000000  0.668008   \n",
       "TCGA-05-4384-01    ...     0.000000   0.000000  1.900278  0.000000  0.000000   \n",
       "TCGA-05-4389-01    ...     0.000000   0.000000  0.996904  0.000000  0.000000   \n",
       "TCGA-05-4390-01    ...     1.269739   0.000000  0.648630  0.189714  5.382223   \n",
       "TCGA-05-4395-01    ...     0.000000   3.325366  2.702854  0.576612  0.000000   \n",
       "TCGA-05-4396-01    ...     0.000000   0.000000  3.019975  0.415891  0.000000   \n",
       "TCGA-05-4397-01    ...     3.534695   0.000000  3.254765  0.019984  3.863876   \n",
       "TCGA-05-4398-01    ...     1.556310   0.000000  0.000000  0.000000  0.740322   \n",
       "TCGA-05-4402-01    ...     0.000000   0.290708  2.165190  0.000000  2.077848   \n",
       "TCGA-05-4403-01    ...     1.051903   5.305030  9.763567  0.000000  0.000000   \n",
       "TCGA-05-4405-01    ...     0.000000   2.652796  0.816777  0.000000  0.316719   \n",
       "TCGA-05-4410-01    ...     0.000000   0.548349  2.524303  0.000000  2.193012   \n",
       "TCGA-05-4415-01    ...     0.000000   0.000000  0.468758  0.244852  0.391482   \n",
       "TCGA-05-4417-01    ...     0.196339   1.512889  0.000000  0.000000  1.566500   \n",
       "TCGA-05-4418-01    ...     0.000000   0.875298  0.000000  0.000000  0.000000   \n",
       "...                ...          ...        ...       ...       ...       ...   \n",
       "TCGA-ZM-AA0D-01    ...     0.000000   1.932410  0.000000  0.000000  0.000000   \n",
       "TCGA-ZM-AA0E-01    ...     0.000000   0.000000  0.000000  0.000000  0.000000   \n",
       "TCGA-ZM-AA0F-01    ...     0.000000   0.000000  2.231604  0.000000  0.000000   \n",
       "TCGA-ZM-AA0H-01    ...     0.000000   1.068180  0.000000  0.000000  0.000000   \n",
       "TCGA-ZM-AA0N-01    ...     0.000000   2.202724  0.000000  2.124557  0.000000   \n",
       "TCGA-ZN-A9VO-01    ...     7.275809   1.991217  1.581310  0.000000  0.000000   \n",
       "TCGA-ZN-A9VP-01    ...     5.937961   0.440504  1.254144  0.000000  0.328650   \n",
       "TCGA-ZN-A9VQ-01    ...     4.646451   5.386678  0.971134  0.000000  0.647148   \n",
       "TCGA-ZN-A9VS-01    ...     6.062137   4.770617  0.000000  0.000000  0.130852   \n",
       "TCGA-ZN-A9VU-01    ...     8.503181   0.000000  0.096061  0.000000  0.658648   \n",
       "TCGA-ZN-A9VV-01    ...     4.004006   9.940024  1.646763  0.000000  0.000000   \n",
       "TCGA-ZN-A9VW-01    ...     8.139503   1.543671  1.802557  1.920618  2.916175   \n",
       "TCGA-ZP-A9CV-01    ...     0.220632   2.336216  0.000000  7.890918  0.000000   \n",
       "TCGA-ZP-A9CY-01    ...     0.000000   1.252545  0.000000  8.289485  0.000000   \n",
       "TCGA-ZP-A9CZ-01    ...     0.000000   0.000000  0.000000  6.828187  0.000000   \n",
       "TCGA-ZP-A9D0-01    ...     1.545915   2.004683  0.000000  9.243670  0.000000   \n",
       "TCGA-ZP-A9D1-01    ...     0.000000   1.906491  0.000000  7.125906  0.000000   \n",
       "TCGA-ZP-A9D2-01    ...     1.098122   0.000000  0.000000  5.981859  0.000000   \n",
       "TCGA-ZP-A9D4-01    ...     1.255027   0.657478  0.000000  7.337987  0.000000   \n",
       "TCGA-ZQ-A9CR-01    ...     2.645981   1.410467  0.264959  0.000000  0.898383   \n",
       "TCGA-ZR-A9CJ-01    ...     2.153117   0.383617  0.000000  0.000000  0.000000   \n",
       "TCGA-ZS-A9CD-01    ...     0.000000   5.284348  0.000000  7.853269  0.000000   \n",
       "TCGA-ZS-A9CE-01    ...     0.953922   3.685321  0.000000  8.126375  0.000000   \n",
       "TCGA-ZS-A9CF-01    ...     0.000000   0.439237  0.347477  7.148749  0.000000   \n",
       "TCGA-ZS-A9CF-02    ...     0.000000   0.000000  0.000000  7.041233  0.481288   \n",
       "TCGA-ZS-A9CG-01    ...     0.000000   3.070833  0.000000  3.571759  0.000000   \n",
       "TCGA-ZT-A8OM-01    ...     0.000000  11.396495  1.216359  0.469819  0.639278   \n",
       "TCGA-ZU-A8S4-01    ...     1.618126   0.000000  4.871345  3.376896  0.871698   \n",
       "TCGA-ZU-A8S4-11    ...     0.000000   0.000000  0.000000  8.865412  0.000000   \n",
       "TCGA-ZX-AA5X-01    ...     1.609080   2.414455  1.576494  1.083160  0.000000   \n",
       "\n",
       "                       95         96         97        98        99  \n",
       "TCGA-02-0047-01  0.000000   0.447283   0.000000  0.669333  0.000000  \n",
       "TCGA-02-0055-01  1.168227   0.921749   0.000000  0.000000  0.334925  \n",
       "TCGA-02-2483-01  0.000000   2.134727   0.000000  0.000000  0.000000  \n",
       "TCGA-02-2485-01  0.000000   0.000000   0.000000  0.150729  0.000000  \n",
       "TCGA-02-2486-01  0.145025   2.207272   0.000000  0.130302  1.018543  \n",
       "TCGA-04-1348-01  2.056705   3.756991   0.000000  2.593285  2.725087  \n",
       "TCGA-04-1357-01  0.000000   2.247263   0.203830  2.196875  5.717946  \n",
       "TCGA-04-1362-01  0.000000   0.000000   0.000000  2.208181  0.000000  \n",
       "TCGA-04-1364-01  0.000000   1.022210   0.000000  1.538149  0.613819  \n",
       "TCGA-04-1365-01  0.000000   2.698748   0.000000  0.572851  1.696230  \n",
       "TCGA-04-1514-01  0.000000   0.000000   0.000000  0.000000  0.398683  \n",
       "TCGA-04-1519-01  0.000000   0.000000   1.340027  0.538663  0.000000  \n",
       "TCGA-05-4244-01  0.000000   1.796548   2.528676  1.418198  0.000000  \n",
       "TCGA-05-4249-01  0.000000   1.453958   0.000000  0.000000  2.743086  \n",
       "TCGA-05-4250-01  2.978336   1.673552   3.106479  1.959057  0.243011  \n",
       "TCGA-05-4382-01  0.000000   3.836648   0.000000  0.000000  2.791367  \n",
       "TCGA-05-4384-01  0.000000   0.504797   4.181495  2.247668  0.000000  \n",
       "TCGA-05-4389-01  0.000000   6.631402   1.320255  5.717349  3.304893  \n",
       "TCGA-05-4390-01  0.000000   5.106164   0.000000  0.000000  1.010985  \n",
       "TCGA-05-4395-01  4.683077   3.817148   6.235162  1.570430  1.196614  \n",
       "TCGA-05-4396-01  0.000000   4.019201   5.014350  1.138113  0.000000  \n",
       "TCGA-05-4397-01  1.834692   7.381658   2.383822  0.000000  1.075710  \n",
       "TCGA-05-4398-01  0.373416   2.338402   2.061171  0.579518  1.972582  \n",
       "TCGA-05-4402-01  0.000000   4.472177   0.000000  0.000000  2.828960  \n",
       "TCGA-05-4403-01  0.000000   0.000000   0.000000  0.000000  1.503792  \n",
       "TCGA-05-4405-01  0.000000   0.000000   1.498061  0.000000  3.836282  \n",
       "TCGA-05-4410-01  0.000000   1.226244   1.672374  0.189293  4.714071  \n",
       "TCGA-05-4415-01  7.201294   4.310125   5.987548  0.000000  0.725149  \n",
       "TCGA-05-4417-01  0.000000   4.959342   1.410953  0.000000  5.660284  \n",
       "TCGA-05-4418-01  4.261874   3.890313   2.788171  2.648460  4.747449  \n",
       "...                   ...        ...        ...       ...       ...  \n",
       "TCGA-ZM-AA0D-01  0.000000   0.000000   0.000000  0.000000  2.268495  \n",
       "TCGA-ZM-AA0E-01  0.000000   0.344247   0.000000  0.000000  2.275422  \n",
       "TCGA-ZM-AA0F-01  0.000000   0.013869   0.000000  2.215278  2.166649  \n",
       "TCGA-ZM-AA0H-01  0.335034   0.266168   0.000000  0.000000  0.908310  \n",
       "TCGA-ZM-AA0N-01  0.797662   0.000000   0.197800  0.000000  3.154910  \n",
       "TCGA-ZN-A9VO-01  0.147992   0.735965   0.000000  0.000000  1.423745  \n",
       "TCGA-ZN-A9VP-01  0.000000   2.369159   0.000000  0.151765  0.163890  \n",
       "TCGA-ZN-A9VQ-01  1.741024   0.000000   0.000000  1.223643  0.193979  \n",
       "TCGA-ZN-A9VS-01  0.000000   5.367262   1.074014  0.000000  0.000000  \n",
       "TCGA-ZN-A9VU-01  0.000000   3.716380   0.521845  0.000000  2.817000  \n",
       "TCGA-ZN-A9VV-01  0.690947   0.000000   0.000000  0.000000  0.000000  \n",
       "TCGA-ZN-A9VW-01  4.246856   0.980272   0.221468  0.231221  0.079357  \n",
       "TCGA-ZP-A9CV-01  0.000000   7.454953   8.702832  0.161938  4.239717  \n",
       "TCGA-ZP-A9CY-01  0.000000   2.966254   8.010650  1.384410  2.941812  \n",
       "TCGA-ZP-A9CZ-01  0.000000   8.194950   6.125482  1.281819  5.743112  \n",
       "TCGA-ZP-A9D0-01  0.000000   2.011661   8.275295  0.000000  1.303995  \n",
       "TCGA-ZP-A9D1-01  0.000000   6.730865   5.709696  1.091168  3.264966  \n",
       "TCGA-ZP-A9D2-01  0.000000   5.881568   2.827515  1.425975  4.449875  \n",
       "TCGA-ZP-A9D4-01  0.971124   8.284821  13.703087  0.000000  0.470024  \n",
       "TCGA-ZQ-A9CR-01  1.780452   4.051572   0.910249  0.000000  4.209230  \n",
       "TCGA-ZR-A9CJ-01  1.917272   0.976537   0.000000  0.138395  1.024740  \n",
       "TCGA-ZS-A9CD-01  0.000000   6.083357   7.808121  0.000000  2.871173  \n",
       "TCGA-ZS-A9CE-01  0.981736   5.306907   8.600266  0.000000  0.000000  \n",
       "TCGA-ZS-A9CF-01  0.000000   7.979801   7.575823  0.000000  0.000000  \n",
       "TCGA-ZS-A9CF-02  0.468444  10.182021   7.029899  0.305888  0.267319  \n",
       "TCGA-ZS-A9CG-01  0.090374   7.005232  12.624408  0.000000  0.986497  \n",
       "TCGA-ZT-A8OM-01  0.000000   0.000000   0.000000  0.099770  0.000000  \n",
       "TCGA-ZU-A8S4-01  1.823785   2.227920   0.000000  2.687222  0.460702  \n",
       "TCGA-ZU-A8S4-11  0.000000   0.000000  10.046116  1.552294  2.655847  \n",
       "TCGA-ZX-AA5X-01  0.000000   0.000000   0.000000  3.011486  6.123897  \n",
       "\n",
       "[10459 rows x 100 columns]"
      ]
     },
     "execution_count": 21,
     "metadata": {},
     "output_type": "execute_result"
    }
   ],
   "source": [
    "encoded_rnaseq_df"
   ]
  },
  {
   "cell_type": "code",
   "execution_count": 22,
   "metadata": {},
   "outputs": [
    {
     "name": "stdout",
     "output_type": "stream",
     "text": [
      "55    29147.353516\n",
      "75    28624.193359\n",
      "99    26892.585938\n",
      "43    26407.187500\n",
      "2     25810.656250\n",
      "37    25758.771484\n",
      "68    25416.310547\n",
      "3     25105.988281\n",
      "14    25026.802734\n",
      "41    25024.167969\n",
      "dtype: float32\n"
     ]
    },
    {
     "data": {
      "text/plain": [
       "79    13657.500977\n",
       "88    13576.046875\n",
       "11    13508.077148\n",
       "16    13306.919922\n",
       "8     13201.239258\n",
       "76    13104.473633\n",
       "22    12625.290039\n",
       "42    12461.902344\n",
       "18    12047.084961\n",
       "5     11699.207031\n",
       "dtype: float32"
      ]
     },
     "execution_count": 22,
     "metadata": {},
     "output_type": "execute_result"
    }
   ],
   "source": [
    "# What are the most and least activated nodes\n",
    "sum_node_activity = encoded_rnaseq_df.sum(axis=0).sort_values(ascending=False)\n",
    "\n",
    "# Top 10 most active nodes\n",
    "print(sum_node_activity.head(10))\n",
    "\n",
    "# Bottom 10 least active nodes\n",
    "sum_node_activity.tail(10)"
   ]
  },
  {
   "cell_type": "code",
   "execution_count": 23,
   "metadata": {},
   "outputs": [
    {
     "data": {
      "image/png": "[encoded data removed]",
      "text/plain": [
       "<Figure size 432x288 with 1 Axes>"
      ]
     },
     "metadata": {
      "needs_background": "light"
     },
     "output_type": "display_data"
    }
   ],
   "source": [
    "# Histogram of node activity for all 100 latent features\n",
    "sum_node_activity.hist()\n",
    "plt.xlabel('Activation Sum')\n",
    "plt.ylabel('Count');"
   ]
  },
  {
   "cell_type": "code",
   "execution_count": 24,
   "metadata": {},
   "outputs": [
    {
     "data": {
      "image/png": "[encoded data removed]",
      "text/plain": [
       "<Figure size 432x432 with 1 Axes>"
      ]
     },
     "metadata": {
      "needs_background": "light"
     },
     "output_type": "display_data"
    }
   ],
   "source": [
    "# Example of node activation distribution for the first two latent features\n",
    "plt.figure(figsize=(6, 6))\n",
    "plt.scatter(encoded_rnaseq_df.iloc[:, 1], encoded_rnaseq_df.iloc[:, 2])\n",
    "plt.xlabel('Latent Feature 1')\n",
    "plt.xlabel('Latent Feature 2');"
   ]
  },
  {
   "cell_type": "code",
   "execution_count": 25,
   "metadata": {},
   "outputs": [
    {
     "data": {
      "text/html": [
       "<div>\n",
       "<style scoped>\n",
       "    .dataframe tbody tr th:only-of-type {\n",
       "        vertical-align: middle;\n",
       "    }\n",
       "\n",
       "    .dataframe tbody tr th {\n",
       "        vertical-align: top;\n",
       "    }\n",
       "\n",
       "    .dataframe thead th {\n",
       "        text-align: right;\n",
       "    }\n",
       "</style>\n",
       "<table border=\"1\" class=\"dataframe\">\n",
       "  <thead>\n",
       "    <tr style=\"text-align: right;\">\n",
       "      <th></th>\n",
       "      <th>RPS4Y1</th>\n",
       "      <th>XIST</th>\n",
       "      <th>KRT5</th>\n",
       "      <th>AGR2</th>\n",
       "      <th>CEACAM5</th>\n",
       "      <th>KRT6A</th>\n",
       "      <th>KRT14</th>\n",
       "      <th>CEACAM6</th>\n",
       "      <th>DDX3Y</th>\n",
       "      <th>KDM5D</th>\n",
       "      <th>...</th>\n",
       "      <th>FAM129A</th>\n",
       "      <th>C8orf48</th>\n",
       "      <th>CDK5R1</th>\n",
       "      <th>FAM81A</th>\n",
       "      <th>C13orf18</th>\n",
       "      <th>GDPD3</th>\n",
       "      <th>SMAGP</th>\n",
       "      <th>C2orf85</th>\n",
       "      <th>POU5F1B</th>\n",
       "      <th>CHST2</th>\n",
       "    </tr>\n",
       "  </thead>\n",
       "  <tbody>\n",
       "    <tr>\n",
       "      <th>TCGA-02-0047-01</th>\n",
       "      <td>0.557508</td>\n",
       "      <td>0.247376</td>\n",
       "      <td>0.159108</td>\n",
       "      <td>0.04992</td>\n",
       "      <td>0.031480</td>\n",
       "      <td>0.044115</td>\n",
       "      <td>0.052392</td>\n",
       "      <td>0.041028</td>\n",
       "      <td>0.581893</td>\n",
       "      <td>0.541113</td>\n",
       "      <td>...</td>\n",
       "      <td>0.473779</td>\n",
       "      <td>0.531336</td>\n",
       "      <td>0.755476</td>\n",
       "      <td>0.661313</td>\n",
       "      <td>0.578651</td>\n",
       "      <td>0.342006</td>\n",
       "      <td>0.409828</td>\n",
       "      <td>0.478020</td>\n",
       "      <td>0.200584</td>\n",
       "      <td>0.607641</td>\n",
       "    </tr>\n",
       "    <tr>\n",
       "      <th>TCGA-02-0055-01</th>\n",
       "      <td>0.126272</td>\n",
       "      <td>0.600519</td>\n",
       "      <td>0.155052</td>\n",
       "      <td>0.09322</td>\n",
       "      <td>0.041506</td>\n",
       "      <td>0.071432</td>\n",
       "      <td>0.083192</td>\n",
       "      <td>0.068621</td>\n",
       "      <td>0.107471</td>\n",
       "      <td>0.081773</td>\n",
       "      <td>...</td>\n",
       "      <td>0.556409</td>\n",
       "      <td>0.543803</td>\n",
       "      <td>0.585221</td>\n",
       "      <td>0.586799</td>\n",
       "      <td>0.615972</td>\n",
       "      <td>0.379120</td>\n",
       "      <td>0.591493</td>\n",
       "      <td>0.175646</td>\n",
       "      <td>0.188333</td>\n",
       "      <td>0.570253</td>\n",
       "    </tr>\n",
       "  </tbody>\n",
       "</table>\n",
       "<p>2 rows × 5000 columns</p>\n",
       "</div>"
      ],
      "text/plain": [
       "                   RPS4Y1      XIST      KRT5     AGR2   CEACAM5     KRT6A  \\\n",
       "TCGA-02-0047-01  0.557508  0.247376  0.159108  0.04992  0.031480  0.044115   \n",
       "TCGA-02-0055-01  0.126272  0.600519  0.155052  0.09322  0.041506  0.071432   \n",
       "\n",
       "                    KRT14   CEACAM6     DDX3Y     KDM5D    ...      FAM129A  \\\n",
       "TCGA-02-0047-01  0.052392  0.041028  0.581893  0.541113    ...     0.473779   \n",
       "TCGA-02-0055-01  0.083192  0.068621  0.107471  0.081773    ...     0.556409   \n",
       "\n",
       "                  C8orf48    CDK5R1    FAM81A  C13orf18     GDPD3     SMAGP  \\\n",
       "TCGA-02-0047-01  0.531336  0.755476  0.661313  0.578651  0.342006  0.409828   \n",
       "TCGA-02-0055-01  0.543803  0.585221  0.586799  0.615972  0.379120  0.591493   \n",
       "\n",
       "                  C2orf85   POU5F1B     CHST2  \n",
       "TCGA-02-0047-01  0.478020  0.200584  0.607641  \n",
       "TCGA-02-0055-01  0.175646  0.188333  0.570253  \n",
       "\n",
       "[2 rows x 5000 columns]"
      ]
     },
     "execution_count": 25,
     "metadata": {},
     "output_type": "execute_result"
    }
   ],
   "source": [
    "# How well does the model reconstruct the input RNAseq data\n",
    "encoder = Model(inputs, z_mean_encoded)\n",
    "encoded_rnaseq_df = encoder.predict_on_batch(rnaseq_df)\n",
    "input_rnaseq_reconstruct = decoder.predict(np.array(encoded_rnaseq_df))\n",
    "input_rnaseq_reconstruct = pd.DataFrame(input_rnaseq_reconstruct, index=rnaseq_df.index,\n",
    "                                        columns=rnaseq_df.columns)\n",
    "input_rnaseq_reconstruct.head(2)"
   ]
  },
  {
   "cell_type": "code",
   "execution_count": 26,
   "metadata": {},
   "outputs": [
    {
     "data": {
      "text/html": [
       "<div>\n",
       "<style scoped>\n",
       "    .dataframe tbody tr th:only-of-type {\n",
       "        vertical-align: middle;\n",
       "    }\n",
       "\n",
       "    .dataframe tbody tr th {\n",
       "        vertical-align: top;\n",
       "    }\n",
       "\n",
       "    .dataframe thead th {\n",
       "        text-align: right;\n",
       "    }\n",
       "</style>\n",
       "<table border=\"1\" class=\"dataframe\">\n",
       "  <thead>\n",
       "    <tr style=\"text-align: right;\">\n",
       "      <th></th>\n",
       "      <th>gene mean</th>\n",
       "      <th>gene abs(sum)</th>\n",
       "    </tr>\n",
       "  </thead>\n",
       "  <tbody>\n",
       "    <tr>\n",
       "      <th>PPAN-P2RY11</th>\n",
       "      <td>-0.003130</td>\n",
       "      <td>0.231174</td>\n",
       "    </tr>\n",
       "    <tr>\n",
       "      <th>GSTT1</th>\n",
       "      <td>0.007653</td>\n",
       "      <td>0.219294</td>\n",
       "    </tr>\n",
       "    <tr>\n",
       "      <th>GSTM1</th>\n",
       "      <td>-0.002493</td>\n",
       "      <td>0.217185</td>\n",
       "    </tr>\n",
       "    <tr>\n",
       "      <th>TBC1D3G</th>\n",
       "      <td>0.000988</td>\n",
       "      <td>0.192071</td>\n",
       "    </tr>\n",
       "    <tr>\n",
       "      <th>RPS28</th>\n",
       "      <td>0.020588</td>\n",
       "      <td>0.178488</td>\n",
       "    </tr>\n",
       "  </tbody>\n",
       "</table>\n",
       "</div>"
      ],
      "text/plain": [
       "             gene mean  gene abs(sum)\n",
       "PPAN-P2RY11  -0.003130       0.231174\n",
       "GSTT1         0.007653       0.219294\n",
       "GSTM1        -0.002493       0.217185\n",
       "TBC1D3G       0.000988       0.192071\n",
       "RPS28         0.020588       0.178488"
      ]
     },
     "execution_count": 26,
     "metadata": {},
     "output_type": "execute_result"
    }
   ],
   "source": [
    "reconstruction_fidelity = rnaseq_df - input_rnaseq_reconstruct\n",
    "\n",
    "gene_mean = reconstruction_fidelity.mean(axis=0)\n",
    "gene_abssum = reconstruction_fidelity.abs().sum(axis=0).divide(rnaseq_df.shape[0])\n",
    "gene_summary = pd.DataFrame([gene_mean, gene_abssum], index=['gene mean', 'gene abs(sum)']).T\n",
    "gene_summary.sort_values(by='gene abs(sum)', ascending=False).head()"
   ]
  },
  {
   "cell_type": "code",
   "execution_count": 27,
   "metadata": {},
   "outputs": [
    {
     "name": "stderr",
     "output_type": "stream",
     "text": [
      "C:\\Users\\angel\\Anaconda3\\lib\\site-packages\\scipy\\stats\\stats.py:1713: FutureWarning: Using a non-tuple sequence for multidimensional indexing is deprecated; use `arr[tuple(seq)]` instead of `arr[seq]`. In the future this will be interpreted as an array index, `arr[np.array(seq)]`, which will result either in an error or a different result.\n",
      "  return np.add.reduce(sorted[indexer] * weights, axis=axis) / sumval\n"
     ]
    },
    {
     "data": {
      "image/png": "[encoded data removed]",
      "text/plain": [
       "<Figure size 432x432 with 3 Axes>"
      ]
     },
     "metadata": {
      "needs_background": "light"
     },
     "output_type": "display_data"
    }
   ],
   "source": [
    "# Mean of gene reconstruction vs. absolute reconstructed difference per sample\n",
    "g = sns.jointplot('gene mean', 'gene abs(sum)', data=gene_summary, stat_func=None);"
   ]
  }
 ],
 "metadata": {
  "kernelspec": {
   "display_name": "Python 3",
   "language": "python",
   "name": "python3"
  },
  "language_info": {
   "codemirror_mode": {
    "name": "ipython",
    "version": 3
   },
   "file_extension": ".py",
   "mimetype": "text/x-python",
   "name": "python",
   "nbconvert_exporter": "python",
   "pygments_lexer": "ipython3",
   "version": "3.7.1"
  }
 },
 "nbformat": 4,
 "nbformat_minor": 2
}
